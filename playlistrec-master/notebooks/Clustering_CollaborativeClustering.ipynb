{
 "cells": [
  {
   "cell_type": "markdown",
   "metadata": {},
   "source": [
    "# <hr style=\"clear: both\" />\n",
    "\n",
    "# Running Spark in YARN-client mode\n",
    "\n",
    "This notebook demonstrates how to set up a SparkContext that uses SURFsara's Hadoop cluster: [YARN resourcemanager](http://head05.hathi.surfsara.nl:8088/cluster) (note you will need to be authenticated via kerberos on your machine to visit the resourcemanager link) for executors.\n",
    "\n",
    "First initialize kerberos via a Jupyter terminal. \n",
    "In the terminal execute: <BR>\n",
    "<i>kinit -k -t data/robertop.keytab robertop@CUA.SURFSARA.NL</i><BR>\n",
    "Print your credentials:\n"
   ]
  },
  {
   "cell_type": "code",
   "execution_count": 1,
   "metadata": {
    "collapsed": false
   },
   "outputs": [
    {
     "name": "stdout",
     "output_type": "stream",
     "text": [
      "Ticket cache: FILE:/tmp/krb5cc_1000\r\n",
      "Default principal: robertop@CUA.SURFSARA.NL\r\n",
      "\r\n",
      "Valid starting       Expires              Service principal\r\n",
      "06/03/2016 07:11:25  06/04/2016 07:11:25  krbtgt/CUA.SURFSARA.NL@CUA.SURFSARA.NL\r\n",
      "\trenew until 06/03/2016 07:11:25\r\n"
     ]
    }
   ],
   "source": [
    "! klist"
   ]
  },
  {
   "cell_type": "code",
   "execution_count": 2,
   "metadata": {
    "collapsed": false,
    "scrolled": true
   },
   "outputs": [
    {
     "name": "stdout",
     "output_type": "stream",
     "text": [
      "Found 5 items\r\n",
      "drwx------   - robertop hdfs          0 2016-05-26 06:00 .Trash\r\n",
      "drwxr-xr-x   - robertop hdfs          0 2016-06-03 08:26 .sparkStaging\r\n",
      "drwx------   - robertop hdfs          0 2016-04-06 15:54 .staging\r\n",
      "drwxr-xr-x   - robertop hdfs          0 2016-05-25 06:28 mattia\r\n",
      "drwxr-xr-x   - robertop hdfs          0 2016-04-13 10:00 recsys2016Competition\r\n"
     ]
    }
   ],
   "source": [
    "! hdfs dfs -ls \n",
    "execfile('../spark-scripts/bullet.py')"
   ]
  },
  {
   "cell_type": "markdown",
   "metadata": {},
   "source": [
    "Verify that we can browse HDFS:"
   ]
  },
  {
   "cell_type": "markdown",
   "metadata": {},
   "source": [
    "Next initialize Spark. Note that the code below starts a job on the Hadoop cluster that will remain running while the notebook is active. Please close and halt the notebook when you are done. Starting the SparkContext can take a little longer. You can check the YARN resourcemanager to see the current status/usage of the cluster."
   ]
  },
  {
   "cell_type": "code",
   "execution_count": 3,
   "metadata": {
    "collapsed": false
   },
   "outputs": [],
   "source": [
    "import os\n",
    "os.environ['PYSPARK_PYTHON'] = '/usr/local/bin/python2.7'\n",
    "\n",
    "HDFS_PATH = \"hdfs://hathi-surfsara\"\n",
    "\n",
    "from pyspark import SparkConf, SparkContext\n",
    "from pyspark.sql import SQLContext\n",
    "sconf = SparkConf(False)\n",
    "\n",
    "sconf.setAppName('collaborative')\n",
    "\n",
    "# Master is now yarn-client. The YARN and hadoop config is read from the environment\n",
    "sconf.setMaster(\"yarn-client\")\n",
    "\n",
    "# You can control many Spark settings via the SparkConf. This determines the amount of executors on the cluster:\n",
    "sconf.set(\"spark.executor.instances\", \"200\")\n",
    "sconf.set(\"spark.executor.memory\", \"10g\")\n",
    "\n",
    "# UFW (firewall) is active on the VM. We explicitly opened these ports and Spark should not bind to random ports:\n",
    "sconf.set(\"spark.driver.port\", 51800)\n",
    "sconf.set(\"spark.fileserver.port\", 51801)\n",
    "sconf.set(\"spark.broadcast.port\", 51802)\n",
    "sconf.set(\"spark.replClassServer.port\", 51803)\n",
    "sconf.set(\"spark.blockManager.port\", 51804)\n",
    "sconf.set(\"spark.authenticate\", True)\n",
    "sconf.set(\"spark.yarn.keytab\", \"/home/jovyan/work/data/robertop.keytab\")\n",
    "sconf.set(\"spark.yarn.access.namenodes\", HDFS_PATH + \":8020\")\n",
    "\n",
    "try:\n",
    "    sc = SparkContext(conf=sconf)\n",
    "    sqlCtx = SQLContext(sc) \n",
    "    sendNotificationToMattia(\"Spark Context\", \"Ready!\")\n",
    "except Exception, err:\n",
    "    sendNotificationToMattia(\"Fuck you!\", str(err)) \n",
    "    print str(err)"
   ]
  },
  {
   "cell_type": "markdown",
   "metadata": {},
   "source": [
    "# <hr style=\"clear: both\" />\n",
    "\n",
    "# Now you can run your code\n",
    "\n",
    "Pick a clustering algorithm (name of the file that provides a classify(x,y [,threshold]) function)"
   ]
  },
  {
   "cell_type": "markdown",
   "metadata": {},
   "source": [
    "# Reading the conf file"
   ]
  },
  {
   "cell_type": "code",
   "execution_count": 4,
   "metadata": {
    "collapsed": false
   },
   "outputs": [],
   "source": [
    "import json\n",
    "import copy\n",
    "\n",
    "BASE_PATH = HDFS_PATH + '/user/robertop/mattia'\n",
    "\n",
    "conf = {}\n",
    "\n",
    "conf['split'] = {}\n",
    "conf['split']['reclistSize'] = 100\n",
    "conf['split']['callParams'] = {}\n",
    "conf['split']['excludeAlreadyListenedTest'] = True\n",
    "conf['split']['name'] = 'test'\n",
    "conf['split']['split'] = conf['split']['name']\n",
    "conf['split']['minEventsPerUser'] = 5\n",
    "conf['split']['inputData'] = HDFS_PATH + '/user/robertop/mattia/clusterBase.split/SenzaRipetizioni_1'\n",
    "#conf['split']['inputData'] = 's3n://contentwise-research-poli/30musicdataset/newFormat/relations/sessions.idomaar'\n",
    "conf['split']['bucketName'] = BASE_PATH\n",
    "conf['split']['percUsTr'] = 0.05\n",
    "conf['split']['ts'] = int(0.75 * (1421745857 - 1390209860) + 1390209860) - 10000\n",
    "conf['split']['minEventPerSession'] = 5\n",
    "conf['split']['onlineTrainingLength'] = 5\n",
    "conf['split']['GTlength'] = 1\n",
    "conf['split']['minEventPerSessionTraining'] = 10\n",
    "conf['split']['minEventPerSessionTest'] = 11\n",
    "conf['split']['mode'] = 'session'\n",
    "conf['split']['forceSplitCreation'] = False\n",
    "conf['split'][\"prop\"] = {'reclistSize': conf['split']['reclistSize']}\n",
    "conf['split']['type'] = list\n",
    "conf['split']['out'] = HDFS_PATH + '/user/robertop/mattia/clusterBase.split/'\n",
    "conf['split']['location'] = '30Mdataset/relations/sessions'\n",
    "\n",
    "conf['evaluation'] = {}\n",
    "conf['evaluation']['metric'] = {}\n",
    "conf['evaluation']['metric']['type'] = 'recall'\n",
    "conf['evaluation']['metric']['prop'] = {}\n",
    "conf['evaluation']['metric']['prop']['N'] = [1,2,5,10,15,20,25,50,100]\n",
    "conf['evaluation']['name'] = 'recall@N'\n",
    "\n",
    "conf['general'] = {}\n",
    "conf['general']['clientname'] = \"clusterBase.split\"\n",
    "conf['general']['bucketName'] = BASE_PATH\n",
    "conf['general']['tracksPath'] = '30Mdataset/entities/tracks.idomaar.gz'\n",
    "\n",
    "conf['algo'] = {}\n",
    "conf['algo']['name'] = 'ClusterBase'\n",
    "conf['algo']['props'] = {}\n",
    "# ***** EXAMPLE OF CONFIGURATION *****#\n",
    "conf['algo']['props'][\"sessionJaccardShrinkage\"] = 5\n",
    "conf['algo']['props'][\"clusterSimilarityThreshold\"] = 0.1\n",
    "conf['algo']['props'][\"expDecayFactor\"] = 0.7\n",
    "# ****** END EXAMPLE ****************#\n",
    "\n"
   ]
  },
  {
   "cell_type": "markdown",
   "metadata": {},
   "source": [
    "# Load Songs"
   ]
  },
  {
   "cell_type": "code",
   "execution_count": 27,
   "metadata": {
    "collapsed": false
   },
   "outputs": [
    {
     "name": "stdout",
     "output_type": "stream",
     "text": [
      "Tracks: 3893303\n",
      "IDs: 3893303\n"
     ]
    }
   ],
   "source": [
    "import json\n",
    "import string\n",
    "\n",
    "def my_replace_punct(x):\n",
    "    ret = \"\"\n",
    "    for i in x:\n",
    "        if i == '+':\n",
    "            ret += ' '\n",
    "        else:\n",
    "            ret += i\n",
    "    return ret\n",
    "\n",
    "tracksRDD = sc.textFile(BASE_PATH + '/30Mdataset/entities/tracks.idomaar.gz')\n",
    "tracksRDD = tracksRDD.repartition(200)\n",
    "tracksRDD = tracksRDD.map(lambda x: x.split('\\t')).map(lambda x: (x[1], json.loads(x[3])['name'].split('/') ) )\n",
    "tracksRDD = tracksRDD.map(lambda x: (x[0], \" \".join( (x[1][0], x[1][2]) ) )).distinct()\n",
    "tracksRDD = tracksRDD.map(lambda x : (x[0], my_replace_punct(x[1])))\n",
    "\n",
    "ZZ_TOP = 3893303\n",
    "tracksRDD = tracksRDD.filter(lambda x: int(x[0]) < ZZ_TOP)\n",
    "\n",
    "tracksIdsRDD = tracksRDD.map(lambda x: (int(x[0]), [x[0]]))\n",
    "\n",
    "n_tracks = str(tracksRDD.count())\n",
    "n_tracksID = str(tracksIdsRDD.count())\n",
    "print \"Tracks: \" + n_tracks\n",
    "print \"IDs: \" + n_tracksID"
   ]
  },
  {
   "cell_type": "markdown",
   "metadata": {},
   "source": [
    "\n",
    "# Load Sessions \n"
   ]
  },
  {
   "cell_type": "code",
   "execution_count": 5,
   "metadata": {
    "collapsed": false
   },
   "outputs": [
    {
     "data": {
      "text/plain": [
       "[u'{\"id\": \"1880568\", \"linkedinfo\": {\"subjects\": [{\"type\": \"user\", \"id\": 25088}], \"objects\": [{\"playratio\": 0.67, \"playstart\": 0, \"action\": \"play\", \"playtime\": 163, \"type\": \"track\", \"id\": 2895012}, {\"playratio\": 1.0, \"playstart\": 163, \"action\": \"play\", \"playtime\": 215, \"type\": \"track\", \"id\": 548739}, {\"playratio\": 0.99, \"playstart\": 378, \"action\": \"play\", \"playtime\": 190, \"type\": \"track\", \"id\": 1830769}, {\"playratio\": 1.0, \"playstart\": 568, \"action\": \"play\", \"playtime\": 261, \"type\": \"track\", \"id\": 2363674}, {\"playratio\": 0.87, \"playstart\": 829, \"action\": \"play\", \"playtime\": 188, \"type\": \"track\", \"id\": 325757}, {\"playratio\": 0.99, \"playstart\": 1017, \"action\": \"play\", \"playtime\": 212, \"type\": \"track\", \"id\": 2833842}, {\"playratio\": 1.0, \"playstart\": 1229, \"action\": \"play\", \"playtime\": 207, \"type\": \"track\", \"id\": 1885477}, {\"playratio\": 0.99, \"playstart\": 1436, \"action\": \"play\", \"playtime\": 182, \"type\": \"track\", \"id\": 2988740}, {\"playratio\": 1.04, \"playstart\": 1618, \"action\": \"play\", \"playtime\": 247, \"type\": \"track\", \"id\": 1570001}, {\"playratio\": 1.0, \"playstart\": 1865, \"action\": \"play\", \"playtime\": 163, \"type\": \"track\", \"id\": 2850278}, {\"playratio\": 1.0, \"playstart\": 2028, \"action\": \"play\", \"playtime\": 254, \"type\": \"track\", \"id\": 2133854}, {\"playratio\": 1.0, \"playstart\": 2282, \"action\": \"play\", \"playtime\": 209, \"type\": \"track\", \"id\": 1881528}, {\"playratio\": 0.98, \"playstart\": 2491, \"action\": \"play\", \"playtime\": 198, \"type\": \"track\", \"id\": 2836298}, {\"playratio\": 0.99, \"playstart\": 2689, \"action\": \"play\", \"playtime\": 178, \"type\": \"track\", \"id\": 687261}, {\"playratio\": 1.0, \"playstart\": 2867, \"action\": \"play\", \"playtime\": 202, \"type\": \"track\", \"id\": 3731344}, {\"playratio\": 1.19, \"playstart\": 3069, \"action\": \"play\", \"playtime\": 296, \"type\": \"track\", \"id\": 2765812}, {\"playratio\": null, \"playstart\": 3365, \"action\": null, \"playtime\": -1, \"type\": \"track\", \"id\": 1341078}]}, \"type\": \"event.session\", \"properties\": {\"playtime\": 3364, \"numtracks\": 17}, \"ts\": \"1398431997\"}',\n",
       " u'{\"id\": \"1880599\", \"linkedinfo\": {\"subjects\": [{\"type\": \"user\", \"id\": 25088}], \"objects\": [{\"playratio\": 0.99, \"playstart\": 217, \"action\": \"play\", \"playtime\": 193, \"type\": \"track\", \"id\": 3721462}, {\"playratio\": 0.99, \"playstart\": 410, \"action\": \"play\", \"playtime\": 256, \"type\": \"track\", \"id\": 1918267}, {\"playratio\": 0.99, \"playstart\": 666, \"action\": \"play\", \"playtime\": 151, \"type\": \"track\", \"id\": 1320280}, {\"playratio\": 0.99, \"playstart\": 817, \"action\": \"play\", \"playtime\": 205, \"type\": \"track\", \"id\": 2468464}, {\"playratio\": 0.99, \"playstart\": 1022, \"action\": \"play\", \"playtime\": 320, \"type\": \"track\", \"id\": 1619933}, {\"playratio\": 1.0, \"playstart\": 1342, \"action\": \"play\", \"playtime\": 266, \"type\": \"track\", \"id\": 2228799}, {\"playratio\": 0.99, \"playstart\": 1608, \"action\": \"play\", \"playtime\": 292, \"type\": \"track\", \"id\": 1879248}, {\"playratio\": 0.99, \"playstart\": 1900, \"action\": \"play\", \"playtime\": 231, \"type\": \"track\", \"id\": 2599314}, {\"playratio\": 0.99, \"playstart\": 2131, \"action\": \"play\", \"playtime\": 300, \"type\": \"track\", \"id\": 1457143}, {\"playratio\": 1.25, \"playstart\": 2431, \"action\": \"play\", \"playtime\": 401, \"type\": \"track\", \"id\": 3562199}, {\"playratio\": null, \"playstart\": 2832, \"action\": null, \"playtime\": -1, \"type\": \"track\", \"id\": 435470}]}, \"type\": \"event.session\", \"properties\": {\"playtime\": 2831, \"numtracks\": 12}, \"ts\": \"1399069849\"}',\n",
       " u'{\"id\": \"1880596\", \"linkedinfo\": {\"subjects\": [{\"type\": \"user\", \"id\": 25088}], \"objects\": [{\"playratio\": 1.04, \"playstart\": 0, \"action\": \"play\", \"playtime\": 254, \"type\": \"track\", \"id\": 2736485}, {\"playratio\": 1.0, \"playstart\": 254, \"action\": \"play\", \"playtime\": 218, \"type\": \"track\", \"id\": 2736934}, {\"playratio\": 1.0, \"playstart\": 472, \"action\": \"play\", \"playtime\": 157, \"type\": \"track\", \"id\": 2736773}, {\"playratio\": 1.0, \"playstart\": 629, \"action\": \"play\", \"playtime\": 221, \"type\": \"track\", \"id\": 2736521}, {\"playratio\": 1.0, \"playstart\": 850, \"action\": \"play\", \"playtime\": 219, \"type\": \"track\", \"id\": 2736523}, {\"playratio\": 0.99, \"playstart\": 1069, \"action\": \"play\", \"playtime\": 189, \"type\": \"track\", \"id\": 2737011}, {\"playratio\": 1.0, \"playstart\": 1258, \"action\": \"play\", \"playtime\": 203, \"type\": \"track\", \"id\": 2736776}, {\"playratio\": 1.0, \"playstart\": 1461, \"action\": \"play\", \"playtime\": 228, \"type\": \"track\", \"id\": 2736488}, {\"playratio\": 1.0, \"playstart\": 1689, \"action\": \"play\", \"playtime\": 223, \"type\": \"track\", \"id\": 2736780}, {\"playratio\": 1.0, \"playstart\": 1912, \"action\": \"play\", \"playtime\": 210, \"type\": \"track\", \"id\": 2736520}, {\"playratio\": 1.0, \"playstart\": 2122, \"action\": \"play\", \"playtime\": 237, \"type\": \"track\", \"id\": 2736993}, {\"playratio\": 1.0, \"playstart\": 2359, \"action\": \"play\", \"playtime\": 213, \"type\": \"track\", \"id\": 2736777}, {\"playratio\": null, \"playstart\": 2572, \"action\": null, \"playtime\": -1, \"type\": \"track\", \"id\": 2736829}]}, \"type\": \"event.session\", \"properties\": {\"playtime\": 2571, \"numtracks\": 13}, \"ts\": \"1399051282\"}']"
      ]
     },
     "execution_count": 5,
     "metadata": {},
     "output_type": "execute_result"
    }
   ],
   "source": [
    "execfile('../spark-scripts/conventions.py')\n",
    "execfile('../spark-scripts/splitCluster.py')\n",
    "execfile('../spark-scripts/eval.py')\n",
    "execfile('../spark-scripts/implicitPlaylistAlgoFunctions.py')\n",
    "execfile('../spark-scripts/implicitPlaylistAlgoMain.py')\n",
    "\n",
    "import json\n",
    "execfile('../spark-scripts/utilsCluster.py')\n",
    "\n",
    "train, test = loadDataset(conf)\n",
    "\n",
    "train.take(3)"
   ]
  },
  {
   "cell_type": "markdown",
   "metadata": {},
   "source": [
    "# Filter \"skipped\" songs and \"problematic\" song"
   ]
  },
  {
   "cell_type": "code",
   "execution_count": 6,
   "metadata": {
    "collapsed": false
   },
   "outputs": [
    {
     "data": {
      "text/plain": [
       "487637"
      ]
     },
     "execution_count": 6,
     "metadata": {},
     "output_type": "execute_result"
    }
   ],
   "source": [
    "trainRDD = train.map(json.loads)\n",
    "\n",
    "MIN_LISTENING = 5\n",
    "\n",
    "ZZ_TOP = 3893303\n",
    "\n",
    "def filter_skipped(x):\n",
    "    objects = x['linkedinfo']['objects']\n",
    "    x['linkedinfo']['objects'] = []\n",
    "    for i in objects:\n",
    "        if i[\"action\"] == \"play\" and i[\"id\"] < ZZ_TOP:\n",
    "            x['linkedinfo']['objects'].append(i)\n",
    "    return x\n",
    "\n",
    "\n",
    "trainFilteredRDD = trainRDD.map(filter_skipped) \n",
    "trainFilteredRDD.count()"
   ]
  },
  {
   "cell_type": "markdown",
   "metadata": {},
   "source": [
    "# Songs co-occurrences"
   ]
  },
  {
   "cell_type": "code",
   "execution_count": 7,
   "metadata": {
    "collapsed": false,
    "scrolled": true
   },
   "outputs": [
    {
     "data": {
      "text/plain": [
       "[(3211264,\n",
       "  [2878411,\n",
       "   2857367,\n",
       "   3169077,\n",
       "   2685196,\n",
       "   330329,\n",
       "   1544232,\n",
       "   2402190,\n",
       "   2402189,\n",
       "   2402184,\n",
       "   2402188,\n",
       "   2402182,\n",
       "   2402186,\n",
       "   2402191,\n",
       "   2402185,\n",
       "   2402183,\n",
       "   3211262,\n",
       "   3211272,\n",
       "   3211263])]"
      ]
     },
     "execution_count": 7,
     "metadata": {},
     "output_type": "execute_result"
    }
   ],
   "source": [
    "def extract_co_occur(x):\n",
    "    K = 3600 #one hour\n",
    "    result = []\n",
    "    for song in x['linkedinfo']['objects']:\n",
    "        id1 = song['id']\n",
    "        co_occ = []\n",
    "        for song2 in x['linkedinfo']['objects']:\n",
    "            id2 = song2['id']\n",
    "            if id1 != id2:\n",
    "                if abs(song['playstart'] - song2['playstart']) < K:\n",
    "                    co_occ.append(id2)\n",
    "        result.append( (id1, co_occ) )\n",
    "    \n",
    "    return result\n",
    "\n",
    "co_occRDD = trainFilteredRDD.flatMap(extract_co_occur).reduceByKey(lambda x, y: list( set(x).union(set(y)) ) )\n",
    "co_occRDD.take(1)"
   ]
  },
  {
   "cell_type": "markdown",
   "metadata": {},
   "source": [
    "# Similar Sessions\n",
    "\n",
    "# $Jaccard(A,B) > 0.25 $ \n"
   ]
  },
  {
   "cell_type": "code",
   "execution_count": 8,
   "metadata": {
    "collapsed": false
   },
   "outputs": [
    {
     "name": "stdout",
     "output_type": "stream",
     "text": [
      "30505\n"
     ]
    },
    {
     "data": {
      "text/plain": [
       "[(25088, <pyspark.resultiterable.ResultIterable at 0x7f897ff41210>)]"
      ]
     },
     "execution_count": 8,
     "metadata": {},
     "output_type": "execute_result"
    }
   ],
   "source": [
    "# Map to (userID, session) and Group by Key\n",
    "def session_to_songs(x):\n",
    "    user = x['linkedinfo']['subjects'][0]['id']\n",
    "    songs = [i['id'] for i in x['linkedinfo']['objects']]\n",
    "    return (user, songs)\n",
    "\n",
    "trainUserRDD = trainFilteredRDD.map( session_to_songs ).groupByKey()\n",
    "print trainUserRDD.count()\n",
    "trainUserRDD.take(1)"
   ]
  },
  {
   "cell_type": "code",
   "execution_count": 9,
   "metadata": {
    "collapsed": false,
    "scrolled": true
   },
   "outputs": [
    {
     "data": {
      "text/plain": [
       "196235"
      ]
     },
     "execution_count": 9,
     "metadata": {},
     "output_type": "execute_result"
    }
   ],
   "source": [
    "SIM_THR = 0.25\n",
    "\n",
    "def similar_sessions(x):\n",
    "    sessions = list(x[1])\n",
    "    l = len(sessions)\n",
    "    couples = []\n",
    "    \n",
    "    for i in range(l):\n",
    "        sess_1 = set(sessions[i])\n",
    "        if not len(sess_1): continue;\n",
    "            \n",
    "        for j in range(i):\n",
    "            sess_2 = set(sessions[j])\n",
    "            if not len(sess_2): continue;\n",
    "            num = float(len(sess_1 & sess_2))\n",
    "            den = float(len(sess_1 | sess_2))\n",
    "            sim_j = num / den\n",
    "            \n",
    "            if sim_j > SIM_THR:\n",
    "                couples.append((sess_1, sess_2, sim_j))\n",
    "    \n",
    "    return couples\n",
    "\n",
    "\n",
    "userSimSessRDD = trainUserRDD.flatMap(similar_sessions)\n",
    "userSimSessRDD.count()"
   ]
  },
  {
   "cell_type": "markdown",
   "metadata": {},
   "source": [
    "# Exctract Couples of Candidate Songs from similar Sessions"
   ]
  },
  {
   "cell_type": "code",
   "execution_count": 10,
   "metadata": {
    "collapsed": false
   },
   "outputs": [],
   "source": [
    "def extract_couples(x):\n",
    "    sim = x[2]\n",
    "    result = []\n",
    "    \n",
    "    for i in x[0]:\n",
    "        if i in x[1]:\n",
    "            continue\n",
    "            \n",
    "        for j in x[1]:\n",
    "            if i != j and not j in x[0]:\n",
    "                candidate = ( str(i) + ' ' + str(j), sim) if i<j else ( str(j) + ' ' + str(i), sim)\n",
    "                result.append(candidate)\n",
    "    \n",
    "    return result\n",
    "\n",
    "\n",
    "couplesCandidateRDD = userSimSessRDD.flatMap(extract_couples)\n"
   ]
  },
  {
   "cell_type": "markdown",
   "metadata": {},
   "source": [
    "# Load Couples"
   ]
  },
  {
   "cell_type": "code",
   "execution_count": 5,
   "metadata": {
    "collapsed": false
   },
   "outputs": [
    {
     "data": {
      "text/plain": [
       "[('581350 3885509', 0.42857142857142855),\n",
       " ('581352 3885509', 0.42857142857142855),\n",
       " ('581354 3885509', 0.42857142857142855)]"
      ]
     },
     "execution_count": 5,
     "metadata": {},
     "output_type": "execute_result"
    }
   ],
   "source": [
    "TEMP_FILE = BASE_PATH + '/tmp/collaborative/candidates_min_sim_2'\n",
    "couplesCandidateRDD = sc.pickleFile(TEMP_FILE)\n",
    "couplesCandidateRDD.take(3)"
   ]
  },
  {
   "cell_type": "markdown",
   "metadata": {},
   "source": [
    "# Reduce Method"
   ]
  },
  {
   "cell_type": "code",
   "execution_count": 11,
   "metadata": {
    "collapsed": false
   },
   "outputs": [
    {
     "name": "stdout",
     "output_type": "stream",
     "text": [
      "89783229\n",
      "10042293\n"
     ]
    }
   ],
   "source": [
    "def reduce_to_min(couplesCandidateRDD):\n",
    "    couplesCandidateScoreRDD = couplesCandidateRDD.reduceByKey(lambda x,y: min(x,y))\n",
    "    return couplesCandidateScoreRDD\n",
    "\n",
    "def reduce_to_count(couplesCandidateRDD):\n",
    "    couplesCandidateScoreRDD = couplesCandidateRDD.map(lambda x: (x[0], 1)).reduceByKey(lambda x,y: x + y)\n",
    "    return couplesCandidateScoreRDD\n",
    "    \n",
    "def reduce_to_shrink(couplesCandidateRDD, S = 2):\n",
    "    couplesCandidateScoreRDD = couplesCandidateRDD.groupByKey().mapValues(lambda x: float(sum(list(x))) / float(len(list(x)) + S) )\n",
    "    return couplesCandidateScoreRDD\n",
    "\n",
    "#Choose here the function\n",
    "print couplesCandidateRDD.count()\n",
    "couplesCandidateScoreRDD = reduce_to_shrink(couplesCandidateRDD)  \n",
    "print couplesCandidateScoreRDD.count()\n",
    "#----------------------#\n",
    "scores = couplesCandidateScoreRDD.map(lambda x: x[1]).collect()\n"
   ]
  },
  {
   "cell_type": "code",
   "execution_count": 12,
   "metadata": {
    "collapsed": false
   },
   "outputs": [
    {
     "name": "stdout",
     "output_type": "stream",
     "text": [
      "count    10042293.000000\n",
      "mean            0.151610\n",
      "std             0.071363\n",
      "min             0.083423\n",
      "25%             0.095238\n",
      "50%             0.121795\n",
      "75%             0.189574\n",
      "max             0.789683\n",
      "dtype: float64\n"
     ]
    },
    {
     "data": {
      "image/png": "[encoded data removed]",
      "text/plain": [
       "<matplotlib.figure.Figure at 0x7f897e5e3250>"
      ]
     },
     "metadata": {},
     "output_type": "display_data"
    }
   ],
   "source": [
    "\n",
    "import pandas as pd\n",
    "stats = pd.Series(scores).describe()\n",
    "print stats\n",
    "\n",
    "MEAN_SCORE = stats['mean']\n",
    "STD_SCORE = stats['std']\n",
    "Q1 = stats['25%']\n",
    "\n",
    "from matplotlib import pyplot as plt\n",
    "%matplotlib inline\n",
    "font_title = {'family': 'serif',\n",
    "                   'weight': 'normal',\n",
    "                   'verticalalignment': 'bottom',\n",
    "                   'size': 16}  \n",
    "\n",
    "plt.figure(1, figsize=(8,4))\n",
    "plt.title(\"Pairs Scores\", fontdict = font_title)\n",
    "plt.hist(scores,200, alpha = 0.6, histtype='bar', log=False)\n",
    "N = 900000\n",
    "plt.plot( [MEAN_SCORE for i in range (N)], range(N), linewidth = 1.5, color = 'r')\n",
    "plt.plot( [Q1 for i in range (N)], range(N), linewidth = 1.5, color = 'r')\n",
    "plt.plot( [MEAN_SCORE + STD_SCORE for i in range (N)], range(N), 'r--', linewidth = 1.5)\n",
    "plt.plot( [MEAN_SCORE + 2*STD_SCORE for i in range (N)], range(N), 'r--', linewidth = 1.5)\n",
    "plt.show() "
   ]
  },
  {
   "cell_type": "code",
   "execution_count": 13,
   "metadata": {
    "collapsed": false
   },
   "outputs": [
    {
     "data": {
      "text/plain": [
       "10042293"
      ]
     },
     "execution_count": 13,
     "metadata": {},
     "output_type": "execute_result"
    }
   ],
   "source": [
    "couplesCandidateNewRDD = couplesCandidateScoreRDD.map(lambda x: ( int(x[0].split(' ')[0]), (int(x[0].split(' ')[1]), x[1]) ))\n",
    "couplesCandidateNewRDD.count()"
   ]
  },
  {
   "cell_type": "markdown",
   "metadata": {},
   "source": [
    "# Join with Co-Occurrences and Filter"
   ]
  },
  {
   "cell_type": "code",
   "execution_count": 14,
   "metadata": {
    "collapsed": false
   },
   "outputs": [
    {
     "data": {
      "text/plain": [
       "8099962"
      ]
     },
     "execution_count": 14,
     "metadata": {},
     "output_type": "execute_result"
    }
   ],
   "source": [
    "def check_co_occur(x):\n",
    "    co_occ = set(x[1][1])\n",
    "    if x[1][0][0] in co_occ:\n",
    "        return False\n",
    "    return True\n",
    "\n",
    "couplesJoinOccDD = couplesCandidateNewRDD.join(co_occRDD)\n",
    "goodCandidatesRDD = couplesJoinOccDD.filter(check_co_occur).map(lambda x: ((x[0], x[1][0][0]), x[1][0][1] ))\n",
    "goodCandidatesRDD.count()"
   ]
  },
  {
   "cell_type": "markdown",
   "metadata": {},
   "source": [
    "# Keep top candidates"
   ]
  },
  {
   "cell_type": "code",
   "execution_count": 15,
   "metadata": {
    "collapsed": false
   },
   "outputs": [
    {
     "data": {
      "text/plain": [
       "372532"
      ]
     },
     "execution_count": 15,
     "metadata": {},
     "output_type": "execute_result"
    }
   ],
   "source": [
    "candidatesFlat = goodCandidatesRDD.flatMap(lambda x: [(i, (x[0], x[1])) for i in x[0]]).groupByKey()\n",
    "candidatesFlat.count()"
   ]
  },
  {
   "cell_type": "code",
   "execution_count": 16,
   "metadata": {
    "collapsed": true
   },
   "outputs": [
    {
     "data": {
      "text/plain": [
       "[(702464,\n",
       "  [262027,\n",
       "   262029,\n",
       "   262030,\n",
       "   262034,\n",
       "   262037,\n",
       "   262041,\n",
       "   262043,\n",
       "   262045,\n",
       "   262049,\n",
       "   262056,\n",
       "   262061,\n",
       "   262062,\n",
       "   262067,\n",
       "   262070,\n",
       "   262072,\n",
       "   262073,\n",
       "   262074,\n",
       "   262075,\n",
       "   262076,\n",
       "   262112,\n",
       "   262113,\n",
       "   262114,\n",
       "   262116,\n",
       "   262118,\n",
       "   262119,\n",
       "   262120,\n",
       "   262123,\n",
       "   262128,\n",
       "   262131,\n",
       "   262132,\n",
       "   262135,\n",
       "   262140,\n",
       "   262141,\n",
       "   262143,\n",
       "   262149,\n",
       "   262151,\n",
       "   262152,\n",
       "   262153,\n",
       "   262157,\n",
       "   262159,\n",
       "   262161,\n",
       "   262162,\n",
       "   262163,\n",
       "   262166,\n",
       "   262167,\n",
       "   262170,\n",
       "   262171,\n",
       "   262173,\n",
       "   262175,\n",
       "   262179,\n",
       "   262180,\n",
       "   262182,\n",
       "   262189,\n",
       "   262190,\n",
       "   553561,\n",
       "   553650,\n",
       "   553651,\n",
       "   553654,\n",
       "   553658,\n",
       "   553659,\n",
       "   553660,\n",
       "   553661,\n",
       "   553662,\n",
       "   553665,\n",
       "   553667,\n",
       "   553671,\n",
       "   553672,\n",
       "   553673,\n",
       "   553678,\n",
       "   553866,\n",
       "   553867,\n",
       "   553868,\n",
       "   553869,\n",
       "   698558,\n",
       "   698559,\n",
       "   698560,\n",
       "   698561,\n",
       "   698562,\n",
       "   698563,\n",
       "   698564,\n",
       "   698565,\n",
       "   698566,\n",
       "   698567,\n",
       "   698568,\n",
       "   698569,\n",
       "   698570,\n",
       "   698571,\n",
       "   698572,\n",
       "   698573,\n",
       "   698574,\n",
       "   702464,\n",
       "   718846,\n",
       "   718851,\n",
       "   718855,\n",
       "   718856,\n",
       "   718860,\n",
       "   718864,\n",
       "   718871,\n",
       "   718887,\n",
       "   718891,\n",
       "   718896,\n",
       "   718898,\n",
       "   718907,\n",
       "   718909,\n",
       "   718917,\n",
       "   718921,\n",
       "   852011,\n",
       "   852216,\n",
       "   852972,\n",
       "   852979,\n",
       "   853064,\n",
       "   853127,\n",
       "   853129,\n",
       "   853363,\n",
       "   853366,\n",
       "   854221,\n",
       "   854230,\n",
       "   854233,\n",
       "   854338,\n",
       "   854488,\n",
       "   854747,\n",
       "   854748,\n",
       "   854750,\n",
       "   854760,\n",
       "   854763,\n",
       "   854765,\n",
       "   854913,\n",
       "   855102,\n",
       "   855104,\n",
       "   855106,\n",
       "   855107,\n",
       "   855114,\n",
       "   855116,\n",
       "   855163,\n",
       "   855165,\n",
       "   855167,\n",
       "   855169,\n",
       "   855218,\n",
       "   855220,\n",
       "   855341,\n",
       "   855377,\n",
       "   872658,\n",
       "   872659,\n",
       "   872669,\n",
       "   872696,\n",
       "   872700,\n",
       "   872704,\n",
       "   1779762,\n",
       "   1779763,\n",
       "   1779764,\n",
       "   1779766,\n",
       "   1779768,\n",
       "   1779771,\n",
       "   2696397,\n",
       "   2696398,\n",
       "   2696400,\n",
       "   2696401,\n",
       "   2696403,\n",
       "   2696405,\n",
       "   2696409,\n",
       "   2696411,\n",
       "   2696415,\n",
       "   2696416,\n",
       "   2696417,\n",
       "   2696419,\n",
       "   2696424,\n",
       "   2696427,\n",
       "   2696428,\n",
       "   2696429,\n",
       "   2696430,\n",
       "   2696431,\n",
       "   2696433,\n",
       "   2696434,\n",
       "   2696437,\n",
       "   2696439,\n",
       "   2696440,\n",
       "   2696442,\n",
       "   2696444,\n",
       "   2696446,\n",
       "   2696449,\n",
       "   2696450,\n",
       "   2696451,\n",
       "   2696458,\n",
       "   2696463,\n",
       "   2696465,\n",
       "   2696467,\n",
       "   2696468,\n",
       "   2696469,\n",
       "   2696471,\n",
       "   2696474,\n",
       "   2696475,\n",
       "   2696477,\n",
       "   2696478,\n",
       "   2696480,\n",
       "   2696481,\n",
       "   2696482,\n",
       "   3354143,\n",
       "   3354150,\n",
       "   3354151,\n",
       "   3354166,\n",
       "   3363105,\n",
       "   3363106,\n",
       "   3363110,\n",
       "   3363111,\n",
       "   3363112,\n",
       "   3363115,\n",
       "   3363117,\n",
       "   3363119,\n",
       "   3363124,\n",
       "   3363127,\n",
       "   3363130,\n",
       "   3363131,\n",
       "   3363132,\n",
       "   3363133,\n",
       "   3363135,\n",
       "   3363137,\n",
       "   3363139,\n",
       "   3363142,\n",
       "   3363144,\n",
       "   3363149,\n",
       "   3363159,\n",
       "   3363161,\n",
       "   3363163,\n",
       "   3363166,\n",
       "   3363169,\n",
       "   3363174,\n",
       "   3363175,\n",
       "   3363176,\n",
       "   3363179,\n",
       "   3363182,\n",
       "   3363184,\n",
       "   3363185,\n",
       "   3363190,\n",
       "   3363192,\n",
       "   3363199,\n",
       "   3363202,\n",
       "   3363203,\n",
       "   3363204,\n",
       "   3363205,\n",
       "   3363206,\n",
       "   3363207,\n",
       "   3363212,\n",
       "   3363216,\n",
       "   3363217,\n",
       "   3363221,\n",
       "   3363223,\n",
       "   3363224,\n",
       "   3363228,\n",
       "   3363233,\n",
       "   3363234,\n",
       "   3363235,\n",
       "   3363238,\n",
       "   3363241,\n",
       "   3363242,\n",
       "   3363243,\n",
       "   3363246,\n",
       "   3363249,\n",
       "   3363250,\n",
       "   3523965,\n",
       "   3523976,\n",
       "   3523977,\n",
       "   3523978,\n",
       "   3523979,\n",
       "   3523980,\n",
       "   3523981,\n",
       "   3523982,\n",
       "   3523983,\n",
       "   3523984,\n",
       "   3523988,\n",
       "   3523990,\n",
       "   3523994,\n",
       "   3834301,\n",
       "   3834302,\n",
       "   3834306,\n",
       "   3834307]),\n",
       " (1961176, [1961176, 2820257, 3105623, 3105625, 3105629]),\n",
       " (2390024, [229160, 2390024])]"
      ]
     },
     "execution_count": 16,
     "metadata": {},
     "output_type": "execute_result"
    }
   ],
   "source": [
    "def keep_top(x):\n",
    "    top = max([i[1] for i in list(x[1])])\n",
    "    result = set()\n",
    "    for i in x[1]:\n",
    "        if i[1] == top:\n",
    "            result.add(i[0][0])\n",
    "            result.add(i[0][1])\n",
    "    return (x[0], sorted(list(result)))\n",
    "\n",
    "\n",
    "def keep_higher(x):\n",
    "    K = MEAN_SCORE\n",
    "    result = set()\n",
    "    for i in x[1]:\n",
    "        if i[1] > K:\n",
    "            result.add(i[0][0])\n",
    "            result.add(i[0][1])\n",
    "    return (x[0], sorted(list(result)))\n",
    "\n",
    "def keep_all(x):\n",
    "    result = set()\n",
    "    for i in x[1]:\n",
    "        result.add(i[0][0])\n",
    "        result.add(i[0][1])\n",
    "    return (x[0], sorted(list(result)))\n",
    "\n",
    "\n",
    "topCandidates = candidatesFlat.map(keep_higher).filter(lambda x: len(x[1]))\n",
    "topCandidates.take(3)"
   ]
  },
  {
   "cell_type": "code",
   "execution_count": 17,
   "metadata": {
    "collapsed": false
   },
   "outputs": [
    {
     "data": {
      "text/plain": [
       "174844"
      ]
     },
     "execution_count": 17,
     "metadata": {},
     "output_type": "execute_result"
    }
   ],
   "source": [
    "uniqueClusters = topCandidates.map(lambda x: (' '.join([str(i) for i in x[1]]), x[0])).groupByKey()\n",
    "uniqueClusters.count()"
   ]
  },
  {
   "cell_type": "code",
   "execution_count": 18,
   "metadata": {
    "collapsed": true
   },
   "outputs": [],
   "source": [
    "clusters = topCandidates.map(lambda x: x[1]).collect()"
   ]
  },
  {
   "cell_type": "code",
   "execution_count": 19,
   "metadata": {
    "collapsed": false,
    "scrolled": true
   },
   "outputs": [
    {
     "data": {
      "image/png": "[encoded data removed]",
      "text/plain": [
       "<matplotlib.figure.Figure at 0x7f897c054390>"
      ]
     },
     "metadata": {},
     "output_type": "display_data"
    }
   ],
   "source": [
    "from matplotlib import pyplot as plt\n",
    "%matplotlib inline\n",
    "clusterDim = [len(i) for i in clusters]\n",
    "font_title = {'family': 'serif',\n",
    "                   'weight': 'normal',\n",
    "                   'verticalalignment': 'bottom',\n",
    "                   'size': 16}  \n",
    "\n",
    "plt.figure(1, figsize=(8,4))\n",
    "plt.title(\"Collaborative Clustering Dimensions\", fontdict = font_title)\n",
    "plt.hist(clusterDim,50, alpha = 0.6, histtype='bar', log=False)\n",
    "plt.show() \n"
   ]
  },
  {
   "cell_type": "code",
   "execution_count": 20,
   "metadata": {
    "collapsed": false
   },
   "outputs": [
    {
     "data": {
      "text/plain": [
       "count    175171.000000\n",
       "mean         30.053257\n",
       "std          95.059285\n",
       "min           2.000000\n",
       "25%           4.000000\n",
       "50%           8.000000\n",
       "75%          20.000000\n",
       "max        1609.000000\n",
       "dtype: float64"
      ]
     },
     "execution_count": 20,
     "metadata": {},
     "output_type": "execute_result"
    }
   ],
   "source": [
    "import pandas as pd\n",
    "pd.Series(clusterDim).describe()"
   ]
  },
  {
   "cell_type": "markdown",
   "metadata": {},
   "source": [
    "# Try to keep just the few cluster in accordance each other"
   ]
  },
  {
   "cell_type": "code",
   "execution_count": 21,
   "metadata": {
    "collapsed": false
   },
   "outputs": [
    {
     "name": "stdout",
     "output_type": "stream",
     "text": [
      "175171\n",
      "174844\n"
     ]
    }
   ],
   "source": [
    "topCandidatesGroup = topCandidates.map(lambda x: (' '.join(str(i) for i in sorted(x[1])), x[0])).groupByKey()\n",
    "print topCandidates.count()\n",
    "print topCandidatesGroup.count()"
   ]
  },
  {
   "cell_type": "code",
   "execution_count": 22,
   "metadata": {
    "collapsed": false,
    "scrolled": true
   },
   "outputs": [
    {
     "data": {
      "text/plain": [
       "[('1456387 1456572', [1456387, 1456572]),\n",
       " ('1106173 1106193', [1106173, 1106193]),\n",
       " ('3874822 3890014', [3890014, 3874822]),\n",
       " ('2802002 2802007', [2802007, 2802002]),\n",
       " ('1384214 1384258', [1384258, 1384214]),\n",
       " ('518936 1190059', [1190059, 518936]),\n",
       " ('253936 3833819', [253936, 3833819]),\n",
       " ('101898 101913', [101898, 101913]),\n",
       " ('280378 912970', [280378, 912970]),\n",
       " ('1269628 3270904', [3270904, 1269628]),\n",
       " ('545042 545079', [545079, 545042]),\n",
       " ('40803 2459750', [2459750, 40803]),\n",
       " ('88985 3027021', [3027021, 88985]),\n",
       " ('1237041 1237044', [1237041, 1237044]),\n",
       " ('1605134 2054549', [1605134, 2054549]),\n",
       " ('22427 3766447', [22427, 3766447]),\n",
       " ('1943729 2877342', [2877342, 1943729]),\n",
       " ('1060902 2037669', [1060902, 2037669]),\n",
       " ('2393374 2393414', [2393374, 2393414]),\n",
       " ('836315 1435469', [836315, 1435469]),\n",
       " ('371617 3462783', [371617, 3462783]),\n",
       " ('461176 1128853', [1128853, 461176]),\n",
       " ('217317 3154418', [3154418, 217317]),\n",
       " ('2386321 2386781', [2386321, 2386781]),\n",
       " ('58318 3074006', [58318, 3074006]),\n",
       " ('456505 456555', [456505, 456555]),\n",
       " ('2446494 2446498', [2446498, 2446494]),\n",
       " ('814431 3203406', [3203406, 814431]),\n",
       " ('1341202 1661787', [1661787, 1341202]),\n",
       " ('1502060 1502144', [1502144, 1502060]),\n",
       " ('1533906 1534962', [1533906, 1534962]),\n",
       " ('2857934 3819759', [2857934, 3819759]),\n",
       " ('1758362 1758375', [1758375, 1758362]),\n",
       " ('3069531 3195997', [3195997, 3069531]),\n",
       " ('936197 3674129', [3674129, 936197]),\n",
       " ('3736872 3736881', [3736881, 3736872]),\n",
       " ('1159803 1159804', [1159804, 1159803]),\n",
       " ('82886 2578617', [2578617, 82886]),\n",
       " ('1227295 3477377', [3477377, 1227295]),\n",
       " ('566209 566210', [566210, 566209]),\n",
       " ('3011870 3011873', [3011873, 3011870]),\n",
       " ('3774945 3774959', [3774945, 3774959]),\n",
       " ('3258382 3259165', [3259165, 3258382]),\n",
       " ('1409481 1409489', [1409481, 1409489]),\n",
       " ('1411298 1411305', [1411298, 1411305]),\n",
       " ('822011 822015', [822015, 822011]),\n",
       " ('2236121 2236186', [2236186, 2236121]),\n",
       " ('977731 977733', [977731, 977733]),\n",
       " ('52091 3760905', [3760905, 52091]),\n",
       " ('880049 880078', [880049, 880078]),\n",
       " ('1743991 1743996', [1743991, 1743996]),\n",
       " ('2488305 2488306', [2488305, 2488306]),\n",
       " ('3680940 3680995', [3680940, 3680995]),\n",
       " ('1914113 2838583', [1914113, 2838583]),\n",
       " ('2265516 2265629', [2265629, 2265516]),\n",
       " ('1364945 3587576', [3587576, 1364945]),\n",
       " ('1523033 1523096', [1523096, 1523033]),\n",
       " ('28861 237305', [237305, 28861]),\n",
       " ('2828141 2828142', [2828142, 2828141]),\n",
       " ('2801346 3859057', [3859057, 2801346]),\n",
       " ('864246 2002828', [2002828, 864246]),\n",
       " ('2438770 2966253', [2966253, 2438770]),\n",
       " ('551455 3775533', [551455, 3775533]),\n",
       " ('379350 1694689', [1694689, 379350]),\n",
       " ('1587191 2949514', [1587191, 2949514]),\n",
       " ('3027841 3027892', [3027892, 3027841]),\n",
       " ('1997766 2022084', [2022084, 1997766]),\n",
       " ('3239219 3239237', [3239237, 3239219]),\n",
       " ('3587205 3587221', [3587205, 3587221]),\n",
       " ('2265661 2265736', [2265736, 2265661]),\n",
       " ('267368 3211828', [267368, 3211828]),\n",
       " ('1690575 3746259', [1690575, 3746259]),\n",
       " ('3040597 3421565', [3040597, 3421565]),\n",
       " ('839386 839400', [839386, 839400]),\n",
       " ('224629 1883582', [224629, 1883582]),\n",
       " ('30386 2814159', [2814159, 30386]),\n",
       " ('3040953 3884160', [3040953, 3884160]),\n",
       " ('1289936 3001506', [3001506, 1289936]),\n",
       " ('144212 144296', [144296, 144212]),\n",
       " ('1687905 1687954', [1687954, 1687905]),\n",
       " ('2824898 2824900', [2824900, 2824898]),\n",
       " ('3287352 3354397', [3354397, 3287352]),\n",
       " ('2126782 2269721', [2269721, 2126782]),\n",
       " ('2062240 3295734', [3295734, 2062240]),\n",
       " ('2164901 2164955', [2164901, 2164955]),\n",
       " ('2737613 3221699', [3221699, 2737613]),\n",
       " ('2695629 2695902', [2695629, 2695902]),\n",
       " ('2727805 2727808', [2727805, 2727808]),\n",
       " ('2375724 2375853', [2375724, 2375853]),\n",
       " ('2365546 3760840', [2365546, 3760840]),\n",
       " ('3144147 3144230', [3144230, 3144147]),\n",
       " ('1425450 1425462', [1425450, 1425462]),\n",
       " ('419188 419198', [419188, 419198]),\n",
       " ('572898 1058891', [1058891, 572898]),\n",
       " ('222075 222091', [222091, 222075]),\n",
       " ('1183511 1183552', [1183552, 1183511]),\n",
       " ('1353174 1353198', [1353198, 1353174]),\n",
       " ('2168048 2918176', [2168048, 2918176]),\n",
       " ('2088264 2088273', [2088273, 2088264]),\n",
       " ('1790649 3857087', [1790649, 3857087])]"
      ]
     },
     "execution_count": 22,
     "metadata": {},
     "output_type": "execute_result"
    }
   ],
   "source": [
    "topCandidatesUnique = topCandidatesGroup.filter(lambda x: len(list(x[1])) == len(x[0].split(' ')))\n",
    "topCandidatesUnique.mapValues(list).take(100)"
   ]
  },
  {
   "cell_type": "code",
   "execution_count": 23,
   "metadata": {
    "collapsed": false
   },
   "outputs": [
    {
     "data": {
      "text/plain": [
       "(count: 307, mean: 2.00651465798, stdev: 0.0804500914347, max: 3.0, min: 2.0)"
      ]
     },
     "execution_count": 23,
     "metadata": {},
     "output_type": "execute_result"
    }
   ],
   "source": [
    "topCandidatesUnique.map(lambda x: len(x[1])).stats()"
   ]
  },
  {
   "cell_type": "markdown",
   "metadata": {},
   "source": [
    "# Finalize"
   ]
  },
  {
   "cell_type": "code",
   "execution_count": 24,
   "metadata": {
    "collapsed": false
   },
   "outputs": [
    {
     "data": {
      "text/plain": [
       "[(1456572, '1456387 1456572')]"
      ]
     },
     "execution_count": 24,
     "metadata": {},
     "output_type": "execute_result"
    }
   ],
   "source": [
    "songToCluster = topCandidatesUnique.flatMap(lambda x: [(i, x[0]) for i in x[1]])\n",
    "songToCluster.take(1)"
   ]
  },
  {
   "cell_type": "code",
   "execution_count": 25,
   "metadata": {
    "collapsed": false
   },
   "outputs": [
    {
     "data": {
      "text/plain": [
       "(count: 616, mean: 1.0, stdev: 0.0, max: 1.0, min: 1.0)"
      ]
     },
     "execution_count": 25,
     "metadata": {},
     "output_type": "execute_result"
    }
   ],
   "source": [
    "songToCluster.groupByKey().map(lambda x: len(list(x[1]))).stats()"
   ]
  },
  {
   "cell_type": "code",
   "execution_count": 28,
   "metadata": {
    "collapsed": false
   },
   "outputs": [
    {
     "name": "stdout",
     "output_type": "stream",
     "text": [
      "3893303\n",
      "309\n"
     ]
    }
   ],
   "source": [
    "#In this way we obtain a complete RDD with song -> group of songs\n",
    "def reduce_to_biggest(x, y):\n",
    "    bigger = x if len(x) > len(y) else y\n",
    "    result = sorted(bigger)\n",
    "    return result\n",
    " \n",
    "unionJoinRDD = tracksIdsRDD.leftOuterJoin(songToCluster)\n",
    "unionRDD = unionJoinRDD.map(lambda x: (x[0], x[1][0]) if x[1][1] == None else (x[0], x[1][1]))\n",
    "tot_n = unionRDD.count()\n",
    "print tot_n\n",
    "\n",
    "#Flip the mapping as cluster->song\n",
    "clusterSongsRDD = unionRDD.map(lambda x: (' '.join(x[1]), x[0])).groupByKey().mapValues(list)\n",
    "clusterSongsRDD = clusterSongsRDD.zipWithIndex().map(lambda x: (x[1], x[0][1]))\n",
    "tot_cl = clusterSongsRDD.count()\n",
    "print tot_n - tot_cl\n",
    "\n"
   ]
  },
  {
   "cell_type": "code",
   "execution_count": 29,
   "metadata": {
    "collapsed": false
   },
   "outputs": [],
   "source": [
    "#Save File\n",
    "J = '25'\n",
    "GROUP = 'avgShrink2'\n",
    "FILTER = '3600'\n",
    "\n",
    "clusterSongsRDD.saveAsPickleFile(BASE_PATH + '/clusters/collaborative/min_j_' + J + '_' + GROUP + '_' + FILTER)"
   ]
  },
  {
   "cell_type": "markdown",
   "metadata": {},
   "source": [
    "   "
   ]
  },
  {
   "cell_type": "markdown",
   "metadata": {},
   "source": [
    "   "
   ]
  },
  {
   "cell_type": "markdown",
   "metadata": {},
   "source": [
    "# -------------------------------------------------------------------------------------"
   ]
  },
  {
   "cell_type": "markdown",
   "metadata": {},
   "source": [
    "   "
   ]
  },
  {
   "cell_type": "markdown",
   "metadata": {},
   "source": [
    "# Keep couples that appear together more than average (2)"
   ]
  },
  {
   "cell_type": "code",
   "execution_count": 45,
   "metadata": {
    "collapsed": false
   },
   "outputs": [
    {
     "name": "stdout",
     "output_type": "stream",
     "text": [
      "2.24995408301\n"
     ]
    },
    {
     "data": {
      "text/plain": [
       "7550724"
      ]
     },
     "execution_count": 45,
     "metadata": {},
     "output_type": "execute_result"
    }
   ],
   "source": [
    "MEAN_LEN = goodCandidatesRDD.map(lambda x: len(list(x[1]))).mean()\n",
    "print MEAN_LEN\n",
    "\n",
    "robustCandidateRDD = goodCandidatesRDD.filter(lambda x: len(list(x[1])) > MEAN_LEN)\n",
    "robustCandidateRDD.count()"
   ]
  },
  {
   "cell_type": "markdown",
   "metadata": {},
   "source": [
    "# Compute Average Similarity with Shrink\n",
    "\n",
    "# $Score\\ (s_i,s_j) = \\frac{\\sum_{i=1}^N sim_i\\ (i,j)}{N + Shrink} $"
   ]
  },
  {
   "cell_type": "code",
   "execution_count": 46,
   "metadata": {
    "collapsed": false
   },
   "outputs": [
    {
     "data": {
      "text/plain": [
       "[((529200, 1792411), 0.05410405282331512),\n",
       " ((529200, 2225711), 0.05410405282331512),\n",
       " ((529200, 2656089), 0.08123445273631841)]"
      ]
     },
     "execution_count": 46,
     "metadata": {},
     "output_type": "execute_result"
    }
   ],
   "source": [
    "SHRINK = 5\n",
    "\n",
    "def average_sim_shrink(x, shrink):\n",
    "    values = list(x[1])\n",
    "    num = float(sum(values))\n",
    "    den = float(len(values) + SHRINK)\n",
    "    avg = num / den\n",
    "    return (x[0], avg)\n",
    "\n",
    "candidateScoresRDD = robustCandidateRDD.map(lambda x: average_sim_shrink(x, SHRINK))\n",
    "candidateScoresRDD.take(3)"
   ]
  },
  {
   "cell_type": "markdown",
   "metadata": {},
   "source": [
    "# Statistics on Scores"
   ]
  },
  {
   "cell_type": "code",
   "execution_count": 30,
   "metadata": {
    "collapsed": false
   },
   "outputs": [
    {
     "name": "stdout",
     "output_type": "stream",
     "text": [
      "{'count': 6426388, 'min': 0.25026968716289105, 'max': 0.97402597402597402, 'sum': 2022290.5393963403, 'stdev': 0.070149685657234215, 'variance': 0.0049209783978087715, 'mean': 0.31468540950162677}\n"
     ]
    }
   ],
   "source": [
    "scoresRDD = goodCandidatesRDD.map(lambda x: x[1])\n",
    "\n",
    "stats = scoresRDD.stats().asDict()\n",
    "print stats\n",
    "MEAN_SCORE = stats['mean']\n",
    "STD_SCORE = stats['stdev']"
   ]
  },
  {
   "cell_type": "code",
   "execution_count": 31,
   "metadata": {
    "collapsed": false
   },
   "outputs": [],
   "source": [
    "scores = scoresRDD.collect()"
   ]
  },
  {
   "cell_type": "code",
   "execution_count": 32,
   "metadata": {
    "collapsed": false
   },
   "outputs": [
    {
     "data": {
      "image/png": "[encoded data removed]",
      "text/plain": [
       "<matplotlib.figure.Figure at 0x7fc1d0a543d0>"
      ]
     },
     "metadata": {},
     "output_type": "display_data"
    }
   ],
   "source": [
    "from matplotlib import pyplot as plt\n",
    "%matplotlib inline\n",
    "\n",
    "font_title = {'family': 'serif',\n",
    "                   'weight': 'normal',\n",
    "                   'verticalalignment': 'bottom',\n",
    "                   'size': 16}  \n",
    "\n",
    "plt.figure(1, figsize=(8,4))\n",
    "plt.title(\"Distribution of Scores\", fontdict = font_title)\n",
    "plt.hist(scores, 100, normed = 1, alpha = 0.6, histtype='bar')\n",
    "N = 17\n",
    "plt.plot( [MEAN_SCORE for i in range (N)], range(N), linewidth = 1.5, color = 'r')\n",
    "plt.plot( [MEAN_SCORE + STD_SCORE for i in range (N)], range(N), 'r--', linewidth = 1.5)\n",
    "plt.plot( [MEAN_SCORE + 2*STD_SCORE for i in range (N)], range(N), 'r--', linewidth = 1.5)\n",
    "plt.show() "
   ]
  },
  {
   "cell_type": "markdown",
   "metadata": {},
   "source": [
    "# Score > $\\mu$ + $2\\sigma$ "
   ]
  },
  {
   "cell_type": "code",
   "execution_count": 50,
   "metadata": {
    "collapsed": false
   },
   "outputs": [
    {
     "data": {
      "text/plain": [
       "366745"
      ]
     },
     "execution_count": 50,
     "metadata": {},
     "output_type": "execute_result"
    }
   ],
   "source": [
    "bestCandidatesRDD = candidateScoresRDD.filter(lambda x: x[1] > MEAN_SCORE + 2*STD_SCORE)\n",
    "bestCandidatesRDD.count()"
   ]
  },
  {
   "cell_type": "markdown",
   "metadata": {},
   "source": [
    "# Create clusters for each song"
   ]
  },
  {
   "cell_type": "code",
   "execution_count": 124,
   "metadata": {
    "collapsed": true
   },
   "outputs": [
    {
     "data": {
      "text/plain": [
       "[(702464,\n",
       "  [702464,\n",
       "   262149,\n",
       "   262151,\n",
       "   262152,\n",
       "   262153,\n",
       "   262157,\n",
       "   262159,\n",
       "   262161,\n",
       "   262162,\n",
       "   262163,\n",
       "   262166,\n",
       "   262167,\n",
       "   262170,\n",
       "   262171,\n",
       "   262173,\n",
       "   262175,\n",
       "   262179,\n",
       "   262180,\n",
       "   262182,\n",
       "   4453554,\n",
       "   262190,\n",
       "   4453555,\n",
       "   855220,\n",
       "   855102,\n",
       "   855104,\n",
       "   855106,\n",
       "   855107,\n",
       "   553654,\n",
       "   853064,\n",
       "   553561,\n",
       "   4453562,\n",
       "   4453563,\n",
       "   553660,\n",
       "   4453565,\n",
       "   553662,\n",
       "   855163,\n",
       "   855165,\n",
       "   855167,\n",
       "   855169,\n",
       "   853127,\n",
       "   853129,\n",
       "   4453543,\n",
       "   4453544,\n",
       "   4453545,\n",
       "   4453546,\n",
       "   4453547,\n",
       "   4453548,\n",
       "   4453549,\n",
       "   4453550,\n",
       "   4453551,\n",
       "   4453552,\n",
       "   4453553,\n",
       "   553650,\n",
       "   553651,\n",
       "   4453556,\n",
       "   4453557,\n",
       "   4453558,\n",
       "   4453559,\n",
       "   4453560,\n",
       "   4453561,\n",
       "   553658,\n",
       "   553659,\n",
       "   4453564,\n",
       "   553661,\n",
       "   4453566,\n",
       "   553665,\n",
       "   553667,\n",
       "   4453750,\n",
       "   553671,\n",
       "   553672,\n",
       "   553673,\n",
       "   854221,\n",
       "   553678,\n",
       "   854230,\n",
       "   854233,\n",
       "   854747,\n",
       "   854748,\n",
       "   854750,\n",
       "   854760,\n",
       "   854763,\n",
       "   854765,\n",
       "   854913,\n",
       "   855341,\n",
       "   4453654,\n",
       "   4453655,\n",
       "   4453656,\n",
       "   4453657,\n",
       "   4453658,\n",
       "   4453660,\n",
       "   4453661,\n",
       "   4453662,\n",
       "   4453663,\n",
       "   4453664,\n",
       "   4453665,\n",
       "   4453666,\n",
       "   4453667,\n",
       "   4453668,\n",
       "   4453669,\n",
       "   4453670,\n",
       "   4453671,\n",
       "   4453672,\n",
       "   4453673,\n",
       "   4453674,\n",
       "   4453675,\n",
       "   4453676,\n",
       "   4453677,\n",
       "   4453678,\n",
       "   4453679,\n",
       "   4453680,\n",
       "   4453681,\n",
       "   4453682,\n",
       "   4453683,\n",
       "   4453684,\n",
       "   4453685,\n",
       "   4453686,\n",
       "   4453687,\n",
       "   4453688,\n",
       "   4453689,\n",
       "   553867,\n",
       "   855218,\n",
       "   553868,\n",
       "   262189,\n",
       "   553869,\n",
       "   4453737,\n",
       "   4453738,\n",
       "   4453739,\n",
       "   4453740,\n",
       "   4453741,\n",
       "   4453742,\n",
       "   4453743,\n",
       "   4453744,\n",
       "   4453745,\n",
       "   4453746,\n",
       "   4453747,\n",
       "   4453748,\n",
       "   4453749,\n",
       "   853366,\n",
       "   4453751,\n",
       "   4453752,\n",
       "   4453753,\n",
       "   4453754,\n",
       "   4453755,\n",
       "   4453756,\n",
       "   4453757,\n",
       "   4453758,\n",
       "   4453759,\n",
       "   4453760,\n",
       "   4453761,\n",
       "   4453762,\n",
       "   4453763,\n",
       "   4453764,\n",
       "   4453765,\n",
       "   4453766,\n",
       "   4453767,\n",
       "   553866,\n",
       "   262027,\n",
       "   4453772,\n",
       "   262029,\n",
       "   262030,\n",
       "   262034,\n",
       "   262037,\n",
       "   262041,\n",
       "   262043,\n",
       "   262045,\n",
       "   262049,\n",
       "   262051,\n",
       "   262056,\n",
       "   853363,\n",
       "   262061,\n",
       "   262062,\n",
       "   262067,\n",
       "   262070,\n",
       "   262072,\n",
       "   262073,\n",
       "   262074,\n",
       "   262075,\n",
       "   262076,\n",
       "   262112,\n",
       "   262113,\n",
       "   262114,\n",
       "   262116,\n",
       "   262118,\n",
       "   262119,\n",
       "   262120,\n",
       "   262123,\n",
       "   852972,\n",
       "   262128,\n",
       "   262131,\n",
       "   262132,\n",
       "   262135,\n",
       "   262140,\n",
       "   262141,\n",
       "   262143]),\n",
       " (2684416,\n",
       "  [2684416,\n",
       "   2537601,\n",
       "   2537602,\n",
       "   2537604,\n",
       "   2537606,\n",
       "   2537607,\n",
       "   2537608,\n",
       "   1202188,\n",
       "   2537610,\n",
       "   2537611,\n",
       "   2537612,\n",
       "   2537613,\n",
       "   2537614,\n",
       "   2537615,\n",
       "   2537616,\n",
       "   2624274,\n",
       "   1202195,\n",
       "   1202197,\n",
       "   1202202,\n",
       "   1202191,\n",
       "   707039,\n",
       "   1349196,\n",
       "   1202182,\n",
       "   2911686,\n",
       "   1202153,\n",
       "   1202157,\n",
       "   1202158,\n",
       "   2812719,\n",
       "   1202163,\n",
       "   1188469,\n",
       "   1202169,\n",
       "   1202171]),\n",
       " (558600,\n",
       "  [427010,\n",
       "   1636355,\n",
       "   1636356,\n",
       "   1636357,\n",
       "   449542,\n",
       "   1636362,\n",
       "   1202188,\n",
       "   1202189,\n",
       "   1202197,\n",
       "   1040900,\n",
       "   2277403,\n",
       "   2479136,\n",
       "   2514979,\n",
       "   2894854,\n",
       "   429095,\n",
       "   1229866,\n",
       "   434220,\n",
       "   1474612,\n",
       "   3772474,\n",
       "   2015292,\n",
       "   457789,\n",
       "   449598,\n",
       "   2564162,\n",
       "   457795,\n",
       "   457796,\n",
       "   2891849,\n",
       "   457806,\n",
       "   3557455,\n",
       "   1345619,\n",
       "   3626068,\n",
       "   2228310,\n",
       "   3127384,\n",
       "   2894938,\n",
       "   93278,\n",
       "   3464287,\n",
       "   93280,\n",
       "   1801313,\n",
       "   93282,\n",
       "   2070627,\n",
       "   1508452,\n",
       "   3711088,\n",
       "   3585139,\n",
       "   1634420,\n",
       "   2001013,\n",
       "   2613368,\n",
       "   1913977,\n",
       "   686203,\n",
       "   3626109,\n",
       "   2825343,\n",
       "   686209,\n",
       "   2566276,\n",
       "   2223242,\n",
       "   2001038,\n",
       "   463215,\n",
       "   2070685,\n",
       "   1104042,\n",
       "   2825387,\n",
       "   430253,\n",
       "   429236,\n",
       "   709815,\n",
       "   451772,\n",
       "   3357885,\n",
       "   3358240,\n",
       "   686274,\n",
       "   2279624,\n",
       "   3835092,\n",
       "   322781,\n",
       "   1495262,\n",
       "   3349730,\n",
       "   322788,\n",
       "   686309,\n",
       "   1510633,\n",
       "   2396541,\n",
       "   3349744,\n",
       "   276008,\n",
       "   2895090,\n",
       "   429299,\n",
       "   2110710,\n",
       "   3664123,\n",
       "   2959612,\n",
       "   426026,\n",
       "   445695,\n",
       "   1201409,\n",
       "   709894,\n",
       "   452141,\n",
       "   2363667,\n",
       "   2479387,\n",
       "   455965,\n",
       "   3516703,\n",
       "   1384736,\n",
       "   1132839,\n",
       "   2942248,\n",
       "   451881,\n",
       "   1474858,\n",
       "   3175728,\n",
       "   3349809,\n",
       "   915762,\n",
       "   2731322,\n",
       "   1384775,\n",
       "   1326415,\n",
       "   3673657,\n",
       "   1637723,\n",
       "   2026853,\n",
       "   2104678,\n",
       "   3349864,\n",
       "   686140,\n",
       "   3823980,\n",
       "   74094,\n",
       "   3550575,\n",
       "   2026868,\n",
       "   3349882,\n",
       "   2830717,\n",
       "   3823998,\n",
       "   3626367,\n",
       "   74115,\n",
       "   2469254,\n",
       "   1326472,\n",
       "   2895266,\n",
       "   1146277,\n",
       "   426738,\n",
       "   1871282,\n",
       "   2469300,\n",
       "   1123766,\n",
       "   2825661,\n",
       "   1104318,\n",
       "   110019,\n",
       "   1871301,\n",
       "   1146315,\n",
       "   1819087,\n",
       "   2825683,\n",
       "   686549,\n",
       "   1146329,\n",
       "   338394,\n",
       "   2958415,\n",
       "   707036,\n",
       "   289246,\n",
       "   2426339,\n",
       "   1231335,\n",
       "   2278894,\n",
       "   74226,\n",
       "   1146359,\n",
       "   81663,\n",
       "   275967,\n",
       "   1450498,\n",
       "   1146372,\n",
       "   892422,\n",
       "   558600,\n",
       "   1913772,\n",
       "   463370,\n",
       "   2178573,\n",
       "   1146383,\n",
       "   2469393,\n",
       "   1091095,\n",
       "   3284506,\n",
       "   1636896,\n",
       "   1146402,\n",
       "   1146406,\n",
       "   1146408,\n",
       "   74281,\n",
       "   2607661,\n",
       "   74289,\n",
       "   3711538,\n",
       "   452149,\n",
       "   1871417,\n",
       "   1636926,\n",
       "   2061887,\n",
       "   2092128,\n",
       "   2586379,\n",
       "   132677,\n",
       "   1140313,\n",
       "   1636957,\n",
       "   289381,\n",
       "   1636976,\n",
       "   416373,\n",
       "   892541,\n",
       "   892547,\n",
       "   2296452,\n",
       "   1818246,\n",
       "   452231,\n",
       "   2692547,\n",
       "   1326740,\n",
       "   805534,\n",
       "   74403,\n",
       "   1385126,\n",
       "   1447591,\n",
       "   539305,\n",
       "   629418,\n",
       "   453292,\n",
       "   463535,\n",
       "   1420976,\n",
       "   906355,\n",
       "   1871546,\n",
       "   2998972,\n",
       "   3310273,\n",
       "   1871556,\n",
       "   686792,\n",
       "   1871567,\n",
       "   316114,\n",
       "   2941651,\n",
       "   2607828,\n",
       "   233176,\n",
       "   1818334,\n",
       "   1187564,\n",
       "   452338,\n",
       "   1284853,\n",
       "   416506,\n",
       "   2478843,\n",
       "   3230462,\n",
       "   338389,\n",
       "   1188608,\n",
       "   1421062,\n",
       "   2070657,\n",
       "   60171,\n",
       "   2607884,\n",
       "   426765,\n",
       "   3440408,\n",
       "   2607897,\n",
       "   2478880,\n",
       "   2478881,\n",
       "   449538,\n",
       "   707035,\n",
       "   1284900,\n",
       "   2959141,\n",
       "   2941736,\n",
       "   424242,\n",
       "   710110,\n",
       "   3230518,\n",
       "   450360,\n",
       "   852801,\n",
       "   81733,\n",
       "   2958153,\n",
       "   176976,\n",
       "   416599,\n",
       "   2277215,\n",
       "   1410914,\n",
       "   685928,\n",
       "   1146343,\n",
       "   1112941,\n",
       "   426862,\n",
       "   1801078,\n",
       "   892791,\n",
       "   453268,\n",
       "   3230588,\n",
       "   1634174,\n",
       "   907141,\n",
       "   2586510,\n",
       "   1931151,\n",
       "   1182609,\n",
       "   2586515,\n",
       "   1039256,\n",
       "   1130397,\n",
       "   3548064,\n",
       "   60322,\n",
       "   452517,\n",
       "   1602476,\n",
       "   2730929,\n",
       "   3799990,\n",
       "   2596791,\n",
       "   2730941,\n",
       "   1635267,\n",
       "   426953,\n",
       "   2974199,\n",
       "   429024,\n",
       "   81894,\n",
       "   2896871,\n",
       "   1602543,\n",
       "   2514929,\n",
       "   686070,\n",
       "   505847,\n",
       "   132093])]"
      ]
     },
     "execution_count": 124,
     "metadata": {},
     "output_type": "execute_result"
    }
   ],
   "source": [
    "flatCouplesRDD = bestCandidatesRDD.flatMap(lambda x: [(x[0][0], x[0]), (x[0][1], x[0])])\n",
    "\n",
    "#Group by key (song). Each song has now one cluster\n",
    "def merge_couples(x, y):\n",
    "    return list(set(x) | set(y))\n",
    "\n",
    "songClusterRDD = flatCouplesRDD.reduceByKey(merge_couples)\n",
    "songClusterRDD.count()\n"
   ]
  },
  {
   "cell_type": "code",
   "execution_count": 138,
   "metadata": {
    "collapsed": false,
    "scrolled": true
   },
   "outputs": [
    {
     "data": {
      "text/plain": [
       "[(1212416, [u'1212416']), (4849664, [u'4849664']), (1745808, [u'1745808'])]"
      ]
     },
     "execution_count": 138,
     "metadata": {},
     "output_type": "execute_result"
    }
   ],
   "source": [
    "unionJoinRDD = tracksIdsRDD.leftOuterJoin(songClusterRDD)\n",
    "unionRDD = unionJoinRDD.map(lambda x: (x[0], x[1][0]) if x[1][1] == None else (x[0], sorted(x[1][1])))\n",
    "unionRDD.take(3)"
   ]
  },
  {
   "cell_type": "code",
   "execution_count": 141,
   "metadata": {
    "collapsed": false
   },
   "outputs": [
    {
     "data": {
      "text/plain": [
       "[(0, [2431409]), (1, [2085172]), (2, [1575232])]"
      ]
     },
     "execution_count": 141,
     "metadata": {},
     "output_type": "execute_result"
    }
   ],
   "source": [
    "clusterSongsRDD = unionRDD.map(lambda x: (' '.join([str(i) for i in x[1]]), x[0])).groupByKey()\n",
    "clusterSongsRDD = clusterSongsRDD.zipWithIndex().map(lambda x: (x[1], list(x[0][1])) )\n",
    "clusterSongsRDD.take(3)\n"
   ]
  },
  {
   "cell_type": "code",
   "execution_count": 142,
   "metadata": {
    "collapsed": false
   },
   "outputs": [
    {
     "data": {
      "text/plain": [
       "4518663"
      ]
     },
     "execution_count": 142,
     "metadata": {},
     "output_type": "execute_result"
    }
   ],
   "source": [
    "clusterSongsRDD.count()"
   ]
  },
  {
   "cell_type": "code",
   "execution_count": 143,
   "metadata": {
    "collapsed": false
   },
   "outputs": [
    {
     "data": {
      "text/plain": [
       "4519105"
      ]
     },
     "execution_count": 143,
     "metadata": {},
     "output_type": "execute_result"
    }
   ],
   "source": [
    "tracksIdsRDD.count()"
   ]
  },
  {
   "cell_type": "code",
   "execution_count": 145,
   "metadata": {
    "collapsed": false,
    "scrolled": true
   },
   "outputs": [],
   "source": [
    "clusterDim = songClusterRDD.map(lambda x: len(x[1])).collect()\n"
   ]
  },
  {
   "cell_type": "code",
   "execution_count": 148,
   "metadata": {
    "collapsed": false
   },
   "outputs": [
    {
     "data": {
      "image/png": "[encoded data removed]",
      "text/plain": [
       "<matplotlib.figure.Figure at 0x7f079cd9b1d0>"
      ]
     },
     "metadata": {},
     "output_type": "display_data"
    }
   ],
   "source": [
    "font_title = {'family': 'serif',\n",
    "                   'weight': 'normal',\n",
    "                   'verticalalignment': 'bottom',\n",
    "                   'size': 16}  \n",
    "\n",
    "plt.figure(1, figsize=(8,4))\n",
    "plt.title(\"Collaborative Clustering Dimensions\", fontdict = font_title)\n",
    "plt.hist(clusterDim, 100, normed = 0, alpha = 0.6, histtype='bar', log=True)\n",
    "plt.show() "
   ]
  },
  {
   "cell_type": "code",
   "execution_count": 150,
   "metadata": {
    "collapsed": false
   },
   "outputs": [],
   "source": [
    "clustersRDD = songClusterRDD.map(lambda x: ' '.join([str(i) for i in sorted(x[1])]))\n",
    "previous_dim = clustersRDD.count()\n",
    "\n",
    "clusterUniqueRDD = clustersRDD.distinct()\n",
    "unique_n = clusterUniqueRDD.count()\n"
   ]
  },
  {
   "cell_type": "code",
   "execution_count": 153,
   "metadata": {
    "collapsed": true
   },
   "outputs": [
    {
     "data": {
      "text/plain": [
       "[['587279',\n",
       "  '587302',\n",
       "  '587321',\n",
       "  '675420',\n",
       "  '684702',\n",
       "  '686911',\n",
       "  '687127',\n",
       "  '687356',\n",
       "  '761349',\n",
       "  '761364',\n",
       "  '761368',\n",
       "  '761372',\n",
       "  '761381',\n",
       "  '761382',\n",
       "  '761389',\n",
       "  '761390',\n",
       "  '761397',\n",
       "  '761400',\n",
       "  '761414',\n",
       "  '761415',\n",
       "  '761430',\n",
       "  '761431',\n",
       "  '761435',\n",
       "  '761440',\n",
       "  '761441',\n",
       "  '868216',\n",
       "  '908812',\n",
       "  '1036069',\n",
       "  '1074411',\n",
       "  '1074441',\n",
       "  '1074457',\n",
       "  '1074601',\n",
       "  '1104080',\n",
       "  '1104175',\n",
       "  '1111169',\n",
       "  '1111182',\n",
       "  '1111205',\n",
       "  '1111429',\n",
       "  '1111586',\n",
       "  '1111612',\n",
       "  '1111701',\n",
       "  '1111787',\n",
       "  '1111844',\n",
       "  '1111874',\n",
       "  '1111932',\n",
       "  '1112050',\n",
       "  '1112191',\n",
       "  '1229845',\n",
       "  '1230315',\n",
       "  '1230417',\n",
       "  '1230985',\n",
       "  '1231390',\n",
       "  '1350443',\n",
       "  '1435162',\n",
       "  '1435176',\n",
       "  '1435177',\n",
       "  '1435202',\n",
       "  '1435215',\n",
       "  '1435259',\n",
       "  '1435273',\n",
       "  '1435274',\n",
       "  '1435299',\n",
       "  '1435317',\n",
       "  '1435321',\n",
       "  '1553915',\n",
       "  '1558696',\n",
       "  '1558720',\n",
       "  '1558869',\n",
       "  '1559005',\n",
       "  '1559041',\n",
       "  '1559116',\n",
       "  '1675452',\n",
       "  '1688235',\n",
       "  '1689025',\n",
       "  '1747940',\n",
       "  '1818941',\n",
       "  '1969707',\n",
       "  '1969746',\n",
       "  '1969768',\n",
       "  '1969851',\n",
       "  '1969881',\n",
       "  '1999836',\n",
       "  '1999867',\n",
       "  '2177495',\n",
       "  '2280606',\n",
       "  '2329381',\n",
       "  '2329427',\n",
       "  '2422682',\n",
       "  '2422719',\n",
       "  '2422755',\n",
       "  '2422783',\n",
       "  '2422846',\n",
       "  '2422909',\n",
       "  '2423031',\n",
       "  '2423310',\n",
       "  '2423323',\n",
       "  '2423402',\n",
       "  '2423488',\n",
       "  '2478836',\n",
       "  '2478929',\n",
       "  '2478966',\n",
       "  '2478987',\n",
       "  '2478992',\n",
       "  '2479000',\n",
       "  '2479123',\n",
       "  '2479130',\n",
       "  '2479162',\n",
       "  '2479197',\n",
       "  '2479221',\n",
       "  '2479222',\n",
       "  '2479231',\n",
       "  '2479232',\n",
       "  '2479265',\n",
       "  '2479267',\n",
       "  '2479301',\n",
       "  '2479316',\n",
       "  '2479356',\n",
       "  '2479358',\n",
       "  '2526849',\n",
       "  '2526938',\n",
       "  '2575278',\n",
       "  '2581127',\n",
       "  '2654154',\n",
       "  '2687990',\n",
       "  '2722501',\n",
       "  '2991526',\n",
       "  '3083227',\n",
       "  '3125493',\n",
       "  '3158310',\n",
       "  '3158340',\n",
       "  '3158393',\n",
       "  '3232047',\n",
       "  '3232826',\n",
       "  '3232863',\n",
       "  '3232886',\n",
       "  '3232898',\n",
       "  '3232951',\n",
       "  '3232960',\n",
       "  '3232962',\n",
       "  '3232993',\n",
       "  '3233195',\n",
       "  '3292711',\n",
       "  '3292725',\n",
       "  '3292746',\n",
       "  '3292800',\n",
       "  '3292862',\n",
       "  '3329193',\n",
       "  '3357877',\n",
       "  '3358005',\n",
       "  '3358148',\n",
       "  '3358299',\n",
       "  '3358461',\n",
       "  '3358561',\n",
       "  '3490617',\n",
       "  '3490645',\n",
       "  '3490655',\n",
       "  '3490666',\n",
       "  '3490685',\n",
       "  '3490695',\n",
       "  '3490697',\n",
       "  '3490700',\n",
       "  '3677075',\n",
       "  '3677092',\n",
       "  '3677159',\n",
       "  '3677335',\n",
       "  '3759730',\n",
       "  '3776624',\n",
       "  '3790266',\n",
       "  '3790288',\n",
       "  '3790299',\n",
       "  '3790302',\n",
       "  '3790315',\n",
       "  '3790316',\n",
       "  '3790321',\n",
       "  '4563404',\n",
       "  '4563420',\n",
       "  '4563434',\n",
       "  '4563435',\n",
       "  '4563436',\n",
       "  '4563437',\n",
       "  '4563438',\n",
       "  '4563439',\n",
       "  '4563440',\n",
       "  '4563441',\n",
       "  '4563442',\n",
       "  '4563443',\n",
       "  '4563444',\n",
       "  '4563445',\n",
       "  '4563446',\n",
       "  '4563447',\n",
       "  '4563448',\n",
       "  '4563449',\n",
       "  '4563450',\n",
       "  '4563451',\n",
       "  '4563452',\n",
       "  '4563453',\n",
       "  '4563454',\n",
       "  '4563455',\n",
       "  '4563456',\n",
       "  '4563457',\n",
       "  '4563458',\n",
       "  '4563459',\n",
       "  '4563461',\n",
       "  '4563462',\n",
       "  '4563463',\n",
       "  '4563464',\n",
       "  '4563465',\n",
       "  '4563466',\n",
       "  '4563467',\n",
       "  '4563468',\n",
       "  '4563469',\n",
       "  '4563470',\n",
       "  '4563471',\n",
       "  '4563473',\n",
       "  '4563474',\n",
       "  '4563477',\n",
       "  '4563478',\n",
       "  '4563479',\n",
       "  '4563480',\n",
       "  '4563481',\n",
       "  '4563482',\n",
       "  '4563483',\n",
       "  '4563484',\n",
       "  '4563485',\n",
       "  '4563486',\n",
       "  '4563487',\n",
       "  '4563488',\n",
       "  '4563489',\n",
       "  '4563490',\n",
       "  '4563491',\n",
       "  '4563492',\n",
       "  '4563493',\n",
       "  '4563504',\n",
       "  '4563509',\n",
       "  '4563513',\n",
       "  '4563517',\n",
       "  '4563518',\n",
       "  '4563529',\n",
       "  '4610693']]"
      ]
     },
     "execution_count": 153,
     "metadata": {},
     "output_type": "execute_result"
    }
   ],
   "source": [
    "clusterUniqueRDD = clusterUniqueRDD.map(lambda x: x.split(' '))\n",
    "clusterUniqueRDD.take(1)"
   ]
  }
 ],
 "metadata": {
  "kernelspec": {
   "display_name": "Python 2",
   "language": "python",
   "name": "python2"
  },
  "language_info": {
   "codemirror_mode": {
    "name": "ipython",
    "version": 2
   },
   "file_extension": ".py",
   "mimetype": "text/x-python",
   "name": "python",
   "nbconvert_exporter": "python",
   "pygments_lexer": "ipython2",
   "version": "2.7.11"
  }
 },
 "nbformat": 4,
 "nbformat_minor": 0
}
