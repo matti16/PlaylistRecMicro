{
 "cells": [
  {
   "cell_type": "markdown",
   "metadata": {},
   "source": [
    "# <hr style=\"clear: both\" />\n",
    "\n",
    "# Running Spark in YARN-client mode\n",
    "\n",
    "This notebook demonstrates how to set up a SparkContext that uses SURFsara's Hadoop cluster: [YARN resourcemanager](http://head05.hathi.surfsara.nl:8088/cluster) (note you will need to be authenticated via kerberos on your machine to visit the resourcemanager link) for executors.\n",
    "\n",
    "First initialize kerberos via a Jupyter terminal. \n",
    "In the terminal execute: <BR>\n",
    "<i>kinit -k -t data/robertop.keytab robertop@CUA.SURFSARA.NL</i><BR>\n",
    "Print your credentials:\n"
   ]
  },
  {
   "cell_type": "code",
   "execution_count": 1,
   "metadata": {
    "collapsed": false
   },
   "outputs": [
    {
     "name": "stdout",
     "output_type": "stream",
     "text": [
      "Ticket cache: FILE:/tmp/krb5cc_1000\r\n",
      "Default principal: robertop@CUA.SURFSARA.NL\r\n",
      "\r\n",
      "Valid starting       Expires              Service principal\r\n",
      "04/30/2016 07:02:14  05/01/2016 07:02:13  krbtgt/CUA.SURFSARA.NL@CUA.SURFSARA.NL\r\n",
      "\trenew until 04/30/2016 07:02:14\r\n"
     ]
    }
   ],
   "source": [
    "! klist"
   ]
  },
  {
   "cell_type": "code",
   "execution_count": 2,
   "metadata": {
    "collapsed": false
   },
   "outputs": [
    {
     "name": "stdout",
     "output_type": "stream",
     "text": [
      "Found 5 items\r\n",
      "drwx------   - robertop hdfs          0 2016-04-30 12:47 .Trash\r\n",
      "drwxr-xr-x   - robertop hdfs          0 2016-04-30 16:13 .sparkStaging\r\n",
      "drwx------   - robertop hdfs          0 2016-04-06 15:54 .staging\r\n",
      "drwxr-xr-x   - robertop hdfs          0 2016-04-27 13:07 mattia\r\n",
      "drwxr-xr-x   - robertop hdfs          0 2016-04-13 10:00 recsys2016Competition\r\n"
     ]
    }
   ],
   "source": [
    "! hdfs dfs -ls \n",
    "execfile('../spark-scripts/bullet.py')"
   ]
  },
  {
   "cell_type": "markdown",
   "metadata": {},
   "source": [
    "Verify that we can browse HDFS:"
   ]
  },
  {
   "cell_type": "markdown",
   "metadata": {},
   "source": [
    "Next initialize Spark. Note that the code below starts a job on the Hadoop cluster that will remain running while the notebook is active. Please close and halt the notebook when you are done. Starting the SparkContext can take a little longer. You can check the YARN resourcemanager to see the current status/usage of the cluster."
   ]
  },
  {
   "cell_type": "code",
   "execution_count": 3,
   "metadata": {
    "collapsed": false
   },
   "outputs": [],
   "source": [
    "import os\n",
    "os.environ['PYSPARK_PYTHON'] = '/usr/local/bin/python2.7'\n",
    "\n",
    "HDFS_PATH = \"hdfs://hathi-surfsara\"\n",
    "\n",
    "from pyspark import SparkConf, SparkContext\n",
    "from pyspark.sql import SQLContext\n",
    "sconf = SparkConf()\n",
    "\n",
    "# Master is now yarn-client. The YARN and hadoop config is read from the environment\n",
    "sconf.setMaster(\"yarn-client\")\n",
    "\n",
    "# You can control many Spark settings via the SparkConf. This determines the amount of executors on the cluster:\n",
    "sconf.set(\"spark.executor.instances\", \"200\")\n",
    "sconf.set(\"spark.executor.memory\", \"20g\")\n",
    "\n",
    "# UFW (firewall) is active on the VM. We explicitly opened these ports and Spark should not bind to random ports:\n",
    "sconf.set(\"spark.driver.port\", 51800)\n",
    "sconf.set(\"spark.fileserver.port\", 51801)\n",
    "sconf.set(\"spark.broadcast.port\", 51802)\n",
    "sconf.set(\"spark.replClassServer.port\", 51803)\n",
    "sconf.set(\"spark.blockManager.port\", 51804)\n",
    "sconf.set(\"spark.authenticate\", True)\n",
    "sconf.set(\"spark.yarn.keytab\", \"/home/jovyan/work/data/robertop.keytab\")\n",
    "sconf.set(\"spark.yarn.access.namenodes\", HDFS_PATH + \":8020\")\n",
    "\n",
    "try:\n",
    "    sc = SparkContext(conf=sconf)\n",
    "    sqlCtx = SQLContext(sc) \n",
    "    sendNotificationToMattia(\"Spark Context\", \"Ready!\")\n",
    "except Exception, err:\n",
    "    sendNotificationToMattia(\"Fuck you!\", str(err)) \n",
    "    print str(err)"
   ]
  },
  {
   "cell_type": "markdown",
   "metadata": {},
   "source": [
    "# <hr style=\"clear: both\" />\n",
    "\n",
    "# Now you can run your code\n",
    "\n",
    "Pick a clustering algorithm (name of the file that provides a classify(x,y [,threshold]) function)"
   ]
  },
  {
   "cell_type": "code",
   "execution_count": 4,
   "metadata": {
    "collapsed": false
   },
   "outputs": [],
   "source": [
    "execfile('../spark-scripts/conventions.py')\n",
    "execfile('../spark-scripts/splitCluster.py')\n",
    "execfile('../spark-scripts/eval.py')\n",
    "execfile('../spark-scripts/implicitPlaylistAlgoFunctions.py')\n",
    "execfile('../spark-scripts/implicitPlaylistAlgoMain.py')\n",
    "\n",
    "CLUSTER_ALGO = 'jaccardBase'\n",
    "THRESHOLD = 0.751\n",
    "\n"
   ]
  },
  {
   "cell_type": "markdown",
   "metadata": {},
   "source": [
    "# Reading the conf file"
   ]
  },
  {
   "cell_type": "code",
   "execution_count": 5,
   "metadata": {
    "collapsed": false
   },
   "outputs": [],
   "source": [
    "import json\n",
    "import copy\n",
    "\n",
    "BASE_PATH = HDFS_PATH + '/user/robertop/mattia'\n",
    "\n",
    "conf = {}\n",
    "\n",
    "conf['split'] = {}\n",
    "conf['split']['reclistSize'] = 100\n",
    "conf['split']['callParams'] = {}\n",
    "conf['split']['excludeAlreadyListenedTest'] = True\n",
    "conf['split']['name'] = 'SenzaRipetizioni_1'\n",
    "conf['split']['split'] = conf['split']['name']\n",
    "conf['split']['minEventsPerUser'] = 5\n",
    "conf['split']['inputData'] = HDFS_PATH + '/user/robertop/mattia/clusterBase.split/SenzaRipetizioni_1'\n",
    "#conf['split']['inputData'] = 's3n://contentwise-research-poli/30musicdataset/newFormat/relations/sessions.idomaar'\n",
    "conf['split']['bucketName'] = BASE_PATH\n",
    "conf['split']['percUsTr'] = 0.05\n",
    "conf['split']['ts'] = int(0.75 * (1421745857 - 1390209860) + 1390209860) - 10000\n",
    "conf['split']['minEventPerSession'] = 5\n",
    "conf['split']['onlineTrainingLength'] = 5\n",
    "conf['split']['GTlength'] = 1\n",
    "conf['split']['minEventPerSessionTraining'] = 10\n",
    "conf['split']['minEventPerSessionTest'] = 11\n",
    "conf['split']['mode'] = 'session'\n",
    "conf['split']['forceSplitCreation'] = False\n",
    "conf['split'][\"prop\"] = {'reclistSize': conf['split']['reclistSize']}\n",
    "conf['split']['type'] = None\n",
    "conf['split']['out'] = HDFS_PATH + '/user/robertop/mattia/clusterBase.split/'\n",
    "conf['split']['location'] = '30Mdataset/relations/sessions'\n",
    "\n",
    "conf['evaluation'] = {}\n",
    "conf['evaluation']['metric'] = {}\n",
    "conf['evaluation']['metric']['type'] = 'recall'\n",
    "conf['evaluation']['metric']['prop'] = {}\n",
    "conf['evaluation']['metric']['prop']['N'] = [1,2,5,10,15,20,25,50,100]\n",
    "conf['evaluation']['name'] = 'recall@N'\n",
    "\n",
    "conf['general'] = {}\n",
    "conf['general']['clientname'] = \"clusterBase.split\"\n",
    "conf['general']['bucketName'] = BASE_PATH\n",
    "conf['general']['tracksPath'] = '30Mdataset/entities/tracks.idomaar.gz'\n",
    "\n",
    "conf['algo'] = {}\n",
    "conf['algo']['name'] = 'ClusterBase'\n",
    "conf['algo']['props'] = {}\n",
    "# ***** EXAMPLE OF CONFIGURATION *****#\n",
    "conf['algo']['props'][\"sessionJaccardShrinkage\"] = 5\n",
    "conf['algo']['props'][\"clusterSimilarityThreshold\"] = 0.1\n",
    "conf['algo']['props'][\"expDecayFactor\"] = 0.7\n",
    "# ****** END EXAMPLE ****************#\n",
    "\n"
   ]
  },
  {
   "cell_type": "code",
   "execution_count": 6,
   "metadata": {
    "collapsed": false
   },
   "outputs": [],
   "source": [
    "SPLIT_NEEDED = False\n",
    "if SPLIT_NEEDED:\n",
    "    try:\n",
    "        splitter(conf)\n",
    "        sendNotificationToMattia(\"Splitted\", \"Train and Test\")\n",
    "    except Exception, err:\n",
    "        print str(err)\n",
    "        sendNotificationToMattia(\"Fuck you!\", str(err)) "
   ]
  },
  {
   "cell_type": "markdown",
   "metadata": {},
   "source": [
    "# Load data "
   ]
  },
  {
   "cell_type": "code",
   "execution_count": 7,
   "metadata": {
    "collapsed": false
   },
   "outputs": [
    {
     "name": "stdout",
     "output_type": "stream",
     "text": [
      "[(221540, 0), (287144, 1), (41679, 2)]\n",
      "507817\n",
      "302045\n"
     ]
    }
   ],
   "source": [
    "clusterSongsFileRDD = sc.pickleFile(BASE_PATH + '/clusters/' + CLUSTER_ALGO + str(THRESHOLD)[2:])\n",
    "\n",
    "songToClusterRDD = clusterSongsFileRDD.flatMap(lambda x: [(int(i), x[0]) for i in x[1]] )\n",
    "\n",
    "print songToClusterRDD.take(3)\n",
    "\n",
    "import json\n",
    "execfile('../spark-scripts/utilsCluster.py')\n",
    "train, test = loadDataset(conf)\n",
    "\n",
    "train_count = train.count()\n",
    "test_count = test.count()\n",
    "print train_count\n",
    "print test_count\n",
    "sendNotificationToMattia(\"Train and Test Loaded\", \"Train: \" + str(train_count) + \"\\nTest: \" + str(test_count))"
   ]
  },
  {
   "cell_type": "markdown",
   "metadata": {},
   "source": [
    "# Flat (TrackID, (Index, Rec))  and Join with Song -> Cluster"
   ]
  },
  {
   "cell_type": "code",
   "execution_count": 8,
   "metadata": {
    "collapsed": false,
    "scrolled": true
   },
   "outputs": [
    {
     "name": "stdout",
     "output_type": "stream",
     "text": [
      "Number of entries in train after: 14579340\n",
      "Number of entries in test after: 1490264\n"
     ]
    }
   ],
   "source": [
    "def flat_map_tracks_ids(x):\n",
    "    objects = x['linkedinfo']['objects']\n",
    "    result = []\n",
    "    for i in range(len(objects)):\n",
    "        result.append( (objects[i]['id'], (i, x)) )\n",
    "    return result\n",
    "\n",
    "trainFlat = train.map(lambda x: json.loads(x)).flatMap(flat_map_tracks_ids)\n",
    "trainJoin = trainFlat.join(songToClusterRDD)\n",
    "\n",
    "testFlat = test.map(lambda x: json.loads(x)).flatMap(flat_map_tracks_ids)\n",
    "testJoin = testFlat.join(songToClusterRDD)\n",
    "\n",
    "trainFlat_count = trainFlat.count()\n",
    "testFlat_count = testFlat.count()\n",
    "print \"Number of entries in train after: \" + str(trainFlat_count)\n",
    "print \"Number of entries in test after: \" + str(testFlat_count)"
   ]
  },
  {
   "cell_type": "markdown",
   "metadata": {},
   "source": [
    "# Extract Rec and Group by key (Rec)"
   ]
  },
  {
   "cell_type": "code",
   "execution_count": 9,
   "metadata": {
    "collapsed": false
   },
   "outputs": [
    {
     "name": "stdout",
     "output_type": "stream",
     "text": [
      "Number of entries in train after: 507817\n",
      "Equal to original train: True\n",
      "Number of entries in test after: 302045\n",
      "Equal to original test: True\n"
     ]
    }
   ],
   "source": [
    "trainSub = trainJoin.map(lambda x: (json.dumps(x[1][0][1]), (x[1][0][0], x[1][1])))\n",
    "trainAgg = trainSub.groupByKey().mapValues(list)\n",
    "train_agg_count = trainAgg.count()\n",
    "\n",
    "print \"Number of entries in train after: \" + str(train_agg_count)\n",
    "print \"Equal to original train: \" + str(train_count == train_agg_count)\n",
    "\n",
    "testSub = testJoin.map(lambda x: (json.dumps(x[1][0][1]), (x[1][0][0], x[1][1])))\n",
    "testAgg = testSub.groupByKey().mapValues(list)\n",
    "test_agg_count = testAgg.count()\n",
    "print \"Number of entries in test after: \" + str(test_agg_count)\n",
    "print \"Equal to original test: \" + str(test_count == test_agg_count)"
   ]
  },
  {
   "cell_type": "markdown",
   "metadata": {},
   "source": [
    "# Plug Cluster IDs "
   ]
  },
  {
   "cell_type": "code",
   "execution_count": 10,
   "metadata": {
    "collapsed": false,
    "scrolled": true
   },
   "outputs": [
    {
     "name": "stdout",
     "output_type": "stream",
     "text": [
      "TrainRDD: 507817\n",
      "TestRDD: 302045\n"
     ]
    }
   ],
   "source": [
    "def plug_clusters(x):\n",
    "    row_dic = json.loads(x[0])\n",
    "    to_be_plugged = x[1]\n",
    "    for i in to_be_plugged:\n",
    "        index = i[0]\n",
    "        cl_id = i[1]\n",
    "        row_dic['linkedinfo']['objects'][index]['id'] = cl_id\n",
    "    return json.dumps(row_dic)\n",
    "    \n",
    "trainRDD = trainAgg.map(plug_clusters)\n",
    "trainRDD_count = trainRDD.count()\n",
    "print \"TrainRDD: \" + str(trainRDD_count)\n",
    "\n",
    "testRDD = testAgg.map(plug_clusters)\n",
    "testRDD_count = testRDD.count()\n",
    "print \"TestRDD: \" + str(testRDD_count)\n",
    "\n",
    "sendNotificationToMattia(\"Train and Test RDDs\", \"TrainRDD: \" + str(trainRDD_count) + \"\\nTestRDD: \" + str(testRDD_count))"
   ]
  },
  {
   "cell_type": "code",
   "execution_count": 11,
   "metadata": {
    "collapsed": false
   },
   "outputs": [
    {
     "name": "stdout",
     "output_type": "stream",
     "text": [
      "Recommendations successfully written to hdfs://hathi-surfsara/user/robertop/mattia/clusterBase.split/Rec/jaccardBase751_ImplicitPlaylist_shk_5_clustSim_0100_decay_0700_5#07#01/recommendations\n"
     ]
    }
   ],
   "source": [
    "from os import path\n",
    "basePath = path.join(conf['general']['bucketName'], conf['general']['clientname'])\n",
    "splitPath = path.join(basePath, conf['split']['name'])\n",
    "\n",
    "clusterSim = 0.1\n",
    "sessionJaccardShrinkage = 5\n",
    "expDecay = 0.7\n",
    "\n",
    "conf['split']['excludeAlreadyListenedTest'] = True\n",
    "conf['algo']['props'][\"sessionJaccardShrinkage\"] = sessionJaccardShrinkage\n",
    "conf['algo']['props'][\"clusterSimilarityThreshold\"] = clusterSim\n",
    "conf['algo']['props'][\"expDecayFactor\"] = expDecay\n",
    "conf['algo']['name'] = CLUSTER_ALGO + str(THRESHOLD)[2:] + '_ImplicitPlaylist_shk_%d_clustSim_%.3f_decay_%.3f' % \\\n",
    "                    (sessionJaccardShrinkage, clusterSim, expDecay )\n",
    "            \n",
    "\n",
    "try:\n",
    "    playlists = extractImplicitPlaylists(trainRDD, conf).cache()\n",
    "    sendNotificationToMattia(\"Playlist extracted\", \"Let's go!\") \n",
    "    \n",
    "    recJsonRDD = executeImplicitPlaylistAlgo(playlists, testRDD, conf)\n",
    "    sendNotificationToMattia(\"Recommendation done\", \"Let's go!\") \n",
    "    \n",
    "    saveRecommendations(conf, recJsonRDD, overwrite=True)\n",
    "    sendNotificationToMattia(\"Written!!!\", \"Let's go!\")    \n",
    "except Exception, err:\n",
    "    print str(err)\n",
    "    sendNotificationToMattia(\"Fuck you!\", str(err))"
   ]
  },
  {
   "cell_type": "code",
   "execution_count": null,
   "metadata": {
    "collapsed": true
   },
   "outputs": [],
   "source": []
  }
 ],
 "metadata": {
  "kernelspec": {
   "display_name": "Python 2",
   "language": "python",
   "name": "python2"
  },
  "language_info": {
   "codemirror_mode": {
    "name": "ipython",
    "version": 2
   },
   "file_extension": ".py",
   "mimetype": "text/x-python",
   "name": "python",
   "nbconvert_exporter": "python",
   "pygments_lexer": "ipython2",
   "version": "2.7.11"
  }
 },
 "nbformat": 4,
 "nbformat_minor": 0
}
