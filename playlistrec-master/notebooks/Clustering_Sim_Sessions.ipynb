{
 "cells": [
  {
   "cell_type": "markdown",
   "metadata": {},
   "source": [
    "# <hr style=\"clear: both\" />\n",
    "\n",
    "# Running Spark in YARN-client mode\n",
    "\n",
    "This notebook demonstrates how to set up a SparkContext that uses SURFsara's Hadoop cluster: [YARN resourcemanager](http://head05.hathi.surfsara.nl:8088/cluster) (note you will need to be authenticated via kerberos on your machine to visit the resourcemanager link) for executors.\n",
    "\n",
    "First initialize kerberos via a Jupyter terminal. \n",
    "In the terminal execute: <BR>\n",
    "<i>kinit -k -t data/robertop.keytab robertop@CUA.SURFSARA.NL</i><BR>\n",
    "Print your credentials:\n"
   ]
  },
  {
   "cell_type": "code",
   "execution_count": 1,
   "metadata": {
    "collapsed": false
   },
   "outputs": [
    {
     "name": "stdout",
     "output_type": "stream",
     "text": [
      "Ticket cache: FILE:/tmp/krb5cc_1000\r\n",
      "Default principal: robertop@CUA.SURFSARA.NL\r\n",
      "\r\n",
      "Valid starting       Expires              Service principal\r\n",
      "05/21/2016 07:40:06  05/22/2016 07:40:06  krbtgt/CUA.SURFSARA.NL@CUA.SURFSARA.NL\r\n",
      "\trenew until 05/21/2016 07:40:06\r\n"
     ]
    }
   ],
   "source": [
    "! klist"
   ]
  },
  {
   "cell_type": "code",
   "execution_count": 2,
   "metadata": {
    "collapsed": false
   },
   "outputs": [
    {
     "name": "stdout",
     "output_type": "stream",
     "text": [
      "Found 5 items\r\n",
      "drwx------   - robertop hdfs          0 2016-05-20 06:00 .Trash\r\n",
      "drwxr-xr-x   - robertop hdfs          0 2016-05-21 09:13 .sparkStaging\r\n",
      "drwx------   - robertop hdfs          0 2016-04-06 15:54 .staging\r\n",
      "drwxr-xr-x   - robertop hdfs          0 2016-05-19 19:23 mattia\r\n",
      "drwxr-xr-x   - robertop hdfs          0 2016-04-13 10:00 recsys2016Competition\r\n"
     ]
    }
   ],
   "source": [
    "! hdfs dfs -ls \n",
    "execfile('../spark-scripts/bullet.py')"
   ]
  },
  {
   "cell_type": "markdown",
   "metadata": {},
   "source": [
    "Verify that we can browse HDFS:"
   ]
  },
  {
   "cell_type": "markdown",
   "metadata": {},
   "source": [
    "Next initialize Spark. Note that the code below starts a job on the Hadoop cluster that will remain running while the notebook is active. Please close and halt the notebook when you are done. Starting the SparkContext can take a little longer. You can check the YARN resourcemanager to see the current status/usage of the cluster."
   ]
  },
  {
   "cell_type": "code",
   "execution_count": 3,
   "metadata": {
    "collapsed": false,
    "scrolled": false
   },
   "outputs": [],
   "source": [
    "import os\n",
    "os.environ['PYSPARK_PYTHON'] = '/usr/local/bin/python2.7'\n",
    "\n",
    "HDFS_PATH = \"hdfs://hathi-surfsara\"\n",
    "\n",
    "from pyspark import SparkConf, SparkContext\n",
    "from pyspark.sql import SQLContext\n",
    "sconf = SparkConf(False)\n",
    "\n",
    "sconf.setAppName(\"sim-sessions\")\n",
    "\n",
    "# Master is now yarn-client. The YARN and hadoop config is read from the environment\n",
    "sconf.setMaster(\"yarn-client\")\n",
    "\n",
    "# You can control many Spark settings via the SparkConf. This determines the amount of executors on the cluster:\n",
    "sconf.set(\"spark.executor.instances\", \"200\")\n",
    "sconf.set(\"spark.executor.memory\", \"10g\")\n",
    "\n",
    "# UFW (firewall) is active on the VM. We explicitly opened these ports and Spark should not bind to random ports:\n",
    "sconf.set(\"spark.driver.port\", 51800)\n",
    "sconf.set(\"spark.fileserver.port\", 51801)\n",
    "sconf.set(\"spark.broadcast.port\", 51802)\n",
    "sconf.set(\"spark.replClassServer.port\", 51803)\n",
    "sconf.set(\"spark.blockManager.port\", 51804)\n",
    "sconf.set(\"spark.authenticate\", True)\n",
    "sconf.set(\"spark.yarn.keytab\", \"/home/jovyan/work/data/robertop.keytab\")\n",
    "sconf.set(\"spark.yarn.access.namenodes\", HDFS_PATH + \":8020\")\n",
    "\n",
    "try:\n",
    "    sc = SparkContext(conf=sconf)\n",
    "    sqlCtx = SQLContext(sc) \n",
    "    sendNotificationToMattia(\"Spark Context\", \"Ready!\")\n",
    "except Exception, err:\n",
    "    sendNotificationToMattia(\"Fuck you!\", str(err)) \n",
    "    print str(err)"
   ]
  },
  {
   "cell_type": "markdown",
   "metadata": {},
   "source": [
    "# <hr style=\"clear: both\" />\n",
    "\n",
    "# Now you can run your code\n",
    "\n",
    "Pick a clustering algorithm (name of the file that provides a classify(x,y [,threshold]) function)"
   ]
  },
  {
   "cell_type": "code",
   "execution_count": 4,
   "metadata": {
    "collapsed": false
   },
   "outputs": [],
   "source": [
    "import json\n",
    "execfile('../spark-scripts/utilsCluster.py')\n",
    "execfile('../spark-scripts/conventions.py')\n",
    "execfile('../spark-scripts/splitCluster.py')\n",
    "execfile('../spark-scripts/implicitPlaylistAlgoFunctions.py')\n",
    "execfile('../spark-scripts/implicitPlaylistAlgoMain.py')\n",
    "\n",
    "CLUSTER_ALGO = 'jaccardBase'\n",
    "THRESHOLD = 0.9\n",
    "\n"
   ]
  },
  {
   "cell_type": "markdown",
   "metadata": {},
   "source": [
    "# Reading the conf file"
   ]
  },
  {
   "cell_type": "code",
   "execution_count": 5,
   "metadata": {
    "collapsed": false
   },
   "outputs": [],
   "source": [
    "import json\n",
    "import copy\n",
    "\n",
    "BASE_PATH = HDFS_PATH + '/user/robertop/mattia'\n",
    "\n",
    "conf = {}\n",
    "\n",
    "conf['split'] = {}\n",
    "conf['split']['reclistSize'] = 100\n",
    "conf['split']['callParams'] = {}\n",
    "conf['split']['excludeAlreadyListenedTest'] = True\n",
    "conf['split']['name'] = 'SenzaRipetizioni_1'\n",
    "conf['split']['split'] = conf['split']['name']\n",
    "conf['split']['minEventsPerUser'] = 5\n",
    "conf['split']['inputData'] = HDFS_PATH + '/user/robertop/mattia/clusterBase.split/SenzaRipetizioni_1'\n",
    "#conf['split']['inputData'] = 's3n://contentwise-research-poli/30musicdataset/newFormat/relations/sessions.idomaar'\n",
    "conf['split']['bucketName'] = BASE_PATH\n",
    "conf['split']['percUsTr'] = 0.05\n",
    "conf['split']['ts'] = int(0.75 * (1421745857 - 1390209860) + 1390209860) - 10000\n",
    "conf['split']['minEventPerSession'] = 5\n",
    "conf['split']['onlineTrainingLength'] = 5\n",
    "conf['split']['GTlength'] = 1\n",
    "conf['split']['minEventPerSessionTraining'] = 10\n",
    "conf['split']['minEventPerSessionTest'] = 11\n",
    "conf['split']['mode'] = 'session'\n",
    "conf['split']['forceSplitCreation'] = False\n",
    "conf['split'][\"prop\"] = {'reclistSize': conf['split']['reclistSize']}\n",
    "conf['split']['type'] = None\n",
    "conf['split']['out'] = HDFS_PATH + '/user/robertop/mattia/clusterBase.split/'\n",
    "conf['split']['location'] = '30Mdataset/relations/sessions'\n",
    "\n",
    "conf['evaluation'] = {}\n",
    "conf['evaluation']['metric'] = {}\n",
    "conf['evaluation']['metric']['type'] = 'recall'\n",
    "conf['evaluation']['metric']['prop'] = {}\n",
    "conf['evaluation']['metric']['prop']['N'] = [1,2,5,10,15,20,25,50,100]\n",
    "conf['evaluation']['name'] = 'recall@N'\n",
    "\n",
    "conf['general'] = {}\n",
    "conf['general']['clientname'] = \"clusterBase.split\"\n",
    "conf['general']['bucketName'] = BASE_PATH\n",
    "conf['general']['tracksPath'] = '30Mdataset/entities/tracks.idomaar.gz'\n",
    "\n",
    "conf['algo'] = {}\n",
    "conf['algo']['name'] = 'ClusterBase'\n",
    "conf['algo']['props'] = {}\n",
    "# ***** EXAMPLE OF CONFIGURATION *****#\n",
    "conf['algo']['props'][\"sessionJaccardShrinkage\"] = 5\n",
    "conf['algo']['props'][\"clusterSimilarityThreshold\"] = 0.1\n",
    "conf['algo']['props'][\"expDecayFactor\"] = 0.7\n",
    "# ****** END EXAMPLE ****************#\n",
    "\n"
   ]
  },
  {
   "cell_type": "markdown",
   "metadata": {},
   "source": [
    "# Load data "
   ]
  },
  {
   "cell_type": "code",
   "execution_count": 6,
   "metadata": {
    "collapsed": false
   },
   "outputs": [
    {
     "name": "stdout",
     "output_type": "stream",
     "text": [
      "[(1730002, 0), (1730001, 0), (2101216, 14)]\n"
     ]
    }
   ],
   "source": [
    "clusterSongsFileRDD = sc.pickleFile(BASE_PATH + '/clusters/' + CLUSTER_ALGO + str(THRESHOLD)[2:])\\\n",
    "                        .filter(lambda x: len(x[1]) > 1)\n",
    "    \n",
    "songToClusterRDD = clusterSongsFileRDD.flatMap(lambda x: [(int(i), x[0]) for i in x[1]] )\n",
    "\n",
    "print songToClusterRDD.take(3)\n",
    "\n",
    "trainRDD = loadDataset(conf)[0].map(json.loads)"
   ]
  },
  {
   "cell_type": "markdown",
   "metadata": {},
   "source": [
    "# FlatMap and Join -> (song, ((sessID, songs), cluster) )"
   ]
  },
  {
   "cell_type": "code",
   "execution_count": 7,
   "metadata": {
    "collapsed": true
   },
   "outputs": [],
   "source": [
    "def keep_play(x):\n",
    "    objects = x['linkedinfo']['objects']\n",
    "    x['linkedinfo']['objects'] = []\n",
    "    \n",
    "    for i in objects:\n",
    "        if i['action'] == 'play':\n",
    "            x['linkedinfo']['objects'].append(i['id'])          \n",
    "    return (int(x['id']), x['linkedinfo']['objects'])\n",
    "\n",
    "def extract_ids(x):\n",
    "    objects = x[1]\n",
    "    result = []\n",
    "    for i in objects:\n",
    "        result.append( (i, x) )\n",
    "    return result\n",
    "\n",
    "train = trainRDD.map(keep_play)\n",
    "trainFlat = train.flatMap(extract_ids)\n",
    "trainJoin = trainFlat.join(songToClusterRDD)"
   ]
  },
  {
   "cell_type": "markdown",
   "metadata": {},
   "source": [
    "# Map ->   ( cluster, (song, sessID, songs) ) "
   ]
  },
  {
   "cell_type": "code",
   "execution_count": 8,
   "metadata": {
    "collapsed": false
   },
   "outputs": [
    {
     "data": {
      "text/plain": [
       "14175340"
      ]
     },
     "execution_count": 8,
     "metadata": {},
     "output_type": "execute_result"
    }
   ],
   "source": [
    "clusterSession = trainJoin.map(lambda x: (x[1][1], (x[0], x[1][0][0] , x[1][0][1])))\n",
    "\n",
    "clusterSessJoin = clusterSession.join(clusterSession)\n",
    "\n",
    "\n",
    "def filter_sessions(x):\n",
    "    item_1 = x[1][0]\n",
    "    item_2 = x[1][1]\n",
    "    \n",
    "    if item_1[0] == item_2[0]:\n",
    "        return False\n",
    "    if item_1[1] == item_2[1]:\n",
    "        return False\n",
    "    if item_1[0] in item_2[2] or item_2[0] in item_1[2]:\n",
    "        return False\n",
    "    return True\n",
    "    \n",
    "clusterSessFiltered = clusterSessJoin.filter(filter_sessions)\n",
    "coupleSessions = clusterSessFiltered.map(lambda x: (x[1][0], x[1][1]))\n",
    "coupleSessions.count()"
   ]
  },
  {
   "cell_type": "code",
   "execution_count": 9,
   "metadata": {
    "collapsed": false,
    "scrolled": true
   },
   "outputs": [],
   "source": [
    "def compute_sim_sessions(x):\n",
    "    sess1 = set(x[0][2])\n",
    "    sess2 = set(x[1][2])\n",
    "    \n",
    "    jaccard = len(sess1 & sess2) / float(len(sess1 | sess2))\n",
    "    \n",
    "    return jaccard\n",
    "    \n",
    "sessSim = coupleSessions.map(compute_sim_sessions)"
   ]
  },
  {
   "cell_type": "markdown",
   "metadata": {},
   "source": [
    "# Analyse some stats"
   ]
  },
  {
   "cell_type": "code",
   "execution_count": 10,
   "metadata": {
    "collapsed": true
   },
   "outputs": [],
   "source": [
    "sessSimList = sessSim.collect()"
   ]
  },
  {
   "cell_type": "code",
   "execution_count": 11,
   "metadata": {
    "collapsed": false
   },
   "outputs": [
    {
     "name": "stdout",
     "output_type": "stream",
     "text": [
      "count    14175340.000000\n",
      "mean            0.021535\n",
      "std             0.068665\n",
      "min             0.000000\n",
      "25%             0.000000\n",
      "50%             0.000000\n",
      "75%             0.000000\n",
      "max             0.918605\n",
      "dtype: float64\n"
     ]
    },
    {
     "data": {
      "text/plain": [
       "<matplotlib.text.Text at 0x7fc56f256810>"
      ]
     },
     "execution_count": 11,
     "metadata": {},
     "output_type": "execute_result"
    },
    {
     "data": {
      "image/png": "[encoded data removed]",
      "text/plain": [
       "<matplotlib.figure.Figure at 0x7fc5716fe290>"
      ]
     },
     "metadata": {},
     "output_type": "display_data"
    }
   ],
   "source": [
    "font_title = {'family': 'serif',\n",
    "                   'weight': 'normal',\n",
    "                   'verticalalignment': 'bottom',\n",
    "                   'size': 20}\n",
    "\n",
    "font_labels = {'family': 'serif',\n",
    "                   'weight': 'normal',\n",
    "                   'size': 14}   \n",
    "\n",
    "import pandas as pd\n",
    "from matplotlib import pyplot as plt\n",
    "%matplotlib inline\n",
    "\n",
    "print pd.Series(sessSimList).describe()\n",
    "\n",
    "plt.figure(1, figsize = (15,5))\n",
    "plt.suptitle(\"Couples of Sessions with Duplicates\", fontdict = font_title , fontsize = 20)\n",
    "plt.subplot(121)\n",
    "plt.hist(sessSimList, bins = 10, log=False, color='forestgreen')\n",
    "plt.xlabel('Jaccard Similarity', fontdict = font_labels)\n",
    "plt.ylabel('Number of Couples', fontdict = font_labels)\n",
    "\n",
    "plt.subplot(122)\n",
    "plt.hist(sessSimList, bins = 10, log=True, color='royalblue')\n",
    "plt.xlabel('Jaccard Similarity', fontdict = font_labels)\n",
    "plt.ylabel('Log (Number of Couples)', fontdict = font_labels)\n"
   ]
  },
  {
   "cell_type": "markdown",
   "metadata": {},
   "source": [
    "# Consider only couple from same User"
   ]
  },
  {
   "cell_type": "code",
   "execution_count": 12,
   "metadata": {
    "collapsed": false
   },
   "outputs": [],
   "source": [
    "def keep_play(x):\n",
    "    objects = x['linkedinfo']['objects']\n",
    "    x['linkedinfo']['objects'] = []\n",
    "    \n",
    "    for i in objects:\n",
    "        if i['action'] == 'play':\n",
    "            x['linkedinfo']['objects'].append(i['id'])          \n",
    "    return (int(x['id']), x['linkedinfo']['objects'], x['linkedinfo']['subjects'][0]['id'])\n",
    "\n",
    "def extract_ids(x):\n",
    "    objects = x[1]\n",
    "    result = []\n",
    "    for i in objects:\n",
    "        result.append( (i, x) )\n",
    "    return result\n",
    "\n",
    "train = trainRDD.map(keep_play)\n",
    "trainFlat = train.flatMap(extract_ids)\n",
    "trainJoin = trainFlat.join(songToClusterRDD)"
   ]
  },
  {
   "cell_type": "code",
   "execution_count": 13,
   "metadata": {
    "collapsed": false
   },
   "outputs": [
    {
     "data": {
      "text/plain": [
       "151064"
      ]
     },
     "execution_count": 13,
     "metadata": {},
     "output_type": "execute_result"
    }
   ],
   "source": [
    "clusterSession = trainJoin.map(lambda x: (x[1][1], (x[0], x[1][0][0] , x[1][0][1], x[1][0][2])))\n",
    "\n",
    "clusterSessJoin = clusterSession.join(clusterSession)\n",
    "\n",
    "def filter_sessions(x):\n",
    "    item_1 = x[1][0]\n",
    "    item_2 = x[1][1]\n",
    "    \n",
    "    if item_1[0] == item_2[0]:\n",
    "        return False\n",
    "    if item_1[1] == item_2[1]:\n",
    "        return False\n",
    "    if item_1[3] != item_2[3]:\n",
    "        return False\n",
    "    if item_1[0] in item_2[2] or item_2[0] in item_1[2]:\n",
    "        return False\n",
    "    return True\n",
    "    \n",
    "clusterSessFiltered = clusterSessJoin.filter(filter_sessions)\n",
    "coupleSessions = clusterSessFiltered.map(lambda x: (x[1][0], x[1][1]))\n",
    "coupleSessions.count()"
   ]
  },
  {
   "cell_type": "code",
   "execution_count": 14,
   "metadata": {
    "collapsed": true
   },
   "outputs": [],
   "source": [
    "def compute_sim_sessions(x):\n",
    "    sess1 = set(x[0][2])\n",
    "    sess2 = set(x[1][2])\n",
    "    \n",
    "    jaccard = len(sess1 & sess2) / float(len(sess1 | sess2))\n",
    "    \n",
    "    return jaccard\n",
    "    \n",
    "sessUserSim = coupleSessions.map(compute_sim_sessions).collect()"
   ]
  },
  {
   "cell_type": "code",
   "execution_count": 15,
   "metadata": {
    "collapsed": false,
    "scrolled": false
   },
   "outputs": [
    {
     "name": "stdout",
     "output_type": "stream",
     "text": [
      "count    151064.000000\n",
      "mean          0.169571\n",
      "std           0.099859\n",
      "min           0.000000\n",
      "25%           0.095238\n",
      "50%           0.193548\n",
      "75%           0.250000\n",
      "max           0.903226\n",
      "dtype: float64\n"
     ]
    },
    {
     "data": {
      "text/plain": [
       "<matplotlib.text.Text at 0x7fc56ef02c50>"
      ]
     },
     "execution_count": 15,
     "metadata": {},
     "output_type": "execute_result"
    },
    {
     "data": {
      "image/png": "[encoded data removed]",
      "text/plain": [
       "<matplotlib.figure.Figure at 0x7fc57a088a90>"
      ]
     },
     "metadata": {},
     "output_type": "display_data"
    }
   ],
   "source": [
    "import pandas as pd\n",
    "from matplotlib import pyplot as plt\n",
    "%matplotlib inline\n",
    "\n",
    "print pd.Series(sessUserSim).describe()\n",
    "\n",
    "\n",
    "plt.figure(1, figsize = (15,5))\n",
    "plt.suptitle(\"Sessions with Duplicates from Same User\", fontdict = font_title , fontsize = 20)\n",
    "plt.subplot(121)\n",
    "plt.hist(sessUserSim, bins = 10, log=False, color='forestgreen')\n",
    "plt.xlabel('Jaccard Similarity', fontdict = font_labels)\n",
    "plt.ylabel('Number of Couples', fontdict = font_labels)\n",
    "\n",
    "plt.subplot(122)\n",
    "plt.hist(sessUserSim, bins = 10, log=True, color='royalblue')\n",
    "plt.xlabel('Jaccard Similarity', fontdict = font_labels)\n",
    "plt.ylabel('Log (Number of Couples)', fontdict = font_labels)"
   ]
  },
  {
   "cell_type": "markdown",
   "metadata": {},
   "source": [
    "# What about random sessions?"
   ]
  },
  {
   "cell_type": "code",
   "execution_count": 16,
   "metadata": {
    "collapsed": false
   },
   "outputs": [],
   "source": [
    "trainSample = train.filter(lambda x: len(x[1]) > 1).takeSample(False, 5000, 42)"
   ]
  },
  {
   "cell_type": "code",
   "execution_count": 17,
   "metadata": {
    "collapsed": false
   },
   "outputs": [],
   "source": [
    "def compute_sim_sessions(x, y):\n",
    "    sess1 = set(x)\n",
    "    sess2 = set(y)\n",
    "    \n",
    "    jaccard = len(sess1 & sess2) / float(len(sess1 | sess2))    \n",
    "    return jaccard\n",
    "\n",
    "randomSimSess = []\n",
    "for i, t in enumerate(trainSample):\n",
    "    for j, v in enumerate(trainSample[:i]):\n",
    "        jaccard = compute_sim_sessions(t[1], v[1])\n",
    "        randomSimSess.append(jaccard)\n",
    "   "
   ]
  },
  {
   "cell_type": "code",
   "execution_count": 18,
   "metadata": {
    "collapsed": false
   },
   "outputs": [
    {
     "name": "stdout",
     "output_type": "stream",
     "text": [
      "count    12497500.000000\n",
      "mean            0.000094\n",
      "std             0.003424\n",
      "min             0.000000\n",
      "25%             0.000000\n",
      "50%             0.000000\n",
      "75%             0.000000\n",
      "max             1.000000\n",
      "dtype: float64\n"
     ]
    },
    {
     "data": {
      "text/plain": [
       "<matplotlib.text.Text at 0x7fc56ebb2250>"
      ]
     },
     "execution_count": 18,
     "metadata": {},
     "output_type": "execute_result"
    },
    {
     "data": {
      "image/png": "[encoded data removed]",
      "text/plain": [
       "<matplotlib.figure.Figure at 0x7fc59c6c0c90>"
      ]
     },
     "metadata": {},
     "output_type": "display_data"
    }
   ],
   "source": [
    "\n",
    "import pandas as pd\n",
    "from matplotlib import pyplot as plt\n",
    "%matplotlib inline\n",
    "\n",
    "print pd.Series(randomSimSess).describe()\n",
    "\n",
    "plt.figure(1, figsize = (15,5))\n",
    "plt.suptitle(\"Random Couples of Sessions\", fontdict = font_title , fontsize = 20)\n",
    "plt.subplot(121)\n",
    "plt.hist(randomSimSess, bins = 10, log=False, color='forestgreen')\n",
    "plt.xlabel('Jaccard Similarity', fontdict = font_labels)\n",
    "plt.ylabel('Number of Couples', fontdict = font_labels)\n",
    "\n",
    "plt.subplot(122)\n",
    "plt.hist(randomSimSess, bins = 10, log=True, color='royalblue')\n",
    "plt.xlabel('Jaccard Similarity', fontdict = font_labels)\n",
    "plt.ylabel('Log (Number of Couples)', fontdict = font_labels)"
   ]
  },
  {
   "cell_type": "code",
   "execution_count": 24,
   "metadata": {
    "collapsed": false
   },
   "outputs": [
    {
     "data": {
      "text/plain": [
       "0.13749949989998"
      ]
     },
     "execution_count": 24,
     "metadata": {},
     "output_type": "execute_result"
    }
   ],
   "source": [
    "float(len([i for i in randomSimSess if i > .021535])) / float(len(randomSimSess)) * 100"
   ]
  },
  {
   "cell_type": "markdown",
   "metadata": {},
   "source": [
    "# Sessions from Random Users"
   ]
  },
  {
   "cell_type": "code",
   "execution_count": 20,
   "metadata": {
    "collapsed": false
   },
   "outputs": [],
   "source": [
    "trainUser = train.map(lambda x: (x[2], x[1])).groupByKey().filter(lambda x: len(list(x[1])) > 5)\n",
    "trainUserSample = sc.parallelize(trainUser.takeSample(False, 1000, 42)).mapValues(list)"
   ]
  },
  {
   "cell_type": "code",
   "execution_count": 21,
   "metadata": {
    "collapsed": false
   },
   "outputs": [
    {
     "name": "stdout",
     "output_type": "stream",
     "text": [
      "758152\n"
     ]
    },
    {
     "data": {
      "text/plain": [
       "1.0"
      ]
     },
     "execution_count": 21,
     "metadata": {},
     "output_type": "execute_result"
    }
   ],
   "source": [
    "def put_out_sim(x):\n",
    "    result = []\n",
    "    sessions = [i for i in x[1] if len(i) > 1]\n",
    "    for i, t in enumerate(sessions):\n",
    "        for j, k in enumerate(sessions[:i]):\n",
    "            jaccard = compute_sim_sessions(t, k)\n",
    "            result.append(jaccard)\n",
    "    return result\n",
    "\n",
    "randomUserSim = trainUserSample.flatMap(put_out_sim).collect()\n",
    "print len(randomUserSim)\n",
    "max(randomUserSim)"
   ]
  },
  {
   "cell_type": "code",
   "execution_count": 22,
   "metadata": {
    "collapsed": false
   },
   "outputs": [
    {
     "name": "stdout",
     "output_type": "stream",
     "text": [
      "count    758152.000000\n",
      "mean          0.012297\n",
      "std           0.072766\n",
      "min           0.000000\n",
      "25%           0.000000\n",
      "50%           0.000000\n",
      "75%           0.000000\n",
      "max           1.000000\n",
      "dtype: float64\n"
     ]
    },
    {
     "data": {
      "text/plain": [
       "<matplotlib.text.Text at 0x7fc56e775dd0>"
      ]
     },
     "execution_count": 22,
     "metadata": {},
     "output_type": "execute_result"
    },
    {
     "data": {
      "image/png": "[encoded data removed]",
      "text/plain": [
       "<matplotlib.figure.Figure at 0x7fc56e9dca50>"
      ]
     },
     "metadata": {},
     "output_type": "display_data"
    }
   ],
   "source": [
    "import pandas as pd\n",
    "from matplotlib import pyplot as plt\n",
    "%matplotlib inline\n",
    "\n",
    "print pd.Series(randomUserSim).describe()\n",
    "\n",
    "plt.figure(1, figsize = (15,5))\n",
    "plt.suptitle(\"Random Users' Couples of Sessions\", fontdict = font_title , fontsize = 20)\n",
    "plt.subplot(121)\n",
    "plt.hist(randomUserSim, bins = 10, log=False, color='forestgreen')\n",
    "plt.xlabel('Jaccard Similarity', fontdict = font_labels)\n",
    "plt.ylabel('Number of Couples', fontdict = font_labels)\n",
    "\n",
    "plt.subplot(122)\n",
    "plt.hist(randomUserSim, bins = 10, log=True, color='royalblue')\n",
    "plt.xlabel('Jaccard Similarity', fontdict = font_labels)\n",
    "plt.ylabel('Log (Number of Couples)', fontdict = font_labels)"
   ]
  },
  {
   "cell_type": "code",
   "execution_count": 23,
   "metadata": {
    "collapsed": false
   },
   "outputs": [
    {
     "data": {
      "text/plain": [
       "1.262147959775876"
      ]
     },
     "execution_count": 23,
     "metadata": {},
     "output_type": "execute_result"
    }
   ],
   "source": [
    "float(len([i for i in randomUserSim if i > .250000])) / float(len(randomUserSim)) * 100"
   ]
  },
  {
   "cell_type": "code",
   "execution_count": 26,
   "metadata": {
    "collapsed": false
   },
   "outputs": [
    {
     "data": {
      "text/plain": [
       "487637"
      ]
     },
     "execution_count": 26,
     "metadata": {},
     "output_type": "execute_result"
    }
   ],
   "source": [
    "train.count()"
   ]
  }
 ],
 "metadata": {
  "kernelspec": {
   "display_name": "Python 2",
   "language": "python",
   "name": "python2"
  },
  "language_info": {
   "codemirror_mode": {
    "name": "ipython",
    "version": 2
   },
   "file_extension": ".py",
   "mimetype": "text/x-python",
   "name": "python",
   "nbconvert_exporter": "python",
   "pygments_lexer": "ipython2",
   "version": "2.7.11"
  }
 },
 "nbformat": 4,
 "nbformat_minor": 0
}
