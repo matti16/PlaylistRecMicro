{
 "cells": [
  {
   "cell_type": "markdown",
   "metadata": {},
   "source": [
    "# <hr style=\"clear: both\" />\n",
    "\n",
    "# Running Spark in YARN-client mode\n",
    "\n",
    "This notebook demonstrates how to set up a SparkContext that uses SURFsara's Hadoop cluster: [YARN resourcemanager](http://head05.hathi.surfsara.nl:8088/cluster) (note you will need to be authenticated via kerberos on your machine to visit the resourcemanager link) for executors.\n",
    "\n",
    "First initialize kerberos via a Jupyter terminal. \n",
    "In the terminal execute: <BR>\n",
    "<i>kinit -k -t data/robertop.keytab robertop@CUA.SURFSARA.NL</i><BR>\n",
    "Print your credentials:\n"
   ]
  },
  {
   "cell_type": "code",
   "execution_count": 1,
   "metadata": {
    "collapsed": false
   },
   "outputs": [
    {
     "name": "stdout",
     "output_type": "stream",
     "text": [
      "Ticket cache: FILE:/tmp/krb5cc_1000\r\n",
      "Default principal: robertop@CUA.SURFSARA.NL\r\n",
      "\r\n",
      "Valid starting       Expires              Service principal\r\n",
      "06/02/2016 06:33:55  06/03/2016 06:33:55  krbtgt/CUA.SURFSARA.NL@CUA.SURFSARA.NL\r\n",
      "\trenew until 06/02/2016 06:33:55\r\n"
     ]
    }
   ],
   "source": [
    "! klist"
   ]
  },
  {
   "cell_type": "code",
   "execution_count": 2,
   "metadata": {
    "collapsed": false
   },
   "outputs": [
    {
     "name": "stdout",
     "output_type": "stream",
     "text": [
      "Found 5 items\n",
      "drwx------   - robertop hdfs          0 2016-05-26 06:00 .Trash\n",
      "drwxr-xr-x   - robertop hdfs          0 2016-06-02 15:38 .sparkStaging\n",
      "drwx------   - robertop hdfs          0 2016-04-06 15:54 .staging\n",
      "drwxr-xr-x   - robertop hdfs          0 2016-05-25 06:28 mattia\n",
      "drwxr-xr-x   - robertop hdfs          0 2016-04-13 10:00 recsys2016Competition\n"
     ]
    }
   ],
   "source": [
    "! hdfs dfs -ls \n",
    "execfile('../spark-scripts/bullet.py')"
   ]
  },
  {
   "cell_type": "markdown",
   "metadata": {},
   "source": [
    "Verify that we can browse HDFS:"
   ]
  },
  {
   "cell_type": "markdown",
   "metadata": {},
   "source": [
    "Next initialize Spark. Note that the code below starts a job on the Hadoop cluster that will remain running while the notebook is active. Please close and halt the notebook when you are done. Starting the SparkContext can take a little longer. You can check the YARN resourcemanager to see the current status/usage of the cluster."
   ]
  },
  {
   "cell_type": "code",
   "execution_count": 3,
   "metadata": {
    "collapsed": false,
    "scrolled": false
   },
   "outputs": [],
   "source": [
    "import os\n",
    "os.environ['PYSPARK_PYTHON'] = '/usr/local/bin/python2.7'\n",
    "\n",
    "HDFS_PATH = \"hdfs://hathi-surfsara\"\n",
    "\n",
    "from pyspark import SparkConf, SparkContext\n",
    "from pyspark.sql import SQLContext\n",
    "sconf = SparkConf(False)\n",
    "\n",
    "sconf.setAppName(\"micro-clustering\")\n",
    "\n",
    "# Master is now yarn-client. The YARN and hadoop config is read from the environment\n",
    "sconf.setMaster(\"yarn-client\")\n",
    "\n",
    "# You can control many Spark settings via the SparkConf. This determines the amount of executors on the cluster:\n",
    "sconf.set(\"spark.executor.instances\", \"200\")\n",
    "sconf.set(\"spark.executor.memory\", \"10g\")\n",
    "\n",
    "# UFW (firewall) is active on the VM. We explicitly opened these ports and Spark should not bind to random ports:\n",
    "sconf.set(\"spark.driver.port\", 51800)\n",
    "sconf.set(\"spark.fileserver.port\", 51801)\n",
    "sconf.set(\"spark.broadcast.port\", 51802)\n",
    "sconf.set(\"spark.replClassServer.port\", 51803)\n",
    "sconf.set(\"spark.blockManager.port\", 51804)\n",
    "sconf.set(\"spark.authenticate\", True)\n",
    "sconf.set(\"spark.yarn.keytab\", \"/home/jovyan/work/data/robertop.keytab\")\n",
    "sconf.set(\"spark.yarn.access.namenodes\", HDFS_PATH + \":8020\")\n",
    "\n",
    "try:\n",
    "    sc = SparkContext(conf=sconf)\n",
    "    sqlCtx = SQLContext(sc) \n",
    "    sendNotificationToMattia(\"Spark Context\", \"Ready!\")\n",
    "except Exception, err:\n",
    "    sendNotificationToMattia(\"Fuck you!\", str(err)) \n",
    "    print str(err)"
   ]
  },
  {
   "cell_type": "markdown",
   "metadata": {},
   "source": [
    "# <hr style=\"clear: both\" />\n",
    "\n",
    "# Now you can run your code\n",
    "\n",
    "Pick a clustering algorithm (name of the file that provides a classify(x,y [,threshold]) function)"
   ]
  },
  {
   "cell_type": "code",
   "execution_count": 4,
   "metadata": {
    "collapsed": false
   },
   "outputs": [],
   "source": [
    "import json\n",
    "execfile('../spark-scripts/utilsCluster.py')\n",
    "execfile('../spark-scripts/conventions.py')\n",
    "execfile('../spark-scripts/splitCluster.py')\n",
    "execfile('../spark-scripts/implicitPlaylistAlgoFunctions.py')\n",
    "execfile('../spark-scripts/implicitPlaylistAlgoMain.py')\n",
    "\n"
   ]
  },
  {
   "cell_type": "markdown",
   "metadata": {},
   "source": [
    "# Reading the conf file"
   ]
  },
  {
   "cell_type": "code",
   "execution_count": 5,
   "metadata": {
    "collapsed": false
   },
   "outputs": [],
   "source": [
    "import json\n",
    "import copy\n",
    "\n",
    "BASE_PATH = HDFS_PATH + '/user/robertop/mattia'\n",
    "\n",
    "conf = {}\n",
    "\n",
    "conf['split'] = {}\n",
    "conf['split']['reclistSize'] = 100\n",
    "conf['split']['callParams'] = {}\n",
    "conf['split']['excludeAlreadyListenedTest'] = True\n",
    "conf['split']['name'] = 'SenzaRipetizioni_1'\n",
    "conf['split']['split'] = conf['split']['name']\n",
    "conf['split']['minEventsPerUser'] = 5\n",
    "conf['split']['inputData'] = HDFS_PATH + '/user/robertop/mattia/clusterBase.split/SenzaRipetizioni_1'\n",
    "#conf['split']['inputData'] = 's3n://contentwise-research-poli/30musicdataset/newFormat/relations/sessions.idomaar'\n",
    "conf['split']['bucketName'] = BASE_PATH\n",
    "conf['split']['percUsTr'] = 0.05\n",
    "conf['split']['ts'] = int(0.75 * (1421745857 - 1390209860) + 1390209860) - 10000\n",
    "conf['split']['minEventPerSession'] = 5\n",
    "conf['split']['onlineTrainingLength'] = 5\n",
    "conf['split']['GTlength'] = 1\n",
    "conf['split']['minEventPerSessionTraining'] = 10\n",
    "conf['split']['minEventPerSessionTest'] = 11\n",
    "conf['split']['mode'] = 'session'\n",
    "conf['split']['forceSplitCreation'] = False\n",
    "conf['split'][\"prop\"] = {'reclistSize': conf['split']['reclistSize']}\n",
    "conf['split']['type'] = None\n",
    "conf['split']['out'] = HDFS_PATH + '/user/robertop/mattia/clusterBase.split/'\n",
    "conf['split']['location'] = '30Mdataset/relations/sessions'\n",
    "\n",
    "conf['evaluation'] = {}\n",
    "conf['evaluation']['metric'] = {}\n",
    "conf['evaluation']['metric']['type'] = 'recall'\n",
    "conf['evaluation']['metric']['prop'] = {}\n",
    "conf['evaluation']['metric']['prop']['N'] = [1,2,5,10,15,20,25,50,100]\n",
    "conf['evaluation']['name'] = 'recall@N'\n",
    "\n",
    "conf['general'] = {}\n",
    "conf['general']['clientname'] = \"clusterBase.split\"\n",
    "conf['general']['bucketName'] = BASE_PATH\n",
    "conf['general']['tracksPath'] = '30Mdataset/entities/tracks.idomaar.gz'\n",
    "\n",
    "conf['algo'] = {}\n",
    "conf['algo']['name'] = 'ClusterBase'\n",
    "conf['algo']['props'] = {}\n",
    "# ***** EXAMPLE OF CONFIGURATION *****#\n",
    "conf['algo']['props'][\"sessionJaccardShrinkage\"] = 5\n",
    "conf['algo']['props'][\"clusterSimilarityThreshold\"] = 0.1\n",
    "conf['algo']['props'][\"expDecayFactor\"] = 0.7\n",
    "# ****** END EXAMPLE ****************#\n",
    "\n"
   ]
  },
  {
   "cell_type": "markdown",
   "metadata": {},
   "source": [
    "# Load data "
   ]
  },
  {
   "cell_type": "code",
   "execution_count": 6,
   "metadata": {
    "collapsed": false
   },
   "outputs": [
    {
     "name": "stdout",
     "output_type": "stream",
     "text": [
      "[u'{\"id\": \"1880568\", \"linkedinfo\": {\"subjects\": [{\"type\": \"user\", \"id\": 25088}], \"objects\": [{\"playratio\": 0.67, \"playstart\": 0, \"action\": \"play\", \"playtime\": 163, \"type\": \"track\", \"id\": 2895012}, {\"playratio\": 1.0, \"playstart\": 163, \"action\": \"play\", \"playtime\": 215, \"type\": \"track\", \"id\": 548739}, {\"playratio\": 0.99, \"playstart\": 378, \"action\": \"play\", \"playtime\": 190, \"type\": \"track\", \"id\": 1830769}, {\"playratio\": 1.0, \"playstart\": 568, \"action\": \"play\", \"playtime\": 261, \"type\": \"track\", \"id\": 2363674}, {\"playratio\": 0.87, \"playstart\": 829, \"action\": \"play\", \"playtime\": 188, \"type\": \"track\", \"id\": 325757}, {\"playratio\": 0.99, \"playstart\": 1017, \"action\": \"play\", \"playtime\": 212, \"type\": \"track\", \"id\": 2833842}, {\"playratio\": 1.0, \"playstart\": 1229, \"action\": \"play\", \"playtime\": 207, \"type\": \"track\", \"id\": 1885477}, {\"playratio\": 0.99, \"playstart\": 1436, \"action\": \"play\", \"playtime\": 182, \"type\": \"track\", \"id\": 2988740}, {\"playratio\": 1.04, \"playstart\": 1618, \"action\": \"play\", \"playtime\": 247, \"type\": \"track\", \"id\": 1570001}, {\"playratio\": 1.0, \"playstart\": 1865, \"action\": \"play\", \"playtime\": 163, \"type\": \"track\", \"id\": 2850278}, {\"playratio\": 1.0, \"playstart\": 2028, \"action\": \"play\", \"playtime\": 254, \"type\": \"track\", \"id\": 2133854}, {\"playratio\": 1.0, \"playstart\": 2282, \"action\": \"play\", \"playtime\": 209, \"type\": \"track\", \"id\": 1881528}, {\"playratio\": 0.98, \"playstart\": 2491, \"action\": \"play\", \"playtime\": 198, \"type\": \"track\", \"id\": 2836298}, {\"playratio\": 0.99, \"playstart\": 2689, \"action\": \"play\", \"playtime\": 178, \"type\": \"track\", \"id\": 687261}, {\"playratio\": 1.0, \"playstart\": 2867, \"action\": \"play\", \"playtime\": 202, \"type\": \"track\", \"id\": 3731344}, {\"playratio\": 1.19, \"playstart\": 3069, \"action\": \"play\", \"playtime\": 296, \"type\": \"track\", \"id\": 2765812}, {\"playratio\": null, \"playstart\": 3365, \"action\": null, \"playtime\": -1, \"type\": \"track\", \"id\": 1341078}]}, \"type\": \"event.session\", \"properties\": {\"playtime\": 3364, \"numtracks\": 17}, \"ts\": \"1398431997\"}']\n",
      "[u'{\"linkedinfo\": {\"objects\": [{\"playratio\": 1.0, \"playstart\": 0, \"action\": \"play\", \"playtime\": 489, \"type\": \"track\", \"id\": 3040152}, {\"playratio\": 1.0, \"playstart\": 489, \"action\": \"play\", \"playtime\": 316, \"type\": \"track\", \"id\": 3040077}, {\"playratio\": 2.13, \"playstart\": 805, \"action\": \"play\", \"playtime\": 728, \"type\": \"track\", \"id\": 3039975}, {\"playratio\": 1.01, \"playstart\": 1533, \"action\": \"play\", \"playtime\": 116, \"type\": \"track\", \"id\": 3040141}, {\"playratio\": 1.0, \"playstart\": 1649, \"action\": \"play\", \"playtime\": 311, \"type\": \"track\", \"id\": 3040020}], \"subjects\": [{\"type\": \"user\", \"id\": 25088}]}, \"properties\": {\"reclistSize\": 100}, \"type\": \"request\", \"id\": 2508801421352146, \"ts\": \"1421352146\"}']\n"
     ]
    }
   ],
   "source": [
    "train, test = loadDataset(conf)\n",
    "\n",
    "print train.take(1)\n",
    "print test.take(1)"
   ]
  },
  {
   "cell_type": "code",
   "execution_count": 7,
   "metadata": {
    "collapsed": false
   },
   "outputs": [
    {
     "data": {
      "text/plain": [
       "0"
      ]
     },
     "execution_count": 7,
     "metadata": {},
     "output_type": "execute_result"
    }
   ],
   "source": [
    "trainRDD = train.map(json.loads).flatMap(lambda x: [(int(x['id']), i['id']) for i in x['linkedinfo']['objects']])\n",
    "testRDD = test.map(json.loads).flatMap(lambda x: [(int(x['id']), i['id']) for i in x['linkedinfo']['objects']])\n",
    "\n",
    "max_under_2mld = 2764449\n",
    "min_above_2mld = 101418988229\n",
    "\n",
    "mapBigId = testRDD.filter(lambda x: x[0] > 2*10**9).map(lambda x: x[0]).distinct().zipWithIndex().collect()\n",
    "dictBigIds = sc.broadcast(dict(mapBigId))\n",
    "\n",
    "def substitute_big_ids(x, dic):\n",
    "    if x[0] < 2*10**9:\n",
    "        return x\n",
    "    else:\n",
    "        new_id = dic.value[x[0]] + 2764449 +1\n",
    "        return (new_id, x[1])\n",
    "\n",
    "testRDD = testRDD.map(lambda x: substitute_big_ids(x, dictBigIds))\n",
    "testRDD.filter(lambda x: x[0] > 2*10**9).count()\n"
   ]
  },
  {
   "cell_type": "code",
   "execution_count": 8,
   "metadata": {
    "collapsed": false
   },
   "outputs": [
    {
     "data": {
      "text/plain": [
       "12575662"
      ]
     },
     "execution_count": 8,
     "metadata": {},
     "output_type": "execute_result"
    }
   ],
   "source": [
    "totalTrainRDD = trainRDD.union(testRDD).distinct()\n",
    "totalTrainRDD.count()"
   ]
  },
  {
   "cell_type": "markdown",
   "metadata": {},
   "source": [
    "# Matrix Factorization (Implicit Ratings)"
   ]
  },
  {
   "cell_type": "code",
   "execution_count": 9,
   "metadata": {
    "collapsed": false
   },
   "outputs": [
    {
     "data": {
      "text/plain": [
       "[Rating(user=182472, product=1212718, rating=1.0)]"
      ]
     },
     "execution_count": 9,
     "metadata": {},
     "output_type": "execute_result"
    }
   ],
   "source": [
    "from pyspark.mllib.recommendation import ALS, MatrixFactorizationModel, Rating\n",
    "\n",
    "ratings = totalTrainRDD.map(lambda x: Rating(x[0], x[1], 1))\n",
    "ratings.take(1)\n"
   ]
  },
  {
   "cell_type": "markdown",
   "metadata": {},
   "source": [
    "# Load Ground Truth For Sessions"
   ]
  },
  {
   "cell_type": "code",
   "execution_count": 10,
   "metadata": {
    "collapsed": false
   },
   "outputs": [
    {
     "name": "stdout",
     "output_type": "stream",
     "text": [
      "0\n",
      "290262.0\n",
      "1370128.0\n"
     ]
    }
   ],
   "source": [
    "splitPath = os.path.join(conf['general']['bucketName'], conf['general']['clientname'])\n",
    "GTpath = os.path.join(splitPath, \"GT\")\n",
    "gtRDD = sc.textFile(GTpath).map(lambda x: json.loads(x))\n",
    "\n",
    "n_rec = float(gtRDD.count())\n",
    "\n",
    "groundTruthRDD = gtRDD.flatMap(lambda x: ([(x['linkedinfo']['gt'][0]['id'], k['id']) for k in x['linkedinfo']['objects']]))\n",
    "groundTruthRDD = groundTruthRDD.map(lambda x: substitute_big_ids(x, dictBigIds))\n",
    "print groundTruthRDD.filter(lambda x: x[0] > 2*10**9).count()\n",
    "\n",
    "totRec = float(groundTruthRDD.count())\n",
    "\n",
    "print n_rec\n",
    "print totRec"
   ]
  },
  {
   "cell_type": "markdown",
   "metadata": {},
   "source": [
    "# Load Ground Truth For Users"
   ]
  },
  {
   "cell_type": "code",
   "execution_count": 71,
   "metadata": {
    "collapsed": false
   },
   "outputs": [
    {
     "name": "stdout",
     "output_type": "stream",
     "text": [
      "1259548.0\n",
      "1259548.0\n"
     ]
    }
   ],
   "source": [
    "splitPath = os.path.join(conf['general']['bucketName'], conf['general']['clientname'])\n",
    "GTpath = os.path.join(splitPath, \"GT\")\n",
    "gtRDD = sc.textFile(GTpath).map(lambda x: json.loads(x)).map(lambda x: (x['linkedinfo']['subjects'][0]['id'], [i['id']  for i in x['linkedinfo']['objects']]))\n",
    "\n",
    "\n",
    "groundTruthRDD = gtRDD.reduceByKey(lambda x,y: list(set(y) | set(x)))\n",
    "n_rec = float(groundTruthRDD.count()) \n",
    "groundTruthRDD = groundTruthRDD.flatMap(lambda x: [(x[0], i) for i in x[1]])\n",
    "print float(groundTruthRDD.count())\n",
    "groundTruthRDD = groundTruthRDD.distinct()\n",
    "print float(groundTruthRDD.count())"
   ]
  },
  {
   "cell_type": "markdown",
   "metadata": {},
   "source": [
    "# Evaluate"
   ]
  },
  {
   "cell_type": "code",
   "execution_count": null,
   "metadata": {
    "collapsed": false
   },
   "outputs": [],
   "source": [
    "import os\n",
    "import time\n",
    "DATA_PATH = '/home/jovyan/work/data/mattia/resultsNew'\n",
    "\n",
    "factors = [100, 200]\n",
    "numIterations = [10]\n",
    "\n",
    "for f in factors:\n",
    "    for n_i in numIterations:\n",
    "        \n",
    "        model = ALS.trainImplicit(ratings, f, n_i)\n",
    "\n",
    "        products_for_users = model.recommendProductsForUsers(conf['split']['reclistSize'])\n",
    "        recRDD = products_for_users.flatMap(lambda x: [(x[0], (i.product, k)) for k,i in enumerate(x[1])])\n",
    "        \n",
    "        hitRDDPart = recRDD.join(groundTruthRDD).filter(lambda x: x[1][0][0] == x[1][1])\n",
    "\n",
    "        hitRDD = hitRDDPart.map(lambda x: (x[0], x[1][0][1], 1.0))\n",
    "        \n",
    "        path = os.path.join('MF_Sessions', 'factors'+str(f), 'iterations'+str(n_i))\n",
    "        directory = os.path.join(DATA_PATH, path)\n",
    "        if not os.path.exists(directory):\n",
    "            os.makedirs(directory)\n",
    "\n",
    "        values = {}\n",
    "        for n in conf['evaluation']['metric']['prop']['N']:\n",
    "             values[n] = hitRDD.filter(lambda x: x[1] < n).map(lambda x: x[2]).sum()\n",
    "        \n",
    "        result = []\n",
    "        for n in conf['evaluation']['metric']['prop']['N']:\n",
    "            temp = {}\n",
    "            temp['type'] = 'metric'\n",
    "            temp['id'] = -1\n",
    "            temp['ts'] = time.time()\n",
    "            temp['properties'] = {}\n",
    "            temp['properties']['name'] = conf['evaluation']['name']\n",
    "            temp['evaluation'] = {}\n",
    "            temp['evaluation']['N'] = n\n",
    "            temp['evaluation']['value'] = float(values[n]) / totRec\n",
    "            temp['linkedinfo'] = {}\n",
    "            temp['linkedinfo']['subjects'] = []\n",
    "            temp['linkedinfo']['subjects'].append({})\n",
    "            temp['linkedinfo']['subjects'][0]['splitName'] = conf['split']['name']\n",
    "            temp['linkedinfo']['subjects'][0]['algoName'] = conf['algo']['name']\n",
    "            result.append(temp)\n",
    "    \n",
    "        file_recall = os.path.join(DATA_PATH, path, 'recall@N')\n",
    "        with open(file_recall, 'w') as f:\n",
    "            for i in result:\n",
    "                line = json.dumps(i)\n",
    "                f.write(line + '\\n')\n",
    "        print 'Written ' + file_recall\n",
    "\n",
    "        \n",
    "        result = []\n",
    "        for n in conf['evaluation']['metric']['prop']['N']:\n",
    "            temp = {}\n",
    "            temp['type'] = 'metric'\n",
    "            temp['id'] = -1\n",
    "            temp['ts'] = time.time()\n",
    "            temp['properties'] = {}\n",
    "            temp['properties']['name'] = conf['evaluation']['name']\n",
    "            temp['evaluation'] = {}\n",
    "            temp['evaluation']['N'] = n\n",
    "            temp['evaluation']['value'] = float(values[n]) / (n*n_rec)\n",
    "            temp['linkedinfo'] = {}\n",
    "            temp['linkedinfo']['subjects'] = []\n",
    "            temp['linkedinfo']['subjects'].append({})\n",
    "            temp['linkedinfo']['subjects'][0]['splitName'] = conf['split']['name']\n",
    "            temp['linkedinfo']['subjects'][0]['algoName'] = conf['algo']['name']\n",
    "            result.append(temp)\n",
    "    \n",
    "        file_precision = os.path.join(DATA_PATH, path, 'precision@N')\n",
    "        with open(file_precision, 'w') as f:\n",
    "            for i in result:\n",
    "                line = json.dumps(i)\n",
    "                f.write(line + '\\n')\n",
    "        print 'Written ' + file_precision\n",
    "        \n"
   ]
  },
  {
   "cell_type": "code",
   "execution_count": null,
   "metadata": {
    "collapsed": true
   },
   "outputs": [],
   "source": [
    "sendNotificationToMattia(\"Matrix Factorization\", \"Done.\")"
   ]
  },
  {
   "cell_type": "code",
   "execution_count": 14,
   "metadata": {
    "collapsed": false
   },
   "outputs": [
    {
     "data": {
      "text/plain": [
       "<pyspark.context.SparkContext at 0x7fb6c92aa710>"
      ]
     },
     "execution_count": 14,
     "metadata": {},
     "output_type": "execute_result"
    }
   ],
   "source": []
  }
 ],
 "metadata": {
  "kernelspec": {
   "display_name": "Python 2",
   "language": "python",
   "name": "python2"
  },
  "language_info": {
   "codemirror_mode": {
    "name": "ipython",
    "version": 2
   },
   "file_extension": ".py",
   "mimetype": "text/x-python",
   "name": "python",
   "nbconvert_exporter": "python",
   "pygments_lexer": "ipython2",
   "version": "2.7.11"
  }
 },
 "nbformat": 4,
 "nbformat_minor": 0
}
