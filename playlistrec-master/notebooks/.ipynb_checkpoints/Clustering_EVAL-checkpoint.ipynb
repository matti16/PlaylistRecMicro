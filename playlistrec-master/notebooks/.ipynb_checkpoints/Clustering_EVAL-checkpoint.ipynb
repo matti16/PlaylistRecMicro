{
 "cells": [
  {
   "cell_type": "markdown",
   "metadata": {},
   "source": [
    "# <hr style=\"clear: both\" />\n",
    "\n",
    "# Running Spark in YARN-client mode\n",
    "\n",
    "This notebook demonstrates how to set up a SparkContext that uses SURFsara's Hadoop cluster: [YARN resourcemanager](http://head05.hathi.surfsara.nl:8088/cluster) (note you will need to be authenticated via kerberos on your machine to visit the resourcemanager link) for executors.\n",
    "\n",
    "First initialize kerberos via a Jupyter terminal. \n",
    "In the terminal execute: <BR>\n",
    "<i>kinit -k -t data/robertop.keytab robertop@CUA.SURFSARA.NL</i><BR>\n",
    "Print your credentials:\n"
   ]
  },
  {
   "cell_type": "code",
   "execution_count": 1,
   "metadata": {
    "collapsed": false
   },
   "outputs": [
    {
     "name": "stdout",
     "output_type": "stream",
     "text": [
      "Ticket cache: FILE:/tmp/krb5cc_1000\r\n",
      "Default principal: robertop@CUA.SURFSARA.NL\r\n",
      "\r\n",
      "Valid starting       Expires              Service principal\r\n",
      "04/26/2016 06:57:12  04/27/2016 06:57:12  krbtgt/CUA.SURFSARA.NL@CUA.SURFSARA.NL\r\n",
      "\trenew until 04/26/2016 06:57:12\r\n"
     ]
    }
   ],
   "source": [
    "! klist"
   ]
  },
  {
   "cell_type": "code",
   "execution_count": 2,
   "metadata": {
    "collapsed": false
   },
   "outputs": [
    {
     "name": "stdout",
     "output_type": "stream",
     "text": [
      "Found 5 items\r\n",
      "drwx------   - robertop hdfs          0 2016-04-26 06:00 .Trash\r\n",
      "drwxr-xr-x   - robertop hdfs          0 2016-04-26 06:57 .sparkStaging\r\n",
      "drwx------   - robertop hdfs          0 2016-04-06 15:54 .staging\r\n",
      "drwxr-xr-x   - robertop hdfs          0 2016-04-19 14:35 mattia\r\n",
      "drwxr-xr-x   - robertop hdfs          0 2016-04-13 10:00 recsys2016Competition\r\n"
     ]
    }
   ],
   "source": [
    "! hdfs dfs -ls \n",
    "execfile('../spark-scripts/bullet.py')"
   ]
  },
  {
   "cell_type": "markdown",
   "metadata": {},
   "source": [
    "Verify that we can browse HDFS:"
   ]
  },
  {
   "cell_type": "markdown",
   "metadata": {},
   "source": [
    "Next initialize Spark. Note that the code below starts a job on the Hadoop cluster that will remain running while the notebook is active. Please close and halt the notebook when you are done. Starting the SparkContext can take a little longer. You can check the YARN resourcemanager to see the current status/usage of the cluster."
   ]
  },
  {
   "cell_type": "code",
   "execution_count": 3,
   "metadata": {
    "collapsed": false
   },
   "outputs": [],
   "source": [
    "import os\n",
    "os.environ['PYSPARK_PYTHON'] = '/usr/local/bin/python2.7'\n",
    "\n",
    "HDFS_PATH = \"hdfs://hathi-surfsara\"\n",
    "\n",
    "from pyspark import SparkConf, SparkContext\n",
    "from pyspark.sql import SQLContext\n",
    "sconf = SparkConf()\n",
    "\n",
    "# Master is now yarn-client. The YARN and hadoop config is read from the environment\n",
    "sconf.setMaster(\"yarn-client\")\n",
    "\n",
    "# You can control many Spark settings via the SparkConf. This determines the amount of executors on the cluster:\n",
    "sconf.set(\"spark.executor.instances\", \"200\")\n",
    "#sconf.set(\"spark.executor.memory\", \"20g\")\n",
    "\n",
    "# UFW (firewall) is active on the VM. We explicitly opened these ports and Spark should not bind to random ports:\n",
    "sconf.set(\"spark.driver.port\", 51800)\n",
    "sconf.set(\"spark.fileserver.port\", 51801)\n",
    "sconf.set(\"spark.broadcast.port\", 51802)\n",
    "sconf.set(\"spark.replClassServer.port\", 51803)\n",
    "sconf.set(\"spark.blockManager.port\", 51804)\n",
    "sconf.set(\"spark.authenticate\", True)\n",
    "sconf.set(\"spark.yarn.keytab\", \"/home/jovyan/work/data/robertop.keytab\")\n",
    "sconf.set(\"spark.yarn.access.namenodes\", HDFS_PATH + \":8020\")\n",
    "\n",
    "try:\n",
    "    sc = SparkContext(conf=sconf)\n",
    "    sqlCtx = SQLContext(sc) \n",
    "    sendNotificationToMattia(\"Spark Context\", str(sc))\n",
    "except Exception, err:\n",
    "    sendNotificationToMattia(\"Fuck you!\", str(err)) \n",
    "    print str(err)"
   ]
  },
  {
   "cell_type": "markdown",
   "metadata": {},
   "source": [
    "# <hr style=\"clear: both\" />\n",
    "\n",
    "# Now you can run your code\n",
    "\n",
    "Pick a clustering algorithm (name of the file that provides a classify(x,y [,threshold]) function)"
   ]
  },
  {
   "cell_type": "code",
   "execution_count": 5,
   "metadata": {
    "collapsed": false
   },
   "outputs": [],
   "source": [
    "execfile('../spark-scripts/evalCluster.py')\n",
    "execfile('../spark-scripts/utilsCluster.py')\n",
    "\n",
    "CLUSTER_ALGO = 'plain'\n",
    "THRESHOLD = 0.0\n",
    "THRESHOLD_STR = str(THRESHOLD)[2:]\n",
    "\n",
    "import json\n",
    "import copy\n",
    "\n",
    "BASE_PATH = HDFS_PATH + '/user/robertop/mattia'\n",
    "\n",
    "conf = {}\n",
    "\n",
    "conf['split'] = {}\n",
    "conf['split']['reclistSize'] = 100\n",
    "conf['split']['callParams'] = {}\n",
    "conf['split']['excludeAlreadyListenedTest'] = True\n",
    "conf['split']['name'] = 'SenzaRipetizioni_1'\n",
    "conf['split']['split'] = conf['split']['name']\n",
    "conf['split']['minEventsPerUser'] = 5\n",
    "conf['split']['inputData'] = HDFS_PATH + '/user/robertop/mattia/clusterBase.split/SenzaRipetizioni_1'\n",
    "#conf['split']['inputData'] = 's3n://contentwise-research-poli/30musicdataset/newFormat/relations/sessions.idomaar'\n",
    "conf['split']['bucketName'] = BASE_PATH\n",
    "conf['split']['percUsTr'] = 0.05\n",
    "conf['split']['ts'] = int(0.75 * (1421745857 - 1390209860) + 1390209860) - 10000\n",
    "conf['split']['minEventPerSession'] = 5\n",
    "conf['split']['onlineTrainingLength'] = 5\n",
    "conf['split']['GTlength'] = 1\n",
    "conf['split']['minEventPerSessionTraining'] = 10\n",
    "conf['split']['minEventPerSessionTest'] = 11\n",
    "conf['split']['mode'] = 'session'\n",
    "conf['split']['forceSplitCreation'] = False\n",
    "conf['split'][\"prop\"] = {'reclistSize': conf['split']['reclistSize']}\n",
    "conf['split']['type'] = None\n",
    "conf['split']['out'] = HDFS_PATH + '/user/robertop/mattia/clusterBase.split/'\n",
    "conf['split']['location'] = '30Mdataset/relations/sessions'\n",
    "\n",
    "conf['evaluation'] = {}\n",
    "conf['evaluation']['metric'] = {}\n",
    "conf['evaluation']['metric']['type'] = 'recall'\n",
    "conf['evaluation']['metric']['prop'] = {}\n",
    "conf['evaluation']['metric']['prop']['N'] = [1,2,5,10,15,20,25,50,100]\n",
    "conf['evaluation']['name'] = 'recall@N'\n",
    "\n",
    "conf['general'] = {}\n",
    "conf['general']['clientname'] = \"clusterBase.split\"\n",
    "conf['general']['bucketName'] = BASE_PATH\n",
    "conf['general']['tracksPath'] = '30Mdataset/entities/tracks.idomaar.gz'\n",
    "\n",
    "conf['algo'] = {}\n",
    "conf['algo']['props'] = {}\n",
    "# ***** EXAMPLE OF CONFIGURATION *****#\n",
    "conf['algo']['props'][\"sessionJaccardShrinkage\"] = 5\n",
    "conf['algo']['props'][\"clusterSimilarityThreshold\"] = 0.1\n",
    "conf['algo']['props'][\"expDecayFactor\"] = 0.7\n",
    "# ****** END EXAMPLE ****************#\n",
    "clusterSim = 0.1\n",
    "sessionJaccardShrinkage = 5\n",
    "expDecay = 0.7\n",
    "\n",
    "conf['split']['excludeAlreadyListenedTest'] = str(True)\n",
    "conf['algo']['name'] = CLUSTER_ALGO + THRESHOLD_STR + '_ImplicitPlaylist_shk_%d_clustSim_%.3f_decay_%.3f' % \\\n",
    "                    (sessionJaccardShrinkage, clusterSim, expDecay )"
   ]
  },
  {
   "cell_type": "markdown",
   "metadata": {},
   "source": [
    "# Load a recommendation"
   ]
  },
  {
   "cell_type": "code",
   "execution_count": 5,
   "metadata": {
    "collapsed": true
   },
   "outputs": [
    {
     "data": {
      "text/plain": [
       "[{u'id': 1983301421578074,\n",
       "  u'linkedinfo': {u'objects': [{u'action': u'play',\n",
       "     u'id': 2524537,\n",
       "     u'playratio': 0.52,\n",
       "     u'playstart': 0,\n",
       "     u'playtime': 105,\n",
       "     u'type': u'track'},\n",
       "    {u'action': u'play',\n",
       "     u'id': 2524546,\n",
       "     u'playratio': 0.61,\n",
       "     u'playstart': 105,\n",
       "     u'playtime': 115,\n",
       "     u'type': u'track'},\n",
       "    {u'action': u'play',\n",
       "     u'id': 2524532,\n",
       "     u'playratio': 0.63,\n",
       "     u'playstart': 220,\n",
       "     u'playtime': 99,\n",
       "     u'type': u'track'},\n",
       "    {u'action': u'play',\n",
       "     u'id': 2524538,\n",
       "     u'playratio': 2.83,\n",
       "     u'playstart': 319,\n",
       "     u'playtime': 486,\n",
       "     u'type': u'track'},\n",
       "    {u'action': u'play',\n",
       "     u'id': 1735774,\n",
       "     u'playratio': 0.72,\n",
       "     u'playstart': 1177,\n",
       "     u'playtime': 192,\n",
       "     u'type': u'track'}],\n",
       "   u'response': [{u'id': 1721969, u'rank': 0, u'type': u'track'},\n",
       "    {u'id': 1704967, u'rank': 1, u'type': u'track'},\n",
       "    {u'id': 1704967, u'rank': 2, u'type': u'track'},\n",
       "    {u'id': 2055345, u'rank': 3, u'type': u'track'},\n",
       "    {u'id': 2055345, u'rank': 4, u'type': u'track'},\n",
       "    {u'id': 1632881, u'rank': 5, u'type': u'track'},\n",
       "    {u'id': 1632881, u'rank': 6, u'type': u'track'},\n",
       "    {u'id': 2213362, u'rank': 7, u'type': u'track'},\n",
       "    {u'id': 3065783, u'rank': 8, u'type': u'track'},\n",
       "    {u'id': 3065783, u'rank': 9, u'type': u'track'},\n",
       "    {u'id': 2213362, u'rank': 10, u'type': u'track'},\n",
       "    {u'id': 3584148, u'rank': 11, u'type': u'track'},\n",
       "    {u'id': 2618240, u'rank': 12, u'type': u'track'},\n",
       "    {u'id': 3699823, u'rank': 13, u'type': u'track'},\n",
       "    {u'id': 2485430, u'rank': 14, u'type': u'track'},\n",
       "    {u'id': 2596584, u'rank': 15, u'type': u'track'},\n",
       "    {u'id': 2575629, u'rank': 16, u'type': u'track'},\n",
       "    {u'id': 2514637, u'rank': 17, u'type': u'track'},\n",
       "    {u'id': 2615618, u'rank': 18, u'type': u'track'},\n",
       "    {u'id': 4278241, u'rank': 19, u'type': u'track'},\n",
       "    {u'id': 2593618, u'rank': 20, u'type': u'track'},\n",
       "    {u'id': 2538516, u'rank': 21, u'type': u'track'},\n",
       "    {u'id': 120478, u'rank': 22, u'type': u'track'},\n",
       "    {u'id': 3589398, u'rank': 23, u'type': u'track'},\n",
       "    {u'id': 3739461, u'rank': 24, u'type': u'track'},\n",
       "    {u'id': 2559777, u'rank': 25, u'type': u'track'},\n",
       "    {u'id': 2607783, u'rank': 26, u'type': u'track'}],\n",
       "   u'subjects': [{u'id': 19833, u'type': u'user'}]},\n",
       "  u'properties': {u'reclistSize': 100},\n",
       "  u'ts': u'1421578074',\n",
       "  u'type': u'request'},\n",
       " {u'id': 1866001415996612,\n",
       "  u'linkedinfo': {u'objects': [{u'action': u'skip',\n",
       "     u'id': 3319969,\n",
       "     u'playratio': None,\n",
       "     u'playstart': 0,\n",
       "     u'playtime': 3,\n",
       "     u'type': u'track'},\n",
       "    {u'action': u'play',\n",
       "     u'id': 3319961,\n",
       "     u'playratio': 1.15,\n",
       "     u'playstart': 3,\n",
       "     u'playtime': 330,\n",
       "     u'type': u'track'},\n",
       "    {u'action': u'play',\n",
       "     u'id': 3319963,\n",
       "     u'playratio': 0.91,\n",
       "     u'playstart': 333,\n",
       "     u'playtime': 237,\n",
       "     u'type': u'track'},\n",
       "    {u'action': u'play',\n",
       "     u'id': 3319968,\n",
       "     u'playratio': None,\n",
       "     u'playstart': 570,\n",
       "     u'playtime': 209,\n",
       "     u'type': u'track'},\n",
       "    {u'action': u'play',\n",
       "     u'id': 3319967,\n",
       "     u'playratio': 1.13,\n",
       "     u'playstart': 779,\n",
       "     u'playtime': 236,\n",
       "     u'type': u'track'}],\n",
       "   u'response': [{u'id': 3132640, u'rank': 0, u'type': u'track'},\n",
       "    {u'id': 625298, u'rank': 1, u'type': u'track'},\n",
       "    {u'id': 3132640, u'rank': 2, u'type': u'track'},\n",
       "    {u'id': 3132640, u'rank': 3, u'type': u'track'},\n",
       "    {u'id': 3132640, u'rank': 4, u'type': u'track'},\n",
       "    {u'id': 3132640, u'rank': 5, u'type': u'track'},\n",
       "    {u'id': 3132640, u'rank': 6, u'type': u'track'},\n",
       "    {u'id': 3132640, u'rank': 7, u'type': u'track'},\n",
       "    {u'id': 654220, u'rank': 8, u'type': u'track'},\n",
       "    {u'id': 446935, u'rank': 9, u'type': u'track'},\n",
       "    {u'id': 699211, u'rank': 10, u'type': u'track'},\n",
       "    {u'id': 400255, u'rank': 11, u'type': u'track'},\n",
       "    {u'id': 3132640, u'rank': 12, u'type': u'track'},\n",
       "    {u'id': 3132640, u'rank': 13, u'type': u'track'},\n",
       "    {u'id': 24226, u'rank': 14, u'type': u'track'},\n",
       "    {u'id': 1384637, u'rank': 15, u'type': u'track'},\n",
       "    {u'id': 1126238, u'rank': 16, u'type': u'track'},\n",
       "    {u'id': 2752128, u'rank': 17, u'type': u'track'},\n",
       "    {u'id': 1561663, u'rank': 18, u'type': u'track'},\n",
       "    {u'id': 1487464, u'rank': 19, u'type': u'track'},\n",
       "    {u'id': 3132640, u'rank': 20, u'type': u'track'},\n",
       "    {u'id': 654220, u'rank': 21, u'type': u'track'}],\n",
       "   u'subjects': [{u'id': 18660, u'type': u'user'}]},\n",
       "  u'properties': {u'reclistSize': 100},\n",
       "  u'ts': u'1415996612',\n",
       "  u'type': u'request'},\n",
       " {u'id': 2295701417060903,\n",
       "  u'linkedinfo': {u'objects': [{u'action': u'play',\n",
       "     u'id': 2936345,\n",
       "     u'playratio': 1.0,\n",
       "     u'playstart': 0,\n",
       "     u'playtime': 189,\n",
       "     u'type': u'track'},\n",
       "    {u'action': u'play',\n",
       "     u'id': 2956575,\n",
       "     u'playratio': 1.01,\n",
       "     u'playstart': 189,\n",
       "     u'playtime': 145,\n",
       "     u'type': u'track'},\n",
       "    {u'action': u'play',\n",
       "     u'id': 3262973,\n",
       "     u'playratio': 1.01,\n",
       "     u'playstart': 334,\n",
       "     u'playtime': 245,\n",
       "     u'type': u'track'},\n",
       "    {u'action': u'play',\n",
       "     u'id': 338386,\n",
       "     u'playratio': 0.86,\n",
       "     u'playstart': 579,\n",
       "     u'playtime': 164,\n",
       "     u'type': u'track'},\n",
       "    {u'action': u'play',\n",
       "     u'id': 394767,\n",
       "     u'playratio': 1.0,\n",
       "     u'playstart': 743,\n",
       "     u'playtime': 298,\n",
       "     u'type': u'track'}],\n",
       "   u'response': [{u'id': 3271244, u'rank': 0, u'type': u'track'},\n",
       "    {u'id': 3282021, u'rank': 1, u'type': u'track'},\n",
       "    {u'id': 2185658, u'rank': 2, u'type': u'track'},\n",
       "    {u'id': 1720848, u'rank': 3, u'type': u'track'},\n",
       "    {u'id': 1622390, u'rank': 4, u'type': u'track'},\n",
       "    {u'id': 1899862, u'rank': 5, u'type': u'track'},\n",
       "    {u'id': 3282021, u'rank': 6, u'type': u'track'},\n",
       "    {u'id': 664445, u'rank': 7, u'type': u'track'},\n",
       "    {u'id': 3271244, u'rank': 8, u'type': u'track'},\n",
       "    {u'id': 2328185, u'rank': 9, u'type': u'track'},\n",
       "    {u'id': 1899862, u'rank': 10, u'type': u'track'},\n",
       "    {u'id': 1622390, u'rank': 11, u'type': u'track'},\n",
       "    {u'id': 1899862, u'rank': 12, u'type': u'track'},\n",
       "    {u'id': 3282021, u'rank': 13, u'type': u'track'},\n",
       "    {u'id': 2185658, u'rank': 14, u'type': u'track'},\n",
       "    {u'id': 3289300, u'rank': 15, u'type': u'track'},\n",
       "    {u'id': 3289300, u'rank': 16, u'type': u'track'},\n",
       "    {u'id': 2160290, u'rank': 17, u'type': u'track'},\n",
       "    {u'id': 2160290, u'rank': 18, u'type': u'track'},\n",
       "    {u'id': 1572522, u'rank': 19, u'type': u'track'},\n",
       "    {u'id': 1572522, u'rank': 20, u'type': u'track'},\n",
       "    {u'id': 2593795, u'rank': 21, u'type': u'track'},\n",
       "    {u'id': 2593795, u'rank': 22, u'type': u'track'},\n",
       "    {u'id': 3781484, u'rank': 23, u'type': u'track'},\n",
       "    {u'id': 3781484, u'rank': 24, u'type': u'track'},\n",
       "    {u'id': 1499671, u'rank': 25, u'type': u'track'},\n",
       "    {u'id': 2109427, u'rank': 26, u'type': u'track'},\n",
       "    {u'id': 1499671, u'rank': 27, u'type': u'track'},\n",
       "    {u'id': 1914995, u'rank': 28, u'type': u'track'},\n",
       "    {u'id': 2650901, u'rank': 29, u'type': u'track'},\n",
       "    {u'id': 3195283, u'rank': 30, u'type': u'track'},\n",
       "    {u'id': 3816707, u'rank': 31, u'type': u'track'},\n",
       "    {u'id': 2654543, u'rank': 32, u'type': u'track'},\n",
       "    {u'id': 2797020, u'rank': 33, u'type': u'track'},\n",
       "    {u'id': 2797020, u'rank': 34, u'type': u'track'},\n",
       "    {u'id': 3357043, u'rank': 35, u'type': u'track'},\n",
       "    {u'id': 3468003, u'rank': 36, u'type': u'track'},\n",
       "    {u'id': 2769544, u'rank': 37, u'type': u'track'},\n",
       "    {u'id': 2769544, u'rank': 38, u'type': u'track'},\n",
       "    {u'id': 701830, u'rank': 39, u'type': u'track'},\n",
       "    {u'id': 3343122, u'rank': 40, u'type': u'track'},\n",
       "    {u'id': 3343122, u'rank': 41, u'type': u'track'},\n",
       "    {u'id': 2703767, u'rank': 42, u'type': u'track'},\n",
       "    {u'id': 2775001, u'rank': 43, u'type': u'track'},\n",
       "    {u'id': 2785033, u'rank': 44, u'type': u'track'},\n",
       "    {u'id': 2785033, u'rank': 45, u'type': u'track'},\n",
       "    {u'id': 3479054, u'rank': 46, u'type': u'track'},\n",
       "    {u'id': 2785033, u'rank': 47, u'type': u'track'},\n",
       "    {u'id': 3454625, u'rank': 48, u'type': u'track'},\n",
       "    {u'id': 3419539, u'rank': 49, u'type': u'track'},\n",
       "    {u'id': 2807447, u'rank': 50, u'type': u'track'},\n",
       "    {u'id': 3369822, u'rank': 51, u'type': u'track'},\n",
       "    {u'id': 3475789, u'rank': 52, u'type': u'track'},\n",
       "    {u'id': 3369822, u'rank': 53, u'type': u'track'},\n",
       "    {u'id': 3341741, u'rank': 54, u'type': u'track'},\n",
       "    {u'id': 3369822, u'rank': 55, u'type': u'track'},\n",
       "    {u'id': 3341741, u'rank': 56, u'type': u'track'},\n",
       "    {u'id': 2654957, u'rank': 57, u'type': u'track'},\n",
       "    {u'id': 4264013, u'rank': 58, u'type': u'track'},\n",
       "    {u'id': 3546977, u'rank': 59, u'type': u'track'},\n",
       "    {u'id': 2742208, u'rank': 60, u'type': u'track'},\n",
       "    {u'id': 3546977, u'rank': 61, u'type': u'track'},\n",
       "    {u'id': 2472434, u'rank': 62, u'type': u'track'},\n",
       "    {u'id': 3459790, u'rank': 63, u'type': u'track'},\n",
       "    {u'id': 3441649, u'rank': 64, u'type': u'track'},\n",
       "    {u'id': 1739219, u'rank': 65, u'type': u'track'},\n",
       "    {u'id': 2126299, u'rank': 66, u'type': u'track'},\n",
       "    {u'id': 368868, u'rank': 67, u'type': u'track'},\n",
       "    {u'id': 3038041, u'rank': 68, u'type': u'track'},\n",
       "    {u'id': 3584939, u'rank': 69, u'type': u'track'},\n",
       "    {u'id': 1453902, u'rank': 70, u'type': u'track'},\n",
       "    {u'id': 2441676, u'rank': 71, u'type': u'track'},\n",
       "    {u'id': 317315, u'rank': 72, u'type': u'track'},\n",
       "    {u'id': 3243635, u'rank': 73, u'type': u'track'},\n",
       "    {u'id': 1859157, u'rank': 74, u'type': u'track'},\n",
       "    {u'id': 3539048, u'rank': 75, u'type': u'track'},\n",
       "    {u'id': 3550729, u'rank': 76, u'type': u'track'},\n",
       "    {u'id': 1364121, u'rank': 77, u'type': u'track'},\n",
       "    {u'id': 4229712, u'rank': 78, u'type': u'track'},\n",
       "    {u'id': 769819, u'rank': 79, u'type': u'track'},\n",
       "    {u'id': 2579707, u'rank': 80, u'type': u'track'},\n",
       "    {u'id': 4024734, u'rank': 81, u'type': u'track'},\n",
       "    {u'id': 3190271, u'rank': 82, u'type': u'track'},\n",
       "    {u'id': 1313, u'rank': 83, u'type': u'track'},\n",
       "    {u'id': 3190271, u'rank': 84, u'type': u'track'},\n",
       "    {u'id': 3125844, u'rank': 85, u'type': u'track'},\n",
       "    {u'id': 1418837, u'rank': 86, u'type': u'track'},\n",
       "    {u'id': 1081504, u'rank': 87, u'type': u'track'},\n",
       "    {u'id': 608002, u'rank': 88, u'type': u'track'},\n",
       "    {u'id': 4137006, u'rank': 89, u'type': u'track'},\n",
       "    {u'id': 1414829, u'rank': 90, u'type': u'track'},\n",
       "    {u'id': 3645717, u'rank': 91, u'type': u'track'},\n",
       "    {u'id': 776475, u'rank': 92, u'type': u'track'},\n",
       "    {u'id': 633715, u'rank': 93, u'type': u'track'},\n",
       "    {u'id': 621910, u'rank': 94, u'type': u'track'},\n",
       "    {u'id': 1319608, u'rank': 95, u'type': u'track'},\n",
       "    {u'id': 2257467, u'rank': 96, u'type': u'track'},\n",
       "    {u'id': 913084, u'rank': 97, u'type': u'track'},\n",
       "    {u'id': 3512912, u'rank': 98, u'type': u'track'},\n",
       "    {u'id': 3007452, u'rank': 99, u'type': u'track'}],\n",
       "   u'subjects': [{u'id': 22957, u'type': u'user'}]},\n",
       "  u'properties': {u'reclistSize': 100},\n",
       "  u'ts': u'1417060903',\n",
       "  u'type': u'request'}]"
      ]
     },
     "execution_count": 5,
     "metadata": {},
     "output_type": "execute_result"
    }
   ],
   "source": [
    "recRDD = loadRecommendations(conf).map(json.loads)\n",
    "recRDD.take(3)"
   ]
  },
  {
   "cell_type": "markdown",
   "metadata": {},
   "source": [
    "# Load clusters mapping"
   ]
  },
  {
   "cell_type": "code",
   "execution_count": 6,
   "metadata": {
    "collapsed": true
   },
   "outputs": [
    {
     "data": {
      "text/plain": [
       "[(0, [1730002, 1730001]),\n",
       " (1, [1567745]),\n",
       " (2, [1905460]),\n",
       " (3, [287144]),\n",
       " (4, [3155900]),\n",
       " (5, [64357]),\n",
       " (6, [1135504]),\n",
       " (7, [882710]),\n",
       " (8, [1091211]),\n",
       " (9, [1707402])]"
      ]
     },
     "execution_count": 6,
     "metadata": {},
     "output_type": "execute_result"
    }
   ],
   "source": [
    "cluster_path = BASE_PATH + \"/clusters/\" + CLUSTER_ALGO + THRESHOLD_STR\n",
    "clustersRDD = sc.pickleFile(cluster_path)\n",
    "clustersRDD.take(10)"
   ]
  },
  {
   "cell_type": "markdown",
   "metadata": {},
   "source": [
    "# Substitute cluster with list of songs and compute metrics"
   ]
  },
  {
   "cell_type": "code",
   "execution_count": 23,
   "metadata": {
    "collapsed": false
   },
   "outputs": [
    {
     "name": "stdout",
     "output_type": "stream",
     "text": [
      "recall@N_all_cluster successfully written to hdfs://hathi-surfsara/user/robertop/mattia/clusterBase.split/Rec/jaccardBase9_ImplicitPlaylist_shk_5_clustSim_0100_decay_0700_5#07#01/recall@N_all_cluster/metrics\n"
     ]
    }
   ],
   "source": [
    "options = [ plug_songs, all_cluster, plug_one_song ]\n",
    "\n",
    "for i in options:\n",
    "    conf['evaluation']['name'] = 'recall@N_' + i.__name__   \n",
    "    \n",
    "    rec = mapClusterRecToListOfSongs(recRDD, clustersRDD)\n",
    "    print rec.take(1)\n",
    "    \n",
    "    try:\n",
    "        computeMetrics(conf, rec)\n",
    "        sendNotificationToMattia(\"Compute Metrics \" + i.__name__ , \"Good\")\n",
    "    except Exception, err:\n",
    "        er_str = str(err)\n",
    "        print er_str\n",
    "        sendNotificationToMattia(\"Fuck\", er_str)\n",
    "    \n",
    "\n",
    "sendNotificationToMattia(\"Finished\", \"Check me\")"
   ]
  },
  {
   "cell_type": "code",
   "execution_count": null,
   "metadata": {
    "collapsed": true
   },
   "outputs": [],
   "source": []
  }
 ],
 "metadata": {
  "kernelspec": {
   "display_name": "Python 2",
   "language": "python",
   "name": "python2"
  },
  "language_info": {
   "codemirror_mode": {
    "name": "ipython",
    "version": 2
   },
   "file_extension": ".py",
   "mimetype": "text/x-python",
   "name": "python",
   "nbconvert_exporter": "python",
   "pygments_lexer": "ipython2",
   "version": "2.7.11"
  }
 },
 "nbformat": 4,
 "nbformat_minor": 0
}
