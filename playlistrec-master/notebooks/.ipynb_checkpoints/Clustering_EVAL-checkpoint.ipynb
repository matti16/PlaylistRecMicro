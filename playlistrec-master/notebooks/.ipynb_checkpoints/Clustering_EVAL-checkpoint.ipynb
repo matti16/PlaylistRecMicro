{
 "cells": [
  {
   "cell_type": "markdown",
   "metadata": {},
   "source": [
    "# <hr style=\"clear: both\" />\n",
    "\n",
    "# Running Spark in YARN-client mode\n",
    "\n",
    "This notebook demonstrates how to set up a SparkContext that uses SURFsara's Hadoop cluster: [YARN resourcemanager](http://head05.hathi.surfsara.nl:8088/cluster) (note you will need to be authenticated via kerberos on your machine to visit the resourcemanager link) for executors.\n",
    "\n",
    "First initialize kerberos via a Jupyter terminal. \n",
    "In the terminal execute: <BR>\n",
    "<i>kinit -k -t data/robertop.keytab robertop@CUA.SURFSARA.NL</i><BR>\n",
    "Print your credentials:\n"
   ]
  },
  {
   "cell_type": "code",
   "execution_count": 15,
   "metadata": {
    "collapsed": false
   },
   "outputs": [
    {
     "name": "stdout",
     "output_type": "stream",
     "text": [
      "Ticket cache: FILE:/tmp/krb5cc_1000\r\n",
      "Default principal: robertop@CUA.SURFSARA.NL\r\n",
      "\r\n",
      "Valid starting       Expires              Service principal\r\n",
      "04/28/2016 06:11:58  04/29/2016 06:11:58  krbtgt/CUA.SURFSARA.NL@CUA.SURFSARA.NL\r\n",
      "\trenew until 04/28/2016 06:11:58\r\n"
     ]
    }
   ],
   "source": [
    "! klist"
   ]
  },
  {
   "cell_type": "code",
   "execution_count": 17,
   "metadata": {
    "collapsed": false
   },
   "outputs": [
    {
     "name": "stdout",
     "output_type": "stream",
     "text": [
      "Found 5 items\r\n",
      "drwx------   - robertop hdfs          0 2016-04-29 06:00 .Trash\r\n",
      "drwxr-xr-x   - robertop hdfs          0 2016-04-28 15:55 .sparkStaging\r\n",
      "drwx------   - robertop hdfs          0 2016-04-06 15:54 .staging\r\n",
      "drwxr-xr-x   - robertop hdfs          0 2016-04-27 13:07 mattia\r\n",
      "drwxr-xr-x   - robertop hdfs          0 2016-04-13 10:00 recsys2016Competition\r\n"
     ]
    }
   ],
   "source": [
    "! hdfs dfs -ls \n",
    "execfile('../spark-scripts/bullet.py')"
   ]
  },
  {
   "cell_type": "markdown",
   "metadata": {},
   "source": [
    "Verify that we can browse HDFS:"
   ]
  },
  {
   "cell_type": "markdown",
   "metadata": {},
   "source": [
    "Next initialize Spark. Note that the code below starts a job on the Hadoop cluster that will remain running while the notebook is active. Please close and halt the notebook when you are done. Starting the SparkContext can take a little longer. You can check the YARN resourcemanager to see the current status/usage of the cluster."
   ]
  },
  {
   "cell_type": "code",
   "execution_count": 3,
   "metadata": {
    "collapsed": false
   },
   "outputs": [],
   "source": [
    "import os\n",
    "os.environ['PYSPARK_PYTHON'] = '/usr/local/bin/python2.7'\n",
    "\n",
    "HDFS_PATH = \"hdfs://hathi-surfsara\"\n",
    "\n",
    "from pyspark import SparkConf, SparkContext\n",
    "from pyspark.sql import SQLContext\n",
    "sconf = SparkConf()\n",
    "\n",
    "# Master is now yarn-client. The YARN and hadoop config is read from the environment\n",
    "sconf.setMaster(\"yarn-client\")\n",
    "\n",
    "# You can control many Spark settings via the SparkConf. This determines the amount of executors on the cluster:\n",
    "sconf.set(\"spark.executor.instances\", \"200\")\n",
    "#sconf.set(\"spark.executor.memory\", \"20g\")\n",
    "\n",
    "# UFW (firewall) is active on the VM. We explicitly opened these ports and Spark should not bind to random ports:\n",
    "sconf.set(\"spark.driver.port\", 51800)\n",
    "sconf.set(\"spark.fileserver.port\", 51801)\n",
    "sconf.set(\"spark.broadcast.port\", 51802)\n",
    "sconf.set(\"spark.replClassServer.port\", 51803)\n",
    "sconf.set(\"spark.blockManager.port\", 51804)\n",
    "sconf.set(\"spark.authenticate\", True)\n",
    "sconf.set(\"spark.yarn.keytab\", \"/home/jovyan/work/data/robertop.keytab\")\n",
    "sconf.set(\"spark.yarn.access.namenodes\", HDFS_PATH + \":8020\")\n",
    "\n",
    "try:\n",
    "    sc = SparkContext(conf=sconf)\n",
    "    sqlCtx = SQLContext(sc) \n",
    "    sendNotificationToMattia(\"Spark Context\", str(sc))\n",
    "except Exception, err:\n",
    "    sendNotificationToMattia(\"Fuck you!\", str(err)) \n",
    "    print str(err)"
   ]
  },
  {
   "cell_type": "markdown",
   "metadata": {},
   "source": [
    "# <hr style=\"clear: both\" />\n",
    "\n",
    "# Now you can run your code\n",
    "\n",
    "Pick a clustering algorithm (name of the file that provides a classify(x,y [,threshold]) function)"
   ]
  },
  {
   "cell_type": "code",
   "execution_count": 22,
   "metadata": {
    "collapsed": false
   },
   "outputs": [],
   "source": [
    "execfile('../spark-scripts/evalCluster.py')\n",
    "execfile('../spark-scripts/utilsCluster.py')\n",
    "\n",
    "CLUSTER_ALGO = 'jaccardBase'\n",
    "THRESHOLD = 0.9\n",
    "THRESHOLD_STR = str(THRESHOLD)[2:]\n",
    "\n",
    "import json\n",
    "import copy\n",
    "\n",
    "BASE_PATH = HDFS_PATH + '/user/robertop/mattia'\n",
    "\n",
    "conf = {}\n",
    "\n",
    "conf['split'] = {}\n",
    "conf['split']['reclistSize'] = 100\n",
    "conf['split']['callParams'] = {}\n",
    "conf['split']['excludeAlreadyListenedTest'] = True\n",
    "conf['split']['name'] = 'SenzaRipetizioni_1'\n",
    "conf['split']['split'] = conf['split']['name']\n",
    "conf['split']['minEventsPerUser'] = 5\n",
    "conf['split']['inputData'] = HDFS_PATH + '/user/robertop/mattia/clusterBase.split/SenzaRipetizioni_1'\n",
    "#conf['split']['inputData'] = 's3n://contentwise-research-poli/30musicdataset/newFormat/relations/sessions.idomaar'\n",
    "conf['split']['bucketName'] = BASE_PATH\n",
    "conf['split']['percUsTr'] = 0.05\n",
    "conf['split']['ts'] = int(0.75 * (1421745857 - 1390209860) + 1390209860) - 10000\n",
    "conf['split']['minEventPerSession'] = 5\n",
    "conf['split']['onlineTrainingLength'] = 5\n",
    "conf['split']['GTlength'] = 1\n",
    "conf['split']['minEventPerSessionTraining'] = 10\n",
    "conf['split']['minEventPerSessionTest'] = 11\n",
    "conf['split']['mode'] = 'session'\n",
    "conf['split']['forceSplitCreation'] = False\n",
    "conf['split'][\"prop\"] = {'reclistSize': conf['split']['reclistSize']}\n",
    "conf['split']['type'] = None\n",
    "conf['split']['out'] = HDFS_PATH + '/user/robertop/mattia/clusterBase.split/'\n",
    "conf['split']['location'] = '30Mdataset/relations/sessions'\n",
    "\n",
    "conf['evaluation'] = {}\n",
    "conf['evaluation']['metric'] = {}\n",
    "conf['evaluation']['metric']['type'] = 'recall'\n",
    "conf['evaluation']['metric']['prop'] = {}\n",
    "conf['evaluation']['metric']['prop']['N'] = [1,2,5,10,15,20,25,50,100]\n",
    "conf['evaluation']['name'] = 'recall@N'\n",
    "\n",
    "conf['general'] = {}\n",
    "conf['general']['clientname'] = \"clusterBase.split\"\n",
    "conf['general']['bucketName'] = BASE_PATH\n",
    "conf['general']['tracksPath'] = '30Mdataset/entities/tracks.idomaar.gz'\n",
    "\n",
    "conf['algo'] = {}\n",
    "conf['algo']['props'] = {}\n",
    "# ***** EXAMPLE OF CONFIGURATION *****#\n",
    "conf['algo']['props'][\"sessionJaccardShrinkage\"] = 5\n",
    "conf['algo']['props'][\"clusterSimilarityThreshold\"] = 0.1\n",
    "conf['algo']['props'][\"expDecayFactor\"] = 0.7\n",
    "# ****** END EXAMPLE ****************#\n",
    "clusterSim = 0.1\n",
    "sessionJaccardShrinkage = 5\n",
    "expDecay = 0.7\n",
    "\n",
    "conf['split']['excludeAlreadyListenedTest'] = str(True)\n",
    "conf['algo']['name'] = CLUSTER_ALGO + THRESHOLD_STR + '_ImplicitPlaylist_shk_%d_clustSim_%.3f_decay_%.3f' % \\\n",
    "                    (sessionJaccardShrinkage, clusterSim, expDecay )"
   ]
  },
  {
   "cell_type": "markdown",
   "metadata": {},
   "source": [
    "# Load a recommendation"
   ]
  },
  {
   "cell_type": "code",
   "execution_count": 19,
   "metadata": {
    "collapsed": false
   },
   "outputs": [
    {
     "data": {
      "text/plain": [
       "[{u'id': 661501421246289,\n",
       "  u'linkedinfo': {u'objects': [{u'action': u'play',\n",
       "     u'id': 3274177,\n",
       "     u'playratio': 0.98,\n",
       "     u'playstart': 0,\n",
       "     u'playtime': 247,\n",
       "     u'type': u'track'},\n",
       "    {u'action': u'play',\n",
       "     u'id': 3232565,\n",
       "     u'playratio': 0.85,\n",
       "     u'playstart': 247,\n",
       "     u'playtime': 228,\n",
       "     u'type': u'track'},\n",
       "    {u'action': u'play',\n",
       "     u'id': 2709747,\n",
       "     u'playratio': 1.08,\n",
       "     u'playstart': 475,\n",
       "     u'playtime': 193,\n",
       "     u'type': u'track'},\n",
       "    {u'action': u'play',\n",
       "     u'id': 4142234,\n",
       "     u'playratio': 1.24,\n",
       "     u'playstart': 668,\n",
       "     u'playtime': 184,\n",
       "     u'type': u'track'},\n",
       "    {u'action': u'play',\n",
       "     u'id': 2578906,\n",
       "     u'playratio': 0.96,\n",
       "     u'playstart': 852,\n",
       "     u'playtime': 156,\n",
       "     u'type': u'track'}],\n",
       "   u'response': [{u'id': 2588181, u'rank': 0, u'type': u'track'},\n",
       "    {u'id': 2620457, u'rank': 1, u'type': u'track'},\n",
       "    {u'id': 2246090, u'rank': 2, u'type': u'track'},\n",
       "    {u'id': 2239949, u'rank': 3, u'type': u'track'},\n",
       "    {u'id': 1087348, u'rank': 4, u'type': u'track'},\n",
       "    {u'id': 1308643, u'rank': 5, u'type': u'track'},\n",
       "    {u'id': 2529594, u'rank': 6, u'type': u'track'},\n",
       "    {u'id': 2166094, u'rank': 7, u'type': u'track'},\n",
       "    {u'id': 726805, u'rank': 8, u'type': u'track'},\n",
       "    {u'id': 1677556, u'rank': 9, u'type': u'track'},\n",
       "    {u'id': 4051832, u'rank': 10, u'type': u'track'},\n",
       "    {u'id': 1534278, u'rank': 11, u'type': u'track'},\n",
       "    {u'id': 4184092, u'rank': 12, u'type': u'track'},\n",
       "    {u'id': 4069417, u'rank': 13, u'type': u'track'},\n",
       "    {u'id': 4021531, u'rank': 14, u'type': u'track'},\n",
       "    {u'id': 4096193, u'rank': 15, u'type': u'track'},\n",
       "    {u'id': 26899, u'rank': 16, u'type': u'track'},\n",
       "    {u'id': 3047933, u'rank': 17, u'type': u'track'},\n",
       "    {u'id': 2623164, u'rank': 18, u'type': u'track'},\n",
       "    {u'id': 2168664, u'rank': 19, u'type': u'track'},\n",
       "    {u'id': 2511179, u'rank': 20, u'type': u'track'},\n",
       "    {u'id': 2573955, u'rank': 21, u'type': u'track'},\n",
       "    {u'id': 2500736, u'rank': 22, u'type': u'track'},\n",
       "    {u'id': 3017844, u'rank': 23, u'type': u'track'},\n",
       "    {u'id': 2214137, u'rank': 24, u'type': u'track'},\n",
       "    {u'id': 2499919, u'rank': 25, u'type': u'track'},\n",
       "    {u'id': 2251722, u'rank': 26, u'type': u'track'},\n",
       "    {u'id': 2346997, u'rank': 27, u'type': u'track'},\n",
       "    {u'id': 2222652, u'rank': 28, u'type': u'track'},\n",
       "    {u'id': 3042922, u'rank': 29, u'type': u'track'},\n",
       "    {u'id': 3164239, u'rank': 30, u'type': u'track'},\n",
       "    {u'id': 2409789, u'rank': 31, u'type': u'track'},\n",
       "    {u'id': 2474025, u'rank': 32, u'type': u'track'},\n",
       "    {u'id': 2611899, u'rank': 33, u'type': u'track'},\n",
       "    {u'id': 2346997, u'rank': 34, u'type': u'track'},\n",
       "    {u'id': 2214137, u'rank': 35, u'type': u'track'},\n",
       "    {u'id': 2511179, u'rank': 36, u'type': u'track'},\n",
       "    {u'id': 2623164, u'rank': 37, u'type': u'track'},\n",
       "    {u'id': 2628639, u'rank': 38, u'type': u'track'},\n",
       "    {u'id': 2222652, u'rank': 39, u'type': u'track'},\n",
       "    {u'id': 2558351, u'rank': 40, u'type': u'track'},\n",
       "    {u'id': 2573955, u'rank': 41, u'type': u'track'},\n",
       "    {u'id': 3059250, u'rank': 42, u'type': u'track'},\n",
       "    {u'id': 2558216, u'rank': 43, u'type': u'track'},\n",
       "    {u'id': 2623164, u'rank': 44, u'type': u'track'},\n",
       "    {u'id': 2563510, u'rank': 45, u'type': u'track'},\n",
       "    {u'id': 3073911, u'rank': 46, u'type': u'track'},\n",
       "    {u'id': 2474025, u'rank': 47, u'type': u'track'},\n",
       "    {u'id': 2511179, u'rank': 48, u'type': u'track'},\n",
       "    {u'id': 2310795, u'rank': 49, u'type': u'track'},\n",
       "    {u'id': 1444694, u'rank': 50, u'type': u'track'},\n",
       "    {u'id': 1487544, u'rank': 51, u'type': u'track'},\n",
       "    {u'id': 1288544, u'rank': 52, u'type': u'track'},\n",
       "    {u'id': 392213, u'rank': 53, u'type': u'track'},\n",
       "    {u'id': 2623228, u'rank': 54, u'type': u'track'},\n",
       "    {u'id': 3662973, u'rank': 55, u'type': u'track'},\n",
       "    {u'id': 1962905, u'rank': 56, u'type': u'track'},\n",
       "    {u'id': 4159093, u'rank': 57, u'type': u'track'},\n",
       "    {u'id': 2992474, u'rank': 58, u'type': u'track'},\n",
       "    {u'id': 3835469, u'rank': 59, u'type': u'track'},\n",
       "    {u'id': 2184954, u'rank': 60, u'type': u'track'},\n",
       "    {u'id': 1435420, u'rank': 61, u'type': u'track'},\n",
       "    {u'id': 4243632, u'rank': 62, u'type': u'track'},\n",
       "    {u'id': 174641, u'rank': 63, u'type': u'track'},\n",
       "    {u'id': 636210, u'rank': 64, u'type': u'track'},\n",
       "    {u'id': 3449718, u'rank': 65, u'type': u'track'},\n",
       "    {u'id': 554121, u'rank': 66, u'type': u'track'},\n",
       "    {u'id': 642076, u'rank': 67, u'type': u'track'},\n",
       "    {u'id': 3085599, u'rank': 68, u'type': u'track'},\n",
       "    {u'id': 2755808, u'rank': 69, u'type': u'track'},\n",
       "    {u'id': 4256399, u'rank': 70, u'type': u'track'},\n",
       "    {u'id': 1606961, u'rank': 71, u'type': u'track'},\n",
       "    {u'id': 3085599, u'rank': 72, u'type': u'track'},\n",
       "    {u'id': 847783, u'rank': 73, u'type': u'track'},\n",
       "    {u'id': 392213, u'rank': 74, u'type': u'track'},\n",
       "    {u'id': 2506914, u'rank': 75, u'type': u'track'},\n",
       "    {u'id': 1487544, u'rank': 76, u'type': u'track'},\n",
       "    {u'id': 1146250, u'rank': 77, u'type': u'track'},\n",
       "    {u'id': 1146250, u'rank': 78, u'type': u'track'},\n",
       "    {u'id': 3562536, u'rank': 79, u'type': u'track'},\n",
       "    {u'id': 1931693, u'rank': 80, u'type': u'track'},\n",
       "    {u'id': 1490016, u'rank': 81, u'type': u'track'},\n",
       "    {u'id': 1490016, u'rank': 82, u'type': u'track'},\n",
       "    {u'id': 1873300, u'rank': 83, u'type': u'track'},\n",
       "    {u'id': 3027503, u'rank': 84, u'type': u'track'},\n",
       "    {u'id': 1873300, u'rank': 85, u'type': u'track'},\n",
       "    {u'id': 3027503, u'rank': 86, u'type': u'track'},\n",
       "    {u'id': 1910625, u'rank': 87, u'type': u'track'},\n",
       "    {u'id': 1910625, u'rank': 88, u'type': u'track'},\n",
       "    {u'id': 1902126, u'rank': 89, u'type': u'track'},\n",
       "    {u'id': 1902126, u'rank': 90, u'type': u'track'},\n",
       "    {u'id': 2499214, u'rank': 91, u'type': u'track'},\n",
       "    {u'id': 2570215, u'rank': 92, u'type': u'track'},\n",
       "    {u'id': 2499214, u'rank': 93, u'type': u'track'},\n",
       "    {u'id': 2854638, u'rank': 94, u'type': u'track'},\n",
       "    {u'id': 2570215, u'rank': 95, u'type': u'track'},\n",
       "    {u'id': 1146250, u'rank': 96, u'type': u'track'},\n",
       "    {u'id': 2854638, u'rank': 97, u'type': u'track'},\n",
       "    {u'id': 1146250, u'rank': 98, u'type': u'track'},\n",
       "    {u'id': 1013585, u'rank': 99, u'type': u'track'}],\n",
       "   u'subjects': [{u'id': 6615, u'type': u'user'}]},\n",
       "  u'properties': {u'reclistSize': 100},\n",
       "  u'ts': u'1421246289',\n",
       "  u'type': u'request'}]"
      ]
     },
     "execution_count": 19,
     "metadata": {},
     "output_type": "execute_result"
    }
   ],
   "source": [
    "recRDD = loadRecommendations(conf).map(json.loads)\n",
    "recRDD.take(1)"
   ]
  },
  {
   "cell_type": "markdown",
   "metadata": {},
   "source": [
    "# Load clusters mapping"
   ]
  },
  {
   "cell_type": "code",
   "execution_count": 20,
   "metadata": {
    "collapsed": false
   },
   "outputs": [
    {
     "data": {
      "text/plain": [
       "[(0, [1730002, 1730001]),\n",
       " (1, [1938821, 1938822]),\n",
       " (2, [1905460]),\n",
       " (3, [287144]),\n",
       " (4, [2171020]),\n",
       " (5, [882710]),\n",
       " (6, [1091211]),\n",
       " (7, [2520769]),\n",
       " (8, [3795120]),\n",
       " (9, [4689312])]"
      ]
     },
     "execution_count": 20,
     "metadata": {},
     "output_type": "execute_result"
    }
   ],
   "source": [
    "cluster_path = BASE_PATH + \"/clusters/\" + CLUSTER_ALGO + THRESHOLD_STR\n",
    "clustersRDD = sc.pickleFile(cluster_path)\n",
    "clustersRDD.take(10)"
   ]
  },
  {
   "cell_type": "markdown",
   "metadata": {},
   "source": [
    "# Substitute cluster with list of songs and compute metrics"
   ]
  },
  {
   "cell_type": "code",
   "execution_count": 43,
   "metadata": {
    "collapsed": false,
    "scrolled": true
   },
   "outputs": [
    {
     "ename": "KeyboardInterrupt",
     "evalue": "",
     "output_type": "error",
     "traceback": [
      "\u001b[1;31m---------------------------------------------------------------------------\u001b[0m",
      "\u001b[1;31mKeyboardInterrupt\u001b[0m                         Traceback (most recent call last)",
      "\u001b[1;32m<ipython-input-43-024a2e758ef0>\u001b[0m in \u001b[0;36m<module>\u001b[1;34m()\u001b[0m\n\u001b[0;32m      8\u001b[0m \u001b[1;33m\u001b[0m\u001b[0m\n\u001b[0;32m      9\u001b[0m     \u001b[1;32mtry\u001b[0m\u001b[1;33m:\u001b[0m\u001b[1;33m\u001b[0m\u001b[0m\n\u001b[1;32m---> 10\u001b[1;33m         \u001b[0mcomputeMetrics\u001b[0m\u001b[1;33m(\u001b[0m\u001b[0mconf\u001b[0m\u001b[1;33m,\u001b[0m \u001b[0mrec\u001b[0m\u001b[1;33m)\u001b[0m\u001b[1;33m\u001b[0m\u001b[0m\n\u001b[0m\u001b[0;32m     11\u001b[0m         \u001b[0msendNotificationToMattia\u001b[0m\u001b[1;33m(\u001b[0m\u001b[1;34m\"Compute Metrics \"\u001b[0m \u001b[1;33m+\u001b[0m \u001b[0mname\u001b[0m \u001b[1;33m,\u001b[0m \u001b[1;34m\"Good\"\u001b[0m\u001b[1;33m)\u001b[0m\u001b[1;33m\u001b[0m\u001b[0m\n\u001b[0;32m     12\u001b[0m     \u001b[1;32mexcept\u001b[0m \u001b[0mException\u001b[0m\u001b[1;33m,\u001b[0m \u001b[0merr\u001b[0m\u001b[1;33m:\u001b[0m\u001b[1;33m\u001b[0m\u001b[0m\n",
      "\u001b[1;32m/home/jovyan/work/notebooks/mattia/PlaylistRecMicro/playlistrec-master/spark-scripts/evalCluster.py\u001b[0m in \u001b[0;36mcomputeMetrics\u001b[1;34m(conf, recRDD)\u001b[0m\n\u001b[0;32m     36\u001b[0m         {\"recom\": x[1][0][2], \"GT\": x[1][1][1]}}).map(lambda x: json.dumps(x)) \\\n\u001b[0;32m     37\u001b[0m         \u001b[1;33m.\u001b[0m\u001b[0mrepartition\u001b[0m\u001b[1;33m(\u001b[0m\u001b[1;36m10\u001b[0m\u001b[1;33m)\u001b[0m\u001b[0;31m \u001b[0m\u001b[0;31m\\\u001b[0m\u001b[1;33m\u001b[0m\u001b[0m\n\u001b[1;32m---> 38\u001b[1;33m         \u001b[1;33m.\u001b[0m\u001b[0msaveAsTextFile\u001b[0m\u001b[1;33m(\u001b[0m\u001b[0mpath\u001b[0m\u001b[1;33m.\u001b[0m\u001b[0mjoin\u001b[0m\u001b[1;33m(\u001b[0m\u001b[0mconfPath\u001b[0m\u001b[1;33m,\u001b[0m \u001b[0mconf\u001b[0m\u001b[1;33m[\u001b[0m\u001b[1;34m'evaluation'\u001b[0m\u001b[1;33m]\u001b[0m\u001b[1;33m[\u001b[0m\u001b[1;34m'name'\u001b[0m\u001b[1;33m]\u001b[0m\u001b[1;33m,\u001b[0m \u001b[1;34m\"lineByLine\"\u001b[0m\u001b[1;33m)\u001b[0m\u001b[1;33m)\u001b[0m\u001b[1;33m\u001b[0m\u001b[0m\n\u001b[0m\u001b[0;32m     39\u001b[0m     \u001b[1;31m# .saveAsTextFile(path.join(confPath, \"lineByLine\"))\u001b[0m\u001b[1;33m\u001b[0m\u001b[1;33m\u001b[0m\u001b[0m\n\u001b[0;32m     40\u001b[0m \u001b[1;33m\u001b[0m\u001b[0m\n",
      "\u001b[1;32m/usr/local/spark/python/pyspark/rdd.py\u001b[0m in \u001b[0;36msaveAsTextFile\u001b[1;34m(self, path, compressionCodecClass)\u001b[0m\n\u001b[0;32m   1504\u001b[0m             \u001b[0mkeyed\u001b[0m\u001b[1;33m.\u001b[0m\u001b[0m_jrdd\u001b[0m\u001b[1;33m.\u001b[0m\u001b[0mmap\u001b[0m\u001b[1;33m(\u001b[0m\u001b[0mself\u001b[0m\u001b[1;33m.\u001b[0m\u001b[0mctx\u001b[0m\u001b[1;33m.\u001b[0m\u001b[0m_jvm\u001b[0m\u001b[1;33m.\u001b[0m\u001b[0mBytesToString\u001b[0m\u001b[1;33m(\u001b[0m\u001b[1;33m)\u001b[0m\u001b[1;33m)\u001b[0m\u001b[1;33m.\u001b[0m\u001b[0msaveAsTextFile\u001b[0m\u001b[1;33m(\u001b[0m\u001b[0mpath\u001b[0m\u001b[1;33m,\u001b[0m \u001b[0mcompressionCodec\u001b[0m\u001b[1;33m)\u001b[0m\u001b[1;33m\u001b[0m\u001b[0m\n\u001b[0;32m   1505\u001b[0m         \u001b[1;32melse\u001b[0m\u001b[1;33m:\u001b[0m\u001b[1;33m\u001b[0m\u001b[0m\n\u001b[1;32m-> 1506\u001b[1;33m             \u001b[0mkeyed\u001b[0m\u001b[1;33m.\u001b[0m\u001b[0m_jrdd\u001b[0m\u001b[1;33m.\u001b[0m\u001b[0mmap\u001b[0m\u001b[1;33m(\u001b[0m\u001b[0mself\u001b[0m\u001b[1;33m.\u001b[0m\u001b[0mctx\u001b[0m\u001b[1;33m.\u001b[0m\u001b[0m_jvm\u001b[0m\u001b[1;33m.\u001b[0m\u001b[0mBytesToString\u001b[0m\u001b[1;33m(\u001b[0m\u001b[1;33m)\u001b[0m\u001b[1;33m)\u001b[0m\u001b[1;33m.\u001b[0m\u001b[0msaveAsTextFile\u001b[0m\u001b[1;33m(\u001b[0m\u001b[0mpath\u001b[0m\u001b[1;33m)\u001b[0m\u001b[1;33m\u001b[0m\u001b[0m\n\u001b[0m\u001b[0;32m   1507\u001b[0m \u001b[1;33m\u001b[0m\u001b[0m\n\u001b[0;32m   1508\u001b[0m     \u001b[1;31m# Pair functions\u001b[0m\u001b[1;33m\u001b[0m\u001b[1;33m\u001b[0m\u001b[0m\n",
      "\u001b[1;32m/usr/local/spark/python/lib/py4j-0.9-src.zip/py4j/java_gateway.py\u001b[0m in \u001b[0;36m__call__\u001b[1;34m(self, *args)\u001b[0m\n\u001b[0;32m    809\u001b[0m             \u001b[0mproto\u001b[0m\u001b[1;33m.\u001b[0m\u001b[0mEND_COMMAND_PART\u001b[0m\u001b[1;33m\u001b[0m\u001b[0m\n\u001b[0;32m    810\u001b[0m \u001b[1;33m\u001b[0m\u001b[0m\n\u001b[1;32m--> 811\u001b[1;33m         \u001b[0manswer\u001b[0m \u001b[1;33m=\u001b[0m \u001b[0mself\u001b[0m\u001b[1;33m.\u001b[0m\u001b[0mgateway_client\u001b[0m\u001b[1;33m.\u001b[0m\u001b[0msend_command\u001b[0m\u001b[1;33m(\u001b[0m\u001b[0mcommand\u001b[0m\u001b[1;33m)\u001b[0m\u001b[1;33m\u001b[0m\u001b[0m\n\u001b[0m\u001b[0;32m    812\u001b[0m         return_value = get_return_value(\n\u001b[0;32m    813\u001b[0m             answer, self.gateway_client, self.target_id, self.name)\n",
      "\u001b[1;32m/usr/local/spark/python/lib/py4j-0.9-src.zip/py4j/java_gateway.py\u001b[0m in \u001b[0;36msend_command\u001b[1;34m(self, command, retry)\u001b[0m\n\u001b[0;32m    624\u001b[0m         \u001b[0mconnection\u001b[0m \u001b[1;33m=\u001b[0m \u001b[0mself\u001b[0m\u001b[1;33m.\u001b[0m\u001b[0m_get_connection\u001b[0m\u001b[1;33m(\u001b[0m\u001b[1;33m)\u001b[0m\u001b[1;33m\u001b[0m\u001b[0m\n\u001b[0;32m    625\u001b[0m         \u001b[1;32mtry\u001b[0m\u001b[1;33m:\u001b[0m\u001b[1;33m\u001b[0m\u001b[0m\n\u001b[1;32m--> 626\u001b[1;33m             \u001b[0mresponse\u001b[0m \u001b[1;33m=\u001b[0m \u001b[0mconnection\u001b[0m\u001b[1;33m.\u001b[0m\u001b[0msend_command\u001b[0m\u001b[1;33m(\u001b[0m\u001b[0mcommand\u001b[0m\u001b[1;33m)\u001b[0m\u001b[1;33m\u001b[0m\u001b[0m\n\u001b[0m\u001b[0;32m    627\u001b[0m             \u001b[0mself\u001b[0m\u001b[1;33m.\u001b[0m\u001b[0m_give_back_connection\u001b[0m\u001b[1;33m(\u001b[0m\u001b[0mconnection\u001b[0m\u001b[1;33m)\u001b[0m\u001b[1;33m\u001b[0m\u001b[0m\n\u001b[0;32m    628\u001b[0m         \u001b[1;32mexcept\u001b[0m \u001b[0mPy4JNetworkError\u001b[0m\u001b[1;33m:\u001b[0m\u001b[1;33m\u001b[0m\u001b[0m\n",
      "\u001b[1;32m/usr/local/spark/python/lib/py4j-0.9-src.zip/py4j/java_gateway.py\u001b[0m in \u001b[0;36msend_command\u001b[1;34m(self, command)\u001b[0m\n\u001b[0;32m    738\u001b[0m         \u001b[1;32mtry\u001b[0m\u001b[1;33m:\u001b[0m\u001b[1;33m\u001b[0m\u001b[0m\n\u001b[0;32m    739\u001b[0m             \u001b[0mself\u001b[0m\u001b[1;33m.\u001b[0m\u001b[0msocket\u001b[0m\u001b[1;33m.\u001b[0m\u001b[0msendall\u001b[0m\u001b[1;33m(\u001b[0m\u001b[0mcommand\u001b[0m\u001b[1;33m.\u001b[0m\u001b[0mencode\u001b[0m\u001b[1;33m(\u001b[0m\u001b[1;34m\"utf-8\"\u001b[0m\u001b[1;33m)\u001b[0m\u001b[1;33m)\u001b[0m\u001b[1;33m\u001b[0m\u001b[0m\n\u001b[1;32m--> 740\u001b[1;33m             \u001b[0manswer\u001b[0m \u001b[1;33m=\u001b[0m \u001b[0msmart_decode\u001b[0m\u001b[1;33m(\u001b[0m\u001b[0mself\u001b[0m\u001b[1;33m.\u001b[0m\u001b[0mstream\u001b[0m\u001b[1;33m.\u001b[0m\u001b[0mreadline\u001b[0m\u001b[1;33m(\u001b[0m\u001b[1;33m)\u001b[0m\u001b[1;33m[\u001b[0m\u001b[1;33m:\u001b[0m\u001b[1;33m-\u001b[0m\u001b[1;36m1\u001b[0m\u001b[1;33m]\u001b[0m\u001b[1;33m)\u001b[0m\u001b[1;33m\u001b[0m\u001b[0m\n\u001b[0m\u001b[0;32m    741\u001b[0m             \u001b[0mlogger\u001b[0m\u001b[1;33m.\u001b[0m\u001b[0mdebug\u001b[0m\u001b[1;33m(\u001b[0m\u001b[1;34m\"Answer received: {0}\"\u001b[0m\u001b[1;33m.\u001b[0m\u001b[0mformat\u001b[0m\u001b[1;33m(\u001b[0m\u001b[0manswer\u001b[0m\u001b[1;33m)\u001b[0m\u001b[1;33m)\u001b[0m\u001b[1;33m\u001b[0m\u001b[0m\n\u001b[0;32m    742\u001b[0m             \u001b[1;31m# Happens when a the other end is dead. There might be an empty\u001b[0m\u001b[1;33m\u001b[0m\u001b[1;33m\u001b[0m\u001b[0m\n",
      "\u001b[1;32m/opt/conda/envs/python2/lib/python2.7/socket.pyc\u001b[0m in \u001b[0;36mreadline\u001b[1;34m(self, size)\u001b[0m\n\u001b[0;32m    432\u001b[0m                     \u001b[1;32mtry\u001b[0m\u001b[1;33m:\u001b[0m\u001b[1;33m\u001b[0m\u001b[0m\n\u001b[0;32m    433\u001b[0m                         \u001b[1;32mwhile\u001b[0m \u001b[0mdata\u001b[0m \u001b[1;33m!=\u001b[0m \u001b[1;34m\"\\n\"\u001b[0m\u001b[1;33m:\u001b[0m\u001b[1;33m\u001b[0m\u001b[0m\n\u001b[1;32m--> 434\u001b[1;33m                             \u001b[0mdata\u001b[0m \u001b[1;33m=\u001b[0m \u001b[0mrecv\u001b[0m\u001b[1;33m(\u001b[0m\u001b[1;36m1\u001b[0m\u001b[1;33m)\u001b[0m\u001b[1;33m\u001b[0m\u001b[0m\n\u001b[0m\u001b[0;32m    435\u001b[0m                             \u001b[1;32mif\u001b[0m \u001b[1;32mnot\u001b[0m \u001b[0mdata\u001b[0m\u001b[1;33m:\u001b[0m\u001b[1;33m\u001b[0m\u001b[0m\n\u001b[0;32m    436\u001b[0m                                 \u001b[1;32mbreak\u001b[0m\u001b[1;33m\u001b[0m\u001b[0m\n",
      "\u001b[1;31mKeyboardInterrupt\u001b[0m: "
     ]
    }
   ],
   "source": [
    "execfile('../spark-scripts/evalCluster.py')\n",
    "execfile('../spark-scripts/utilsCluster.py')\n",
    "\n",
    "options = [ 'plug_songs', 'all_cluster']\n",
    "\n",
    "for name in options:\n",
    "    conf['evaluation']['name'] = 'recall@N/' + name\n",
    "    \n",
    "    rec = mapClusterRecToListOfSongs(recRDD, clustersRDD, name)\n",
    "    \n",
    "    try:\n",
    "        computeMetrics(conf, rec)\n",
    "        sendNotificationToMattia(\"Compute Metrics \" + name , \"Good\")\n",
    "    except Exception, err:\n",
    "        er_str = str(err)\n",
    "        print er_str\n",
    "        print \"Skipping...\"\n",
    "        sendNotificationToMattia(\"Fuck\", er_str)\n",
    "    \n",
    "\n",
    "sendNotificationToMattia(\"Finished\", \"Check me\")"
   ]
  },
  {
   "cell_type": "code",
   "execution_count": null,
   "metadata": {
    "collapsed": true
   },
   "outputs": [],
   "source": []
  }
 ],
 "metadata": {
  "kernelspec": {
   "display_name": "Python 2",
   "language": "python",
   "name": "python2"
  },
  "language_info": {
   "codemirror_mode": {
    "name": "ipython",
    "version": 2
   },
   "file_extension": ".py",
   "mimetype": "text/x-python",
   "name": "python",
   "nbconvert_exporter": "python",
   "pygments_lexer": "ipython2",
   "version": "2.7.11"
  }
 },
 "nbformat": 4,
 "nbformat_minor": 0
}
