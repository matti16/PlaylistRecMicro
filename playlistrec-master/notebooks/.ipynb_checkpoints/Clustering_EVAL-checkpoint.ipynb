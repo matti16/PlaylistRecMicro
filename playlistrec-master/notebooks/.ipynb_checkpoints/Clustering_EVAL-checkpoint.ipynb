{
 "cells": [
  {
   "cell_type": "markdown",
   "metadata": {},
   "source": [
    "# <hr style=\"clear: both\" />\n",
    "\n",
    "# Running Spark in YARN-client mode\n",
    "\n",
    "This notebook demonstrates how to set up a SparkContext that uses SURFsara's Hadoop cluster: [YARN resourcemanager](http://head05.hathi.surfsara.nl:8088/cluster) (note you will need to be authenticated via kerberos on your machine to visit the resourcemanager link) for executors.\n",
    "\n",
    "First initialize kerberos via a Jupyter terminal. \n",
    "In the terminal execute: <BR>\n",
    "<i>kinit -k -t data/robertop.keytab robertop@CUA.SURFSARA.NL</i><BR>\n",
    "Print your credentials:\n"
   ]
  },
  {
   "cell_type": "code",
   "execution_count": 1,
   "metadata": {
    "collapsed": false
   },
   "outputs": [
    {
     "name": "stdout",
     "output_type": "stream",
     "text": [
      "Ticket cache: FILE:/tmp/krb5cc_1000\r\n",
      "Default principal: robertop@CUA.SURFSARA.NL\r\n",
      "\r\n",
      "Valid starting       Expires              Service principal\r\n",
      "05/06/2016 08:31:29  05/07/2016 08:31:29  krbtgt/CUA.SURFSARA.NL@CUA.SURFSARA.NL\r\n",
      "\trenew until 05/06/2016 08:31:29\r\n"
     ]
    }
   ],
   "source": [
    "! klist"
   ]
  },
  {
   "cell_type": "code",
   "execution_count": 1,
   "metadata": {
    "collapsed": false
   },
   "outputs": [
    {
     "name": "stdout",
     "output_type": "stream",
     "text": [
      "Found 5 items\r\n",
      "drwx------   - robertop hdfs          0 2016-05-06 12:54 .Trash\r\n",
      "drwxr-xr-x   - robertop hdfs          0 2016-05-06 14:36 .sparkStaging\r\n",
      "drwx------   - robertop hdfs          0 2016-04-06 15:54 .staging\r\n",
      "drwxr-xr-x   - robertop hdfs          0 2016-04-27 13:07 mattia\r\n",
      "drwxr-xr-x   - robertop hdfs          0 2016-04-13 10:00 recsys2016Competition\r\n"
     ]
    }
   ],
   "source": [
    "! hdfs dfs -ls \n",
    "execfile('../spark-scripts/bullet.py')"
   ]
  },
  {
   "cell_type": "markdown",
   "metadata": {},
   "source": [
    "Verify that we can browse HDFS:"
   ]
  },
  {
   "cell_type": "markdown",
   "metadata": {},
   "source": [
    "Next initialize Spark. Note that the code below starts a job on the Hadoop cluster that will remain running while the notebook is active. Please close and halt the notebook when you are done. Starting the SparkContext can take a little longer. You can check the YARN resourcemanager to see the current status/usage of the cluster."
   ]
  },
  {
   "cell_type": "code",
   "execution_count": 2,
   "metadata": {
    "collapsed": false
   },
   "outputs": [],
   "source": [
    "import os\n",
    "os.environ['PYSPARK_PYTHON'] = '/usr/local/bin/python2.7'\n",
    "\n",
    "HDFS_PATH = \"hdfs://hathi-surfsara\"\n",
    "\n",
    "from pyspark import SparkConf, SparkContext\n",
    "from pyspark.sql import SQLContext\n",
    "sconf = SparkConf()\n",
    "\n",
    "# Master is now yarn-client. The YARN and hadoop config is read from the environment\n",
    "sconf.setMaster(\"yarn-client\")\n",
    "\n",
    "# You can control many Spark settings via the SparkConf. This determines the amount of executors on the cluster:\n",
    "sconf.set(\"spark.executor.instances\", \"200\")\n",
    "#sconf.set(\"spark.executor.memory\", \"10g\")\n",
    "\n",
    "# UFW (firewall) is active on the VM. We explicitly opened these ports and Spark should not bind to random ports:\n",
    "sconf.set(\"spark.driver.port\", 51800)\n",
    "sconf.set(\"spark.fileserver.port\", 51801)\n",
    "sconf.set(\"spark.broadcast.port\", 51802)\n",
    "sconf.set(\"spark.replClassServer.port\", 51803)\n",
    "sconf.set(\"spark.blockManager.port\", 51804)\n",
    "sconf.set(\"spark.authenticate\", True)\n",
    "sconf.set(\"spark.yarn.keytab\", \"/home/jovyan/work/data/robertop.keytab\")\n",
    "sconf.set(\"spark.yarn.access.namenodes\", HDFS_PATH + \":8020\")\n",
    "\n",
    "try:\n",
    "    sc = SparkContext(conf=sconf)\n",
    "    sqlCtx = SQLContext(sc) \n",
    "    sendNotificationToMattia(\"Spark Context\", str(sc))\n",
    "except Exception, err:\n",
    "    sendNotificationToMattia(\"Fuck you!\", str(err)) \n",
    "    print str(err)"
   ]
  },
  {
   "cell_type": "markdown",
   "metadata": {},
   "source": [
    "# <hr style=\"clear: both\" />\n",
    "\n",
    "# Now you can run your code\n",
    "\n",
    "Pick a clustering algorithm (name of the file that provides a classify(x,y [,threshold]) function)"
   ]
  },
  {
   "cell_type": "code",
   "execution_count": 3,
   "metadata": {
    "collapsed": false
   },
   "outputs": [],
   "source": [
    "execfile('../spark-scripts/evalCluster.py')\n",
    "execfile('../spark-scripts/utilsCluster.py')\n",
    "\n",
    "CLUSTER_ALGO = 'jaccardBase'\n",
    "THRESHOLD = 0.751\n",
    "THRESHOLD_STR = str(THRESHOLD)[2:]\n",
    "\n",
    "import json\n",
    "import copy\n",
    "\n",
    "BASE_PATH = HDFS_PATH + '/user/robertop/mattia'\n",
    "\n",
    "conf = {}\n",
    "\n",
    "conf['split'] = {}\n",
    "conf['split']['reclistSize'] = 100\n",
    "conf['split']['callParams'] = {}\n",
    "conf['split']['excludeAlreadyListenedTest'] = True\n",
    "conf['split']['name'] = 'SenzaRipetizioni_1'\n",
    "conf['split']['split'] = conf['split']['name']\n",
    "conf['split']['minEventsPerUser'] = 5\n",
    "conf['split']['inputData'] = HDFS_PATH + '/user/robertop/mattia/clusterBase.split/SenzaRipetizioni_1'\n",
    "#conf['split']['inputData'] = 's3n://contentwise-research-poli/30musicdataset/newFormat/relations/sessions.idomaar'\n",
    "conf['split']['bucketName'] = BASE_PATH\n",
    "conf['split']['percUsTr'] = 0.05\n",
    "conf['split']['ts'] = int(0.75 * (1421745857 - 1390209860) + 1390209860) - 10000\n",
    "conf['split']['minEventPerSession'] = 5\n",
    "conf['split']['onlineTrainingLength'] = 5\n",
    "conf['split']['GTlength'] = 1\n",
    "conf['split']['minEventPerSessionTraining'] = 10\n",
    "conf['split']['minEventPerSessionTest'] = 11\n",
    "conf['split']['mode'] = 'session'\n",
    "conf['split']['forceSplitCreation'] = False\n",
    "conf['split'][\"prop\"] = {'reclistSize': conf['split']['reclistSize']}\n",
    "conf['split']['type'] = None\n",
    "conf['split']['out'] = HDFS_PATH + '/user/robertop/mattia/clusterBase.split/'\n",
    "conf['split']['location'] = '30Mdataset/relations/sessions'\n",
    "\n",
    "conf['evaluation'] = {}\n",
    "conf['evaluation']['metric'] = {}\n",
    "conf['evaluation']['metric']['type'] = 'recall'\n",
    "conf['evaluation']['metric']['prop'] = {}\n",
    "conf['evaluation']['metric']['prop']['N'] = [1,2,5,10,15,20,25,50,100]\n",
    "conf['evaluation']['name'] = 'recall@N'\n",
    "\n",
    "conf['general'] = {}\n",
    "conf['general']['clientname'] = \"clusterBase.split\"\n",
    "conf['general']['bucketName'] = BASE_PATH\n",
    "conf['general']['tracksPath'] = '30Mdataset/entities/tracks.idomaar.gz'\n",
    "\n",
    "conf['algo'] = {}\n",
    "conf['algo']['props'] = {}\n",
    "# ***** EXAMPLE OF CONFIGURATION *****#\n",
    "conf['algo']['props'][\"sessionJaccardShrinkage\"] = 5\n",
    "conf['algo']['props'][\"clusterSimilarityThreshold\"] = 0.1\n",
    "conf['algo']['props'][\"expDecayFactor\"] = 0.7\n",
    "# ****** END EXAMPLE ****************#\n",
    "clusterSim = 0.1\n",
    "sessionJaccardShrinkage = 5\n",
    "expDecay = 0.7\n",
    "\n",
    "conf['split']['excludeAlreadyListenedTest'] = str(True)\n",
    "conf['algo']['name'] = CLUSTER_ALGO + THRESHOLD_STR + '_ImplicitPlaylist_shk_%d_clustSim_%.3f_decay_%.3f' % \\\n",
    "                    (sessionJaccardShrinkage, clusterSim, expDecay )"
   ]
  },
  {
   "cell_type": "markdown",
   "metadata": {},
   "source": [
    "# Load a recommendation"
   ]
  },
  {
   "cell_type": "code",
   "execution_count": 4,
   "metadata": {
    "collapsed": false,
    "scrolled": true
   },
   "outputs": [
    {
     "data": {
      "text/plain": [
       "[{u'id': 3457001420907355,\n",
       "  u'linkedinfo': {u'objects': [{u'action': u'play',\n",
       "     u'id': 3228363,\n",
       "     u'playratio': 1.11,\n",
       "     u'playstart': 0,\n",
       "     u'playtime': 244,\n",
       "     u'type': u'track'},\n",
       "    {u'action': u'play',\n",
       "     u'id': 3873665,\n",
       "     u'playratio': 0.98,\n",
       "     u'playstart': 244,\n",
       "     u'playtime': 155,\n",
       "     u'type': u'track'},\n",
       "    {u'action': u'play',\n",
       "     u'id': 3720190,\n",
       "     u'playratio': 0.51,\n",
       "     u'playstart': 399,\n",
       "     u'playtime': 128,\n",
       "     u'type': u'track'},\n",
       "    {u'action': u'play',\n",
       "     u'id': 3093573,\n",
       "     u'playratio': None,\n",
       "     u'playstart': 527,\n",
       "     u'playtime': 343,\n",
       "     u'type': u'track'},\n",
       "    {u'action': u'play',\n",
       "     u'id': 1056393,\n",
       "     u'playratio': 0.99,\n",
       "     u'playstart': 1276,\n",
       "     u'playtime': 134,\n",
       "     u'type': u'track'}],\n",
       "   u'response': [{u'id': 3467179, u'rank': 0, u'type': u'track'},\n",
       "    {u'id': 1727008, u'rank': 1, u'type': u'track'},\n",
       "    {u'id': 2212447, u'rank': 2, u'type': u'track'},\n",
       "    {u'id': 2006573, u'rank': 3, u'type': u'track'},\n",
       "    {u'id': 3220061, u'rank': 4, u'type': u'track'},\n",
       "    {u'id': 1810455, u'rank': 5, u'type': u'track'},\n",
       "    {u'id': 1654156, u'rank': 6, u'type': u'track'},\n",
       "    {u'id': 1512581, u'rank': 7, u'type': u'track'},\n",
       "    {u'id': 3016327, u'rank': 8, u'type': u'track'},\n",
       "    {u'id': 2871575, u'rank': 9, u'type': u'track'},\n",
       "    {u'id': 1819751, u'rank': 10, u'type': u'track'},\n",
       "    {u'id': 74648, u'rank': 11, u'type': u'track'},\n",
       "    {u'id': 395779, u'rank': 12, u'type': u'track'},\n",
       "    {u'id': 1970926, u'rank': 13, u'type': u'track'},\n",
       "    {u'id': 2179664, u'rank': 14, u'type': u'track'},\n",
       "    {u'id': 2793429, u'rank': 15, u'type': u'track'},\n",
       "    {u'id': 2599573, u'rank': 16, u'type': u'track'},\n",
       "    {u'id': 2091019, u'rank': 17, u'type': u'track'},\n",
       "    {u'id': 1740577, u'rank': 18, u'type': u'track'},\n",
       "    {u'id': 1836517, u'rank': 19, u'type': u'track'},\n",
       "    {u'id': 1916166, u'rank': 20, u'type': u'track'},\n",
       "    {u'id': 2824602, u'rank': 21, u'type': u'track'},\n",
       "    {u'id': 1814376, u'rank': 22, u'type': u'track'},\n",
       "    {u'id': 1727203, u'rank': 23, u'type': u'track'},\n",
       "    {u'id': 2024830, u'rank': 24, u'type': u'track'},\n",
       "    {u'id': 3163110, u'rank': 25, u'type': u'track'},\n",
       "    {u'id': 3065902, u'rank': 26, u'type': u'track'},\n",
       "    {u'id': 3209181, u'rank': 27, u'type': u'track'},\n",
       "    {u'id': 3121601, u'rank': 28, u'type': u'track'},\n",
       "    {u'id': 3219548, u'rank': 29, u'type': u'track'},\n",
       "    {u'id': 3186139, u'rank': 30, u'type': u'track'},\n",
       "    {u'id': 1404820, u'rank': 31, u'type': u'track'},\n",
       "    {u'id': 3180491, u'rank': 32, u'type': u'track'},\n",
       "    {u'id': 3198118, u'rank': 33, u'type': u'track'},\n",
       "    {u'id': 2423139, u'rank': 34, u'type': u'track'},\n",
       "    {u'id': 3054920, u'rank': 35, u'type': u'track'},\n",
       "    {u'id': 3132360, u'rank': 36, u'type': u'track'},\n",
       "    {u'id': 1299666, u'rank': 37, u'type': u'track'},\n",
       "    {u'id': 3240810, u'rank': 38, u'type': u'track'},\n",
       "    {u'id': 3723181, u'rank': 39, u'type': u'track'},\n",
       "    {u'id': 3713750, u'rank': 40, u'type': u'track'},\n",
       "    {u'id': 3625121, u'rank': 41, u'type': u'track'},\n",
       "    {u'id': 119200, u'rank': 42, u'type': u'track'},\n",
       "    {u'id': 3721876, u'rank': 43, u'type': u'track'},\n",
       "    {u'id': 3953755, u'rank': 44, u'type': u'track'},\n",
       "    {u'id': 3917900, u'rank': 45, u'type': u'track'},\n",
       "    {u'id': 103555, u'rank': 46, u'type': u'track'},\n",
       "    {u'id': 108651, u'rank': 47, u'type': u'track'},\n",
       "    {u'id': 4143744, u'rank': 48, u'type': u'track'},\n",
       "    {u'id': 3774953, u'rank': 49, u'type': u'track'},\n",
       "    {u'id': 3935380, u'rank': 50, u'type': u'track'},\n",
       "    {u'id': 129542, u'rank': 51, u'type': u'track'},\n",
       "    {u'id': 3487395, u'rank': 52, u'type': u'track'},\n",
       "    {u'id': 3484170, u'rank': 53, u'type': u'track'},\n",
       "    {u'id': 3508540, u'rank': 54, u'type': u'track'},\n",
       "    {u'id': 3497844, u'rank': 55, u'type': u'track'},\n",
       "    {u'id': 3411077, u'rank': 56, u'type': u'track'},\n",
       "    {u'id': 1706709, u'rank': 57, u'type': u'track'},\n",
       "    {u'id': 3936515, u'rank': 58, u'type': u'track'},\n",
       "    {u'id': 3842711, u'rank': 59, u'type': u'track'},\n",
       "    {u'id': 454091, u'rank': 60, u'type': u'track'},\n",
       "    {u'id': 1619479, u'rank': 61, u'type': u'track'},\n",
       "    {u'id': 414135, u'rank': 62, u'type': u'track'},\n",
       "    {u'id': 591390, u'rank': 63, u'type': u'track'},\n",
       "    {u'id': 457910, u'rank': 64, u'type': u'track'},\n",
       "    {u'id': 1654735, u'rank': 65, u'type': u'track'},\n",
       "    {u'id': 1421612, u'rank': 66, u'type': u'track'},\n",
       "    {u'id': 2434202, u'rank': 67, u'type': u'track'},\n",
       "    {u'id': 2063147, u'rank': 68, u'type': u'track'},\n",
       "    {u'id': 3103671, u'rank': 69, u'type': u'track'},\n",
       "    {u'id': 3152394, u'rank': 70, u'type': u'track'},\n",
       "    {u'id': 1732665, u'rank': 71, u'type': u'track'},\n",
       "    {u'id': 571442, u'rank': 72, u'type': u'track'},\n",
       "    {u'id': 2654600, u'rank': 73, u'type': u'track'},\n",
       "    {u'id': 1718067, u'rank': 74, u'type': u'track'},\n",
       "    {u'id': 4103178, u'rank': 75, u'type': u'track'},\n",
       "    {u'id': 3916249, u'rank': 76, u'type': u'track'},\n",
       "    {u'id': 1597925, u'rank': 77, u'type': u'track'},\n",
       "    {u'id': 1724053, u'rank': 78, u'type': u'track'},\n",
       "    {u'id': 1759060, u'rank': 79, u'type': u'track'},\n",
       "    {u'id': 907561, u'rank': 80, u'type': u'track'},\n",
       "    {u'id': 4255878, u'rank': 81, u'type': u'track'},\n",
       "    {u'id': 2407829, u'rank': 82, u'type': u'track'},\n",
       "    {u'id': 2664815, u'rank': 83, u'type': u'track'},\n",
       "    {u'id': 552324, u'rank': 84, u'type': u'track'},\n",
       "    {u'id': 2957487, u'rank': 85, u'type': u'track'},\n",
       "    {u'id': 2669030, u'rank': 86, u'type': u'track'},\n",
       "    {u'id': 185969, u'rank': 87, u'type': u'track'},\n",
       "    {u'id': 3754427, u'rank': 88, u'type': u'track'},\n",
       "    {u'id': 3282033, u'rank': 89, u'type': u'track'},\n",
       "    {u'id': 472646, u'rank': 90, u'type': u'track'},\n",
       "    {u'id': 2436917, u'rank': 91, u'type': u'track'},\n",
       "    {u'id': 874672, u'rank': 92, u'type': u'track'},\n",
       "    {u'id': 1927702, u'rank': 93, u'type': u'track'},\n",
       "    {u'id': 2924720, u'rank': 94, u'type': u'track'},\n",
       "    {u'id': 4278269, u'rank': 95, u'type': u'track'},\n",
       "    {u'id': 3459336, u'rank': 96, u'type': u'track'},\n",
       "    {u'id': 1688559, u'rank': 97, u'type': u'track'},\n",
       "    {u'id': 3551909, u'rank': 98, u'type': u'track'},\n",
       "    {u'id': 2671252, u'rank': 99, u'type': u'track'}],\n",
       "   u'subjects': [{u'id': 34570, u'type': u'user'}]},\n",
       "  u'properties': {u'reclistSize': 100},\n",
       "  u'ts': u'1420907355',\n",
       "  u'type': u'request'}]"
      ]
     },
     "execution_count": 4,
     "metadata": {},
     "output_type": "execute_result"
    }
   ],
   "source": [
    "recRDD = loadRecommendations(conf).map(json.loads)\n",
    "recRDD.take(1)"
   ]
  },
  {
   "cell_type": "markdown",
   "metadata": {},
   "source": [
    "# Load clusters mapping"
   ]
  },
  {
   "cell_type": "code",
   "execution_count": 5,
   "metadata": {
    "collapsed": false
   },
   "outputs": [
    {
     "data": {
      "text/plain": [
       "[(0, [221540]),\n",
       " (1, [287144]),\n",
       " (2, [41679]),\n",
       " (3, [1730002, 1730001]),\n",
       " (4, [3155900]),\n",
       " (5, [64357]),\n",
       " (6, [1135504]),\n",
       " (7, [549305]),\n",
       " (8, [1707402]),\n",
       " (9, [2797192])]"
      ]
     },
     "execution_count": 5,
     "metadata": {},
     "output_type": "execute_result"
    }
   ],
   "source": [
    "cluster_path = BASE_PATH + \"/clusters/\" + CLUSTER_ALGO + THRESHOLD_STR\n",
    "clustersRDD = sc.pickleFile(cluster_path)\n",
    "clustersRDD.take(10)"
   ]
  },
  {
   "cell_type": "markdown",
   "metadata": {},
   "source": [
    "# Substitute cluster with list of songs and compute metrics"
   ]
  },
  {
   "cell_type": "code",
   "execution_count": 7,
   "metadata": {
    "collapsed": false,
    "scrolled": true
   },
   "outputs": [
    {
     "name": "stdout",
     "output_type": "stream",
     "text": [
      "newRecall@N successfully written to hdfs://hathi-surfsara/user/robertop/mattia/clusterBase.split/Rec/jaccardBase751_ImplicitPlaylist_shk_5_clustSim_0100_decay_0700plug_songsplug_songs_5#07#01/newRecall@N/metrics\n",
      "newPrecision@N successfully written to hdfs://hathi-surfsara/user/robertop/mattia/clusterBase.split/Rec/jaccardBase751_ImplicitPlaylist_shk_5_clustSim_0100_decay_0700plug_songsplug_songs_5#07#01/newPrecision@N/metrics\n"
     ]
    }
   ],
   "source": [
    "execfile('../spark-scripts/evalClusterNew.py')\n",
    "execfile('../spark-scripts/utilsCluster.py')\n",
    "\n",
    "options = [ 'plug_songs' ]\n",
    "\n",
    "for name in options:\n",
    "    \n",
    "    rec = mapClusterRecToListOfSongs(recRDD, clustersRDD, name)\n",
    "    \n",
    "    try:\n",
    "        conf['algo']['name'] += '/' + name\n",
    "        computeNewRecallPrecision(conf, rec)\n",
    "        sendNotificationToMattia(\"Compute Metrics \" + conf['evaluation']['name'] , \"Good\")\n",
    "        \n",
    "        conf['algo']['name'] = CLUSTER_ALGO + THRESHOLD_STR + '_ImplicitPlaylist_shk_%d_clustSim_%.3f_decay_%.3f' % \\\n",
    "                    (sessionJaccardShrinkage, clusterSim, expDecay )\n",
    "    except Exception, err:\n",
    "        er_str = str(err)\n",
    "        print er_str\n",
    "        print \"Skipping...\"\n",
    "        sendNotificationToMattia(\"Fuck\", er_str)\n",
    "    \n",
    "\n",
    "sendNotificationToMattia(\"Finished\", \"Check me\")"
   ]
  },
  {
   "cell_type": "markdown",
   "metadata": {},
   "source": [
    "# Compute NEW Metrics for Clustering!"
   ]
  },
  {
   "cell_type": "code",
   "execution_count": 8,
   "metadata": {
    "collapsed": false,
    "scrolled": true
   },
   "outputs": [
    {
     "data": {
      "text/plain": [
       "['{\"linkedinfo\": {\"objects\": [{\"playratio\": 1.04, \"playstart\": 0, \"action\": \"play\", \"playtime\": 335, \"type\": \"track\", \"id\": 708455}, {\"playratio\": 1.08, \"playstart\": 335, \"action\": \"play\", \"playtime\": 309, \"type\": \"track\", \"id\": 3585145}, {\"playratio\": 1.0, \"playstart\": 644, \"action\": \"play\", \"playtime\": 349, \"type\": \"track\", \"id\": 2319201}, {\"playratio\": 1.0, \"playstart\": 993, \"action\": \"play\", \"playtime\": 217, \"type\": \"track\", \"id\": 524783}, {\"playratio\": 1.0, \"playstart\": 1210, \"action\": \"play\", \"playtime\": 523, \"type\": \"track\", \"id\": 2544712}], \"subjects\": [{\"type\": \"user\", \"id\": 31444}], \"response\": [{\"type\": \"track\", \"id\": 1767905, \"rank\": 0}, {\"type\": \"track\", \"id\": 144315, \"rank\": 1}, {\"type\": \"track\", \"id\": 144314, \"rank\": 1}, {\"type\": \"track\", \"id\": 144129, \"rank\": 2}, {\"type\": \"track\", \"id\": 144092, \"rank\": 2}, {\"type\": \"track\", \"id\": 3273620, \"rank\": 3}, {\"type\": \"track\", \"id\": 2935585, \"rank\": 4}, {\"type\": \"track\", \"id\": 2935590, \"rank\": 5}, {\"type\": \"track\", \"id\": 415779, \"rank\": 6}, {\"type\": \"track\", \"id\": 415780, \"rank\": 6}, {\"type\": \"track\", \"id\": 2784316, \"rank\": 7}, {\"type\": \"track\", \"id\": 2784239, \"rank\": 8}, {\"type\": \"track\", \"id\": 2784240, \"rank\": 8}, {\"type\": \"track\", \"id\": 2737251, \"rank\": 9}, {\"type\": \"track\", \"id\": 3084443, \"rank\": 10}, {\"type\": \"track\", \"id\": 2599557, \"rank\": 11}]}, \"type\": \"request\", \"properties\": {\"reclistSize\": 100}, \"ts\": \"1420967437\", \"id\": 3144401420967437}',\n",
       " '{\"id\": 670801418317091, \"linkedinfo\": {\"objects\": [{\"playratio\": 0.96, \"playstart\": 0, \"action\": \"play\", \"playtime\": 242, \"type\": \"track\", \"id\": 1896297}, {\"playratio\": 1.02, \"playstart\": 242, \"action\": \"play\", \"playtime\": 148, \"type\": \"track\", \"id\": 3534429}, {\"playratio\": 1.95, \"playstart\": 390, \"action\": \"play\", \"playtime\": 477, \"type\": \"track\", \"id\": 4118932}, {\"playratio\": 0.58, \"playstart\": 867, \"action\": \"play\", \"playtime\": 121, \"type\": \"track\", \"id\": 4046453}, {\"playratio\": 3.2, \"playstart\": 988, \"action\": \"play\", \"playtime\": 573, \"type\": \"track\", \"id\": 2768639}], \"subjects\": [{\"type\": \"user\", \"id\": 6708}], \"response\": [{\"type\": \"track\", \"id\": 1390855, \"rank\": 0}, {\"type\": \"track\", \"id\": 1390819, \"rank\": 0}, {\"type\": \"track\", \"id\": 1390796, \"rank\": 1}, {\"type\": \"track\", \"id\": 1390915, \"rank\": 2}, {\"type\": \"track\", \"id\": 1390930, \"rank\": 3}, {\"type\": \"track\", \"id\": 2026816, \"rank\": 4}, {\"type\": \"track\", \"id\": 1390872, \"rank\": 5}, {\"type\": \"track\", \"id\": 1390827, \"rank\": 6}, {\"type\": \"track\", \"id\": 1390826, \"rank\": 6}, {\"type\": \"track\", \"id\": 1390868, \"rank\": 7}, {\"type\": \"track\", \"id\": 1390865, \"rank\": 7}, {\"type\": \"track\", \"id\": 2026845, \"rank\": 8}, {\"type\": \"track\", \"id\": 1142213, \"rank\": 8}, {\"type\": \"track\", \"id\": 1390820, \"rank\": 9}, {\"type\": \"track\", \"id\": 1390897, \"rank\": 9}, {\"type\": \"track\", \"id\": 2026892, \"rank\": 10}, {\"type\": \"track\", \"id\": 2026893, \"rank\": 10}, {\"type\": \"track\", \"id\": 2026850, \"rank\": 11}, {\"type\": \"track\", \"id\": 1390848, \"rank\": 12}, {\"type\": \"track\", \"id\": 1390770, \"rank\": 12}, {\"type\": \"track\", \"id\": 2026868, \"rank\": 13}, {\"type\": \"track\", \"id\": 3007297, \"rank\": 14}, {\"type\": \"track\", \"id\": 3007377, \"rank\": 15}, {\"type\": \"track\", \"id\": 3007717, \"rank\": 16}, {\"type\": \"track\", \"id\": 3007524, \"rank\": 17}, {\"type\": \"track\", \"id\": 3007541, \"rank\": 18}, {\"type\": \"track\", \"id\": 3007412, \"rank\": 18}, {\"type\": \"track\", \"id\": 3007556, \"rank\": 19}, {\"type\": \"track\", \"id\": 3007368, \"rank\": 20}, {\"type\": \"track\", \"id\": 3007713, \"rank\": 21}, {\"type\": \"track\", \"id\": 3278947, \"rank\": 22}, {\"type\": \"track\", \"id\": 3279005, \"rank\": 23}, {\"type\": \"track\", \"id\": 3279041, \"rank\": 24}, {\"type\": \"track\", \"id\": 3279000, \"rank\": 25}, {\"type\": \"track\", \"id\": 3278986, \"rank\": 26}, {\"type\": \"track\", \"id\": 3278954, \"rank\": 27}, {\"type\": \"track\", \"id\": 3278994, \"rank\": 28}, {\"type\": \"track\", \"id\": 3278976, \"rank\": 29}, {\"type\": \"track\", \"id\": 3278960, \"rank\": 30}, {\"type\": \"track\", \"id\": 3279026, \"rank\": 31}, {\"type\": \"track\", \"id\": 3279033, \"rank\": 32}, {\"type\": \"track\", \"id\": 3279034, \"rank\": 32}, {\"type\": \"track\", \"id\": 3279015, \"rank\": 33}, {\"type\": \"track\", \"id\": 3279013, \"rank\": 33}, {\"type\": \"track\", \"id\": 3279014, \"rank\": 33}, {\"type\": \"track\", \"id\": 3279012, \"rank\": 33}, {\"type\": \"track\", \"id\": 3279016, \"rank\": 33}, {\"type\": \"track\", \"id\": 3278975, \"rank\": 34}, {\"type\": \"track\", \"id\": 3278973, \"rank\": 34}, {\"type\": \"track\", \"id\": 3278967, \"rank\": 35}, {\"type\": \"track\", \"id\": 3278941, \"rank\": 36}, {\"type\": \"track\", \"id\": 2026987, \"rank\": 37}, {\"type\": \"track\", \"id\": 2026843, \"rank\": 38}, {\"type\": \"track\", \"id\": 2026844, \"rank\": 38}, {\"type\": \"track\", \"id\": 2026842, \"rank\": 38}, {\"type\": \"track\", \"id\": 1627551, \"rank\": 39}, {\"type\": \"track\", \"id\": 299813, \"rank\": 40}, {\"type\": \"track\", \"id\": 299811, \"rank\": 40}, {\"type\": \"track\", \"id\": 1627616, \"rank\": 41}, {\"type\": \"track\", \"id\": 299834, \"rank\": 42}, {\"type\": \"track\", \"id\": 1627559, \"rank\": 43}, {\"type\": \"track\", \"id\": 299810, \"rank\": 44}, {\"type\": \"track\", \"id\": 827861, \"rank\": 45}, {\"type\": \"track\", \"id\": 827850, \"rank\": 46}, {\"type\": \"track\", \"id\": 463370, \"rank\": 47}, {\"type\": \"track\", \"id\": 827808, \"rank\": 48}, {\"type\": \"track\", \"id\": 827815, \"rank\": 49}, {\"type\": \"track\", \"id\": 827812, \"rank\": 49}, {\"type\": \"track\", \"id\": 827847, \"rank\": 50}, {\"type\": \"track\", \"id\": 827883, \"rank\": 51}, {\"type\": \"track\", \"id\": 827857, \"rank\": 52}, {\"type\": \"track\", \"id\": 827865, \"rank\": 53}, {\"type\": \"track\", \"id\": 3126487, \"rank\": 54}, {\"type\": \"track\", \"id\": 3126475, \"rank\": 54}, {\"type\": \"track\", \"id\": 3126841, \"rank\": 54}, {\"type\": \"track\", \"id\": 827859, \"rank\": 55}, {\"type\": \"track\", \"id\": 1941179, \"rank\": 56}, {\"type\": \"track\", \"id\": 827837, \"rank\": 57}, {\"type\": \"track\", \"id\": 827819, \"rank\": 58}, {\"type\": \"track\", \"id\": 2026878, \"rank\": 59}, {\"type\": \"track\", \"id\": 827873, \"rank\": 60}, {\"type\": \"track\", \"id\": 827874, \"rank\": 61}, {\"type\": \"track\", \"id\": 3125673, \"rank\": 62}, {\"type\": \"track\", \"id\": 3126845, \"rank\": 62}, {\"type\": \"track\", \"id\": 827840, \"rank\": 63}, {\"type\": \"track\", \"id\": 827839, \"rank\": 63}, {\"type\": \"track\", \"id\": 827814, \"rank\": 64}, {\"type\": \"track\", \"id\": 827809, \"rank\": 65}, {\"type\": \"track\", \"id\": 827825, \"rank\": 66}, {\"type\": \"track\", \"id\": 827782, \"rank\": 67}, {\"type\": \"track\", \"id\": 1210855, \"rank\": 68}, {\"type\": \"track\", \"id\": 827807, \"rank\": 69}, {\"type\": \"track\", \"id\": 827789, \"rank\": 70}, {\"type\": \"track\", \"id\": 827881, \"rank\": 71}, {\"type\": \"track\", \"id\": 827880, \"rank\": 72}, {\"type\": \"track\", \"id\": 827816, \"rank\": 73}, {\"type\": \"track\", \"id\": 3117863, \"rank\": 74}, {\"type\": \"track\", \"id\": 1941174, \"rank\": 75}, {\"type\": \"track\", \"id\": 1818460, \"rank\": 76}, {\"type\": \"track\", \"id\": 827853, \"rank\": 77}, {\"type\": \"track\", \"id\": 3226308, \"rank\": 78}, {\"type\": \"track\", \"id\": 3226307, \"rank\": 78}, {\"type\": \"track\", \"id\": 827885, \"rank\": 79}, {\"type\": \"track\", \"id\": 827886, \"rank\": 79}, {\"type\": \"track\", \"id\": 827866, \"rank\": 80}, {\"type\": \"track\", \"id\": 827887, \"rank\": 81}, {\"type\": \"track\", \"id\": 3361424, \"rank\": 82}, {\"type\": \"track\", \"id\": 827852, \"rank\": 83}, {\"type\": \"track\", \"id\": 827851, \"rank\": 83}, {\"type\": \"track\", \"id\": 827821, \"rank\": 84}, {\"type\": \"track\", \"id\": 3361282, \"rank\": 85}, {\"type\": \"track\", \"id\": 827871, \"rank\": 86}, {\"type\": \"track\", \"id\": 827858, \"rank\": 87}, {\"type\": \"track\", \"id\": 827838, \"rank\": 88}, {\"type\": \"track\", \"id\": 827802, \"rank\": 89}]}, \"type\": \"request\", \"properties\": {\"reclistSize\": 100}, \"ts\": \"1418317091\"}',\n",
       " '{\"linkedinfo\": {\"objects\": [{\"playratio\": 0.98, \"playstart\": 0, \"action\": \"play\", \"playtime\": 228, \"type\": \"track\", \"id\": 3282095}, {\"playratio\": 0.99, \"playstart\": 228, \"action\": \"play\", \"playtime\": 363, \"type\": \"track\", \"id\": 1057766}, {\"playratio\": 0.97, \"playstart\": 591, \"action\": \"play\", \"playtime\": 195, \"type\": \"track\", \"id\": 2678034}, {\"playratio\": 1.02, \"playstart\": 786, \"action\": \"play\", \"playtime\": 131, \"type\": \"track\", \"id\": 1198934}, {\"playratio\": 0.95, \"playstart\": 917, \"action\": \"play\", \"playtime\": 143, \"type\": \"track\", \"id\": 2861776}], \"subjects\": [{\"type\": \"user\", \"id\": 38267}], \"response\": [{\"type\": \"track\", \"id\": 1804185, \"rank\": 0}, {\"type\": \"track\", \"id\": 1589962, \"rank\": 1}, {\"type\": \"track\", \"id\": 136573, \"rank\": 1}, {\"type\": \"track\", \"id\": 136586, \"rank\": 2}, {\"type\": \"track\", \"id\": 136598, \"rank\": 3}, {\"type\": \"track\", \"id\": 136596, \"rank\": 4}, {\"type\": \"track\", \"id\": 3763760, \"rank\": 5}, {\"type\": \"track\", \"id\": 1450556, \"rank\": 6}, {\"type\": \"track\", \"id\": 2486424, \"rank\": 7}, {\"type\": \"track\", \"id\": 731805, \"rank\": 8}, {\"type\": \"track\", \"id\": 1584720, \"rank\": 9}, {\"type\": \"track\", \"id\": 205149, \"rank\": 10}, {\"type\": \"track\", \"id\": 956942, \"rank\": 11}, {\"type\": \"track\", \"id\": 956941, \"rank\": 11}, {\"type\": \"track\", \"id\": 3089908, \"rank\": 12}, {\"type\": \"track\", \"id\": 3089893, \"rank\": 12}, {\"type\": \"track\", \"id\": 2700918, \"rank\": 13}, {\"type\": \"track\", \"id\": 2701036, \"rank\": 13}, {\"type\": \"track\", \"id\": 290946, \"rank\": 14}]}, \"type\": \"request\", \"properties\": {\"reclistSize\": 100}, \"ts\": \"1418799788\", \"id\": 3826701418799788}']"
      ]
     },
     "execution_count": 8,
     "metadata": {},
     "output_type": "execute_result"
    }
   ],
   "source": [
    "execfile('../spark-scripts/utilsCluster.py')\n",
    "\n",
    "rec = mapClusterRecToListOfSongs(recRDD, clustersRDD)\n",
    "rec.take(3)"
   ]
  },
  {
   "cell_type": "code",
   "execution_count": 21,
   "metadata": {
    "collapsed": false
   },
   "outputs": [
    {
     "name": "stdout",
     "output_type": "stream",
     "text": [
      "newLossRecall@N successfully written to hdfs://hathi-surfsara/user/robertop/mattia/clusterBase.split/Rec/jaccardBase751_ImplicitPlaylist_shk_5_clustSim_0100_decay_0700_5#07#01/newLossRecall@N/metrics\n",
      "newLossPrecision@N successfully written to hdfs://hathi-surfsara/user/robertop/mattia/clusterBase.split/Rec/jaccardBase751_ImplicitPlaylist_shk_5_clustSim_0100_decay_0700_5#07#01/newLossPrecision@N/metrics\n"
     ]
    }
   ],
   "source": [
    "execfile('../spark-scripts/evalClusterNew.py')\n",
    "\n",
    "computeNewRecallPrecision(conf,rec, loss = True)"
   ]
  },
  {
   "cell_type": "markdown",
   "metadata": {},
   "source": [
    "# Compute Cluster Loss"
   ]
  },
  {
   "cell_type": "code",
   "execution_count": null,
   "metadata": {
    "collapsed": false
   },
   "outputs": [],
   "source": [
    "execfile('../spark-scripts/evalClusterNew.py')\n",
    "computeClusterLoss(conf,rec)"
   ]
  },
  {
   "cell_type": "markdown",
   "metadata": {
    "collapsed": true
   },
   "source": [
    "# Compute performance with clustering just in Evaluation"
   ]
  },
  {
   "cell_type": "code",
   "execution_count": 8,
   "metadata": {
    "collapsed": false
   },
   "outputs": [],
   "source": [
    "conf['algo']['name'] = 'plain0_ImplicitPlaylist_shk_%d_clustSim_%.3f_decay_%.3f' % \\\n",
    "                    (sessionJaccardShrinkage, clusterSim, expDecay )\n",
    "    \n",
    "plainRDD = loadRecommendations(conf)\n",
    "\n",
    "execfile('../spark-scripts/evalClusterNew.py')\n",
    "#computeNewRecallPrecision(conf, plainRDD, loss = False, plain = True)\n",
    "\n",
    "plainRDD = plainRDD.map(json.loads)\n",
    "\n",
    "conf['algo']['name'] = CLUSTER_ALGO + THRESHOLD_STR + '_ImplicitPlaylist_shk_%d_clustSim_%.3f_decay_%.3f' % \\\n",
    "                    (sessionJaccardShrinkage, clusterSim, expDecay )\n",
    "    \n",
    "songToClusterRDD = clustersRDD.flatMap(lambda x: [(int(i), x[0]) for i in x[1]] )  \n",
    "\n",
    "plainFlatRDD = plainRDD.flatMap(lambda x: [(i['id'], (i['rank'], x)) for i in x['linkedinfo']['response']])\n",
    "\n",
    "plainJoinRDD = plainFlatRDD.join(songToClusterRDD).map(lambda x: (json.dumps(x[1][0][1]), (x[1][1], x[1][0][0]) ))\n",
    "\n"
   ]
  },
  {
   "cell_type": "code",
   "execution_count": 9,
   "metadata": {
    "collapsed": false
   },
   "outputs": [],
   "source": [
    "from operator import itemgetter\n",
    "def plug_clusters(x):\n",
    "    row_dic = json.loads(x[0])\n",
    "    to_be_plugged = sorted(list(x[1]), key = itemgetter(1))\n",
    "    plugged = set()\n",
    "    rank = 0\n",
    "    row_dic['linkedinfo']['response'] = []\n",
    "    \n",
    "    for i in to_be_plugged:\n",
    "        cl_id = i[0]\n",
    "        if not cl_id in plugged:\n",
    "            entry = {\"type\": \"track\", \"id\": cl_id, \"rank\": rank}\n",
    "            row_dic['linkedinfo']['response'].append(entry)\n",
    "            plugged.add(cl_id)\n",
    "            rank += 1\n",
    "            \n",
    "    return json.dumps(row_dic)\n",
    "\n",
    "plainGroupRDD = plainJoinRDD.groupByKey().map(plug_clusters)\n",
    "\n",
    "recPlainClusterRDD = plainGroupRDD.map(json.loads)"
   ]
  },
  {
   "cell_type": "code",
   "execution_count": 10,
   "metadata": {
    "collapsed": true
   },
   "outputs": [],
   "source": [
    "execfile('../spark-scripts/utilsCluster.py')\n",
    "\n",
    "recPlainCluster = mapClusterRecToListOfSongs(recPlainClusterRDD, clustersRDD)\n"
   ]
  },
  {
   "cell_type": "code",
   "execution_count": null,
   "metadata": {
    "collapsed": false
   },
   "outputs": [],
   "source": [
    "execfile('../spark-scripts/evalClusterNew.py')\n",
    "\n",
    "computeNewRecallPrecision(conf,recPlainCluster, loss = True, plain = True)"
   ]
  },
  {
   "cell_type": "code",
   "execution_count": 19,
   "metadata": {
    "collapsed": true
   },
   "outputs": [],
   "source": [
    "sendNotificationToMattia(\"Finished\", \"Check\")"
   ]
  },
  {
   "cell_type": "code",
   "execution_count": 10,
   "metadata": {
    "collapsed": false
   },
   "outputs": [
    {
     "data": {
      "text/plain": [
       "302045"
      ]
     },
     "execution_count": 10,
     "metadata": {},
     "output_type": "execute_result"
    }
   ],
   "source": [
    "splitPath = path.join(conf['general']['bucketName'], conf['general']['clientname'])\n",
    "    # basePath = \"s3n://\" + conf['general']['bucketName'] + \"/\"+conf['general']['clientname']+\"/\"\n",
    "GTpath = path.join(splitPath, \"GT\")\n",
    "    # GTpath = splitPath+\"GT\"\n",
    "\n",
    "algo_conf = conf['algo']['name'] + '_' + \\\n",
    "                '#'.join([str(v) for k, v in conf['algo']['props'].iteritems()])\n",
    "algo_conf = re.sub(r'[^A-Za-z0-9#_]', '', algo_conf)\n",
    "\n",
    "confPath = path.join(splitPath, 'Rec', algo_conf)\n",
    "recPath = path.join(confPath, \"recommendations\")\n",
    "    # recPath = splitPath+\"/Rec/\"+ conf['algo']['name']+\"/recommendations/\"\n",
    "\n",
    "gtRDD = sc.textFile(GTpath).map(lambda x: json.loads(x))\n",
    "\n",
    "gtRDD = gtRDD.map(lambda x: (x['linkedinfo']['gt'][0]['id'], [i['id'] for i in x['linkedinfo']['objects']]))\n",
    "\n",
    "gtRDD.count()"
   ]
  },
  {
   "cell_type": "code",
   "execution_count": 20,
   "metadata": {
    "collapsed": false
   },
   "outputs": [
    {
     "name": "stdout",
     "output_type": "stream",
     "text": [
      "/home/jovyan/work/notebooks/mattia/PlaylistRecMicro/playlistrec-master/notebooks\r\n"
     ]
    }
   ],
   "source": [
    "! pwd"
   ]
  },
  {
   "cell_type": "code",
   "execution_count": 42,
   "metadata": {
    "collapsed": false
   },
   "outputs": [],
   "source": [
    "DATA_PATH = '/home/jovyan/work/data/mattia'\n",
    "TEST_PATH = BASE_PATH + '/clusterBase.split/Rec/jaccardBase751_ImplicitPlaylist_shk_5_clustSim_0100_decay_0700_5#07#01/plain/newRecall@N/metrics'\n",
    "test_resultRDD = sc.textFile(TEST_PATH).collect()\n",
    "\n",
    "with open(DATA_PATH + '/results/jaccardBase751/eval/ideal/recall@N', 'w') as f:\n",
    "    for line in test_resultRDD:\n",
    "        f.write(line + '\\n')"
   ]
  },
  {
   "cell_type": "code",
   "execution_count": 17,
   "metadata": {
    "collapsed": false
   },
   "outputs": [
    {
     "data": {
      "text/plain": [
       "'/home/jovyan/work/notebooks/mattia/PlaylistRecMicro/playlistrec-master/notebooks'"
      ]
     },
     "execution_count": 17,
     "metadata": {},
     "output_type": "execute_result"
    }
   ],
   "source": [
    "os.getcwd()"
   ]
  }
 ],
 "metadata": {
  "kernelspec": {
   "display_name": "Python 2",
   "language": "python",
   "name": "python2"
  },
  "language_info": {
   "codemirror_mode": {
    "name": "ipython",
    "version": 2
   },
   "file_extension": ".py",
   "mimetype": "text/x-python",
   "name": "python",
   "nbconvert_exporter": "python",
   "pygments_lexer": "ipython2",
   "version": "2.7.11"
  }
 },
 "nbformat": 4,
 "nbformat_minor": 0
}
