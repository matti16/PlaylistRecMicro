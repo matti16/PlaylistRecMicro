{
 "cells": [
  {
   "cell_type": "markdown",
   "metadata": {},
   "source": [
    "# <hr style=\"clear: both\" />\n",
    "\n",
    "# Running Spark in YARN-client mode\n",
    "\n",
    "This notebook demonstrates how to set up a SparkContext that uses SURFsara's Hadoop cluster: [YARN resourcemanager](http://head05.hathi.surfsara.nl:8088/cluster) (note you will need to be authenticated via kerberos on your machine to visit the resourcemanager link) for executors.\n",
    "\n",
    "First initialize kerberos via a Jupyter terminal. \n",
    "In the terminal execute: <BR>\n",
    "<i>kinit -k -t data/robertop.keytab robertop@CUA.SURFSARA.NL</i><BR>\n",
    "Print your credentials:\n"
   ]
  },
  {
   "cell_type": "code",
   "execution_count": null,
   "metadata": {
    "collapsed": false
   },
   "outputs": [],
   "source": [
    "! klist"
   ]
  },
  {
   "cell_type": "code",
   "execution_count": null,
   "metadata": {
    "collapsed": false
   },
   "outputs": [],
   "source": [
    "print sc"
   ]
  },
  {
   "cell_type": "markdown",
   "metadata": {},
   "source": [
    "# <hr style=\"clear: both\" />\n",
    "\n",
    "# Now you can run your code\n",
    "\n",
    "Pick a clustering algorithm (name of the file that provides a classify(x,y [,threshold]) function)"
   ]
  },
  {
   "cell_type": "code",
   "execution_count": 180,
   "metadata": {
    "collapsed": false
   },
   "outputs": [],
   "source": [
    "execfile('../spark-scripts/conventions.py')\n",
    "execfile('../spark-scripts/eval.py')\n",
    "execfile('../spark-scripts/implicitPlaylistAlgoFunctions.py')\n",
    "execfile('../spark-scripts/implicitPlaylistAlgoMain.py')\n",
    "\n",
    "CLUSTER_ALGO = 'jaccardBase'\n",
    "\n",
    "execfile('../spark-scripts/' + CLUSTER_ALGO + '.py')\n"
   ]
  },
  {
   "cell_type": "markdown",
   "metadata": {},
   "source": [
    "# Reading the conf file"
   ]
  },
  {
   "cell_type": "code",
   "execution_count": 177,
   "metadata": {
    "collapsed": false
   },
   "outputs": [],
   "source": [
    "import json\n",
    "import copy\n",
    "\n",
    "BASE_PATH = \"/mnt/space/mattia\"\n",
    "\n",
    "conf = {}\n",
    "\n",
    "conf['split'] = {}\n",
    "conf['split']['reclistSize'] = 100\n",
    "conf['split']['callParams'] = {}\n",
    "conf['split']['excludeAlreadyListenedTest'] = True\n",
    "conf['split']['name'] = 'SenzaRipetizioni_1'\n",
    "conf['split']['split'] = conf['split']['name']\n",
    "conf['split']['minEventsPerUser'] = 5\n",
    "conf['split']['inputData'] = BASE_PATH + '/' + CLUSTER_ALGO + '.split/SenzaRipetizioni_1'\n",
    "#conf['split']['inputData'] = 's3n://contentwise-research-poli/30musicdataset/newFormat/relations/sessions.idomaar'\n",
    "conf['split']['bucketName'] = BASE_PATH\n",
    "conf['split']['percUsTr'] = 0.05\n",
    "conf['split']['ts'] = int(0.75 * (1421745857 - 1390209860) + 1390209860) - 10000\n",
    "conf['split']['minEventPerSession'] = 5\n",
    "conf['split']['onlineTrainingLength'] = 5\n",
    "conf['split']['GTlength'] = 1\n",
    "conf['split']['minEventPerSessionTraining'] = 10\n",
    "conf['split']['minEventPerSessionTest'] = 11\n",
    "conf['split']['mode'] = 'session'\n",
    "conf['split']['forceSplitCreation'] = False\n",
    "conf['split'][\"prop\"] = {'reclistSize': conf['split']['reclistSize']}\n",
    "conf['split']['type'] = None\n",
    "conf['split']['out'] = BASE_PATH + '/' + CLUSTER_ALGO + '.split'\n",
    "conf['split']['location'] = '30Mdataset/relations/sessions'\n",
    "\n",
    "conf['evaluation'] = {}\n",
    "conf['evaluation']['metric'] = {}\n",
    "conf['evaluation']['metric']['type'] = 'recall'\n",
    "conf['evaluation']['metric']['prop'] = {}\n",
    "conf['evaluation']['metric']['prop']['N'] = [1,2,5,10,15,20,25,50,100]\n",
    "conf['evaluation']['name'] = 'recall@N'\n",
    "\n",
    "conf['general'] = {}\n",
    "conf['general']['clientname'] = CLUSTER_ALGO + '.split'\n",
    "conf['general']['bucketName'] = BASE_PATH\n",
    "conf['general']['tracksPath'] = '30Mdataset/entities/tracks.idomaar.gz'\n",
    "\n",
    "conf['algo'] = {}\n",
    "conf['algo']['name'] = CLUSTER_ALGO\n",
    "conf['algo']['props'] = {}\n",
    "# ***** EXAMPLE OF CONFIGURATION *****#\n",
    "conf['algo']['props'][\"sessionJaccardShrinkage\"] = 5\n",
    "conf['algo']['props'][\"clusterSimilarityThreshold\"] = 0.1\n",
    "conf['algo']['props'][\"expDecayFactor\"] = 0.7\n",
    "# ****** END EXAMPLE ****************#"
   ]
  },
  {
   "cell_type": "markdown",
   "metadata": {},
   "source": [
    "# <hr style=\"clear: both\" />\n",
    "# Pick the list of songs ad create clusters\n"
   ]
  },
  {
   "cell_type": "code",
   "execution_count": null,
   "metadata": {
    "collapsed": false
   },
   "outputs": [],
   "source": [
    "import json\n",
    "import string\n",
    "\n",
    "def my_replace_punct(x):\n",
    "    ret = \"\"\n",
    "    for i in x:\n",
    "        if i == '+':\n",
    "            ret += ' '\n",
    "        else:\n",
    "            ret += i\n",
    "    return ret\n",
    "\n",
    "tracksRDD = sc.textFile(BASE_PATH + '/30Mdataset/entities/tracks.idomaar.gz')\n",
    "tracksRDD = tracksRDD.map(lambda x: x.split('\\t')).map(lambda x: (x[1], json.loads(x[3])['name'].split('/') ) )\n",
    "tracksRDD = tracksRDD.map(lambda x: (x[0], \" \".join( (x[1][0], x[1][2]) ) ))\n",
    "tracksRDD = tracksRDD.map(lambda x : (x[0], my_replace_punct(x[1])))\n",
    "tracksRDD = tracksRDD.map(lambda x: (x[0], tokenize_song(x[1]), x[1]))\n",
    "\n",
    "\n",
    "sampleRDD = tracksRDD.take(5000)\n",
    "sampleRDD = sc.parallelize(sampleRDD)\n",
    "\n",
    "tracksIdsRDD = sampleRDD.map(lambda x: (x[0], [x[0]]))\n",
    "\n",
    "sampleRDD.take(3)\n"
   ]
  },
  {
   "cell_type": "markdown",
   "metadata": {},
   "source": [
    "# <hr style=\"clear: both\" />\n",
    "\n",
    "Reduce the quantity of data by building RDD {word -> songs}.\n",
    "For each word keep only couples of songs that match.\n"
   ]
  },
  {
   "cell_type": "code",
   "execution_count": null,
   "metadata": {
    "collapsed": false,
    "scrolled": false
   },
   "outputs": [],
   "source": [
    "#Build an RDD with ('word' -> (id, name))\n",
    "wordsRDD = sampleRDD.flatMap(lambda x: [(i, (x[0], x[2])) for i in x[1]] )\n",
    "wordsRDD.take(3)\n",
    "\n",
    "#Group by 'word' and keep only the ones with more then 1 song\n",
    "wordsRDD = wordsRDD.groupByKey().mapValues(list).filter(lambda x: len(x[1]) > 1)\n",
    "\n",
    "#Compute a cartesian product for each list of songs with a common word\n",
    "def filtered_cartesian(x):\n",
    "    equal_couples = set()\n",
    "    for i in range(len(x[1])):\n",
    "        a = x[1][i]\n",
    "        id_a = x[1][i][0]\n",
    "        name_a = x[1][i][1]\n",
    "        \n",
    "        for j in range(i):\n",
    "            b = x[1][j]\n",
    "            id_b = x[1][j][0]\n",
    "            name_b = x[1][j][1]\n",
    "            if id_a != id_b:\n",
    "                if classify(name_a, name_b):\n",
    "                    equal_couples.add((a,b))\n",
    "                    \n",
    "    return (x[0], tuple(equal_couples))\n",
    "\n",
    "coupleRDD = wordsRDD.map(filtered_cartesian).filter(lambda x: len(x[1]) > 1)\n",
    "coupleRDD.take(3)"
   ]
  },
  {
   "cell_type": "markdown",
   "metadata": {},
   "source": [
    "# <hr style=\"clear: both\" />\n",
    "Flip the dataset and map each song to the couples it belongs to. \n",
    "Group by key and for each song you have a cluster!\n"
   ]
  },
  {
   "cell_type": "code",
   "execution_count": null,
   "metadata": {
    "collapsed": false
   },
   "outputs": [],
   "source": [
    "#Flatmap the list of couples\n",
    "flattedCoupleRDD = coupleRDD.flatMap(lambda x: [i for i in x[1]])\n",
    "#For each couple, for each song, yield song->couple\n",
    "flattedCoupleRDD = flattedCoupleRDD.flatMap(lambda x: ((i[0], (x[0], x[1]) )for i in x) )\n",
    "\n",
    "\n",
    "#Group by key (song). Each song has now one cluster\n",
    "def merge_couples(x, y):\n",
    "    return list(set(x) | set(y))\n",
    "\n",
    "songClusterRDD = flattedCoupleRDD.reduceByKey(merge_couples).map(lambda x: (x[0], [i[0] for i in x[1]]))\n",
    "songClusterRDD.take(30)"
   ]
  },
  {
   "cell_type": "markdown",
   "metadata": {},
   "source": [
    "# <hr style=\"clear: both\" />\n",
    "Complete the clusters with all the other songs. \n",
    "Then we need to map cluster to songs to have new IDs."
   ]
  },
  {
   "cell_type": "code",
   "execution_count": null,
   "metadata": {
    "collapsed": false,
    "scrolled": false
   },
   "outputs": [],
   "source": [
    "#In this way we obtain a complete RDD with song -> group of songs\n",
    "def reduce_to_biggest(x, y):\n",
    "    bigger = x if len(x) > len(y) else y\n",
    "    result = sorted(bigger)\n",
    "    return result\n",
    "           \n",
    "unionRDD = songClusterRDD.union(tracksIdsRDD).reduceByKey(reduce_to_biggest)\n",
    "unionRDD.take(100)\n"
   ]
  },
  {
   "cell_type": "markdown",
   "metadata": {},
   "source": [
    "# <hr style=\"clear: both\" />\n",
    "We have song -> cluster. We map inversly (cluster -> song) and group by key (cluster).\n",
    "Finally we zip with index and obtain new IDs."
   ]
  },
  {
   "cell_type": "code",
   "execution_count": null,
   "metadata": {
    "collapsed": false,
    "scrolled": false
   },
   "outputs": [],
   "source": [
    "#Flip the mapping as cluster->song\n",
    "clusterSongsRDD = unionRDD.map(lambda x: (' '.join(x[1]), x[0])).groupByKey().mapValues(list)\n",
    "clusterSongsRDD = clusterSongsRDD.zipWithIndex().map(lambda x: (x[1], x[0][1]))\n",
    "clusterSongsRDD.take(300)"
   ]
  },
  {
   "cell_type": "markdown",
   "metadata": {},
   "source": [
    "# <hr style=\"clear: both\" />\n",
    "Save the RDD (newID, songs) in \"/mnt/space/mattia/clusters/[ALGORITHM]\""
   ]
  },
  {
   "cell_type": "code",
   "execution_count": null,
   "metadata": {
    "collapsed": true
   },
   "outputs": [],
   "source": [
    "#Save clustering\n",
    "clusterSongsRDD.saveAsTextFile(BASE_PATH + '/clusters/' + CLUSTER_ALGO)"
   ]
  },
  {
   "cell_type": "code",
   "execution_count": 194,
   "metadata": {
    "collapsed": false
   },
   "outputs": [
    {
     "data": {
      "text/plain": [
       "[(u'151', 0),\n",
       " (u'605', 1),\n",
       " (u'1164', 2),\n",
       " (u'3922', 3),\n",
       " (u'3773', 4),\n",
       " (u'4260', 5),\n",
       " (u'2617', 6),\n",
       " (u'740', 7),\n",
       " (u'1304', 8),\n",
       " (u'2594', 9),\n",
       " (u'1227', 10),\n",
       " (u'883', 11),\n",
       " (u'2778', 12),\n",
       " (u'1142', 13),\n",
       " (u'3948', 14),\n",
       " (u'3759', 15),\n",
       " (u'2734', 16),\n",
       " (u'4303', 17),\n",
       " (u'1788', 18),\n",
       " (u'1322', 19),\n",
       " (u'4365', 20),\n",
       " (u'623', 21),\n",
       " (u'1087', 22),\n",
       " (u'3827', 23),\n",
       " (u'4329', 24),\n",
       " (u'2712', 25),\n",
       " (u'2903', 26),\n",
       " (u'3593', 27),\n",
       " (u'1348', 28),\n",
       " (u'4189', 29),\n",
       " (u'3904', 30),\n",
       " (u'2860', 31),\n",
       " (u'1128', 32),\n",
       " (u'3715', 33),\n",
       " (u'2640', 34),\n",
       " (u'2670', 34),\n",
       " (u'4080', 35),\n",
       " (u'216', 36),\n",
       " (u'591', 37),\n",
       " (u'2477', 38),\n",
       " (u'2965', 39),\n",
       " (u'458', 40),\n",
       " (u'2929', 41),\n",
       " (u'3905', 42),\n",
       " (u'150', 43),\n",
       " (u'3714', 44),\n",
       " (u'604', 45),\n",
       " (u'2779', 46),\n",
       " (u'4081', 47),\n",
       " (u'2964', 48),\n",
       " (u'459', 49),\n",
       " (u'217', 50),\n",
       " (u'2476', 51),\n",
       " (u'2928', 52),\n",
       " (u'1165', 53),\n",
       " (u'3923', 54),\n",
       " (u'1143', 55),\n",
       " (u'3772', 56),\n",
       " (u'2616', 57),\n",
       " (u'741', 58),\n",
       " (u'1305', 59),\n",
       " (u'1226', 60),\n",
       " (u'4364', 61),\n",
       " (u'1086', 62),\n",
       " (u'882', 63),\n",
       " (u'4302', 64),\n",
       " (u'3949', 65),\n",
       " (u'3758', 66),\n",
       " (u'2735', 67),\n",
       " (u'1789', 68),\n",
       " (u'622', 69),\n",
       " (u'1323', 70),\n",
       " (u'4188', 71),\n",
       " (u'3826', 72),\n",
       " (u'4328', 73),\n",
       " (u'590', 74),\n",
       " (u'2595', 75),\n",
       " (u'3592', 76),\n",
       " (u'1349', 77),\n",
       " (u'2713', 78)]"
      ]
     },
     "execution_count": 194,
     "metadata": {},
     "output_type": "execute_result"
    }
   ],
   "source": [
    "songToCLusterRDD= clusterSongsRDD.flatMap(lambda x: ((i, x[0]) for i in x[1]) )\n",
    "songToCLusterRDD.take(3)"
   ]
  },
  {
   "cell_type": "markdown",
   "metadata": {},
   "source": [
    "# <hr style=\"clear: both\" />\n",
    "Split the data"
   ]
  },
  {
   "cell_type": "code",
   "execution_count": 185,
   "metadata": {
    "collapsed": false
   },
   "outputs": [],
   "source": [
    "execfile('../spark-scripts/splitCluster2.py')\n",
    "splitter(conf)"
   ]
  },
  {
   "cell_type": "markdown",
   "metadata": {},
   "source": [
    "It's time to substitute songs with their cluster"
   ]
  },
  {
   "cell_type": "code",
   "execution_count": 189,
   "metadata": {
    "collapsed": false
   },
   "outputs": [
    {
     "data": {
      "text/plain": [
       "[u'{\"linkedinfo\": {\"subjects\": [{\"type\": \"user\", \"id\": 14598}], \"objects\": [{\"playratio\": 1.01, \"playstart\": 0, \"action\": \"play\", \"playtime\": 194, \"type\": \"track\", \"id\": 276164}, {\"playratio\": 1.0, \"playstart\": 194, \"action\": \"play\", \"playtime\": 179, \"type\": \"track\", \"id\": 276174}, {\"playratio\": 1.0, \"playstart\": 373, \"action\": \"play\", \"playtime\": 205, \"type\": \"track\", \"id\": 276202}, {\"playratio\": 0.77, \"playstart\": 578, \"action\": \"play\", \"playtime\": 288, \"type\": \"track\", \"id\": 276224}, {\"playratio\": 1.02, \"playstart\": 866, \"action\": \"play\", \"playtime\": 158, \"type\": \"track\", \"id\": 276240}, {\"playratio\": 1.01, \"playstart\": 1024, \"action\": \"play\", \"playtime\": 183, \"type\": \"track\", \"id\": 276192}, {\"playratio\": 1.0, \"playstart\": 1207, \"action\": \"play\", \"playtime\": 193, \"type\": \"track\", \"id\": 276163}, {\"playratio\": 1.0, \"playstart\": 1400, \"action\": \"play\", \"playtime\": 217, \"type\": \"track\", \"id\": 276255}, {\"playratio\": 0.85, \"playstart\": 1617, \"action\": \"play\", \"playtime\": 282, \"type\": \"track\", \"id\": 276218}, {\"playratio\": 1.0, \"playstart\": 1899, \"action\": \"play\", \"playtime\": 205, \"type\": \"track\", \"id\": 276201}, {\"playratio\": 1.34, \"playstart\": 2104, \"action\": \"play\", \"playtime\": 290, \"type\": \"track\", \"id\": 276271}, {\"playratio\": 2.53, \"playstart\": 2394, \"action\": \"play\", \"playtime\": 394, \"type\": \"track\", \"id\": 276195}, {\"playratio\": 1.07, \"playstart\": 2788, \"action\": \"play\", \"playtime\": 492, \"type\": \"track\", \"id\": 2236476}, {\"playratio\": 1.0, \"playstart\": 3280, \"action\": \"play\", \"playtime\": 405, \"type\": \"track\", \"id\": 2373677}, {\"playratio\": 1.02, \"playstart\": 3685, \"action\": \"play\", \"playtime\": 99, \"type\": \"track\", \"id\": 2373621}, {\"playratio\": 1.0, \"playstart\": 3784, \"action\": \"play\", \"playtime\": 389, \"type\": \"track\", \"id\": 2373617}, {\"playratio\": 1.35, \"playstart\": 4173, \"action\": \"play\", \"playtime\": 120, \"type\": \"track\", \"id\": 2373624}, {\"playratio\": 1.08, \"playstart\": 4293, \"action\": \"play\", \"playtime\": 297, \"type\": \"track\", \"id\": 2373679}, {\"playratio\": 1.0, \"playstart\": 4590, \"action\": \"play\", \"playtime\": 216, \"type\": \"track\", \"id\": 2373666}, {\"playratio\": 1.01, \"playstart\": 4806, \"action\": \"play\", \"playtime\": 118, \"type\": \"track\", \"id\": 2373622}, {\"playratio\": 0.97, \"playstart\": 4924, \"action\": \"play\", \"playtime\": 305, \"type\": \"track\", \"id\": 2373639}, {\"playratio\": 1.0, \"playstart\": 5229, \"action\": \"play\", \"playtime\": 232, \"type\": \"track\", \"id\": 2214692}, {\"playratio\": 1.0, \"playstart\": 5461, \"action\": \"play\", \"playtime\": 200, \"type\": \"track\", \"id\": 2214756}, {\"playratio\": 3.01, \"playstart\": 5661, \"action\": \"play\", \"playtime\": 668, \"type\": \"track\", \"id\": 2214677}, {\"playratio\": 1.01, \"playstart\": 6329, \"action\": \"play\", \"playtime\": 177, \"type\": \"track\", \"id\": 276165}, {\"playratio\": 0.99, \"playstart\": 6506, \"action\": \"play\", \"playtime\": 196, \"type\": \"track\", \"id\": 276237}, {\"playratio\": 1.0, \"playstart\": 6702, \"action\": \"play\", \"playtime\": 260, \"type\": \"track\", \"id\": 276229}, {\"playratio\": 1.01, \"playstart\": 6962, \"action\": \"play\", \"playtime\": 209, \"type\": \"track\", \"id\": 276258}, {\"playratio\": 1.01, \"playstart\": 7171, \"action\": \"play\", \"playtime\": 368, \"type\": \"track\", \"id\": 276217}, {\"playratio\": 1.0, \"playstart\": 7539, \"action\": \"play\", \"playtime\": 183, \"type\": \"track\", \"id\": 276220}, {\"playratio\": null, \"playstart\": 7722, \"action\": null, \"playtime\": -1, \"type\": \"track\", \"id\": 276185}]}, \"properties\": {\"playtime\": 7721, \"numtracks\": 31}, \"type\": \"event.session\", \"id\": \"637019\", \"ts\": \"1404978977\"}']"
      ]
     },
     "execution_count": 189,
     "metadata": {},
     "output_type": "execute_result"
    }
   ],
   "source": [
    "execfile('../spark-scripts/utilsCluster2.py')\n",
    "train, test = loadDataset(conf)\n",
    "train.cache()\n",
    "test.cache()\n",
    "train.take(1)"
   ]
  },
  {
   "cell_type": "code",
   "execution_count": null,
   "metadata": {
    "collapsed": false
   },
   "outputs": [],
   "source": [
    "from os import path\n",
    "basePath = path.join(conf['general']['bucketName'], conf['general']['clientname'])\n",
    "splitPath = path.join(basePath, conf['split']['name'])\n",
    "\n",
    "clusterSimList = [0.1]\n",
    "sessionJaccardShrinkageList = [5]\n",
    "expDecayList = [0.7]\n",
    "\n",
    "for exclude in [True]:\n",
    "    conf['split']['excludeAlreadyListenedTest'] = str(exclude)\n",
    "    #conf['split']['name'] = 'giroCompletoTestMultipleConfs_exclude%s' % exclude\n",
    "    #splitter(conf)\n",
    "    #train, test = loadDataset(conf)\n",
    "    #train.cache()\n",
    "    #test.cache()\n",
    "    \n",
    "    for sessionJaccardShrinkage in sessionJaccardShrinkageList:\n",
    "        conf['algo']['props'][\"sessionJaccardShrinkage\"] = sessionJaccardShrinkage\n",
    "        \n",
    "        for clusterSim in clusterSimList:\n",
    "            conf['algo']['props'][\"clusterSimilarityThreshold\"] = clusterSim\n",
    "            \n",
    "            playlists = extractImplicitPlaylists(train, conf).cache()\n",
    "            \n",
    "            for expDecay in expDecayList:\n",
    "                conf['algo']['props'][\"expDecayFactor\"] = expDecay\n",
    "                conf['algo']['name'] = CLUSTER_ALGO + '_ImplicitPlaylist_shk_%d_clustSim_%.3f_decay_%.3f' % \\\n",
    "                    (sessionJaccardShrinkage, clusterSim, expDecay )\n",
    "\n",
    "                recJsonRDD = executeImplicitPlaylistAlgo(playlists, test, conf)\n",
    "                try:\n",
    "                    saveRecommendations(conf, recJsonRDD, overwrite=True)\n",
    "                    try:\n",
    "                        computeMetrics(conf)\n",
    "                    except:\n",
    "                        print 'Error in computing metrics'\n",
    "                except:\n",
    "                    print 'Error in saving recommndations'\n",
    "                    try:\n",
    "                        computeMetrics(conf)\n",
    "                    except:\n",
    "                        print 'Error in computing metrics'"
   ]
  }
 ],
 "metadata": {
  "kernelspec": {
   "display_name": "Python 2",
   "language": "python",
   "name": "python2"
  },
  "language_info": {
   "codemirror_mode": {
    "name": "ipython",
    "version": 2
   },
   "file_extension": ".py",
   "mimetype": "text/x-python",
   "name": "python",
   "nbconvert_exporter": "python",
   "pygments_lexer": "ipython2",
   "version": "2.7.11"
  }
 },
 "nbformat": 4,
 "nbformat_minor": 0
}
