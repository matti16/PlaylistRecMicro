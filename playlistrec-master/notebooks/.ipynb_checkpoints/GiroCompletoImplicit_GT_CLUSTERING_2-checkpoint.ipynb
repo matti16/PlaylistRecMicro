{
 "cells": [
  {
   "cell_type": "markdown",
   "metadata": {},
   "source": [
    "# <hr style=\"clear: both\" />\n",
    "\n",
    "# Running Spark in YARN-client mode\n",
    "\n",
    "This notebook demonstrates how to set up a SparkContext that uses SURFsara's Hadoop cluster: [YARN resourcemanager](http://head05.hathi.surfsara.nl:8088/cluster) (note you will need to be authenticated via kerberos on your machine to visit the resourcemanager link) for executors.\n",
    "\n",
    "First initialize kerberos via a Jupyter terminal. \n",
    "In the terminal execute: <BR>\n",
    "<i>kinit -k -t data/robertop.keytab robertop@CUA.SURFSARA.NL</i><BR>\n",
    "Print your credentials:\n"
   ]
  },
  {
   "cell_type": "code",
   "execution_count": 1,
   "metadata": {
    "collapsed": false
   },
   "outputs": [
    {
     "name": "stdout",
     "output_type": "stream",
     "text": [
      "Ticket cache: FILE:/tmp/krb5cc_1001\r\n",
      "Default principal: robertop@CUA.SURFSARA.NL\r\n",
      "\r\n",
      "Valid starting       Expires              Service principal\r\n",
      "04/12/2016 13:42:29  04/13/2016 13:42:29  krbtgt/CUA.SURFSARA.NL@CUA.SURFSARA.NL\r\n",
      "\trenew until 04/12/2016 13:42:29\r\n"
     ]
    }
   ],
   "source": [
    "! klist"
   ]
  },
  {
   "cell_type": "code",
   "execution_count": 1,
   "metadata": {
    "collapsed": false
   },
   "outputs": [
    {
     "name": "stdout",
     "output_type": "stream",
     "text": [
      "<pyspark.context.SparkContext object at 0x7fbf28040550>\n"
     ]
    }
   ],
   "source": [
    "print sc"
   ]
  },
  {
   "cell_type": "markdown",
   "metadata": {},
   "source": [
    "# <hr style=\"clear: both\" />\n",
    "\n",
    "# Now you can run your code\n",
    "\n",
    "Pick a clustering algorithm (name of the file that provides a classify(x,y [,threshold]) function)"
   ]
  },
  {
   "cell_type": "code",
   "execution_count": 2,
   "metadata": {
    "collapsed": false
   },
   "outputs": [],
   "source": [
    "execfile('../spark-scripts/conventions.py')\n",
    "execfile('../spark-scripts/splitCluster2.py')\n",
    "#execfile('../spark-scripts/utils.py')\n",
    "execfile('../spark-scripts/eval.py')\n",
    "execfile('../spark-scripts/implicitPlaylistAlgoFunctions.py')\n",
    "execfile('../spark-scripts/implicitPlaylistAlgoMain.py')\n",
    "\n",
    "CLUSTER_ALGO = 'jaccardBase'\n",
    "\n",
    "execfile('../spark-scripts/' + CLUSTER_ALGO + '.py')\n"
   ]
  },
  {
   "cell_type": "markdown",
   "metadata": {},
   "source": [
    "# Reading the conf file"
   ]
  },
  {
   "cell_type": "code",
   "execution_count": 3,
   "metadata": {
    "collapsed": false
   },
   "outputs": [],
   "source": [
    "import json\n",
    "import copy\n",
    "\n",
    "BASE_PATH = \"/mnt/space/mattia\"\n",
    "\n",
    "conf = {}\n",
    "\n",
    "conf['split'] = {}\n",
    "conf['split']['reclistSize'] = 100\n",
    "conf['split']['callParams'] = {}\n",
    "conf['split']['excludeAlreadyListenedTest'] = True\n",
    "conf['split']['name'] = 'SenzaRipetizioni_1'\n",
    "conf['split']['split'] = conf['split']['name']\n",
    "conf['split']['minEventsPerUser'] = 5\n",
    "conf['split']['inputData'] = BASE_PATH + '/' + CLUSTER_ALGO + '.split/SenzaRipetizioni_1'\n",
    "#conf['split']['inputData'] = 's3n://contentwise-research-poli/30musicdataset/newFormat/relations/sessions.idomaar'\n",
    "conf['split']['bucketName'] = BASE_PATH\n",
    "conf['split']['percUsTr'] = 0.05\n",
    "conf['split']['ts'] = int(0.75 * (1421745857 - 1390209860) + 1390209860) - 10000\n",
    "conf['split']['minEventPerSession'] = 5\n",
    "conf['split']['onlineTrainingLength'] = 5\n",
    "conf['split']['GTlength'] = 1\n",
    "conf['split']['minEventPerSessionTraining'] = 10\n",
    "conf['split']['minEventPerSessionTest'] = 11\n",
    "conf['split']['mode'] = 'session'\n",
    "conf['split']['forceSplitCreation'] = False\n",
    "conf['split'][\"prop\"] = {'reclistSize': conf['split']['reclistSize']}\n",
    "conf['split']['type'] = list\n",
    "conf['split']['out'] = BASE_PATH + '/' + CLUSTER_ALGO + '.split'\n",
    "conf['split']['location'] = '30Mdataset/relations/sessions'\n",
    "\n",
    "conf['evaluation'] = {}\n",
    "conf['evaluation']['metric'] = {}\n",
    "conf['evaluation']['metric']['type'] = 'recall'\n",
    "conf['evaluation']['metric']['prop'] = {}\n",
    "conf['evaluation']['metric']['prop']['N'] = [1,2,5,10,15,20,25,50,100]\n",
    "conf['evaluation']['name'] = 'recall@N'\n",
    "\n",
    "conf['general'] = {}\n",
    "conf['general']['clientname'] = CLUSTER_ALGO + '.split'\n",
    "conf['general']['bucketName'] = BASE_PATH\n",
    "conf['general']['tracksPath'] = '30Mdataset/entities/tracks.idomaar.gz'\n",
    "\n",
    "conf['algo'] = {}\n",
    "conf['algo']['name'] = CLUSTER_ALGO\n",
    "conf['algo']['props'] = {}\n",
    "# ***** EXAMPLE OF CONFIGURATION *****#\n",
    "conf['algo']['props'][\"sessionJaccardShrinkage\"] = 5\n",
    "conf['algo']['props'][\"clusterSimilarityThreshold\"] = 0.1\n",
    "conf['algo']['props'][\"expDecayFactor\"] = 0.7\n",
    "# ****** END EXAMPLE ****************#"
   ]
  },
  {
   "cell_type": "markdown",
   "metadata": {},
   "source": [
    "\n",
    "Pick the list of songs ad create clusters\n"
   ]
  },
  {
   "cell_type": "code",
   "execution_count": 37,
   "metadata": {
    "collapsed": false
   },
   "outputs": [
    {
     "data": {
      "text/plain": [
       "[(u'0',\n",
       "  [u'000003',\n",
       "   u'music',\n",
       "   u'instructor',\n",
       "   u'dj27s',\n",
       "   u'rock',\n",
       "   u'da',\n",
       "   u'house',\n",
       "   u'c382e28988c386e28988c38a01',\n",
       "   u'dj',\n",
       "   u'maxpulemet',\n",
       "   u'vs',\n",
       "   u'bomfunk',\n",
       "   u'mc27s',\n",
       "   u'electro',\n",
       "   u'breakdance',\n",
       "   u'party',\n",
       "   u'1',\n",
       "   u'5b20005d',\n",
       "   u'cd',\n",
       "   u'onec382e28988c386e28988c38a'],\n",
       "  u'000003 Music Instructor Dj%27s Rock Da House %C3%82%E2%89%88%C3%86%E2%89%88%C3%8A01 - Dj Max-Pulemet Vs. Bomfunk Mc%27s - Electro Breakdance party 1 %5B2000%5D = CD ONE%C3%82%E2%89%88%C3%86%E2%89%88%C3%8A'),\n",
       " (u'1',\n",
       "  [u'0001', u'd0a2d0b5d0bad181d182'],\n",
       "  u'00-01 %D0%A2%D0%B5%D0%BA%D1%81%D1%82'),\n",
       " (u'2', [u'0005', u'overkill', u'overkill'], u'0005. Overkill Overkill')]"
      ]
     },
     "execution_count": 37,
     "metadata": {},
     "output_type": "execute_result"
    }
   ],
   "source": [
    "import json\n",
    "import string\n",
    "\n",
    "def my_replace_punct(x):\n",
    "    ret = \"\"\n",
    "    for i in x:\n",
    "        if i == '+':\n",
    "            ret += ' '\n",
    "        else:\n",
    "            ret += i\n",
    "    return ret\n",
    "\n",
    "tracksRDD = sc.textFile(BASE_PATH + '/30Mdataset/entities/tracks.idomaar.gz')\n",
    "tracksRDD = tracksRDD.map(lambda x: x.split('\\t')).map(lambda x: (x[1], json.loads(x[3])['name'].split('/') ) )\n",
    "tracksRDD = tracksRDD.map(lambda x: (x[0], \" \".join( (x[1][0], x[1][2]) ) ))\n",
    "tracksRDD = tracksRDD.map(lambda x : (x[0], my_replace_punct(x[1])))\n",
    "tracksRDD = tracksRDD.map(lambda x: (x[0], tokenize_song(x[1]), x[1]))\n",
    "\n",
    "sampleRDD = tracksRDD.take(50000)\n",
    "sampleRDD = sc.parallelize(sampleRDD)\n",
    "sampleRDD.take(3)"
   ]
  },
  {
   "cell_type": "markdown",
   "metadata": {},
   "source": [
    "\n",
    "Reduce the quantity of data by building RDD {word -> songs}.\n",
    "For each for keep only couples of songs that matches.\n"
   ]
  },
  {
   "cell_type": "code",
   "execution_count": 42,
   "metadata": {
    "collapsed": false,
    "scrolled": false
   },
   "outputs": [
    {
     "data": {
      "text/plain": [
       "[(u'and',\n",
       "  (((u'3081', u'112 Peaches And Cream'),\n",
       "    (u'2997', u'112 112 - Peaches and Cream')),\n",
       "   ((u'2859', u'10 Years ... And All The Other Colors'),\n",
       "    (u'2858', u'10 Years ...And All the Other Colors')),\n",
       "   ((u'43005',\n",
       "     u'69 Jazzfunkclassics - Ladies and gentlemen 69 Jazzfunkclassics - Ladies and gentlemen'),\n",
       "    (u'43004', u'69 Jazzfunkclassics Ladies and Gentlemen')),\n",
       "   ((u'19408', u'%3F and the Mysterians Can%27t Get Enough Of You, Baby'),\n",
       "    (u'19407', u'%3F and the Mysterians Can%27t Get Enough of You Baby')),\n",
       "   ((u'38964', u'%5Bunknown%5D Shut Up And Drive - Rihanna'),\n",
       "    (u'38420', u'%5Bunknown%5D Rihanna - Shut Up And Drive')),\n",
       "   ((u'47512',\n",
       "     u'9GOATS BLACK OUT Melancholy and the loneliness -%22%E6%86%82%E9%AC%B1%E3%81%A8%E5%AD%A4%E7%8B%AC%22 re-mix-'),\n",
       "    (u'47511',\n",
       "     u'9GOATS BLACK OUT Melancholy and the loneliness- %22%E6%86%82%E9%AC%B1%E3%81%A8%E5%AD%A4%E7%8B%AC%22 re-mix -')),\n",
       "   ((u'39817', u'%5Bunknown%5D The 12 Days of Christmas - Kunt and the Gang!'),\n",
       "    (u'35472', u'%5Bunknown%5D Kunt and the Gang - The 12 Days of Christmas')),\n",
       "   ((u'12792', u'2Pac (Feat. Dr. Dre And Roger Troutman) California Love'),\n",
       "    (u'12641', u'2Pac California Love (Feat. Dr. Dre and Roger Troutman)')),\n",
       "   ((u'44921', u'801 Law and Order (Live)'),\n",
       "    (u'44920', u'801 Law and Order - Live')),\n",
       "   ((u'14872',\n",
       "     u'30 Seconds to Mars Kings And Queens - Innerpartysystem Remix Main'),\n",
       "    (u'14871',\n",
       "     u'30 Seconds to Mars Kings and Queens (Innerpartysystem Remix Main)')),\n",
       "   ((u'8285', u'22-20s Shake, Shiver, And Moan'),\n",
       "    (u'8284', u'22-20s Shake, Shiver and Moan')),\n",
       "   ((u'48995', u'Aaliyah Back And  Forth'),\n",
       "    (u'48994', u'Aaliyah Back and Forth')),\n",
       "   ((u'28239', u'%5Bunknown%5D 1846 Suppe Poet And Peasant - Overture'),\n",
       "    (u'28238', u'%5Bunknown%5D 1846 Suppe - Poet and Peasant - Overture')),\n",
       "   ((u'13449', u'2Pac To Live And Die In L.A. feat. Val Young'),\n",
       "    (u'13448', u'2Pac to live and die in l.a. (feat. Val Young)')),\n",
       "   ((u'26049',\n",
       "     u'%5BThe%5D Slowest Runner %5Bin all the world%5D As the sea swells she bleats and moans like a goat in heat.'),\n",
       "    (u'26048',\n",
       "     u'%5BThe%5D Slowest Runner %5Bin all the world%5D As the sea swells she bleats and moans like a goat in heat')),\n",
       "   ((u'14881', u'30 Seconds to Mars Kings and Queens (unplugged)'),\n",
       "    (u'14880', u'30 Seconds to Mars Kings and Queens - unplugged')),\n",
       "   ((u'33648', u'%5Bunknown%5D florence and the machine heavy in your arms'),\n",
       "    (u'33647',\n",
       "     u'%5Bunknown%5D florence and the machine - heavy in your arms')))),\n",
       " (u'real',\n",
       "  (((u'49518', u'A$AP Ferg Real Thing ft. SZA'),\n",
       "    (u'49517', u'A$AP Ferg Real Thing (ft. SZA)')),\n",
       "   ((u'49516', u'A$AP Ferg Real Thing Feat. SZA'),\n",
       "    (u'49515', u'A$AP Ferg Real Thing (feat. SZA)')))),\n",
       " (u'aoki',\n",
       "  (((u'14311', u'2 Unlimited Get Ready (Steve Aoki Extended)'),\n",
       "    (u'14310', u'2 Unlimited Get Ready - Steve Aoki Extended')),\n",
       "   ((u'14309', u'2 Unlimited Get Ready (Steve Aoki Edit)'),\n",
       "    (u'14308', u'2 Unlimited Get Ready - Steve Aoki Edit')))),\n",
       " (u'beautiful',\n",
       "  (((u'14710', u'30 Seconds to Mars A Beautiful Lie (acoustic)'),\n",
       "    (u'14711', u'30 Seconds to Mars A Beautiful Lie - Acoustic')),\n",
       "   ((u'14711', u'30 Seconds to Mars A Beautiful Lie - Acoustic'),\n",
       "    (u'14710', u'30 Seconds to Mars A Beautiful Lie (acoustic)')),\n",
       "   ((u'26047',\n",
       "     u'%5BThe%5D Slowest Runner %5Bin all the world%5D A Moor Slave Dreams of a Beautiful Woman He Will Never Meet.'),\n",
       "    (u'26046',\n",
       "     u'%5BThe%5D Slowest Runner %5Bin all the world%5D A Moor slave dreams of a beautiful woman he will never meet')),\n",
       "   ((u'14715', u'30 Seconds to Mars A Beautiful Lie (Half Caf)'),\n",
       "    (u'14714', u'30 Seconds to Mars A Beautiful Lie - Half Caf')),\n",
       "   ((u'11848', u'2 Men Ahead Life Is Beautiful (Original Mix)'),\n",
       "    (u'11847', u'2 Men Ahead Life Is Beautiful - Original Mix')))),\n",
       " (u'world5d',\n",
       "  (((u'26047',\n",
       "     u'%5BThe%5D Slowest Runner %5Bin all the world%5D A Moor Slave Dreams of a Beautiful Woman He Will Never Meet.'),\n",
       "    (u'26046',\n",
       "     u'%5BThe%5D Slowest Runner %5Bin all the world%5D A Moor slave dreams of a beautiful woman he will never meet')),\n",
       "   ((u'26054',\n",
       "     u'%5BThe%5D Slowest Runner %5Bin all the world%5D This is water.'),\n",
       "    (u'26053',\n",
       "     u'%5BThe%5D Slowest Runner %5Bin all the world%5D This is water')),\n",
       "   ((u'26049',\n",
       "     u'%5BThe%5D Slowest Runner %5Bin all the world%5D As the sea swells she bleats and moans like a goat in heat.'),\n",
       "    (u'26048',\n",
       "     u'%5BThe%5D Slowest Runner %5Bin all the world%5D As the sea swells she bleats and moans like a goat in heat')),\n",
       "   ((u'26045',\n",
       "     u'%5BThe%5D Slowest Runner %5Bin all the world%5D A blind captain, a whispered portent, an infirm navigator.'),\n",
       "    (u'26044',\n",
       "     u'%5BThe%5D Slowest Runner %5Bin all the world%5D A blind captain, a whispered portent, an infirm navigator')))),\n",
       " (u'plastination',\n",
       "  (((u'25849',\n",
       "     u'%5B:SITD:%5D Plastination City (Sympathetic Remix by PAINBASTARD) - Sympathetic Remix by PAINBASTARD'),\n",
       "    (u'25848',\n",
       "     u'%5B:SITD:%5D Plastination City (Sympathetic Remix By Painbastard)')),\n",
       "   ((u'25849',\n",
       "     u'%5B:SITD:%5D Plastination City (Sympathetic Remix by PAINBASTARD) - Sympathetic Remix by PAINBASTARD'),\n",
       "    (u'25847',\n",
       "     u'%5B:SITD:%5D Plastination City - Sympathetic Remix by (Painbastard)')),\n",
       "   ((u'25848',\n",
       "     u'%5B:SITD:%5D Plastination City (Sympathetic Remix By Painbastard)'),\n",
       "    (u'25847',\n",
       "     u'%5B:SITD:%5D Plastination City - Sympathetic Remix by (Painbastard)')))),\n",
       " (u'heavy',\n",
       "  (((u'12898', u'2Pac Heavy In The Game (feat. Richie Rich)'),\n",
       "    (u'12809', u'2pac feat. Richie Rich Heavy In The Game')),\n",
       "   ((u'44198', u'7evenThirty Hook Heavy feat. Sean Price'),\n",
       "    (u'44197', u'7evenThirty Hook Heavy (feat. Sean Price)')),\n",
       "   ((u'33648', u'%5Bunknown%5D florence and the machine heavy in your arms'),\n",
       "    (u'33647',\n",
       "     u'%5Bunknown%5D florence and the machine - heavy in your arms')))),\n",
       " (u'syke',\n",
       "  (((u'12533', u'2Pac All Eyez On Me feat. Big Syke'),\n",
       "    (u'12532', u'2Pac All Eyez On Me (feat. Big Syke)')),\n",
       "   ((u'12579', u'2Pac Big Syke (Interlude)'),\n",
       "    (u'12578', u'2Pac Big Syke Interlude')))),\n",
       " (u'shop',\n",
       "  (((u'23329', u'50 Cent Candy Shop feat. Olivia'),\n",
       "    (u'23328', u'50 Cent Candy Shop (feat. Olivia)')),\n",
       "   ((u'23846', u'50 DJENT 2.0 Candy Shop (Djent Cover)'),\n",
       "    (u'23845', u'50 DJENT 2.0 Candy Shop (Cover)')),\n",
       "   ((u'23332', u'50 Cent Candy Shop Ft. Olivia'),\n",
       "    (u'23331', u'50 Cent Candy shop (ft. Olivia)')),\n",
       "   ((u'23337', u'50 Cent Cent Candy Shop'),\n",
       "    (u'23323', u'50 Cent Candy Shop')))),\n",
       " (u'99vidas',\n",
       "  (((u'47378', u'99Vidas 99vidas 117 - The King of Fighters'),\n",
       "    (u'47372', u'99Vidas 117 - The King of Fighters')),\n",
       "   ((u'47379', u'99Vidas 99Vidas 118 - Silent Hill 2'),\n",
       "    (u'47373', u'99Vidas 118 - Silent Hill 2'))))]"
      ]
     },
     "execution_count": 42,
     "metadata": {},
     "output_type": "execute_result"
    }
   ],
   "source": [
    "#Build an RDD with ('word' -> (id, name))\n",
    "wordsRDD = sampleRDD.flatMap(lambda x: [(i, (x[0], x[2])) for i in x[1]] )\n",
    "wordsRDD.take(3)\n",
    "\n",
    "#Group by 'word' and keep only the ones with more then 1 song\n",
    "wordsRDD = wordsRDD.groupByKey().mapValues(list).filter(lambda x: len(x[1]) > 1)\n",
    "\n",
    "#Compute a cartesian product for each list of songs with a common word\n",
    "def filtered_cartesian(x):\n",
    "    equal_couples = set()\n",
    "    for i in range(len(x[1])):\n",
    "        a = x[1][i]\n",
    "        id_a = x[1][i][0]\n",
    "        name_a = x[1][i][1]\n",
    "        \n",
    "        for j in range(i):\n",
    "            b = x[1][j]\n",
    "            id_b = x[1][j][0]\n",
    "            name_b = x[1][j][1]\n",
    "            if id_a != id_b:\n",
    "                if classify(name_a, name_b):\n",
    "                    equal_couples.add((a,b))\n",
    "                    \n",
    "    return (x[0], tuple(equal_couples))\n",
    "\n",
    "coupleRDD = wordsRDD.map(filtered_cartesian).filter(lambda x: len(x[1]) > 1)\n",
    "coupleRDD.take(10)\n"
   ]
  },
  {
   "cell_type": "code",
   "execution_count": null,
   "metadata": {
    "collapsed": false
   },
   "outputs": [],
   "source": [
    "#Merge every fucking couple with common songs\n",
    "def couple_merge(x):\n",
    "    result = set()\n",
    "    for couple in x[1]:\n",
    "        merged = False\n",
    "        for cluster in result:\n",
    "            if len(set(couple) & set(cluster)):\n",
    "                result.remove(cluster)\n",
    "                result.add(tuple(set(couple) | set(cluster)))\n",
    "                merged = True\n",
    "                break;\n",
    "        if not merged:\n",
    "            result.add(couple)\n",
    "    return (x[0], tuple(result))\n",
    "\n",
    "\n",
    "mergedRDD = coupleRDD.map(couple_merge)\n",
    "mergedRDD.flatMap(lambda x: [i for i in x[1]]).distinct().count()"
   ]
  },
  {
   "cell_type": "code",
   "execution_count": null,
   "metadata": {
    "collapsed": true
   },
   "outputs": [],
   "source": []
  },
  {
   "cell_type": "code",
   "execution_count": null,
   "metadata": {
    "collapsed": true
   },
   "outputs": [],
   "source": [
    "splitter(conf)"
   ]
  },
  {
   "cell_type": "code",
   "execution_count": null,
   "metadata": {
    "collapsed": false
   },
   "outputs": [],
   "source": [
    "from os import path\n",
    "basePath = path.join(conf['general']['bucketName'], conf['general']['clientname'])\n",
    "splitPath = path.join(basePath, conf['split']['name'])\n",
    "\n",
    "clusterSimList = [0.1]\n",
    "sessionJaccardShrinkageList = [5]\n",
    "expDecayList = [0.7]\n",
    "\n",
    "for exclude in [True]:\n",
    "    conf['split']['excludeAlreadyListenedTest'] = str(exclude)\n",
    "    #conf['split']['name'] = 'giroCompletoTestMultipleConfs_exclude%s' % exclude\n",
    "    #splitter(conf)\n",
    "    train, test = loadDataset(conf)\n",
    "    train.cache()\n",
    "    test.cache()\n",
    "    \n",
    "    for sessionJaccardShrinkage in sessionJaccardShrinkageList:\n",
    "        conf['algo']['props'][\"sessionJaccardShrinkage\"] = sessionJaccardShrinkage\n",
    "        \n",
    "        for clusterSim in clusterSimList:\n",
    "            conf['algo']['props'][\"clusterSimilarityThreshold\"] = clusterSim\n",
    "            \n",
    "            playlists = extractImplicitPlaylists(train, conf).cache()\n",
    "            \n",
    "            for expDecay in expDecayList:\n",
    "                conf['algo']['props'][\"expDecayFactor\"] = expDecay\n",
    "                conf['algo']['name'] = CLUSTER_ALGO + '_ImplicitPlaylist_shk_%d_clustSim_%.3f_decay_%.3f' % \\\n",
    "                    (sessionJaccardShrinkage, clusterSim, expDecay )\n",
    "\n",
    "                recJsonRDD = executeImplicitPlaylistAlgo(playlists, test, conf)\n",
    "                try:\n",
    "                    saveRecommendations(conf, recJsonRDD, overwrite=True)\n",
    "                    try:\n",
    "                        computeMetrics(conf)\n",
    "                    except:\n",
    "                        print 'Error in computing metrics'\n",
    "                except:\n",
    "                    print 'Error in saving recommndations'\n",
    "                    try:\n",
    "                        computeMetrics(conf)\n",
    "                    except:\n",
    "                        print 'Error in computing metrics'"
   ]
  }
 ],
 "metadata": {
  "kernelspec": {
   "display_name": "Python 2",
   "language": "python",
   "name": "python2"
  },
  "language_info": {
   "codemirror_mode": {
    "name": "ipython",
    "version": 2
   },
   "file_extension": ".py",
   "mimetype": "text/x-python",
   "name": "python",
   "nbconvert_exporter": "python",
   "pygments_lexer": "ipython2",
   "version": "2.7.11"
  }
 },
 "nbformat": 4,
 "nbformat_minor": 0
}
