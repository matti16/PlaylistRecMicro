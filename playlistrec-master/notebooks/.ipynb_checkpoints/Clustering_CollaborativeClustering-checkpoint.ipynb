{
 "cells": [
  {
   "cell_type": "markdown",
   "metadata": {},
   "source": [
    "# <hr style=\"clear: both\" />\n",
    "\n",
    "# Running Spark in YARN-client mode\n",
    "\n",
    "This notebook demonstrates how to set up a SparkContext that uses SURFsara's Hadoop cluster: [YARN resourcemanager](http://head05.hathi.surfsara.nl:8088/cluster) (note you will need to be authenticated via kerberos on your machine to visit the resourcemanager link) for executors.\n",
    "\n",
    "First initialize kerberos via a Jupyter terminal. \n",
    "In the terminal execute: <BR>\n",
    "<i>kinit -k -t data/robertop.keytab robertop@CUA.SURFSARA.NL</i><BR>\n",
    "Print your credentials:\n"
   ]
  },
  {
   "cell_type": "code",
   "execution_count": 1,
   "metadata": {
    "collapsed": false
   },
   "outputs": [
    {
     "name": "stdout",
     "output_type": "stream",
     "text": [
      "Ticket cache: FILE:/tmp/krb5cc_1000\r\n",
      "Default principal: robertop@CUA.SURFSARA.NL\r\n",
      "\r\n",
      "Valid starting       Expires              Service principal\r\n",
      "05/11/2016 07:06:30  05/12/2016 07:06:30  krbtgt/CUA.SURFSARA.NL@CUA.SURFSARA.NL\r\n",
      "\trenew until 05/11/2016 07:06:30\r\n"
     ]
    }
   ],
   "source": [
    "! klist"
   ]
  },
  {
   "cell_type": "code",
   "execution_count": 2,
   "metadata": {
    "collapsed": false
   },
   "outputs": [
    {
     "name": "stdout",
     "output_type": "stream",
     "text": [
      "Found 5 items\r\n",
      "drwx------   - robertop hdfs          0 2016-05-07 06:00 .Trash\r\n",
      "drwxr-xr-x   - robertop hdfs          0 2016-05-10 16:17 .sparkStaging\r\n",
      "drwx------   - robertop hdfs          0 2016-04-06 15:54 .staging\r\n",
      "drwxr-xr-x   - robertop hdfs          0 2016-04-27 13:07 mattia\r\n",
      "drwxr-xr-x   - robertop hdfs          0 2016-04-13 10:00 recsys2016Competition\r\n"
     ]
    }
   ],
   "source": [
    "! hdfs dfs -ls \n",
    "execfile('../spark-scripts/bullet.py')"
   ]
  },
  {
   "cell_type": "markdown",
   "metadata": {},
   "source": [
    "Verify that we can browse HDFS:"
   ]
  },
  {
   "cell_type": "markdown",
   "metadata": {},
   "source": [
    "Next initialize Spark. Note that the code below starts a job on the Hadoop cluster that will remain running while the notebook is active. Please close and halt the notebook when you are done. Starting the SparkContext can take a little longer. You can check the YARN resourcemanager to see the current status/usage of the cluster."
   ]
  },
  {
   "cell_type": "code",
   "execution_count": 3,
   "metadata": {
    "collapsed": false
   },
   "outputs": [],
   "source": [
    "import os\n",
    "os.environ['PYSPARK_PYTHON'] = '/usr/local/bin/python2.7'\n",
    "\n",
    "HDFS_PATH = \"hdfs://hathi-surfsara\"\n",
    "\n",
    "from pyspark import SparkConf, SparkContext\n",
    "from pyspark.sql import SQLContext\n",
    "sconf = SparkConf()\n",
    "\n",
    "# Master is now yarn-client. The YARN and hadoop config is read from the environment\n",
    "sconf.setMaster(\"yarn-client\")\n",
    "\n",
    "# You can control many Spark settings via the SparkConf. This determines the amount of executors on the cluster:\n",
    "sconf.set(\"spark.executor.instances\", \"200\")\n",
    "#sconf.set(\"spark.executor.memory\", \"10g\")\n",
    "\n",
    "# UFW (firewall) is active on the VM. We explicitly opened these ports and Spark should not bind to random ports:\n",
    "sconf.set(\"spark.driver.port\", 51800)\n",
    "sconf.set(\"spark.fileserver.port\", 51801)\n",
    "sconf.set(\"spark.broadcast.port\", 51802)\n",
    "sconf.set(\"spark.replClassServer.port\", 51803)\n",
    "sconf.set(\"spark.blockManager.port\", 51804)\n",
    "sconf.set(\"spark.authenticate\", True)\n",
    "sconf.set(\"spark.yarn.keytab\", \"/home/jovyan/work/data/robertop.keytab\")\n",
    "sconf.set(\"spark.yarn.access.namenodes\", HDFS_PATH + \":8020\")\n",
    "\n",
    "try:\n",
    "    sc = SparkContext(conf=sconf)\n",
    "    sqlCtx = SQLContext(sc) \n",
    "    sendNotificationToMattia(\"Spark Context\", \"Ready!\")\n",
    "except Exception, err:\n",
    "    sendNotificationToMattia(\"Fuck you!\", str(err)) \n",
    "    print str(err)"
   ]
  },
  {
   "cell_type": "markdown",
   "metadata": {},
   "source": [
    "# <hr style=\"clear: both\" />\n",
    "\n",
    "# Now you can run your code\n",
    "\n",
    "Pick a clustering algorithm (name of the file that provides a classify(x,y [,threshold]) function)"
   ]
  },
  {
   "cell_type": "markdown",
   "metadata": {},
   "source": [
    "# Reading the conf file"
   ]
  },
  {
   "cell_type": "code",
   "execution_count": 4,
   "metadata": {
    "collapsed": false
   },
   "outputs": [],
   "source": [
    "import json\n",
    "import copy\n",
    "\n",
    "BASE_PATH = HDFS_PATH + '/user/robertop/mattia'\n",
    "\n",
    "conf = {}\n",
    "\n",
    "conf['split'] = {}\n",
    "conf['split']['reclistSize'] = 100\n",
    "conf['split']['callParams'] = {}\n",
    "conf['split']['excludeAlreadyListenedTest'] = True\n",
    "conf['split']['name'] = 'test'\n",
    "conf['split']['split'] = conf['split']['name']\n",
    "conf['split']['minEventsPerUser'] = 5\n",
    "conf['split']['inputData'] = HDFS_PATH + '/user/robertop/mattia/clusterBase.split/SenzaRipetizioni_1'\n",
    "#conf['split']['inputData'] = 's3n://contentwise-research-poli/30musicdataset/newFormat/relations/sessions.idomaar'\n",
    "conf['split']['bucketName'] = BASE_PATH\n",
    "conf['split']['percUsTr'] = 0.05\n",
    "conf['split']['ts'] = int(0.75 * (1421745857 - 1390209860) + 1390209860) - 10000\n",
    "conf['split']['minEventPerSession'] = 5\n",
    "conf['split']['onlineTrainingLength'] = 5\n",
    "conf['split']['GTlength'] = 1\n",
    "conf['split']['minEventPerSessionTraining'] = 10\n",
    "conf['split']['minEventPerSessionTest'] = 11\n",
    "conf['split']['mode'] = 'session'\n",
    "conf['split']['forceSplitCreation'] = False\n",
    "conf['split'][\"prop\"] = {'reclistSize': conf['split']['reclistSize']}\n",
    "conf['split']['type'] = list\n",
    "conf['split']['out'] = HDFS_PATH + '/user/robertop/mattia/clusterBase.split/'\n",
    "conf['split']['location'] = '30Mdataset/relations/sessions'\n",
    "\n",
    "conf['evaluation'] = {}\n",
    "conf['evaluation']['metric'] = {}\n",
    "conf['evaluation']['metric']['type'] = 'recall'\n",
    "conf['evaluation']['metric']['prop'] = {}\n",
    "conf['evaluation']['metric']['prop']['N'] = [1,2,5,10,15,20,25,50,100]\n",
    "conf['evaluation']['name'] = 'recall@N'\n",
    "\n",
    "conf['general'] = {}\n",
    "conf['general']['clientname'] = \"clusterBase.split\"\n",
    "conf['general']['bucketName'] = BASE_PATH\n",
    "conf['general']['tracksPath'] = '30Mdataset/entities/tracks.idomaar.gz'\n",
    "\n",
    "conf['algo'] = {}\n",
    "conf['algo']['name'] = 'ClusterBase'\n",
    "conf['algo']['props'] = {}\n",
    "# ***** EXAMPLE OF CONFIGURATION *****#\n",
    "conf['algo']['props'][\"sessionJaccardShrinkage\"] = 5\n",
    "conf['algo']['props'][\"clusterSimilarityThreshold\"] = 0.1\n",
    "conf['algo']['props'][\"expDecayFactor\"] = 0.7\n",
    "# ****** END EXAMPLE ****************#\n",
    "\n"
   ]
  },
  {
   "cell_type": "markdown",
   "metadata": {},
   "source": [
    "\n",
    "# Load Sessions \n"
   ]
  },
  {
   "cell_type": "code",
   "execution_count": 5,
   "metadata": {
    "collapsed": false,
    "scrolled": true
   },
   "outputs": [
    {
     "data": {
      "text/plain": [
       "[u'{\"id\": \"1880599\", \"linkedinfo\": {\"subjects\": [{\"type\": \"user\", \"id\": 25088}], \"objects\": [{\"playratio\": null, \"playstart\": 0, \"action\": \"play\", \"playtime\": 217, \"type\": \"track\", \"id\": 4463481}, {\"playratio\": 0.99, \"playstart\": 217, \"action\": \"play\", \"playtime\": 193, \"type\": \"track\", \"id\": 3721462}, {\"playratio\": 0.99, \"playstart\": 410, \"action\": \"play\", \"playtime\": 256, \"type\": \"track\", \"id\": 1918267}, {\"playratio\": 0.99, \"playstart\": 666, \"action\": \"play\", \"playtime\": 151, \"type\": \"track\", \"id\": 1320280}, {\"playratio\": 0.99, \"playstart\": 817, \"action\": \"play\", \"playtime\": 205, \"type\": \"track\", \"id\": 2468464}, {\"playratio\": 0.99, \"playstart\": 1022, \"action\": \"play\", \"playtime\": 320, \"type\": \"track\", \"id\": 1619933}, {\"playratio\": 1.0, \"playstart\": 1342, \"action\": \"play\", \"playtime\": 266, \"type\": \"track\", \"id\": 2228799}, {\"playratio\": 0.99, \"playstart\": 1608, \"action\": \"play\", \"playtime\": 292, \"type\": \"track\", \"id\": 1879248}, {\"playratio\": 0.99, \"playstart\": 1900, \"action\": \"play\", \"playtime\": 231, \"type\": \"track\", \"id\": 2599314}, {\"playratio\": 0.99, \"playstart\": 2131, \"action\": \"play\", \"playtime\": 300, \"type\": \"track\", \"id\": 1457143}, {\"playratio\": 1.25, \"playstart\": 2431, \"action\": \"play\", \"playtime\": 401, \"type\": \"track\", \"id\": 3562199}, {\"playratio\": null, \"playstart\": 2832, \"action\": null, \"playtime\": -1, \"type\": \"track\", \"id\": 435470}]}, \"type\": \"event.session\", \"properties\": {\"playtime\": 2831, \"numtracks\": 12}, \"ts\": \"1399069849\"}',\n",
       " u'{\"id\": \"1880596\", \"linkedinfo\": {\"subjects\": [{\"type\": \"user\", \"id\": 25088}], \"objects\": [{\"playratio\": 1.04, \"playstart\": 0, \"action\": \"play\", \"playtime\": 254, \"type\": \"track\", \"id\": 2736485}, {\"playratio\": 1.0, \"playstart\": 254, \"action\": \"play\", \"playtime\": 218, \"type\": \"track\", \"id\": 2736934}, {\"playratio\": 1.0, \"playstart\": 472, \"action\": \"play\", \"playtime\": 157, \"type\": \"track\", \"id\": 2736773}, {\"playratio\": 1.0, \"playstart\": 629, \"action\": \"play\", \"playtime\": 221, \"type\": \"track\", \"id\": 2736521}, {\"playratio\": 1.0, \"playstart\": 850, \"action\": \"play\", \"playtime\": 219, \"type\": \"track\", \"id\": 2736523}, {\"playratio\": 0.99, \"playstart\": 1069, \"action\": \"play\", \"playtime\": 189, \"type\": \"track\", \"id\": 2737011}, {\"playratio\": 1.0, \"playstart\": 1258, \"action\": \"play\", \"playtime\": 203, \"type\": \"track\", \"id\": 2736776}, {\"playratio\": 1.0, \"playstart\": 1461, \"action\": \"play\", \"playtime\": 228, \"type\": \"track\", \"id\": 2736488}, {\"playratio\": 1.0, \"playstart\": 1689, \"action\": \"play\", \"playtime\": 223, \"type\": \"track\", \"id\": 2736780}, {\"playratio\": 1.0, \"playstart\": 1912, \"action\": \"play\", \"playtime\": 210, \"type\": \"track\", \"id\": 2736520}, {\"playratio\": 1.0, \"playstart\": 2122, \"action\": \"play\", \"playtime\": 237, \"type\": \"track\", \"id\": 2736993}, {\"playratio\": 1.0, \"playstart\": 2359, \"action\": \"play\", \"playtime\": 213, \"type\": \"track\", \"id\": 2736777}, {\"playratio\": null, \"playstart\": 2572, \"action\": null, \"playtime\": -1, \"type\": \"track\", \"id\": 2736829}]}, \"type\": \"event.session\", \"properties\": {\"playtime\": 2571, \"numtracks\": 13}, \"ts\": \"1399051282\"}',\n",
       " u'{\"id\": \"1880563\", \"linkedinfo\": {\"subjects\": [{\"type\": \"user\", \"id\": 25088}], \"objects\": [{\"playratio\": 1.02, \"playstart\": 0, \"action\": \"play\", \"playtime\": 214, \"type\": \"track\", \"id\": 2754266}, {\"playratio\": 0.99, \"playstart\": 214, \"action\": \"play\", \"playtime\": 220, \"type\": \"track\", \"id\": 2038931}, {\"playratio\": 1.0, \"playstart\": 434, \"action\": \"play\", \"playtime\": 219, \"type\": \"track\", \"id\": 3472857}, {\"playratio\": 1.0, \"playstart\": 653, \"action\": \"play\", \"playtime\": 206, \"type\": \"track\", \"id\": 1525525}, {\"playratio\": 1.0, \"playstart\": 859, \"action\": \"play\", \"playtime\": 271, \"type\": \"track\", \"id\": 1675403}, {\"playratio\": 1.81, \"playstart\": 1130, \"action\": \"play\", \"playtime\": 163, \"type\": \"track\", \"id\": 2319938}, {\"playratio\": 0.91, \"playstart\": 1293, \"action\": \"play\", \"playtime\": 186, \"type\": \"track\", \"id\": 2052260}, {\"playratio\": 0.99, \"playstart\": 1479, \"action\": \"play\", \"playtime\": 256, \"type\": \"track\", \"id\": 719256}, {\"playratio\": 1.0, \"playstart\": 1735, \"action\": \"play\", \"playtime\": 247, \"type\": \"track\", \"id\": 2745538}, {\"playratio\": 1.0, \"playstart\": 1982, \"action\": \"play\", \"playtime\": 317, \"type\": \"track\", \"id\": 429653}, {\"playratio\": 1.01, \"playstart\": 2299, \"action\": \"play\", \"playtime\": 197, \"type\": \"track\", \"id\": 1089515}, {\"playratio\": 0.99, \"playstart\": 2496, \"action\": \"play\", \"playtime\": 229, \"type\": \"track\", \"id\": 1525542}, {\"playratio\": 1.09, \"playstart\": 2725, \"action\": \"play\", \"playtime\": 405, \"type\": \"track\", \"id\": 1678340}, {\"playratio\": null, \"playstart\": 3130, \"action\": null, \"playtime\": -1, \"type\": \"track\", \"id\": 1820695}]}, \"type\": \"event.session\", \"properties\": {\"playtime\": 3129, \"numtracks\": 14}, \"ts\": \"1398361043\"}']"
      ]
     },
     "execution_count": 5,
     "metadata": {},
     "output_type": "execute_result"
    }
   ],
   "source": [
    "execfile('../spark-scripts/conventions.py')\n",
    "execfile('../spark-scripts/splitCluster.py')\n",
    "execfile('../spark-scripts/eval.py')\n",
    "execfile('../spark-scripts/implicitPlaylistAlgoFunctions.py')\n",
    "execfile('../spark-scripts/implicitPlaylistAlgoMain.py')\n",
    "\n",
    "import json\n",
    "execfile('../spark-scripts/utilsCluster.py')\n",
    "\n",
    "train, test = loadDataset(conf)\n",
    "\n",
    "train.take(3)"
   ]
  },
  {
   "cell_type": "markdown",
   "metadata": {},
   "source": [
    "# Filter \"skipped\" songs and \"problematic\" song"
   ]
  },
  {
   "cell_type": "code",
   "execution_count": null,
   "metadata": {
    "collapsed": true
   },
   "outputs": [],
   "source": [
    "tracksRDD = sc.textFile(BASE_PATH + '/30Mdataset/entities/tracks.idomaar.gz')\n",
    "tracksRDD = tracksRDD.repartition(200)\n",
    "tracksRDD = tracksRDD.map(lambda x: x.split('\\t')).map(lambda x: (x[1], json.loads(x[3])['name'].split('/') ) )\n",
    "tracksRDD = tracksRDD.map(lambda x: (x[0], \" \".join( (x[1][0], x[1][2]) ) )).distinct()\n",
    "\n",
    "def my_replace_punct(x):\n",
    "    ret = \"\"\n",
    "    for i in x:\n",
    "        if i == '+':\n",
    "            ret += ' '\n",
    "        else:\n",
    "            ret += i\n",
    "    return ret\n",
    "\n",
    "exceptionRDD = tracksRDD.map(lambda x : (int(x[0]), my_replace_punct(x[1]))).filter(lambda x: x[1] == 'ZZ Top She Loves My Automobile')\n",
    "exceptions = exceptionRDD.map(lambda x: x[0]).collect()\n"
   ]
  },
  {
   "cell_type": "code",
   "execution_count": 34,
   "metadata": {
    "collapsed": false
   },
   "outputs": [
    {
     "data": {
      "text/plain": [
       "507817"
      ]
     },
     "execution_count": 34,
     "metadata": {},
     "output_type": "execute_result"
    }
   ],
   "source": [
    "trainRDD = train.map(json.loads)\n",
    "\n",
    "MIN_LISTENING = 5\n",
    "\n",
    "def filter_skipped(x, exceptions):\n",
    "    exceptions = exceptions.value\n",
    "    for i in x['linkedinfo']['objects']:\n",
    "        if i['playtime'] < MIN_LISTENING and i['playtime'] != -1:\n",
    "            del i;\n",
    "        elif i['id'] in exceptions:\n",
    "            del i;\n",
    "    return x\n",
    "\n",
    "exceptions = set(exceptions)\n",
    "exBroad = sc.broadcast(exceptions)\n",
    "trainFilteredRDD = trainRDD.map(lambda x: filter_skipped(x, exBroad)) \n",
    "trainFilteredRDD.count()"
   ]
  },
  {
   "cell_type": "markdown",
   "metadata": {},
   "source": [
    "# Songs co-occurrences"
   ]
  },
  {
   "cell_type": "code",
   "execution_count": 40,
   "metadata": {
    "collapsed": false,
    "scrolled": true
   },
   "outputs": [
    {
     "data": {
      "text/plain": [
       "[(1605632,\n",
       "  [1605633,\n",
       "   1605634,\n",
       "   969219,\n",
       "   1197573,\n",
       "   1605641,\n",
       "   1605642,\n",
       "   1605643,\n",
       "   1605644,\n",
       "   1605645,\n",
       "   348497,\n",
       "   1605649,\n",
       "   1605650,\n",
       "   1605651,\n",
       "   1624596,\n",
       "   1605653,\n",
       "   1605654,\n",
       "   1605655,\n",
       "   1605656,\n",
       "   1605657,\n",
       "   3044381,\n",
       "   617477,\n",
       "   1298979,\n",
       "   3142694,\n",
       "   3583016,\n",
       "   86569,\n",
       "   600620,\n",
       "   2497117,\n",
       "   2831416,\n",
       "   2341946,\n",
       "   2722363,\n",
       "   181822,\n",
       "   2959937,\n",
       "   3567171,\n",
       "   3580997,\n",
       "   300616,\n",
       "   373260,\n",
       "   1078346,\n",
       "   2145867,\n",
       "   3150095,\n",
       "   2646109,\n",
       "   395532,\n",
       "   848483,\n",
       "   2804324,\n",
       "   1161317,\n",
       "   1515537,\n",
       "   2428522,\n",
       "   1385067,\n",
       "   2419218,\n",
       "   1041009,\n",
       "   497267,\n",
       "   505974,\n",
       "   1605652,\n",
       "   3494010,\n",
       "   2697851,\n",
       "   2145917,\n",
       "   3233227,\n",
       "   1385087,\n",
       "   2507906,\n",
       "   2328200,\n",
       "   979593,\n",
       "   2134667,\n",
       "   3126416,\n",
       "   3041048,\n",
       "   2877590,\n",
       "   4955292,\n",
       "   1385126,\n",
       "   153260,\n",
       "   3622062,\n",
       "   352285,\n",
       "   1523893,\n",
       "   3107000,\n",
       "   2801849,\n",
       "   1384639,\n",
       "   1197763,\n",
       "   396485,\n",
       "   1317062,\n",
       "   2264264,\n",
       "   3089097,\n",
       "   2517194,\n",
       "   3700940,\n",
       "   2882850,\n",
       "   1078479,\n",
       "   3150032,\n",
       "   807459,\n",
       "   3075798,\n",
       "   2344154,\n",
       "   2680033,\n",
       "   614438,\n",
       "   1280745,\n",
       "   587499,\n",
       "   1451995,\n",
       "   410323,\n",
       "   2434297,\n",
       "   856085,\n",
       "   1391573,\n",
       "   3041024,\n",
       "   3629825,\n",
       "   1137412,\n",
       "   2945285,\n",
       "   1340679,\n",
       "   2673417,\n",
       "   2673419,\n",
       "   680204,\n",
       "   2134799,\n",
       "   1298705,\n",
       "   1597715,\n",
       "   3569590,\n",
       "   219928,\n",
       "   1136412,\n",
       "   1758911,\n",
       "   3557152,\n",
       "   1818401,\n",
       "   3421986,\n",
       "   3084579,\n",
       "   1689896,\n",
       "   3084585,\n",
       "   192301,\n",
       "   479617,\n",
       "   1538865,\n",
       "   1630002,\n",
       "   3084595,\n",
       "   3084596,\n",
       "   3309884,\n",
       "   3084607,\n",
       "   3084610,\n",
       "   2303299,\n",
       "   3576644,\n",
       "   3084615,\n",
       "   2188105,\n",
       "   505166,\n",
       "   320847,\n",
       "   2386768,\n",
       "   1758264,\n",
       "   3886418,\n",
       "   3084632,\n",
       "   3075935,\n",
       "   1569638,\n",
       "   969064,\n",
       "   691050,\n",
       "   3087211,\n",
       "   3583340,\n",
       "   1074750,\n",
       "   1894121,\n",
       "   1085310,\n",
       "   2881919,\n",
       "   2456449,\n",
       "   3799427,\n",
       "   1999749,\n",
       "   3669382,\n",
       "   2148929,\n",
       "   1344392,\n",
       "   410506,\n",
       "   134542,\n",
       "   3084611,\n",
       "   410521,\n",
       "   1332634,\n",
       "   2173343,\n",
       "   2817952,\n",
       "   2669985,\n",
       "   1881507,\n",
       "   1068967,\n",
       "   1470376,\n",
       "   1516188,\n",
       "   1109421,\n",
       "   81840,\n",
       "   2339571,\n",
       "   617910,\n",
       "   279625,\n",
       "   3087263,\n",
       "   3620285,\n",
       "   653760,\n",
       "   1920961,\n",
       "   410568,\n",
       "   2529225,\n",
       "   2529226,\n",
       "   2529227,\n",
       "   2529228,\n",
       "   1708493,\n",
       "   2816975,\n",
       "   3084623,\n",
       "   3084622,\n",
       "   2953142,\n",
       "   571352,\n",
       "   621363,\n",
       "   3755343,\n",
       "   813022,\n",
       "   2026979,\n",
       "   3149990,\n",
       "   2547175,\n",
       "   1605628,\n",
       "   2747883,\n",
       "   404461,\n",
       "   621125,\n",
       "   897007,\n",
       "   473000,\n",
       "   109054,\n",
       "   131574,\n",
       "   1921017,\n",
       "   357882,\n",
       "   2831356,\n",
       "   1605629,\n",
       "   1605630,\n",
       "   1605631]),\n",
       " (4816896,\n",
       "  [1195465,\n",
       "   4816864,\n",
       "   4816883,\n",
       "   4816884,\n",
       "   1195466,\n",
       "   4816885,\n",
       "   4816885,\n",
       "   4816886,\n",
       "   1195467,\n",
       "   4816860,\n",
       "   4816858,\n",
       "   1195468,\n",
       "   2471162,\n",
       "   4816887,\n",
       "   4816888,\n",
       "   4816889,\n",
       "   4816890,\n",
       "   2471140,\n",
       "   4816871,\n",
       "   4816891,\n",
       "   4816892,\n",
       "   4816893,\n",
       "   4816894,\n",
       "   4816895,\n",
       "   4816897,\n",
       "   4816898,\n",
       "   4816899,\n",
       "   4816900,\n",
       "   4816861]),\n",
       " (1245188,\n",
       "  [2905493,\n",
       "   2432768,\n",
       "   2433916,\n",
       "   4922035,\n",
       "   2707829,\n",
       "   1033683,\n",
       "   1922403,\n",
       "   609522,\n",
       "   2612257,\n",
       "   2705721,\n",
       "   4913521,\n",
       "   1552827,\n",
       "   1740789,\n",
       "   3707645,\n",
       "   2172660,\n",
       "   1700266,\n",
       "   2387526,\n",
       "   2157495,\n",
       "   2934242,\n",
       "   2870993,\n",
       "   1822993,\n",
       "   328062,\n",
       "   709316,\n",
       "   1375170,\n",
       "   523610,\n",
       "   364501,\n",
       "   1975026,\n",
       "   1623486,\n",
       "   3515705,\n",
       "   969398,\n",
       "   3450963])]"
      ]
     },
     "execution_count": 40,
     "metadata": {},
     "output_type": "execute_result"
    }
   ],
   "source": [
    "def extract_co_occur(x):\n",
    "    result = []\n",
    "    for song in x['linkedinfo']['objects']:\n",
    "        id1 = song['id']\n",
    "        co_occ = []\n",
    "        for song2 in x['linkedinfo']['objects']:\n",
    "            id2 = song2['id']\n",
    "            if id1 != id2:\n",
    "                co_occ.append(id2)\n",
    "        result.append( (id1, co_occ) )\n",
    "    \n",
    "    return result\n",
    "\n",
    "co_occRDD = trainFilteredRDD.flatMap(extract_co_occur).reduceByKey(lambda x, y: list( set(x).union(set(y)) ) )\n",
    "co_occRDD.take(3)"
   ]
  },
  {
   "cell_type": "markdown",
   "metadata": {},
   "source": [
    "# Similar Sessions"
   ]
  },
  {
   "cell_type": "code",
   "execution_count": 41,
   "metadata": {
    "collapsed": false
   },
   "outputs": [
    {
     "data": {
      "text/plain": [
       "30583"
      ]
     },
     "execution_count": 41,
     "metadata": {},
     "output_type": "execute_result"
    }
   ],
   "source": [
    "# Map to (userID, session) and Group by Key\n",
    "def session_to_songs(x):\n",
    "    user = x['linkedinfo']['subjects'][0]['id']\n",
    "    songs = [i['id'] for i in x['linkedinfo']['objects']]\n",
    "    return (user, songs)\n",
    "\n",
    "trainUserRDD = trainFilteredRDD.map( session_to_songs ).groupByKey()\n",
    "trainUserRDD.count()"
   ]
  },
  {
   "cell_type": "code",
   "execution_count": 42,
   "metadata": {
    "collapsed": false,
    "scrolled": true
   },
   "outputs": [
    {
     "data": {
      "text/plain": [
       "439464"
      ]
     },
     "execution_count": 42,
     "metadata": {},
     "output_type": "execute_result"
    }
   ],
   "source": [
    "SIM_THR = conf['algo']['props'][\"clusterSimilarityThreshold\"]\n",
    "\n",
    "def similar_sessions(x):\n",
    "    sessions = list(x[1])\n",
    "    l = len(sessions)\n",
    "    couples = []\n",
    "    \n",
    "    for i in range(l):\n",
    "        sess_1 = set(sessions[i])\n",
    "        for j in range(i):\n",
    "            sess_2 = set(sessions[j])\n",
    "            \n",
    "            sim_j = compute_jaccard_index(sess_1, sess_2)\n",
    "            if sim_j > SIM_THR:\n",
    "                couples.append((sess_1, sess_2, sim_j))\n",
    "    \n",
    "    return couples\n",
    "\n",
    "\n",
    "userSimSessRDD = trainUserRDD.flatMap(similar_sessions)\n",
    "userSimSessRDD.count()"
   ]
  },
  {
   "cell_type": "markdown",
   "metadata": {},
   "source": [
    "# Exctract Couples of Candidate Songs from similar Sessions"
   ]
  },
  {
   "cell_type": "code",
   "execution_count": 43,
   "metadata": {
    "collapsed": false
   },
   "outputs": [
    {
     "data": {
      "text/plain": [
       "1137152798"
      ]
     },
     "execution_count": 43,
     "metadata": {},
     "output_type": "execute_result"
    }
   ],
   "source": [
    "def extract_couples(x):\n",
    "    sim = x[2]\n",
    "    result = []\n",
    "    \n",
    "    for i in x[0]:\n",
    "        if i in x[1]:\n",
    "            continue\n",
    "            \n",
    "        for j in x[1]:\n",
    "            if i != j:\n",
    "                candidate = (i,j, sim) if i<j else (j,i, sim)\n",
    "                result.append(candidate)\n",
    "    \n",
    "    return result\n",
    "\n",
    "\n",
    "couplesCandidateRDD = userSimSessRDD.flatMap(extract_couples)\n",
    "couplesCandidateRDD.count()\n"
   ]
  },
  {
   "cell_type": "code",
   "execution_count": 46,
   "metadata": {
    "collapsed": false
   },
   "outputs": [
    {
     "data": {
      "text/plain": [
       "90238090"
      ]
     },
     "execution_count": 46,
     "metadata": {},
     "output_type": "execute_result"
    }
   ],
   "source": [
    "couplesCandidateStringRDD = couplesCandidateRDD.map(lambda x: (str(x[0]) + ' ' + str(x[1]), x[2]) ).groupByKey()\n",
    "couplesCandidateNewRDD = couplesCandidateStringRDD.map(lambda x: ( int(x[0].split(' ')[0]), int(x[0].split(' ')[1]), x[1] ))\n",
    "couplesCandidateNewRDD.count()"
   ]
  },
  {
   "cell_type": "markdown",
   "metadata": {},
   "source": [
    "# Join with Co-Occurrences and Filter"
   ]
  },
  {
   "cell_type": "code",
   "execution_count": 51,
   "metadata": {
    "collapsed": true
   },
   "outputs": [
    {
     "data": {
      "text/plain": [
       "[(4816896,\n",
       "  ((4816928, <pyspark.resultiterable.ResultIterable at 0x7f07b67834d0>),\n",
       "   [1195465,\n",
       "    4816864,\n",
       "    4816883,\n",
       "    4816884,\n",
       "    1195466,\n",
       "    4816885,\n",
       "    4816885,\n",
       "    4816886,\n",
       "    1195467,\n",
       "    4816860,\n",
       "    4816858,\n",
       "    1195468,\n",
       "    2471162,\n",
       "    4816887,\n",
       "    4816888,\n",
       "    4816889,\n",
       "    4816890,\n",
       "    2471140,\n",
       "    4816871,\n",
       "    4816891,\n",
       "    4816892,\n",
       "    4816893,\n",
       "    4816894,\n",
       "    4816895,\n",
       "    4816897,\n",
       "    4816898,\n",
       "    4816899,\n",
       "    4816900,\n",
       "    4816861]))]"
      ]
     },
     "execution_count": 51,
     "metadata": {},
     "output_type": "execute_result"
    }
   ],
   "source": [
    "def check_co_occur(x):\n",
    "    co_occ = set(x[1][1])\n",
    "    if x[1][0][0] in co_occ:\n",
    "        return False\n",
    "    return True\n",
    "\n",
    "couplesJoinOccDD = couplesCandidateNewRDD.join(co_occRDD)\n",
    "goodCandidatesRDD = couplesJoinOccDD.filter(check_co_occur).map(lambda x: ((x[0], x[1][0][0]), x[1][0][1] ))\n",
    "goodCandidatesRDD.count()"
   ]
  },
  {
   "cell_type": "markdown",
   "metadata": {},
   "source": [
    "# Keep couples that appear together more than average (2)"
   ]
  },
  {
   "cell_type": "code",
   "execution_count": 63,
   "metadata": {
    "collapsed": false
   },
   "outputs": [
    {
     "data": {
      "text/plain": [
       "8096331"
      ]
     },
     "execution_count": 63,
     "metadata": {},
     "output_type": "execute_result"
    }
   ],
   "source": [
    "MEAN_LEN = goodCandidatesRDD.map(lambda x: len(x[1])).mean()\n",
    "print MEAN_LEN\n",
    "\n",
    "robustCandidateRDD = goodCandidatesRDD.filter(lambda x: len(list(x[1])) > MEAN_LEN)\n",
    "robustCandidateRDD.count()"
   ]
  },
  {
   "cell_type": "markdown",
   "metadata": {},
   "source": [
    "# Compute Average Similarity with Shrink"
   ]
  },
  {
   "cell_type": "code",
   "execution_count": 68,
   "metadata": {
    "collapsed": false
   },
   "outputs": [
    {
     "data": {
      "text/plain": [
       "[((3615416, 3624245), 0.07897524531668154),\n",
       " ((98392, 3850680), 0.07692070508352138),\n",
       " ((98392, 869198), 0.07692070508352138)]"
      ]
     },
     "execution_count": 68,
     "metadata": {},
     "output_type": "execute_result"
    }
   ],
   "source": [
    "SHRINK = 5\n",
    "\n",
    "def average_sim_shrink(x, shrink):\n",
    "    values = list(x[1])\n",
    "    num = float(sum(values))\n",
    "    den = float(len(values) + SHRINK)\n",
    "    avg = num / den\n",
    "    return (x[0], avg)\n",
    "\n",
    "candidateScoresRDD = robustCandidateRDD.map(lambda x: average_sim_shrink(x, SHRINK))\n",
    "candidateScoresRDD.take(3)"
   ]
  },
  {
   "cell_type": "markdown",
   "metadata": {},
   "source": [
    "# Satistics on Scores"
   ]
  },
  {
   "cell_type": "code",
   "execution_count": 70,
   "metadata": {
    "collapsed": false
   },
   "outputs": [],
   "source": [
    "scoresRDD = candidateScoresRDD.map(lambda x: x[1])\n",
    "\n",
    "stats = scoresRDD.stats().asDict()\n",
    "print stats\n"
   ]
  },
  {
   "cell_type": "markdown",
   "metadata": {},
   "source": [
    "# Score > $\\mu$ + $\\sigma$ "
   ]
  },
  {
   "cell_type": "code",
   "execution_count": 82,
   "metadata": {
    "collapsed": false
   },
   "outputs": [
    {
     "data": {
      "text/plain": [
       "1101560"
      ]
     },
     "execution_count": 82,
     "metadata": {},
     "output_type": "execute_result"
    }
   ],
   "source": [
    "MEAN_SCORE = stats['mean']\n",
    "STD_SCORE = stats['stdev']\n",
    "\n",
    "bestCandidatesRDD = candidateScoresRDD.filter(lambda x: x[1] > MEAN_SCORE + STD_SCORE)\n",
    "bestCandidatesRDD.count()"
   ]
  },
  {
   "cell_type": "markdown",
   "metadata": {},
   "source": [
    "# Create clusters for each song"
   ]
  },
  {
   "cell_type": "code",
   "execution_count": 85,
   "metadata": {
    "collapsed": true
   },
   "outputs": [
    {
     "data": {
      "text/plain": [
       "[(2684416,\n",
       "  [2684416,\n",
       "   2537601,\n",
       "   2537602,\n",
       "   2537604,\n",
       "   2537606,\n",
       "   2537607,\n",
       "   2537608,\n",
       "   1202188,\n",
       "   2537610,\n",
       "   2537611,\n",
       "   2537612,\n",
       "   2537613,\n",
       "   2537614,\n",
       "   2537615,\n",
       "   2537616,\n",
       "   2624274,\n",
       "   1202195,\n",
       "   1202197,\n",
       "   1202202,\n",
       "   1202191,\n",
       "   707039,\n",
       "   1349196,\n",
       "   2911686,\n",
       "   1202153,\n",
       "   1202157,\n",
       "   1202158,\n",
       "   2812719,\n",
       "   1202163,\n",
       "   1188469,\n",
       "   1202169,\n",
       "   1202182,\n",
       "   1202171]),\n",
       " (702464,\n",
       "  [702464,\n",
       "   262149,\n",
       "   262151,\n",
       "   262152,\n",
       "   262153,\n",
       "   262157,\n",
       "   262159,\n",
       "   262161,\n",
       "   262162,\n",
       "   262163,\n",
       "   262166,\n",
       "   262167,\n",
       "   262170,\n",
       "   262171,\n",
       "   262173,\n",
       "   262175,\n",
       "   262179,\n",
       "   262180,\n",
       "   262182,\n",
       "   262189,\n",
       "   262190,\n",
       "   553651,\n",
       "   855220,\n",
       "   855102,\n",
       "   855104,\n",
       "   855106,\n",
       "   855107,\n",
       "   553654,\n",
       "   853064,\n",
       "   553561,\n",
       "   553658,\n",
       "   553659,\n",
       "   553660,\n",
       "   553661,\n",
       "   553662,\n",
       "   855163,\n",
       "   855165,\n",
       "   855167,\n",
       "   855169,\n",
       "   853127,\n",
       "   853129,\n",
       "   4453543,\n",
       "   4453544,\n",
       "   4453545,\n",
       "   4453546,\n",
       "   4453547,\n",
       "   4453548,\n",
       "   4453549,\n",
       "   4453550,\n",
       "   4453551,\n",
       "   4453552,\n",
       "   4453553,\n",
       "   553650,\n",
       "   4453555,\n",
       "   4453556,\n",
       "   4453557,\n",
       "   4453558,\n",
       "   4453559,\n",
       "   4453560,\n",
       "   4453561,\n",
       "   4453562,\n",
       "   4453563,\n",
       "   4453564,\n",
       "   4453565,\n",
       "   4453566,\n",
       "   553665,\n",
       "   553667,\n",
       "   853366,\n",
       "   553671,\n",
       "   553672,\n",
       "   553673,\n",
       "   854221,\n",
       "   553678,\n",
       "   854230,\n",
       "   854233,\n",
       "   854747,\n",
       "   854748,\n",
       "   854750,\n",
       "   854760,\n",
       "   854763,\n",
       "   854765,\n",
       "   4453761,\n",
       "   4453677,\n",
       "   4453654,\n",
       "   4453655,\n",
       "   4453656,\n",
       "   4453657,\n",
       "   4453658,\n",
       "   4453660,\n",
       "   4453661,\n",
       "   4453662,\n",
       "   4453663,\n",
       "   4453664,\n",
       "   4453665,\n",
       "   4453666,\n",
       "   4453667,\n",
       "   4453668,\n",
       "   4453669,\n",
       "   4453670,\n",
       "   4453671,\n",
       "   4453672,\n",
       "   4453673,\n",
       "   4453674,\n",
       "   4453675,\n",
       "   4453676,\n",
       "   855341,\n",
       "   4453678,\n",
       "   4453679,\n",
       "   4453680,\n",
       "   4453681,\n",
       "   4453682,\n",
       "   4453683,\n",
       "   4453684,\n",
       "   4453685,\n",
       "   4453686,\n",
       "   4453687,\n",
       "   4453688,\n",
       "   4453689,\n",
       "   553867,\n",
       "   855218,\n",
       "   553868,\n",
       "   262029,\n",
       "   4453737,\n",
       "   4453738,\n",
       "   4453739,\n",
       "   4453740,\n",
       "   4453741,\n",
       "   4453742,\n",
       "   4453743,\n",
       "   4453744,\n",
       "   4453745,\n",
       "   4453746,\n",
       "   4453747,\n",
       "   4453748,\n",
       "   4453749,\n",
       "   4453750,\n",
       "   4453751,\n",
       "   4453752,\n",
       "   4453753,\n",
       "   4453754,\n",
       "   4453755,\n",
       "   4453756,\n",
       "   4453757,\n",
       "   4453758,\n",
       "   4453759,\n",
       "   4453760,\n",
       "   854913,\n",
       "   4453762,\n",
       "   4453763,\n",
       "   4453764,\n",
       "   4453765,\n",
       "   4453766,\n",
       "   4453767,\n",
       "   553866,\n",
       "   262027,\n",
       "   4453772,\n",
       "   553869,\n",
       "   262030,\n",
       "   262034,\n",
       "   262037,\n",
       "   262041,\n",
       "   262043,\n",
       "   262045,\n",
       "   4453554,\n",
       "   262051,\n",
       "   262056,\n",
       "   853363,\n",
       "   262061,\n",
       "   262062,\n",
       "   262067,\n",
       "   262070,\n",
       "   262072,\n",
       "   262073,\n",
       "   262074,\n",
       "   262075,\n",
       "   262076,\n",
       "   262049,\n",
       "   262112,\n",
       "   262113,\n",
       "   262114,\n",
       "   262116,\n",
       "   262118,\n",
       "   262119,\n",
       "   262120,\n",
       "   262123,\n",
       "   852972,\n",
       "   262128,\n",
       "   262131,\n",
       "   262132,\n",
       "   262135,\n",
       "   262140,\n",
       "   262141,\n",
       "   262143]),\n",
       " (558600,\n",
       "  [449538,\n",
       "   1636355,\n",
       "   1636356,\n",
       "   1636357,\n",
       "   2894854,\n",
       "   1636362,\n",
       "   1202188,\n",
       "   1202189,\n",
       "   1202197,\n",
       "   1040900,\n",
       "   2277403,\n",
       "   2479136,\n",
       "   2514979,\n",
       "   449542,\n",
       "   429095,\n",
       "   1229866,\n",
       "   434220,\n",
       "   1474612,\n",
       "   3772474,\n",
       "   686140,\n",
       "   457789,\n",
       "   449598,\n",
       "   2564162,\n",
       "   457795,\n",
       "   457796,\n",
       "   2891849,\n",
       "   457806,\n",
       "   2958415,\n",
       "   1345619,\n",
       "   3626068,\n",
       "   2228310,\n",
       "   3127384,\n",
       "   2894938,\n",
       "   93278,\n",
       "   3464287,\n",
       "   2092128,\n",
       "   1801313,\n",
       "   93282,\n",
       "   2070627,\n",
       "   1508452,\n",
       "   3711088,\n",
       "   906355,\n",
       "   1634420,\n",
       "   2001013,\n",
       "   2613368,\n",
       "   1913977,\n",
       "   686203,\n",
       "   3626109,\n",
       "   2825343,\n",
       "   2070657,\n",
       "   2566276,\n",
       "   2223242,\n",
       "   2001038,\n",
       "   463215,\n",
       "   2070685,\n",
       "   1104042,\n",
       "   2825387,\n",
       "   430253,\n",
       "   429236,\n",
       "   709815,\n",
       "   451772,\n",
       "   3357885,\n",
       "   3358240,\n",
       "   686274,\n",
       "   2279624,\n",
       "   3835092,\n",
       "   322781,\n",
       "   1495262,\n",
       "   3349730,\n",
       "   322788,\n",
       "   686309,\n",
       "   1510633,\n",
       "   2830717,\n",
       "   3349744,\n",
       "   276008,\n",
       "   2895090,\n",
       "   429299,\n",
       "   2110710,\n",
       "   3664123,\n",
       "   2959612,\n",
       "   426026,\n",
       "   445695,\n",
       "   1201409,\n",
       "   709894,\n",
       "   452141,\n",
       "   2363667,\n",
       "   2479387,\n",
       "   455965,\n",
       "   3516703,\n",
       "   1384736,\n",
       "   1132839,\n",
       "   2942248,\n",
       "   451881,\n",
       "   1474858,\n",
       "   3175728,\n",
       "   3349809,\n",
       "   915762,\n",
       "   2731322,\n",
       "   1384775,\n",
       "   1326415,\n",
       "   1871417,\n",
       "   1637723,\n",
       "   2026853,\n",
       "   2104678,\n",
       "   3349864,\n",
       "   2015292,\n",
       "   3823980,\n",
       "   74094,\n",
       "   3550575,\n",
       "   2026868,\n",
       "   3349882,\n",
       "   2396541,\n",
       "   3823998,\n",
       "   3626367,\n",
       "   74115,\n",
       "   2469254,\n",
       "   1326472,\n",
       "   2895266,\n",
       "   1146277,\n",
       "   426738,\n",
       "   1871282,\n",
       "   2469300,\n",
       "   1123766,\n",
       "   2825661,\n",
       "   1104318,\n",
       "   2692547,\n",
       "   1871301,\n",
       "   1146315,\n",
       "   1819087,\n",
       "   2825683,\n",
       "   338389,\n",
       "   1146329,\n",
       "   338394,\n",
       "   3557455,\n",
       "   707036,\n",
       "   710110,\n",
       "   2426339,\n",
       "   1231335,\n",
       "   2278894,\n",
       "   74226,\n",
       "   2974199,\n",
       "   81663,\n",
       "   275967,\n",
       "   1450498,\n",
       "   1146372,\n",
       "   892422,\n",
       "   558600,\n",
       "   1602476,\n",
       "   463370,\n",
       "   2178573,\n",
       "   1146383,\n",
       "   2469393,\n",
       "   1091095,\n",
       "   3284506,\n",
       "   1636896,\n",
       "   1146402,\n",
       "   1146406,\n",
       "   1146408,\n",
       "   74281,\n",
       "   2607661,\n",
       "   74289,\n",
       "   3711538,\n",
       "   452149,\n",
       "   3673657,\n",
       "   1636926,\n",
       "   2061887,\n",
       "   93280,\n",
       "   2586379,\n",
       "   132677,\n",
       "   1140313,\n",
       "   1636957,\n",
       "   289381,\n",
       "   1636976,\n",
       "   416373,\n",
       "   892541,\n",
       "   892547,\n",
       "   2296452,\n",
       "   1818246,\n",
       "   452231,\n",
       "   110019,\n",
       "   1326740,\n",
       "   805534,\n",
       "   74403,\n",
       "   1385126,\n",
       "   1447591,\n",
       "   539305,\n",
       "   629418,\n",
       "   453292,\n",
       "   463535,\n",
       "   1420976,\n",
       "   3585139,\n",
       "   1871546,\n",
       "   2998972,\n",
       "   3310273,\n",
       "   1871556,\n",
       "   686792,\n",
       "   1871567,\n",
       "   316114,\n",
       "   2941651,\n",
       "   2607828,\n",
       "   233176,\n",
       "   1818334,\n",
       "   1187564,\n",
       "   452338,\n",
       "   1284853,\n",
       "   416506,\n",
       "   2478843,\n",
       "   3230462,\n",
       "   686549,\n",
       "   1188608,\n",
       "   1421062,\n",
       "   686209,\n",
       "   60171,\n",
       "   2607884,\n",
       "   426765,\n",
       "   3440408,\n",
       "   2607897,\n",
       "   2478880,\n",
       "   2478881,\n",
       "   707035,\n",
       "   1284900,\n",
       "   2959141,\n",
       "   2941736,\n",
       "   424242,\n",
       "   289246,\n",
       "   3230518,\n",
       "   450360,\n",
       "   852801,\n",
       "   81733,\n",
       "   2958153,\n",
       "   176976,\n",
       "   416599,\n",
       "   2277215,\n",
       "   1410914,\n",
       "   685928,\n",
       "   1146343,\n",
       "   1112941,\n",
       "   426862,\n",
       "   1801078,\n",
       "   892791,\n",
       "   453268,\n",
       "   3230588,\n",
       "   1634174,\n",
       "   907141,\n",
       "   427010,\n",
       "   2586510,\n",
       "   1931151,\n",
       "   1182609,\n",
       "   2586515,\n",
       "   1039256,\n",
       "   1130397,\n",
       "   3548064,\n",
       "   60322,\n",
       "   452517,\n",
       "   1913772,\n",
       "   2730929,\n",
       "   3799990,\n",
       "   2596791,\n",
       "   2730941,\n",
       "   1635267,\n",
       "   426953,\n",
       "   1146359,\n",
       "   429024,\n",
       "   81894,\n",
       "   2896871,\n",
       "   1602543,\n",
       "   2514929,\n",
       "   686070,\n",
       "   505847,\n",
       "   132093])]"
      ]
     },
     "execution_count": 85,
     "metadata": {},
     "output_type": "execute_result"
    }
   ],
   "source": [
    "flatCouplesRDD = bestCandidatesRDD.flatMap(lambda x: [(x[0][0], x[0]), (x[0][1], x[0])])\n",
    "\n",
    "#Group by key (song). Each song has now one cluster\n",
    "def merge_couples(x, y):\n",
    "    return list(set(x) | set(y))\n",
    "\n",
    "songClusterRDD = flatCouplesRDD.reduceByKey(merge_couples)\n",
    "songClusterRDD.take(3)\n"
   ]
  },
  {
   "cell_type": "code",
   "execution_count": 86,
   "metadata": {
    "collapsed": false
   },
   "outputs": [
    {
     "data": {
      "text/plain": [
       "82082"
      ]
     },
     "execution_count": 86,
     "metadata": {},
     "output_type": "execute_result"
    }
   ],
   "source": [
    "songClusterRDD.count()"
   ]
  },
  {
   "cell_type": "code",
   "execution_count": null,
   "metadata": {
    "collapsed": true
   },
   "outputs": [],
   "source": []
  },
  {
   "cell_type": "code",
   "execution_count": null,
   "metadata": {
    "collapsed": true
   },
   "outputs": [],
   "source": []
  }
 ],
 "metadata": {
  "kernelspec": {
   "display_name": "Python 2",
   "language": "python",
   "name": "python2"
  },
  "language_info": {
   "codemirror_mode": {
    "name": "ipython",
    "version": 2
   },
   "file_extension": ".py",
   "mimetype": "text/x-python",
   "name": "python",
   "nbconvert_exporter": "python",
   "pygments_lexer": "ipython2",
   "version": "2.7.11"
  }
 },
 "nbformat": 4,
 "nbformat_minor": 0
}
