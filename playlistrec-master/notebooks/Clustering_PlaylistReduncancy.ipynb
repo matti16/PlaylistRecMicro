{
 "cells": [
  {
   "cell_type": "markdown",
   "metadata": {},
   "source": [
    "# <hr style=\"clear: both\" />\n",
    "\n",
    "# Running Spark in YARN-client mode\n",
    "\n",
    "This notebook demonstrates how to set up a SparkContext that uses SURFsara's Hadoop cluster: [YARN resourcemanager](http://head05.hathi.surfsara.nl:8088/cluster) (note you will need to be authenticated via kerberos on your machine to visit the resourcemanager link) for executors.\n",
    "\n",
    "First initialize kerberos via a Jupyter terminal. \n",
    "In the terminal execute: <BR>\n",
    "<i>kinit -k -t data/robertop.keytab robertop@CUA.SURFSARA.NL</i><BR>\n",
    "Print your credentials:\n"
   ]
  },
  {
   "cell_type": "code",
   "execution_count": 1,
   "metadata": {
    "collapsed": false
   },
   "outputs": [
    {
     "name": "stdout",
     "output_type": "stream",
     "text": [
      "Ticket cache: FILE:/tmp/krb5cc_1000\r\n",
      "Default principal: robertop@CUA.SURFSARA.NL\r\n",
      "\r\n",
      "Valid starting       Expires              Service principal\r\n",
      "04/30/2016 07:02:14  05/01/2016 07:02:13  krbtgt/CUA.SURFSARA.NL@CUA.SURFSARA.NL\r\n",
      "\trenew until 04/30/2016 07:02:14\r\n"
     ]
    }
   ],
   "source": [
    "! klist"
   ]
  },
  {
   "cell_type": "code",
   "execution_count": 2,
   "metadata": {
    "collapsed": false
   },
   "outputs": [
    {
     "name": "stdout",
     "output_type": "stream",
     "text": [
      "Found 5 items\r\n",
      "drwx------   - robertop hdfs          0 2016-04-30 18:00 .Trash\r\n",
      "drwxr-xr-x   - robertop hdfs          0 2016-04-30 18:49 .sparkStaging\r\n",
      "drwx------   - robertop hdfs          0 2016-04-06 15:54 .staging\r\n",
      "drwxr-xr-x   - robertop hdfs          0 2016-04-27 13:07 mattia\r\n",
      "drwxr-xr-x   - robertop hdfs          0 2016-04-13 10:00 recsys2016Competition\r\n"
     ]
    }
   ],
   "source": [
    "! hdfs dfs -ls \n",
    "execfile('../spark-scripts/bullet.py')"
   ]
  },
  {
   "cell_type": "markdown",
   "metadata": {},
   "source": [
    "Verify that we can browse HDFS:"
   ]
  },
  {
   "cell_type": "markdown",
   "metadata": {},
   "source": [
    "Next initialize Spark. Note that the code below starts a job on the Hadoop cluster that will remain running while the notebook is active. Please close and halt the notebook when you are done. Starting the SparkContext can take a little longer. You can check the YARN resourcemanager to see the current status/usage of the cluster."
   ]
  },
  {
   "cell_type": "code",
   "execution_count": 3,
   "metadata": {
    "collapsed": false
   },
   "outputs": [],
   "source": [
    "import os\n",
    "os.environ['PYSPARK_PYTHON'] = '/usr/local/bin/python2.7'\n",
    "\n",
    "HDFS_PATH = \"hdfs://hathi-surfsara\"\n",
    "\n",
    "from pyspark import SparkConf, SparkContext\n",
    "from pyspark.sql import SQLContext\n",
    "sconf = SparkConf()\n",
    "\n",
    "# Master is now yarn-client. The YARN and hadoop config is read from the environment\n",
    "sconf.setMaster(\"yarn-client\")\n",
    "\n",
    "# You can control many Spark settings via the SparkConf. This determines the amount of executors on the cluster:\n",
    "sconf.set(\"spark.executor.instances\", \"200\")\n",
    "#sconf.set(\"spark.executor.memory\", \"20g\")\n",
    "\n",
    "# UFW (firewall) is active on the VM. We explicitly opened these ports and Spark should not bind to random ports:\n",
    "sconf.set(\"spark.driver.port\", 51800)\n",
    "sconf.set(\"spark.fileserver.port\", 51801)\n",
    "sconf.set(\"spark.broadcast.port\", 51802)\n",
    "sconf.set(\"spark.replClassServer.port\", 51803)\n",
    "sconf.set(\"spark.blockManager.port\", 51804)\n",
    "sconf.set(\"spark.authenticate\", True)\n",
    "sconf.set(\"spark.yarn.keytab\", \"/home/jovyan/work/data/robertop.keytab\")\n",
    "sconf.set(\"spark.yarn.access.namenodes\", HDFS_PATH + \":8020\")\n",
    "\n",
    "try:\n",
    "    sc = SparkContext(conf=sconf)\n",
    "    sqlCtx = SQLContext(sc) \n",
    "    sendNotificationToMattia(\"Spark Context\", \"Ready!\")\n",
    "except Exception, err:\n",
    "    sendNotificationToMattia(\"Fuck you!\", str(err)) \n",
    "    print str(err)"
   ]
  },
  {
   "cell_type": "markdown",
   "metadata": {},
   "source": [
    "# <hr style=\"clear: both\" />\n",
    "\n",
    "# Now you can run your code\n",
    "\n",
    "Pick a clustering algorithm (name of the file that provides a classify(x,y [,threshold]) function)"
   ]
  },
  {
   "cell_type": "code",
   "execution_count": 4,
   "metadata": {
    "collapsed": false
   },
   "outputs": [],
   "source": [
    "execfile('../spark-scripts/conventions.py')\n",
    "execfile('../spark-scripts/splitCluster.py')\n",
    "execfile('../spark-scripts/eval.py')\n",
    "execfile('../spark-scripts/implicitPlaylistAlgoFunctions.py')\n",
    "execfile('../spark-scripts/implicitPlaylistAlgoMain.py')\n",
    "\n",
    "CLUSTER_ALGO = 'jaccardBase'\n",
    "THRESHOLD = 0.9\n",
    "\n",
    "BASE_PATH = HDFS_PATH + '/user/robertop/mattia'\n",
    "\n",
    "clusterSongsFileRDD = sc.pickleFile(BASE_PATH + '/clusters/' + CLUSTER_ALGO + str(THRESHOLD)[2:])\n",
    "\n",
    "songToClusterRDD = clusterSongsFileRDD.flatMap(lambda x: [(int(i), x[0]) for i in x[1]] )\n"
   ]
  },
  {
   "cell_type": "markdown",
   "metadata": {},
   "source": [
    "# Load data "
   ]
  },
  {
   "cell_type": "code",
   "execution_count": 5,
   "metadata": {
    "collapsed": false,
    "scrolled": true
   },
   "outputs": [
    {
     "name": "stdout",
     "output_type": "stream",
     "text": [
      "Total playlist: 57561\n",
      "Bad playlists: 9139\n",
      "Good playlists: 48422.0\n"
     ]
    }
   ],
   "source": [
    "playlistRDD = sc.textFile(BASE_PATH + '/30Mdataset/entities/playlist.idomaar')\n",
    "playlistRDD = playlistRDD.map(lambda x: json.loads(x.split('\\t')[4]))\n",
    "playlistRDD = playlistRDD.map(lambda x: x['objects'])\n",
    "print \"Total playlist: \" + str(playlistRDD.count())\n",
    "\n",
    "def filter_bad_entry(x):\n",
    "    try:\n",
    "        result = [i['id'] for i in x]\n",
    "        return (result, 0)\n",
    "    except:\n",
    "        return (x, 1)\n",
    "\n",
    "playlistRDD = playlistRDD.map(filter_bad_entry)\n",
    "bad_n = playlistRDD.filter(lambda x: x[1] == 1 or len(x[0]) == 0).count()\n",
    "print \"Bad playlists: \" + str(bad_n)\n",
    "\n",
    "playlistOkRDD = playlistRDD.filter(lambda x: x[1] == 0 and len(x[0]))\n",
    "playlist_count = float(playlistOkRDD.count())\n",
    "print \"Good playlists: \" + str(playlist_count)"
   ]
  },
  {
   "cell_type": "code",
   "execution_count": 6,
   "metadata": {
    "collapsed": false
   },
   "outputs": [
    {
     "data": {
      "text/plain": [
       "48422"
      ]
     },
     "execution_count": 6,
     "metadata": {},
     "output_type": "execute_result"
    }
   ],
   "source": [
    "def unique_percentage(x):\n",
    "    playlist_length = float(len(x[0]))\n",
    "    \n",
    "    play_set = set()\n",
    "    for i in x[0]:\n",
    "        play_set.add(i)\n",
    "    play_unique = float(len(play_set))\n",
    "    \n",
    "    percentage = play_unique / playlist_length\n",
    "    \n",
    "    return  (x, percentage)\n",
    "\n",
    "playlistUniRDD = playlistOkRDD.map(unique_percentage)\n",
    "playlistUniRDD.count()"
   ]
  },
  {
   "cell_type": "code",
   "execution_count": null,
   "metadata": {
    "collapsed": false
   },
   "outputs": [],
   "source": [
    "unique_total = playlistUniRDD.map(lambda x: x[1]).sum()\n",
    "print unique_total\n",
    "\n",
    "playlist_avg_uniqueness = unique_total / playlist_count\n",
    "\n",
    "print \"Average Percentage of Uniqueness: \" + str(playlist_avg_uniqueness*100) + ' %'\n",
    "\n",
    "unique_play = playlistUniRDD.filter(lambda x: x[1] >= 1).count()\n",
    "perc_one_red = unique_play / playlist_count\n",
    "print \"Percentage of Unique playlists: \" + str(perc_one_red*100) + ' %'"
   ]
  },
  {
   "cell_type": "code",
   "execution_count": 14,
   "metadata": {
    "collapsed": false
   },
   "outputs": [
    {
     "name": "stdout",
     "output_type": "stream",
     "text": [
      "Songs: 466244\n",
      "Clusters: 466244\n",
      "Uniqe Clusters: 466244\n",
      "OK\n",
      "Scale: 0.99352056005\n"
     ]
    }
   ],
   "source": [
    "playlistFlatRDD = playlistOkRDD.map(lambda x: x[0]).zipWithIndex().flatMap(lambda x: [(i,x[1]) for i in x[0]])\n",
    "\n",
    "#SANITY CHECK ON NUMBER OF SONGS AND CLUSTERS\n",
    "uniqueSongsRDD = playlistFlatRDD.groupByKey()\n",
    "uniqueClusterRDD = uniqueSongsRDD.join(songToClusterRDD)\n",
    "\n",
    "n_songs = uniqueSongsRDD.count()\n",
    "n_clus = uniqueClusterRDD.count()\n",
    "n_clus_unique = uniqueClusterRDD.map(lambda x: x[1][1]).distinct().count()\n",
    "\n",
    "print \"Songs: \" + str(n_songs)\n",
    "print \"Clusters: \" + str(n_clus)\n",
    "print \"Uniqe Clusters: \" + str(n_clus_unique)\n",
    "if n_songs == n_clus: \n",
    "    print \"OK\" \n",
    "else: \n",
    "    print \"BAD!\";\n",
    "    \n",
    "print \"Scale: \" + str(float(n_clus_unique)/n_songs)"
   ]
  },
  {
   "cell_type": "code",
   "execution_count": 15,
   "metadata": {
    "collapsed": false
   },
   "outputs": [
    {
     "name": "stdout",
     "output_type": "stream",
     "text": [
      "Uniqe Clusters: 463223\n"
     ]
    }
   ],
   "source": [
    "print \"Uniqe Clusters: \" + str(n_clus_unique)"
   ]
  },
  {
   "cell_type": "code",
   "execution_count": 97,
   "metadata": {
    "collapsed": true
   },
   "outputs": [
    {
     "data": {
      "text/plain": [
       "[(0,\n",
       "  [2053495,\n",
       "   4028032,\n",
       "   2784630,\n",
       "   1666044,\n",
       "   1359594,\n",
       "   1462061,\n",
       "   2337968,\n",
       "   1882265,\n",
       "   4226326,\n",
       "   2105809,\n",
       "   704876,\n",
       "   748521,\n",
       "   3816801,\n",
       "   786809,\n",
       "   509426,\n",
       "   1132139,\n",
       "   865299,\n",
       "   861015,\n",
       "   1695505,\n",
       "   178116,\n",
       "   2806362,\n",
       "   2797514,\n",
       "   1319514,\n",
       "   1511775,\n",
       "   2104493,\n",
       "   4351627,\n",
       "   2623524])]"
      ]
     },
     "execution_count": 97,
     "metadata": {},
     "output_type": "execute_result"
    }
   ],
   "source": [
    "playlistClusterRDD = playlistFlatRDD.join(songToClusterRDD).map(lambda x: x[1]).groupByKey().mapValues(list)\n",
    "playlistClusterRDD.take(1)"
   ]
  },
  {
   "cell_type": "code",
   "execution_count": 105,
   "metadata": {
    "collapsed": false
   },
   "outputs": [
    {
     "name": "stdout",
     "output_type": "stream",
     "text": [
      "48397.6999953\n",
      "Average Percentage of Uniqueness: 99.9498161896 %\n",
      "Percentage of Unique playlists: 97.9472140762 %\n"
     ]
    }
   ],
   "source": [
    "def unique_percentage_cluster(x):\n",
    "    playlist_length = float(len(x[1]))\n",
    "    \n",
    "    play_set = set()\n",
    "    for i in x[1]:\n",
    "        play_set.add(i)\n",
    "    play_unique = float(len(play_set))\n",
    "    \n",
    "    percentage = play_unique / playlist_length\n",
    "    \n",
    "    return  (x, percentage)\n",
    "\n",
    "playClustScoreRDD = playlistClusterRDD.map(unique_percentage_cluster)\n",
    "unique_total_cl = playClustScoreRDD.map(lambda x: x[1]).sum()\n",
    "print unique_total_cl\n",
    "\n",
    "playlist_avg_uniqueness_cl = unique_total_cl / playlist_count\n",
    "print \"Average Percentage of Uniqueness: \" + str(playlist_avg_uniqueness_cl*100) + ' %'\n",
    "\n",
    "unique_play_cl = playClustScoreRDD.filter(lambda x: x[1] >= 1).count()\n",
    "perc_one_red = float(unique_play_cl) / playlist_count\n",
    "print \"Percentage of Unique playlists: \" + str(perc_one_red*100) + ' %'"
   ]
  },
  {
   "cell_type": "code",
   "execution_count": null,
   "metadata": {
    "collapsed": true
   },
   "outputs": [],
   "source": []
  }
 ],
 "metadata": {
  "kernelspec": {
   "display_name": "Python 2",
   "language": "python",
   "name": "python2"
  },
  "language_info": {
   "codemirror_mode": {
    "name": "ipython",
    "version": 2
   },
   "file_extension": ".py",
   "mimetype": "text/x-python",
   "name": "python",
   "nbconvert_exporter": "python",
   "pygments_lexer": "ipython2",
   "version": "2.7.11"
  }
 },
 "nbformat": 4,
 "nbformat_minor": 0
}
