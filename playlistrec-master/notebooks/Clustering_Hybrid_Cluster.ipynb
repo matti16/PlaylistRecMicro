{
 "cells": [
  {
   "cell_type": "markdown",
   "metadata": {},
   "source": [
    "# <hr style=\"clear: both\" />\n",
    "\n",
    "# Running Spark in YARN-client mode\n",
    "\n",
    "This notebook demonstrates how to set up a SparkContext that uses SURFsara's Hadoop cluster: [YARN resourcemanager](http://head05.hathi.surfsara.nl:8088/cluster) (note you will need to be authenticated via kerberos on your machine to visit the resourcemanager link) for executors.\n",
    "\n",
    "First initialize kerberos via a Jupyter terminal. \n",
    "In the terminal execute: <BR>\n",
    "<i>kinit -k -t data/robertop.keytab robertop@CUA.SURFSARA.NL</i><BR>\n",
    "Print your credentials:\n"
   ]
  },
  {
   "cell_type": "code",
   "execution_count": 1,
   "metadata": {
    "collapsed": false
   },
   "outputs": [
    {
     "name": "stdout",
     "output_type": "stream",
     "text": [
      "Ticket cache: FILE:/tmp/krb5cc_1000\r\n",
      "Default principal: robertop@CUA.SURFSARA.NL\r\n",
      "\r\n",
      "Valid starting       Expires              Service principal\r\n",
      "06/04/2016 13:18:14  06/05/2016 13:18:14  krbtgt/CUA.SURFSARA.NL@CUA.SURFSARA.NL\r\n",
      "\trenew until 06/04/2016 13:18:14\r\n"
     ]
    }
   ],
   "source": [
    "! klist"
   ]
  },
  {
   "cell_type": "code",
   "execution_count": 2,
   "metadata": {
    "collapsed": false,
    "scrolled": true
   },
   "outputs": [
    {
     "name": "stdout",
     "output_type": "stream",
     "text": [
      "Found 5 items\r\n",
      "drwx------   - robertop hdfs          0 2016-05-26 06:00 .Trash\r\n",
      "drwxr-xr-x   - robertop hdfs          0 2016-06-04 13:38 .sparkStaging\r\n",
      "drwx------   - robertop hdfs          0 2016-04-06 15:54 .staging\r\n",
      "drwxr-xr-x   - robertop hdfs          0 2016-05-25 06:28 mattia\r\n",
      "drwxr-xr-x   - robertop hdfs          0 2016-04-13 10:00 recsys2016Competition\r\n"
     ]
    }
   ],
   "source": [
    "! hdfs dfs -ls \n",
    "execfile('../spark-scripts/bullet.py')"
   ]
  },
  {
   "cell_type": "markdown",
   "metadata": {},
   "source": [
    "Verify that we can browse HDFS:"
   ]
  },
  {
   "cell_type": "markdown",
   "metadata": {},
   "source": [
    "Next initialize Spark. Note that the code below starts a job on the Hadoop cluster that will remain running while the notebook is active. Please close and halt the notebook when you are done. Starting the SparkContext can take a little longer. You can check the YARN resourcemanager to see the current status/usage of the cluster."
   ]
  },
  {
   "cell_type": "code",
   "execution_count": 3,
   "metadata": {
    "collapsed": false
   },
   "outputs": [],
   "source": [
    "import os\n",
    "os.environ['PYSPARK_PYTHON'] = '/usr/local/bin/python2.7'\n",
    "\n",
    "HDFS_PATH = \"hdfs://hathi-surfsara\"\n",
    "\n",
    "from pyspark import SparkConf, SparkContext\n",
    "from pyspark.sql import SQLContext\n",
    "sconf = SparkConf(False)\n",
    "\n",
    "sconf.setAppName('hybrid')\n",
    "\n",
    "# Master is now yarn-client. The YARN and hadoop config is read from the environment\n",
    "sconf.setMaster(\"yarn-client\")\n",
    "\n",
    "# You can control many Spark settings via the SparkConf. This determines the amount of executors on the cluster:\n",
    "sconf.set(\"spark.executor.instances\", \"200\")\n",
    "#sconf.set(\"spark.executor.memory\", \"10g\")\n",
    "\n",
    "# UFW (firewall) is active on the VM. We explicitly opened these ports and Spark should not bind to random ports:\n",
    "sconf.set(\"spark.driver.port\", 51800)\n",
    "sconf.set(\"spark.fileserver.port\", 51801)\n",
    "sconf.set(\"spark.broadcast.port\", 51802)\n",
    "sconf.set(\"spark.replClassServer.port\", 51803)\n",
    "sconf.set(\"spark.blockManager.port\", 51804)\n",
    "sconf.set(\"spark.authenticate\", True)\n",
    "sconf.set(\"spark.yarn.keytab\", \"/home/jovyan/work/data/robertop.keytab\")\n",
    "sconf.set(\"spark.yarn.access.namenodes\", HDFS_PATH + \":8020\")\n",
    "\n",
    "try:\n",
    "    sc = SparkContext(conf=sconf)\n",
    "    sqlCtx = SQLContext(sc) \n",
    "    sendNotificationToMattia(\"Spark Context\", \"Ready!\")\n",
    "except Exception, err:\n",
    "    sendNotificationToMattia(\"Fuck you!\", str(err)) \n",
    "    print str(err)"
   ]
  },
  {
   "cell_type": "markdown",
   "metadata": {},
   "source": [
    "# <hr style=\"clear: both\" />\n",
    "\n",
    "# Now you can run your code\n",
    "\n",
    "Pick a clustering algorithm (name of the file that provides a classify(x,y [,threshold]) function)"
   ]
  },
  {
   "cell_type": "markdown",
   "metadata": {},
   "source": [
    "# Reading the conf file"
   ]
  },
  {
   "cell_type": "code",
   "execution_count": 4,
   "metadata": {
    "collapsed": false
   },
   "outputs": [],
   "source": [
    "import json\n",
    "import copy\n",
    "\n",
    "BASE_PATH = HDFS_PATH + '/user/robertop/mattia'\n",
    "\n",
    "conf = {}\n",
    "\n",
    "conf['split'] = {}\n",
    "conf['split']['reclistSize'] = 100\n",
    "conf['split']['callParams'] = {}\n",
    "conf['split']['excludeAlreadyListenedTest'] = True\n",
    "conf['split']['name'] = 'test'\n",
    "conf['split']['split'] = conf['split']['name']\n",
    "conf['split']['minEventsPerUser'] = 5\n",
    "conf['split']['inputData'] = HDFS_PATH + '/user/robertop/mattia/clusterBase.split/SenzaRipetizioni_1'\n",
    "#conf['split']['inputData'] = 's3n://contentwise-research-poli/30musicdataset/newFormat/relations/sessions.idomaar'\n",
    "conf['split']['bucketName'] = BASE_PATH\n",
    "conf['split']['percUsTr'] = 0.05\n",
    "conf['split']['ts'] = int(0.75 * (1421745857 - 1390209860) + 1390209860) - 10000\n",
    "conf['split']['minEventPerSession'] = 5\n",
    "conf['split']['onlineTrainingLength'] = 5\n",
    "conf['split']['GTlength'] = 1\n",
    "conf['split']['minEventPerSessionTraining'] = 10\n",
    "conf['split']['minEventPerSessionTest'] = 11\n",
    "conf['split']['mode'] = 'session'\n",
    "conf['split']['forceSplitCreation'] = False\n",
    "conf['split'][\"prop\"] = {'reclistSize': conf['split']['reclistSize']}\n",
    "conf['split']['type'] = list\n",
    "conf['split']['out'] = HDFS_PATH + '/user/robertop/mattia/clusterBase.split/'\n",
    "conf['split']['location'] = '30Mdataset/relations/sessions'\n",
    "\n",
    "conf['evaluation'] = {}\n",
    "conf['evaluation']['metric'] = {}\n",
    "conf['evaluation']['metric']['type'] = 'recall'\n",
    "conf['evaluation']['metric']['prop'] = {}\n",
    "conf['evaluation']['metric']['prop']['N'] = [1,2,5,10,15,20,25,50,100]\n",
    "conf['evaluation']['name'] = 'recall@N'\n",
    "\n",
    "conf['general'] = {}\n",
    "conf['general']['clientname'] = \"clusterBase.split\"\n",
    "conf['general']['bucketName'] = BASE_PATH\n",
    "conf['general']['tracksPath'] = '30Mdataset/entities/tracks.idomaar.gz'\n",
    "\n",
    "conf['algo'] = {}\n",
    "conf['algo']['name'] = 'ClusterBase'\n",
    "conf['algo']['props'] = {}\n",
    "# ***** EXAMPLE OF CONFIGURATION *****#\n",
    "conf['algo']['props'][\"sessionJaccardShrinkage\"] = 5\n",
    "conf['algo']['props'][\"clusterSimilarityThreshold\"] = 0.1\n",
    "conf['algo']['props'][\"expDecayFactor\"] = 0.7\n",
    "# ****** END EXAMPLE ****************#\n",
    "\n"
   ]
  },
  {
   "cell_type": "markdown",
   "metadata": {
    "collapsed": true
   },
   "source": [
    "# Load Clusters"
   ]
  },
  {
   "cell_type": "code",
   "execution_count": 5,
   "metadata": {
    "collapsed": false
   },
   "outputs": [
    {
     "name": "stdout",
     "output_type": "stream",
     "text": [
      "[(0, [3861236])]\n",
      "[(0, [1730002, 1730001])]\n"
     ]
    }
   ],
   "source": [
    "collaborativeClusters = sc.pickleFile(BASE_PATH + '/clusters/collaborative/min_j_25_avgShrink2_higherMean')\n",
    "jaccardClusters = sc.pickleFile(BASE_PATH + '/clusters/jaccardBase9')\n",
    "\n",
    "print collaborativeClusters.take(1)\n",
    "print jaccardClusters.take(1)"
   ]
  },
  {
   "cell_type": "code",
   "execution_count": 6,
   "metadata": {
    "collapsed": false
   },
   "outputs": [
    {
     "name": "stdout",
     "output_type": "stream",
     "text": [
      "296\n",
      "107360\n"
     ]
    }
   ],
   "source": [
    "collaborativeClusters = collaborativeClusters.filter(lambda x: len(x[1]) > 1)\n",
    "jaccardClusters = jaccardClusters.filter(lambda x: len(x[1]) > 1)\n",
    "\n",
    "print collaborativeClusters.count()\n",
    "print jaccardClusters.count()"
   ]
  },
  {
   "cell_type": "code",
   "execution_count": 24,
   "metadata": {
    "collapsed": false
   },
   "outputs": [
    {
     "name": "stdout",
     "output_type": "stream",
     "text": [
      "227463\n"
     ]
    },
    {
     "data": {
      "text/plain": [
       "[(2838528, [2838539, 2838528]),\n",
       " (2967552, [2967553, 2967552]),\n",
       " (2974608, [2974608, 2974607])]"
      ]
     },
     "execution_count": 24,
     "metadata": {},
     "output_type": "execute_result"
    }
   ],
   "source": [
    "collaborativeClustersSongs = collaborativeClusters.flatMap(lambda x: [(i, x[1]) for i in x[1] ])\n",
    "jaccardClustersSongs = jaccardClusters.flatMap(lambda x: [(i, x[1]) for i in x[1] ])\n",
    "\n",
    "unionSongs = collaborativeClustersSongs.union(jaccardClustersSongs)\n",
    "print unionSongs.count()\n",
    "unionSongs = unionSongs.reduceByKey(lambda x,y : (set(x) | set(y)))\n",
    "unionSongs.take(3)"
   ]
  },
  {
   "cell_type": "code",
   "execution_count": 30,
   "metadata": {
    "collapsed": false
   },
   "outputs": [
    {
     "name": "stdout",
     "output_type": "stream",
     "text": [
      "107701\n",
      "[('1171487 1171488', [1171488, 1171487]), ('3672757 3672758', [3672757, 3672758]), ('554805 554806', [554805, 554806])]\n",
      "145\n",
      "107701\n",
      "0\n"
     ]
    }
   ],
   "source": [
    "newClusters = unionSongs.map(lambda x: (' '.join([str(i) for i in sorted(x[1])]), x[0]))\n",
    "newClustersUnique = newClusters.groupByKey().mapValues(set).mapValues(list)\n",
    "print newClustersUnique.count()\n",
    "print newClustersUnique.take(3)\n",
    "print newClustersUnique.filter(lambda x: len(x[1]) != len(x[0].split(' ')) ).count()\n",
    "\n",
    "go_on = True\n",
    "while(go_on):\n",
    "    newClustersUnique = newClustersUnique.flatMap(lambda x: [(i, x[1]) for i in x[1] ])\n",
    "    newClustersUnique = newClustersUnique.reduceByKey(lambda x,y : (set(x) | set(y)))\n",
    "    newClustersUnique = newClustersUnique.map(lambda x: (' '.join([str(i) for i in sorted(x[1])]), x[0]))\n",
    "    newClustersUnique = newClustersUnique.groupByKey().mapValues(set).mapValues(list)\n",
    "    print newClustersUnique.count()\n",
    "    n_bad = newClustersUnique.filter(lambda x: len(x[1]) != len(x[0].split(' ')) ).count()\n",
    "    if n_bad == 0:\n",
    "        go_on = False\n",
    "    print n_bad\n",
    "\n",
    "\n"
   ]
  },
  {
   "cell_type": "code",
   "execution_count": 31,
   "metadata": {
    "collapsed": false
   },
   "outputs": [
    {
     "data": {
      "text/plain": [
       "[(1271037, '1271037 1271038'),\n",
       " (1271038, '1271037 1271038'),\n",
       " (3672757, '3672757 3672758')]"
      ]
     },
     "execution_count": 31,
     "metadata": {},
     "output_type": "execute_result"
    }
   ],
   "source": [
    "songToCluster = newClustersUnique.flatMap(lambda x: [(i, x[0]) for i in x[1]])\n",
    "songToCluster.take(3)"
   ]
  },
  {
   "cell_type": "markdown",
   "metadata": {},
   "source": [
    "# Load all songs"
   ]
  },
  {
   "cell_type": "code",
   "execution_count": 11,
   "metadata": {
    "collapsed": false
   },
   "outputs": [
    {
     "name": "stdout",
     "output_type": "stream",
     "text": [
      "IDs: 3893303\n"
     ]
    }
   ],
   "source": [
    "import json\n",
    "import string\n",
    "\n",
    "def my_replace_punct(x):\n",
    "    ret = \"\"\n",
    "    for i in x:\n",
    "        if i == '+':\n",
    "            ret += ' '\n",
    "        else:\n",
    "            ret += i\n",
    "    return ret\n",
    "\n",
    "tracksRDD = sc.textFile(BASE_PATH + '/30Mdataset/entities/tracks.idomaar.gz')\n",
    "tracksRDD = tracksRDD.repartition(200)\n",
    "tracksRDD = tracksRDD.map(lambda x: x.split('\\t')).map(lambda x: (x[1], json.loads(x[3])['name'].split('/') ) )\n",
    "tracksRDD = tracksRDD.map(lambda x: (x[0], \" \".join( (x[1][0], x[1][2]) ) )).distinct()\n",
    "tracksRDD = tracksRDD.map(lambda x : (x[0], my_replace_punct(x[1])))\n",
    "\n",
    "ZZ_TOP = 3893303\n",
    "tracksRDD = tracksRDD.filter(lambda x: int(x[0]) < ZZ_TOP)\n",
    "\n",
    "tracksIdsRDD = tracksRDD.map(lambda x: (int(x[0]), [x[0]]))\n",
    "\n",
    "n_tracksID = str(tracksIdsRDD.count())\n",
    "print \"IDs: \" + n_tracksID"
   ]
  },
  {
   "cell_type": "markdown",
   "metadata": {},
   "source": [
    "# Unify everyhting"
   ]
  },
  {
   "cell_type": "code",
   "execution_count": 32,
   "metadata": {
    "collapsed": false
   },
   "outputs": [
    {
     "name": "stdout",
     "output_type": "stream",
     "text": [
      "3893303\n",
      "119707\n"
     ]
    }
   ],
   "source": [
    "def reduce_to_biggest(x, y):\n",
    "    bigger = x if len(x) > len(y) else y\n",
    "    result = sorted(bigger)\n",
    "    return result\n",
    " \n",
    "unionJoinRDD = tracksIdsRDD.leftOuterJoin(songToCluster)\n",
    "unionRDD = unionJoinRDD.map(lambda x: (x[0], x[1][0]) if x[1][1] == None else (x[0], x[1][1]))\n",
    "tot_n = unionRDD.count()\n",
    "print tot_n\n",
    "\n",
    "#Flip the mapping as cluster->song\n",
    "clusterSongsRDD = unionRDD.map(lambda x: (' '.join(x[1]), x[0])).groupByKey().mapValues(list)\n",
    "clusterSongsRDD = clusterSongsRDD.zipWithIndex().map(lambda x: (x[1], x[0][1]))\n",
    "tot_cl = clusterSongsRDD.count()\n",
    "print tot_n - tot_cl\n"
   ]
  },
  {
   "cell_type": "code",
   "execution_count": 33,
   "metadata": {
    "collapsed": true
   },
   "outputs": [],
   "source": [
    "clusterSongsRDD.saveAsPickleFile(BASE_PATH + '/clusters/hybrid/coll_J25_S2_jaccard9')"
   ]
  },
  {
   "cell_type": "code",
   "execution_count": null,
   "metadata": {
    "collapsed": true
   },
   "outputs": [],
   "source": []
  }
 ],
 "metadata": {
  "kernelspec": {
   "display_name": "Python 2",
   "language": "python",
   "name": "python2"
  },
  "language_info": {
   "codemirror_mode": {
    "name": "ipython",
    "version": 2
   },
   "file_extension": ".py",
   "mimetype": "text/x-python",
   "name": "python",
   "nbconvert_exporter": "python",
   "pygments_lexer": "ipython2",
   "version": "2.7.11"
  }
 },
 "nbformat": 4,
 "nbformat_minor": 0
}
