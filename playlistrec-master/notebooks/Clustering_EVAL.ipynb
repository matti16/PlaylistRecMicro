{
 "cells": [
  {
   "cell_type": "markdown",
   "metadata": {},
   "source": [
    "# <hr style=\"clear: both\" />\n",
    "\n",
    "# Running Spark in YARN-client mode\n",
    "\n",
    "This notebook demonstrates how to set up a SparkContext that uses SURFsara's Hadoop cluster: [YARN resourcemanager](http://head05.hathi.surfsara.nl:8088/cluster) (note you will need to be authenticated via kerberos on your machine to visit the resourcemanager link) for executors.\n",
    "\n",
    "First initialize kerberos via a Jupyter terminal. \n",
    "In the terminal execute: <BR>\n",
    "<i>kinit -k -t data/robertop.keytab robertop@CUA.SURFSARA.NL</i><BR>\n",
    "Print your credentials:\n"
   ]
  },
  {
   "cell_type": "code",
   "execution_count": 1,
   "metadata": {
    "collapsed": false
   },
   "outputs": [
    {
     "name": "stdout",
     "output_type": "stream",
     "text": [
      "Ticket cache: FILE:/tmp/krb5cc_1000\r\n",
      "Default principal: robertop@CUA.SURFSARA.NL\r\n",
      "\r\n",
      "Valid starting       Expires              Service principal\r\n",
      "04/28/2016 06:11:58  04/29/2016 06:11:58  krbtgt/CUA.SURFSARA.NL@CUA.SURFSARA.NL\r\n",
      "\trenew until 04/28/2016 06:11:58\r\n"
     ]
    }
   ],
   "source": [
    "! klist"
   ]
  },
  {
   "cell_type": "code",
   "execution_count": 2,
   "metadata": {
    "collapsed": false
   },
   "outputs": [
    {
     "name": "stdout",
     "output_type": "stream",
     "text": [
      "Found 5 items\r\n",
      "drwx------   - robertop hdfs          0 2016-04-28 06:47 .Trash\r\n",
      "drwxr-xr-x   - robertop hdfs          0 2016-04-28 06:57 .sparkStaging\r\n",
      "drwx------   - robertop hdfs          0 2016-04-06 15:54 .staging\r\n",
      "drwxr-xr-x   - robertop hdfs          0 2016-04-27 13:07 mattia\r\n",
      "drwxr-xr-x   - robertop hdfs          0 2016-04-13 10:00 recsys2016Competition\r\n"
     ]
    }
   ],
   "source": [
    "! hdfs dfs -ls \n",
    "execfile('../spark-scripts/bullet.py')"
   ]
  },
  {
   "cell_type": "markdown",
   "metadata": {},
   "source": [
    "Verify that we can browse HDFS:"
   ]
  },
  {
   "cell_type": "markdown",
   "metadata": {},
   "source": [
    "Next initialize Spark. Note that the code below starts a job on the Hadoop cluster that will remain running while the notebook is active. Please close and halt the notebook when you are done. Starting the SparkContext can take a little longer. You can check the YARN resourcemanager to see the current status/usage of the cluster."
   ]
  },
  {
   "cell_type": "code",
   "execution_count": 3,
   "metadata": {
    "collapsed": false
   },
   "outputs": [],
   "source": [
    "import os\n",
    "os.environ['PYSPARK_PYTHON'] = '/usr/local/bin/python2.7'\n",
    "\n",
    "HDFS_PATH = \"hdfs://hathi-surfsara\"\n",
    "\n",
    "from pyspark import SparkConf, SparkContext\n",
    "from pyspark.sql import SQLContext\n",
    "sconf = SparkConf()\n",
    "\n",
    "# Master is now yarn-client. The YARN and hadoop config is read from the environment\n",
    "sconf.setMaster(\"yarn-client\")\n",
    "\n",
    "# You can control many Spark settings via the SparkConf. This determines the amount of executors on the cluster:\n",
    "sconf.set(\"spark.executor.instances\", \"200\")\n",
    "#sconf.set(\"spark.executor.memory\", \"20g\")\n",
    "\n",
    "# UFW (firewall) is active on the VM. We explicitly opened these ports and Spark should not bind to random ports:\n",
    "sconf.set(\"spark.driver.port\", 51800)\n",
    "sconf.set(\"spark.fileserver.port\", 51801)\n",
    "sconf.set(\"spark.broadcast.port\", 51802)\n",
    "sconf.set(\"spark.replClassServer.port\", 51803)\n",
    "sconf.set(\"spark.blockManager.port\", 51804)\n",
    "sconf.set(\"spark.authenticate\", True)\n",
    "sconf.set(\"spark.yarn.keytab\", \"/home/jovyan/work/data/robertop.keytab\")\n",
    "sconf.set(\"spark.yarn.access.namenodes\", HDFS_PATH + \":8020\")\n",
    "\n",
    "try:\n",
    "    sc = SparkContext(conf=sconf)\n",
    "    sqlCtx = SQLContext(sc) \n",
    "    sendNotificationToMattia(\"Spark Context\", str(sc))\n",
    "except Exception, err:\n",
    "    sendNotificationToMattia(\"Fuck you!\", str(err)) \n",
    "    print str(err)"
   ]
  },
  {
   "cell_type": "markdown",
   "metadata": {},
   "source": [
    "# <hr style=\"clear: both\" />\n",
    "\n",
    "# Now you can run your code\n",
    "\n",
    "Pick a clustering algorithm (name of the file that provides a classify(x,y [,threshold]) function)"
   ]
  },
  {
   "cell_type": "code",
   "execution_count": 28,
   "metadata": {
    "collapsed": false
   },
   "outputs": [],
   "source": [
    "execfile('../spark-scripts/evalCluster.py')\n",
    "execfile('../spark-scripts/utilsCluster.py')\n",
    "\n",
    "CLUSTER_ALGO = 'jaccardBase'\n",
    "THRESHOLD = 0.751\n",
    "THRESHOLD_STR = str(THRESHOLD)[2:]\n",
    "\n",
    "import json\n",
    "import copy\n",
    "\n",
    "BASE_PATH = HDFS_PATH + '/user/robertop/mattia'\n",
    "\n",
    "conf = {}\n",
    "\n",
    "conf['split'] = {}\n",
    "conf['split']['reclistSize'] = 100\n",
    "conf['split']['callParams'] = {}\n",
    "conf['split']['excludeAlreadyListenedTest'] = True\n",
    "conf['split']['name'] = 'SenzaRipetizioni_1'\n",
    "conf['split']['split'] = conf['split']['name']\n",
    "conf['split']['minEventsPerUser'] = 5\n",
    "conf['split']['inputData'] = HDFS_PATH + '/user/robertop/mattia/clusterBase.split/SenzaRipetizioni_1'\n",
    "#conf['split']['inputData'] = 's3n://contentwise-research-poli/30musicdataset/newFormat/relations/sessions.idomaar'\n",
    "conf['split']['bucketName'] = BASE_PATH\n",
    "conf['split']['percUsTr'] = 0.05\n",
    "conf['split']['ts'] = int(0.75 * (1421745857 - 1390209860) + 1390209860) - 10000\n",
    "conf['split']['minEventPerSession'] = 5\n",
    "conf['split']['onlineTrainingLength'] = 5\n",
    "conf['split']['GTlength'] = 1\n",
    "conf['split']['minEventPerSessionTraining'] = 10\n",
    "conf['split']['minEventPerSessionTest'] = 11\n",
    "conf['split']['mode'] = 'session'\n",
    "conf['split']['forceSplitCreation'] = False\n",
    "conf['split'][\"prop\"] = {'reclistSize': conf['split']['reclistSize']}\n",
    "conf['split']['type'] = None\n",
    "conf['split']['out'] = HDFS_PATH + '/user/robertop/mattia/clusterBase.split/'\n",
    "conf['split']['location'] = '30Mdataset/relations/sessions'\n",
    "\n",
    "conf['evaluation'] = {}\n",
    "conf['evaluation']['metric'] = {}\n",
    "conf['evaluation']['metric']['type'] = 'recall'\n",
    "conf['evaluation']['metric']['prop'] = {}\n",
    "conf['evaluation']['metric']['prop']['N'] = [1,2,5,10,15,20,25,50,100]\n",
    "conf['evaluation']['name'] = 'recall@N'\n",
    "\n",
    "conf['general'] = {}\n",
    "conf['general']['clientname'] = \"clusterBase.split\"\n",
    "conf['general']['bucketName'] = BASE_PATH\n",
    "conf['general']['tracksPath'] = '30Mdataset/entities/tracks.idomaar.gz'\n",
    "\n",
    "conf['algo'] = {}\n",
    "conf['algo']['props'] = {}\n",
    "# ***** EXAMPLE OF CONFIGURATION *****#\n",
    "conf['algo']['props'][\"sessionJaccardShrinkage\"] = 5\n",
    "conf['algo']['props'][\"clusterSimilarityThreshold\"] = 0.1\n",
    "conf['algo']['props'][\"expDecayFactor\"] = 0.7\n",
    "# ****** END EXAMPLE ****************#\n",
    "clusterSim = 0.1\n",
    "sessionJaccardShrinkage = 5\n",
    "expDecay = 0.7\n",
    "\n",
    "conf['split']['excludeAlreadyListenedTest'] = str(True)\n",
    "conf['algo']['name'] = CLUSTER_ALGO + THRESHOLD_STR + '_ImplicitPlaylist_shk_%d_clustSim_%.3f_decay_%.3f' % \\\n",
    "                    (sessionJaccardShrinkage, clusterSim, expDecay )"
   ]
  },
  {
   "cell_type": "markdown",
   "metadata": {},
   "source": [
    "# Load a recommendation"
   ]
  },
  {
   "cell_type": "code",
   "execution_count": 5,
   "metadata": {
    "collapsed": true
   },
   "outputs": [
    {
     "data": {
      "text/plain": [
       "[{u'id': 3457001420907355,\n",
       "  u'linkedinfo': {u'objects': [{u'action': u'play',\n",
       "     u'id': 3228363,\n",
       "     u'playratio': 1.11,\n",
       "     u'playstart': 0,\n",
       "     u'playtime': 244,\n",
       "     u'type': u'track'},\n",
       "    {u'action': u'play',\n",
       "     u'id': 3873665,\n",
       "     u'playratio': 0.98,\n",
       "     u'playstart': 244,\n",
       "     u'playtime': 155,\n",
       "     u'type': u'track'},\n",
       "    {u'action': u'play',\n",
       "     u'id': 3720190,\n",
       "     u'playratio': 0.51,\n",
       "     u'playstart': 399,\n",
       "     u'playtime': 128,\n",
       "     u'type': u'track'},\n",
       "    {u'action': u'play',\n",
       "     u'id': 3093573,\n",
       "     u'playratio': None,\n",
       "     u'playstart': 527,\n",
       "     u'playtime': 343,\n",
       "     u'type': u'track'},\n",
       "    {u'action': u'play',\n",
       "     u'id': 1056393,\n",
       "     u'playratio': 0.99,\n",
       "     u'playstart': 1276,\n",
       "     u'playtime': 134,\n",
       "     u'type': u'track'}],\n",
       "   u'response': [{u'id': 3467179, u'rank': 0, u'type': u'track'},\n",
       "    {u'id': 1727008, u'rank': 1, u'type': u'track'},\n",
       "    {u'id': 2212447, u'rank': 2, u'type': u'track'},\n",
       "    {u'id': 2006573, u'rank': 3, u'type': u'track'},\n",
       "    {u'id': 3467179, u'rank': 4, u'type': u'track'},\n",
       "    {u'id': 3220061, u'rank': 5, u'type': u'track'},\n",
       "    {u'id': 1810455, u'rank': 6, u'type': u'track'},\n",
       "    {u'id': 1654156, u'rank': 7, u'type': u'track'},\n",
       "    {u'id': 1512581, u'rank': 8, u'type': u'track'},\n",
       "    {u'id': 3016327, u'rank': 9, u'type': u'track'},\n",
       "    {u'id': 3467179, u'rank': 10, u'type': u'track'},\n",
       "    {u'id': 3220061, u'rank': 11, u'type': u'track'},\n",
       "    {u'id': 2871575, u'rank': 12, u'type': u'track'},\n",
       "    {u'id': 1819751, u'rank': 13, u'type': u'track'},\n",
       "    {u'id': 74648, u'rank': 14, u'type': u'track'},\n",
       "    {u'id': 395779, u'rank': 15, u'type': u'track'},\n",
       "    {u'id': 3467179, u'rank': 16, u'type': u'track'},\n",
       "    {u'id': 3220061, u'rank': 17, u'type': u'track'},\n",
       "    {u'id': 1970926, u'rank': 18, u'type': u'track'},\n",
       "    {u'id': 2179664, u'rank': 19, u'type': u'track'},\n",
       "    {u'id': 2793429, u'rank': 20, u'type': u'track'},\n",
       "    {u'id': 2599573, u'rank': 21, u'type': u'track'},\n",
       "    {u'id': 3467179, u'rank': 22, u'type': u'track'},\n",
       "    {u'id': 3220061, u'rank': 23, u'type': u'track'},\n",
       "    {u'id': 2091019, u'rank': 24, u'type': u'track'},\n",
       "    {u'id': 1740577, u'rank': 25, u'type': u'track'},\n",
       "    {u'id': 1836517, u'rank': 26, u'type': u'track'},\n",
       "    {u'id': 1916166, u'rank': 27, u'type': u'track'},\n",
       "    {u'id': 3467179, u'rank': 28, u'type': u'track'},\n",
       "    {u'id': 3220061, u'rank': 29, u'type': u'track'},\n",
       "    {u'id': 2824602, u'rank': 30, u'type': u'track'},\n",
       "    {u'id': 1814376, u'rank': 31, u'type': u'track'},\n",
       "    {u'id': 1727203, u'rank': 32, u'type': u'track'},\n",
       "    {u'id': 2024830, u'rank': 33, u'type': u'track'},\n",
       "    {u'id': 3467179, u'rank': 34, u'type': u'track'},\n",
       "    {u'id': 3220061, u'rank': 35, u'type': u'track'},\n",
       "    {u'id': 2871575, u'rank': 36, u'type': u'track'},\n",
       "    {u'id': 3163110, u'rank': 37, u'type': u'track'},\n",
       "    {u'id': 1727008, u'rank': 38, u'type': u'track'},\n",
       "    {u'id': 2212447, u'rank': 39, u'type': u'track'},\n",
       "    {u'id': 2006573, u'rank': 40, u'type': u'track'},\n",
       "    {u'id': 3467179, u'rank': 41, u'type': u'track'},\n",
       "    {u'id': 3220061, u'rank': 42, u'type': u'track'},\n",
       "    {u'id': 2871575, u'rank': 43, u'type': u'track'},\n",
       "    {u'id': 1810455, u'rank': 44, u'type': u'track'},\n",
       "    {u'id': 1654156, u'rank': 45, u'type': u'track'},\n",
       "    {u'id': 1512581, u'rank': 46, u'type': u'track'},\n",
       "    {u'id': 3016327, u'rank': 47, u'type': u'track'},\n",
       "    {u'id': 3467179, u'rank': 48, u'type': u'track'},\n",
       "    {u'id': 3220061, u'rank': 49, u'type': u'track'},\n",
       "    {u'id': 2871575, u'rank': 50, u'type': u'track'},\n",
       "    {u'id': 1819751, u'rank': 51, u'type': u'track'},\n",
       "    {u'id': 3467179, u'rank': 52, u'type': u'track'},\n",
       "    {u'id': 3220061, u'rank': 53, u'type': u'track'},\n",
       "    {u'id': 2871575, u'rank': 54, u'type': u'track'},\n",
       "    {u'id': 1819751, u'rank': 55, u'type': u'track'},\n",
       "    {u'id': 3467179, u'rank': 56, u'type': u'track'},\n",
       "    {u'id': 3220061, u'rank': 57, u'type': u'track'},\n",
       "    {u'id': 2871575, u'rank': 58, u'type': u'track'},\n",
       "    {u'id': 1819751, u'rank': 59, u'type': u'track'},\n",
       "    {u'id': 3467179, u'rank': 60, u'type': u'track'},\n",
       "    {u'id': 3220061, u'rank': 61, u'type': u'track'},\n",
       "    {u'id': 2871575, u'rank': 62, u'type': u'track'},\n",
       "    {u'id': 1819751, u'rank': 63, u'type': u'track'},\n",
       "    {u'id': 3467179, u'rank': 64, u'type': u'track'},\n",
       "    {u'id': 3220061, u'rank': 65, u'type': u'track'},\n",
       "    {u'id': 2871575, u'rank': 66, u'type': u'track'},\n",
       "    {u'id': 1819751, u'rank': 67, u'type': u'track'},\n",
       "    {u'id': 3467179, u'rank': 68, u'type': u'track'},\n",
       "    {u'id': 3220061, u'rank': 69, u'type': u'track'},\n",
       "    {u'id': 2871575, u'rank': 70, u'type': u'track'},\n",
       "    {u'id': 1819751, u'rank': 71, u'type': u'track'},\n",
       "    {u'id': 395779, u'rank': 72, u'type': u'track'},\n",
       "    {u'id': 3467179, u'rank': 73, u'type': u'track'},\n",
       "    {u'id': 3220061, u'rank': 74, u'type': u'track'},\n",
       "    {u'id': 2871575, u'rank': 75, u'type': u'track'},\n",
       "    {u'id': 1819751, u'rank': 76, u'type': u'track'},\n",
       "    {u'id': 395779, u'rank': 77, u'type': u'track'},\n",
       "    {u'id': 3467179, u'rank': 78, u'type': u'track'},\n",
       "    {u'id': 3220061, u'rank': 79, u'type': u'track'},\n",
       "    {u'id': 2871575, u'rank': 80, u'type': u'track'},\n",
       "    {u'id': 1819751, u'rank': 81, u'type': u'track'},\n",
       "    {u'id': 3467179, u'rank': 82, u'type': u'track'},\n",
       "    {u'id': 3220061, u'rank': 83, u'type': u'track'},\n",
       "    {u'id': 2871575, u'rank': 84, u'type': u'track'},\n",
       "    {u'id': 1819751, u'rank': 85, u'type': u'track'},\n",
       "    {u'id': 74648, u'rank': 86, u'type': u'track'},\n",
       "    {u'id': 395779, u'rank': 87, u'type': u'track'},\n",
       "    {u'id': 3467179, u'rank': 88, u'type': u'track'},\n",
       "    {u'id': 3220061, u'rank': 89, u'type': u'track'},\n",
       "    {u'id': 2871575, u'rank': 90, u'type': u'track'},\n",
       "    {u'id': 1819751, u'rank': 91, u'type': u'track'},\n",
       "    {u'id': 74648, u'rank': 92, u'type': u'track'},\n",
       "    {u'id': 395779, u'rank': 93, u'type': u'track'},\n",
       "    {u'id': 3467179, u'rank': 94, u'type': u'track'},\n",
       "    {u'id': 3220061, u'rank': 95, u'type': u'track'},\n",
       "    {u'id': 2871575, u'rank': 96, u'type': u'track'},\n",
       "    {u'id': 1819751, u'rank': 97, u'type': u'track'},\n",
       "    {u'id': 74648, u'rank': 98, u'type': u'track'},\n",
       "    {u'id': 395779, u'rank': 99, u'type': u'track'}],\n",
       "   u'subjects': [{u'id': 34570, u'type': u'user'}]},\n",
       "  u'properties': {u'reclistSize': 100},\n",
       "  u'ts': u'1420907355',\n",
       "  u'type': u'request'}]"
      ]
     },
     "execution_count": 5,
     "metadata": {},
     "output_type": "execute_result"
    }
   ],
   "source": [
    "recRDD = loadRecommendations(conf).map(json.loads)\n",
    "recRDD.take(1)"
   ]
  },
  {
   "cell_type": "markdown",
   "metadata": {},
   "source": [
    "# Load clusters mapping"
   ]
  },
  {
   "cell_type": "code",
   "execution_count": 6,
   "metadata": {
    "collapsed": false
   },
   "outputs": [
    {
     "data": {
      "text/plain": [
       "[(0, [221540]),\n",
       " (1, [287144]),\n",
       " (2, [41679]),\n",
       " (3, [1730002, 1730001]),\n",
       " (4, [3155900]),\n",
       " (5, [64357]),\n",
       " (6, [1135504]),\n",
       " (7, [549305]),\n",
       " (8, [1707402]),\n",
       " (9, [2797192])]"
      ]
     },
     "execution_count": 6,
     "metadata": {},
     "output_type": "execute_result"
    }
   ],
   "source": [
    "cluster_path = BASE_PATH + \"/clusters/\" + CLUSTER_ALGO + THRESHOLD_STR\n",
    "clustersRDD = sc.pickleFile(cluster_path)\n",
    "clustersRDD.take(10)"
   ]
  },
  {
   "cell_type": "markdown",
   "metadata": {},
   "source": [
    "# Substitute cluster with list of songs and compute metrics"
   ]
  },
  {
   "cell_type": "code",
   "execution_count": null,
   "metadata": {
    "collapsed": false,
    "scrolled": true
   },
   "outputs": [],
   "source": [
    "options = [ 'plug_songs', 'all_cluster', 'plug_one_song' ]\n",
    "\n",
    "for i, name in enumerate(options):\n",
    "    conf['evaluation']['name'] = 'recall@N_' + name\n",
    "    \n",
    "    rec = mapClusterRecToListOfSongs(recRDD, clustersRDD, i)\n",
    "    \n",
    "    try:\n",
    "        computeMetrics(conf, rec)\n",
    "        sendNotificationToMattia(\"Compute Metrics \" + name , \"Good\")\n",
    "    except Exception, err:\n",
    "        er_str = str(err)\n",
    "        print er_str\n",
    "        sendNotificationToMattia(\"Fuck\", er_str)\n",
    "    \n",
    "\n",
    "sendNotificationToMattia(\"Finished\", \"Check me\")"
   ]
  }
 ],
 "metadata": {
  "kernelspec": {
   "display_name": "Python 2",
   "language": "python",
   "name": "python2"
  },
  "language_info": {
   "codemirror_mode": {
    "name": "ipython",
    "version": 2
   },
   "file_extension": ".py",
   "mimetype": "text/x-python",
   "name": "python",
   "nbconvert_exporter": "python",
   "pygments_lexer": "ipython2",
   "version": "2.7.11"
  }
 },
 "nbformat": 4,
 "nbformat_minor": 0
}
