{
 "cells": [
  {
   "cell_type": "markdown",
   "metadata": {},
   "source": [
    "# <hr style=\"clear: both\" />\n",
    "\n",
    "# Running Spark in YARN-client mode\n",
    "\n",
    "This notebook demonstrates how to set up a SparkContext that uses SURFsara's Hadoop cluster: [YARN resourcemanager](http://head05.hathi.surfsara.nl:8088/cluster) (note you will need to be authenticated via kerberos on your machine to visit the resourcemanager link) for executors.\n",
    "\n",
    "First initialize kerberos via a Jupyter terminal. \n",
    "In the terminal execute: <BR>\n",
    "<i>kinit -k -t data/robertop.keytab robertop@CUA.SURFSARA.NL</i><BR>\n",
    "Print your credentials:\n"
   ]
  },
  {
   "cell_type": "code",
   "execution_count": 1,
   "metadata": {
    "collapsed": false
   },
   "outputs": [
    {
     "name": "stdout",
     "output_type": "stream",
     "text": [
      "Ticket cache: FILE:/tmp/krb5cc_1000\r\n",
      "Default principal: robertop@CUA.SURFSARA.NL\r\n",
      "\r\n",
      "Valid starting       Expires              Service principal\r\n",
      "06/21/2016 07:57:32  06/22/2016 07:57:31  krbtgt/CUA.SURFSARA.NL@CUA.SURFSARA.NL\r\n",
      "\trenew until 06/21/2016 07:57:32\r\n"
     ]
    }
   ],
   "source": [
    "! klist"
   ]
  },
  {
   "cell_type": "code",
   "execution_count": 2,
   "metadata": {
    "collapsed": false
   },
   "outputs": [
    {
     "name": "stdout",
     "output_type": "stream",
     "text": [
      "Found 5 items\r\n",
      "drwx------   - robertop hdfs          0 2016-06-20 06:00 .Trash\r\n",
      "drwxr-xr-x   - robertop hdfs          0 2016-06-21 09:01 .sparkStaging\r\n",
      "drwx------   - robertop hdfs          0 2016-04-06 15:54 .staging\r\n",
      "drwxr-xr-x   - robertop hdfs          0 2016-05-25 06:28 mattia\r\n",
      "drwxr-xr-x   - robertop hdfs          0 2016-04-13 10:00 recsys2016Competition\r\n"
     ]
    }
   ],
   "source": [
    "! hdfs dfs -ls \n",
    "execfile('../spark-scripts/bullet.py')"
   ]
  },
  {
   "cell_type": "markdown",
   "metadata": {},
   "source": [
    "Verify that we can browse HDFS:"
   ]
  },
  {
   "cell_type": "markdown",
   "metadata": {},
   "source": [
    "Next initialize Spark. Note that the code below starts a job on the Hadoop cluster that will remain running while the notebook is active. Please close and halt the notebook when you are done. Starting the SparkContext can take a little longer. You can check the YARN resourcemanager to see the current status/usage of the cluster."
   ]
  },
  {
   "cell_type": "code",
   "execution_count": 3,
   "metadata": {
    "collapsed": false
   },
   "outputs": [],
   "source": [
    "import os\n",
    "os.environ['PYSPARK_PYTHON'] = '/usr/local/bin/python2.7'\n",
    "\n",
    "HDFS_PATH = \"hdfs://hathi-surfsara\"\n",
    "\n",
    "from pyspark import SparkConf, SparkContext\n",
    "from pyspark.sql import SQLContext\n",
    "sconf = SparkConf(False)\n",
    "\n",
    "sconf.setAppName(\"eval\")\n",
    "\n",
    "# Master is now yarn-client. The YARN and hadoop config is read from the environment\n",
    "sconf.setMaster(\"yarn-client\")\n",
    "\n",
    "# You can control many Spark settings via the SparkConf. This determines the amount of executors on the cluster:\n",
    "sconf.set(\"spark.executor.instances\", \"100\")\n",
    "sconf.set(\"spark.executor.memory\", \"20g\")\n",
    "\n",
    "# UFW (firewall) is active on the VM. We explicitly opened these ports and Spark should not bind to random ports:\n",
    "sconf.set(\"spark.driver.port\", 51800)\n",
    "sconf.set(\"spark.fileserver.port\", 51801)\n",
    "sconf.set(\"spark.broadcast.port\", 51802)\n",
    "sconf.set(\"spark.replClassServer.port\", 51803)\n",
    "sconf.set(\"spark.blockManager.port\", 51804)\n",
    "sconf.set(\"spark.authenticate\", True)\n",
    "sconf.set(\"spark.yarn.keytab\", \"/home/jovyan/work/data/robertop.keytab\")\n",
    "sconf.set(\"spark.yarn.access.namenodes\", HDFS_PATH + \":8020\")\n",
    "\n",
    "try:\n",
    "    sc = SparkContext(conf=sconf)\n",
    "    sqlCtx = SQLContext(sc) \n",
    "    sendNotificationToMattia(\"Spark Context\", str(sc))\n",
    "except Exception, err:\n",
    "    sendNotificationToMattia(\"Fuck you!\", str(err)) \n",
    "    print str(err)"
   ]
  },
  {
   "cell_type": "markdown",
   "metadata": {},
   "source": [
    "# <hr style=\"clear: both\" />\n",
    "\n",
    "# Now you can run your code\n",
    "\n",
    "Pick a clustering algorithm (name of the file that provides a classify(x,y [,threshold]) function)"
   ]
  },
  {
   "cell_type": "code",
   "execution_count": null,
   "metadata": {
    "collapsed": true
   },
   "outputs": [],
   "source": [
    "execfile('../spark-scripts/evalCluster.py')\n",
    "execfile('../spark-scripts/utilsCluster.py')\n",
    "\n",
    "\n",
    "import json\n",
    "import copy\n",
    "\n",
    "BASE_PATH = HDFS_PATH + '/user/robertop/mattia'\n",
    "\n",
    "conf = {}\n",
    "\n",
    "conf['split'] = {}\n",
    "conf['split']['reclistSize'] = 100\n",
    "conf['split']['callParams'] = {}\n",
    "conf['split']['excludeAlreadyListenedTest'] = True\n",
    "conf['split']['name'] = 'SenzaRipetizioni_1'\n",
    "conf['split']['split'] = conf['split']['name']\n",
    "conf['split']['minEventsPerUser'] = 5\n",
    "conf['split']['inputData'] = HDFS_PATH + '/user/robertop/mattia/clusterBase.split/SenzaRipetizioni_1'\n",
    "#conf['split']['inputData'] = 's3n://contentwise-research-poli/30musicdataset/newFormat/relations/sessions.idomaar'\n",
    "conf['split']['bucketName'] = BASE_PATH\n",
    "conf['split']['percUsTr'] = 0.05\n",
    "conf['split']['ts'] = int(0.75 * (1421745857 - 1390209860) + 1390209860) - 10000\n",
    "conf['split']['minEventPerSession'] = 5\n",
    "conf['split']['onlineTrainingLength'] = 5\n",
    "conf['split']['GTlength'] = 1\n",
    "conf['split']['minEventPerSessionTraining'] = 10\n",
    "conf['split']['minEventPerSessionTest'] = 11\n",
    "conf['split']['mode'] = 'session'\n",
    "conf['split']['forceSplitCreation'] = False\n",
    "conf['split'][\"prop\"] = {'reclistSize': conf['split']['reclistSize']}\n",
    "conf['split']['type'] = None\n",
    "conf['split']['out'] = HDFS_PATH + '/user/robertop/mattia/clusterBase.split/'\n",
    "conf['split']['location'] = '30Mdataset/relations/sessions'\n",
    "\n",
    "conf['evaluation'] = {}\n",
    "conf['evaluation']['metric'] = {}\n",
    "conf['evaluation']['metric']['type'] = 'recall'\n",
    "conf['evaluation']['metric']['prop'] = {}\n",
    "conf['evaluation']['metric']['prop']['N'] = [1,2,5,10,15,20,25,50,100]\n",
    "conf['evaluation']['name'] = 'recall@N'\n",
    "\n",
    "conf['general'] = {}\n",
    "conf['general']['clientname'] = \"clusterBase.split\"\n",
    "conf['general']['bucketName'] = BASE_PATH\n",
    "conf['general']['tracksPath'] = '30Mdataset/entities/tracks.idomaar.gz'\n",
    "\n",
    "conf['algo'] = {}\n",
    "conf['algo']['props'] = {}\n",
    "# ***** EXAMPLE OF CONFIGURATION *****#\n",
    "conf['algo']['props'][\"sessionJaccardShrinkage\"] = 7.5\n",
    "conf['algo']['props'][\"clusterSimilarityThreshold\"] = 0.2\n",
    "conf['algo']['props'][\"expDecayFactor\"] = 0.7\n",
    "# ****** END EXAMPLE ****************#\n",
    "clusterSim = conf['algo']['props'][\"clusterSimilarityThreshold\"]\n",
    "sessionJaccardShrinkage = conf['algo']['props'][\"sessionJaccardShrinkage\"]\n",
    "expDecay = conf['algo']['props'][\"expDecayFactor\"]\n",
    "\n",
    "conf['split']['excludeAlreadyListenedTest'] = str(True)\n",
    "\n"
   ]
  },
  {
   "cell_type": "markdown",
   "metadata": {},
   "source": [
    "# Original Algo"
   ]
  },
  {
   "cell_type": "code",
   "execution_count": 4,
   "metadata": {
    "collapsed": false,
    "scrolled": true
   },
   "outputs": [
    {
     "name": "stdout",
     "output_type": "stream",
     "text": [
      "newRecall@N successfully written to /home/jovyan/work/data/mattia/resultsNew/original_5#0.1#0.7/recall@N\n",
      "newPrecision@N successfully written to /home/jovyan/work/data/mattia/resultsNew/original_5#0.1#0.7/precision@N\n"
     ]
    }
   ],
   "source": [
    "execfile('../spark-scripts/evalClusterNew.py')\n",
    "execfile('../spark-scripts/utilsCluster.py')\n",
    "\n",
    "CLUSTER_ALGO = 'plain'\n",
    "THRESHOLD = '0.0'\n",
    "THRESHOLD_STR = str(THRESHOLD)[2:]\n",
    "conf['algo']['name'] = CLUSTER_ALGO + THRESHOLD_STR + '_ImplicitPlaylist_shk_%d_clustSim_%.3f_decay_%.3f' % \\\n",
    "                    (sessionJaccardShrinkage, clusterSim, expDecay )\n",
    "\n",
    "recRDD = loadRecommendations(conf)#.map(json.loads)\n",
    "computeNewRecallPrecision(conf, recRDD, path = 'original' + '_' + '#'.join([str(sessionJaccardShrinkage), str(clusterSim), str(expDecay)]))"
   ]
  },
  {
   "cell_type": "markdown",
   "metadata": {},
   "source": [
    "# Substitute cluster with list of songs and compute metrics"
   ]
  },
  {
   "cell_type": "code",
   "execution_count": null,
   "metadata": {
    "collapsed": false
   },
   "outputs": [],
   "source": [
    "execfile('../spark-scripts/evalClusterNew.py')\n",
    "execfile('../spark-scripts/utilsCluster.py')\n",
    "\n",
    "CLUSTER_ALGO = 'collaborative/'\n",
    "THRESHOLDS = ['0.min_j_25_avgShrink2_Switch42']\n",
    "\n",
    "for THRESHOLD in THRESHOLDS:\n",
    "    \n",
    "    THRESHOLD_STR = str(THRESHOLD)[2:]\n",
    "    conf['algo']['name'] = CLUSTER_ALGO + THRESHOLD_STR + '_ImplicitPlaylist_shk_%d_clustSim_%.3f_decay_%.3f' % \\\n",
    "                    (sessionJaccardShrinkage, clusterSim, expDecay )\n",
    "    \n",
    "    recRDD = loadRecommendations(conf).map(json.loads)\n",
    "    \n",
    "    cluster_path = BASE_PATH + \"/clusters/\" + CLUSTER_ALGO + THRESHOLD_STR\n",
    "    clustersRDD = sc.pickleFile(cluster_path)\n",
    "\n",
    "    ALGO_PATH =   CLUSTER_ALGO + THRESHOLD_STR + '_' + '#'.join([str(sessionJaccardShrinkage), str(clusterSim), str(expDecay)])\n",
    "\n",
    "    rec = mapClusterRecToListOfSongs(recRDD, clustersRDD, 'plug_songs')\n",
    "    computeNewRecallPrecision(conf, rec, path = ALGO_PATH + '/full/flat')\n",
    "    \n",
    "    rec = mapClusterRecToListOfSongs(recRDD, clustersRDD, 'all_cluster')\n",
    "    computeNewRecallPrecision(conf, rec, path = ALGO_PATH + '/full/ideal')\n",
    "    computeNewRecallPrecision(conf, rec, loss = True, path = ALGO_PATH + '/full/loss')"
   ]
  },
  {
   "cell_type": "code",
   "execution_count": null,
   "metadata": {
    "collapsed": true
   },
   "outputs": [],
   "source": [
    "sendNotificationToMattia(\"Finished\", \"Check\")"
   ]
  },
  {
   "cell_type": "markdown",
   "metadata": {
    "collapsed": true
   },
   "source": [
    "\n",
    "\n",
    "# Compute performance with clustering just in Evaluation"
   ]
  },
  {
   "cell_type": "code",
   "execution_count": null,
   "metadata": {
    "collapsed": true
   },
   "outputs": [],
   "source": [
    "from operator import itemgetter\n",
    "def plug_clusters(x):\n",
    "    row_dic = list(x[1])[0][2]\n",
    "    to_be_plugged = sorted(list(x[1]), key = itemgetter(1))\n",
    "    plugged = set()\n",
    "    rank = 0\n",
    "    row_dic['linkedinfo']['response'] = []\n",
    "    \n",
    "    for i in to_be_plugged:\n",
    "        cl_id = i[0]\n",
    "        if not cl_id in plugged:\n",
    "            entry = {\"type\": \"track\", \"id\": cl_id, \"rank\": rank}\n",
    "            row_dic['linkedinfo']['response'].append(entry)\n",
    "            plugged.add(cl_id)\n",
    "            rank += 1\n",
    "            \n",
    "    return json.dumps(row_dic)"
   ]
  },
  {
   "cell_type": "code",
   "execution_count": null,
   "metadata": {
    "collapsed": false
   },
   "outputs": [],
   "source": [
    "execfile('../spark-scripts/utilsCluster.py')\n",
    "execfile('../spark-scripts/evalClusterNew.py')\n",
    "\n",
    "CLUSTER_ALGO = 'hybrid/'\n",
    "THRESHOLDS = ['0.coll_J25_S2_jaccard9']\n",
    "\n",
    "for THRESHOLD in THRESHOLDS:\n",
    "    \n",
    "    THRESHOLD_STR = str(THRESHOLD)[2:]\n",
    "    conf['algo']['name'] = 'plain0_ImplicitPlaylist_shk_%d_clustSim_%.3f_decay_%.3f' % \\\n",
    "                    (5, 0.1, 0.7)\n",
    "    conf['algo']['props'][\"sessionJaccardShrinkage\"] = 5\n",
    "    conf['algo']['props'][\"clusterSimilarityThreshold\"] = 0.1\n",
    "    conf['algo']['props'][\"expDecayFactor\"] = 0.7\n",
    "    \n",
    "    plainRDD = loadRecommendations(conf)\n",
    "    plainRDD = plainRDD.map(json.loads)\n",
    "\n",
    "    conf['algo']['name'] = CLUSTER_ALGO + THRESHOLD_STR + '_ImplicitPlaylist_shk_%d_clustSim_%.3f_decay_%.3f' % \\\n",
    "                    (sessionJaccardShrinkage, clusterSim, expDecay )\n",
    "        \n",
    "    cluster_path = BASE_PATH + \"/clusters/\" + CLUSTER_ALGO + THRESHOLD_STR\n",
    "    clustersRDD = sc.pickleFile(cluster_path)\n",
    "    songToClusterRDD = clustersRDD.flatMap(lambda x: [(int(i), x[0]) for i in x[1]] )  \n",
    "    \n",
    "    plainFlatRDD = plainRDD.flatMap(lambda x: [(i['id'], (i['rank'], x)) for i in x['linkedinfo']['response']])\n",
    "    plainJoinRDD = plainFlatRDD.join(songToClusterRDD).map(lambda x: (x[1][0][1]['id'], (x[1][1], x[1][0][0], x[1][0][1]) ))\n",
    "    plainGroupRDD = plainJoinRDD.groupByKey().map(plug_clusters)\n",
    "    recPlainClusterRDD = plainGroupRDD.map(json.loads)\n",
    "      \n",
    "    recPlainCluster = mapClusterRecToListOfSongs(recPlainClusterRDD, clustersRDD)\n",
    "    computeNewRecallPrecision(conf,recPlainCluster, loss = False, plain = True, path = CLUSTER_ALGO + THRESHOLD_STR + \"/eval/ideal\")\n",
    "    computeNewRecallPrecision(conf,recPlainCluster, loss = True, plain = True, path = CLUSTER_ALGO + THRESHOLD_STR + \"/eval/loss\")"
   ]
  },
  {
   "cell_type": "code",
   "execution_count": null,
   "metadata": {
    "collapsed": true
   },
   "outputs": [],
   "source": [
    "sendNotificationToMattia(\"Finished\", \"Check\")"
   ]
  },
  {
   "cell_type": "markdown",
   "metadata": {},
   "source": [
    "# COVERAGE"
   ]
  },
  {
   "cell_type": "code",
   "execution_count": null,
   "metadata": {
    "collapsed": false
   },
   "outputs": [],
   "source": [
    "import os\n",
    "import json\n",
    "execfile('../spark-scripts/utilsCluster.py')\n",
    "\n",
    "ALGO = 'min_j_25_avgShrink2_higherMean'\n",
    "conf['algo']['name'] = 'collaborative' + ALGO + '_ImplicitPlaylist_shk_%d_clustSim_%.3f_decay_%.3f' % \\\n",
    "                    (sessionJaccardShrinkage, clusterSim, expDecay )\n",
    "    \n",
    "recRDD = loadRecommendations(conf).map(json.loads)\n",
    "cluster_path = BASE_PATH + \"/clusters/collaborative/\" + ALGO\n",
    "clustersRDD = sc.pickleFile(cluster_path)\n",
    "\n",
    "recRDD = mapClusterRecToListOfSongs(recRDD, clustersRDD, 'plug_songs')\n",
    "\n",
    "songsRecRDD = recRDD.flatMap(lambda x: [(i['id'], i['rank']) for i in json.loads(x)['linkedinfo']['response'] ])\n",
    "\n",
    "TOTAL_SONGS = 3893303\n",
    "\n",
    "result = []\n",
    "for n in conf['evaluation']['metric']['prop']['N']:\n",
    "    uniqueSongsAtN = songsRecRDD.filter(lambda x: x[1] < n).map(lambda x: x[1]).distinct().count()\n",
    "    temp = {}\n",
    "    temp['evaluation'] = {}\n",
    "    temp['linkedinfo'] = {}\n",
    "    temp['evaluation']['N'] = n\n",
    "    temp['evaluation']['value'] = float(uniqueSongsAtN) / float(TOTAL_SONGS)\n",
    "    temp['linkedinfo']['splitName'] = conf['split']['name']\n",
    "    temp['linkedinfo']['algoName'] = conf['algo']['name']\n",
    "    result.append(temp)\n",
    "\n",
    "\n",
    "DATA_PATH = '/home/jovyan/work/data/mattia/resultsNew'\n",
    "path = os.path.join('collaborative', ALGO, 'full', 'flat')\n",
    "directory = os.path.join(DATA_PATH, path)\n",
    "if not os.path.exists(directory):\n",
    "    os.makedirs(directory)\n",
    "\n",
    "filename = os.path.join(DATA_PATH, path, 'coverage@N')\n",
    "with open(filename, 'w') as f:\n",
    "    for i in result:\n",
    "        line = json.dumps(i)\n",
    "        f.write(line + '\\n')\n",
    "\n",
    "    "
   ]
  },
  {
   "cell_type": "code",
   "execution_count": null,
   "metadata": {
    "collapsed": true
   },
   "outputs": [],
   "source": []
  }
 ],
 "metadata": {
  "kernelspec": {
   "display_name": "Python 2",
   "language": "python",
   "name": "python2"
  },
  "language_info": {
   "codemirror_mode": {
    "name": "ipython",
    "version": 2
   },
   "file_extension": ".py",
   "mimetype": "text/x-python",
   "name": "python",
   "nbconvert_exporter": "python",
   "pygments_lexer": "ipython2",
   "version": "2.7.11"
  }
 },
 "nbformat": 4,
 "nbformat_minor": 0
}
