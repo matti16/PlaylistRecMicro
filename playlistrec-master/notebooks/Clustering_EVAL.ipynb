{
 "cells": [
  {
   "cell_type": "markdown",
   "metadata": {},
   "source": [
    "# <hr style=\"clear: both\" />\n",
    "\n",
    "# Running Spark in YARN-client mode\n",
    "\n",
    "This notebook demonstrates how to set up a SparkContext that uses SURFsara's Hadoop cluster: [YARN resourcemanager](http://head05.hathi.surfsara.nl:8088/cluster) (note you will need to be authenticated via kerberos on your machine to visit the resourcemanager link) for executors.\n",
    "\n",
    "First initialize kerberos via a Jupyter terminal. \n",
    "In the terminal execute: <BR>\n",
    "<i>kinit -k -t data/robertop.keytab robertop@CUA.SURFSARA.NL</i><BR>\n",
    "Print your credentials:\n"
   ]
  },
  {
   "cell_type": "code",
   "execution_count": 1,
   "metadata": {
    "collapsed": false
   },
   "outputs": [
    {
     "name": "stdout",
     "output_type": "stream",
     "text": [
      "Ticket cache: FILE:/tmp/krb5cc_1000\r\n",
      "Default principal: robertop@CUA.SURFSARA.NL\r\n",
      "\r\n",
      "Valid starting       Expires              Service principal\r\n",
      "04/20/2016 07:51:03  04/21/2016 07:51:03  krbtgt/CUA.SURFSARA.NL@CUA.SURFSARA.NL\r\n",
      "\trenew until 04/20/2016 07:51:03\r\n"
     ]
    }
   ],
   "source": [
    "! klist"
   ]
  },
  {
   "cell_type": "code",
   "execution_count": 2,
   "metadata": {
    "collapsed": false
   },
   "outputs": [
    {
     "name": "stdout",
     "output_type": "stream",
     "text": [
      "Found 5 items\r\n",
      "drwx------   - robertop hdfs          0 2016-04-16 06:00 .Trash\r\n",
      "drwxr-xr-x   - robertop hdfs          0 2016-04-20 08:29 .sparkStaging\r\n",
      "drwx------   - robertop hdfs          0 2016-04-06 15:54 .staging\r\n",
      "drwxr-xr-x   - robertop hdfs          0 2016-04-19 14:35 mattia\r\n",
      "drwxr-xr-x   - robertop hdfs          0 2016-04-13 10:00 recsys2016Competition\r\n"
     ]
    }
   ],
   "source": [
    "! hdfs dfs -ls \n",
    "execfile('../spark-scripts/bullet.py')"
   ]
  },
  {
   "cell_type": "markdown",
   "metadata": {},
   "source": [
    "Verify that we can browse HDFS:"
   ]
  },
  {
   "cell_type": "markdown",
   "metadata": {},
   "source": [
    "Next initialize Spark. Note that the code below starts a job on the Hadoop cluster that will remain running while the notebook is active. Please close and halt the notebook when you are done. Starting the SparkContext can take a little longer. You can check the YARN resourcemanager to see the current status/usage of the cluster."
   ]
  },
  {
   "cell_type": "code",
   "execution_count": 3,
   "metadata": {
    "collapsed": false
   },
   "outputs": [],
   "source": [
    "import os\n",
    "os.environ['PYSPARK_PYTHON'] = '/usr/local/bin/python2.7'\n",
    "\n",
    "HDFS_PATH = \"hdfs://hathi-surfsara\"\n",
    "\n",
    "from pyspark import SparkConf, SparkContext\n",
    "from pyspark.sql import SQLContext\n",
    "sconf = SparkConf()\n",
    "\n",
    "# Master is now yarn-client. The YARN and hadoop config is read from the environment\n",
    "sconf.setMaster(\"yarn-client\")\n",
    "\n",
    "# You can control many Spark settings via the SparkConf. This determines the amount of executors on the cluster:\n",
    "sconf.set(\"spark.executor.instances\", \"200\")\n",
    "#sconf.set(\"spark.executor.memory\", \"20g\")\n",
    "\n",
    "# UFW (firewall) is active on the VM. We explicitly opened these ports and Spark should not bind to random ports:\n",
    "sconf.set(\"spark.driver.port\", 51800)\n",
    "sconf.set(\"spark.fileserver.port\", 51801)\n",
    "sconf.set(\"spark.broadcast.port\", 51802)\n",
    "sconf.set(\"spark.replClassServer.port\", 51803)\n",
    "sconf.set(\"spark.blockManager.port\", 51804)\n",
    "sconf.set(\"spark.authenticate\", True)\n",
    "sconf.set(\"spark.yarn.keytab\", \"/home/jovyan/work/data/robertop.keytab\")\n",
    "sconf.set(\"spark.yarn.access.namenodes\", HDFS_PATH + \":8020\")\n",
    "\n",
    "try:\n",
    "    sc = SparkContext(conf=sconf)\n",
    "    sqlCtx = SQLContext(sc) \n",
    "    sendNotificationToMattia(\"Spark Context\", str(sc))\n",
    "except Exception, err:\n",
    "    sendNotificationToMattia(\"Fuck you!\", str(err)) \n",
    "    print str(err)"
   ]
  },
  {
   "cell_type": "markdown",
   "metadata": {},
   "source": [
    "# <hr style=\"clear: both\" />\n",
    "\n",
    "# Now you can run your code\n",
    "\n",
    "Pick a clustering algorithm (name of the file that provides a classify(x,y [,threshold]) function)"
   ]
  },
  {
   "cell_type": "code",
   "execution_count": 32,
   "metadata": {
    "collapsed": false
   },
   "outputs": [],
   "source": [
    "execfile('../spark-scripts/evalCluster.py')\n",
    "execfile('../spark-scripts/utilsCluster.py')\n",
    "\n",
    "CLUSTER_ALGO = 'jaccardBase'\n",
    "\n",
    "\n",
    "import json\n",
    "import copy\n",
    "\n",
    "BASE_PATH = HDFS_PATH + '/user/robertop/mattia'\n",
    "\n",
    "conf = {}\n",
    "\n",
    "conf['split'] = {}\n",
    "conf['split']['reclistSize'] = 100\n",
    "conf['split']['callParams'] = {}\n",
    "conf['split']['excludeAlreadyListenedTest'] = True\n",
    "conf['split']['name'] = 'SenzaRipetizioni_1'\n",
    "conf['split']['split'] = conf['split']['name']\n",
    "conf['split']['minEventsPerUser'] = 5\n",
    "conf['split']['inputData'] = HDFS_PATH + '/user/robertop/mattia/clusterBase.split/SenzaRipetizioni_1'\n",
    "#conf['split']['inputData'] = 's3n://contentwise-research-poli/30musicdataset/newFormat/relations/sessions.idomaar'\n",
    "conf['split']['bucketName'] = BASE_PATH\n",
    "conf['split']['percUsTr'] = 0.05\n",
    "conf['split']['ts'] = int(0.75 * (1421745857 - 1390209860) + 1390209860) - 10000\n",
    "conf['split']['minEventPerSession'] = 5\n",
    "conf['split']['onlineTrainingLength'] = 5\n",
    "conf['split']['GTlength'] = 1\n",
    "conf['split']['minEventPerSessionTraining'] = 10\n",
    "conf['split']['minEventPerSessionTest'] = 11\n",
    "conf['split']['mode'] = 'session'\n",
    "conf['split']['forceSplitCreation'] = False\n",
    "conf['split'][\"prop\"] = {'reclistSize': conf['split']['reclistSize']}\n",
    "conf['split']['type'] = None\n",
    "conf['split']['out'] = HDFS_PATH + '/user/robertop/mattia/clusterBase.split/'\n",
    "conf['split']['location'] = '30Mdataset/relations/sessions'\n",
    "\n",
    "conf['evaluation'] = {}\n",
    "conf['evaluation']['metric'] = {}\n",
    "conf['evaluation']['metric']['type'] = 'recall'\n",
    "conf['evaluation']['metric']['prop'] = {}\n",
    "conf['evaluation']['metric']['prop']['N'] = [1,2,5,10,15,20,25,50,100]\n",
    "conf['evaluation']['name'] = 'recall@N'\n",
    "\n",
    "conf['general'] = {}\n",
    "conf['general']['clientname'] = \"clusterBase.split\"\n",
    "conf['general']['bucketName'] = BASE_PATH\n",
    "conf['general']['tracksPath'] = '30Mdataset/entities/tracks.idomaar.gz'\n",
    "\n",
    "conf['algo'] = {}\n",
    "conf['algo']['name'] = 'ClusterBase'\n",
    "conf['algo']['props'] = {}\n",
    "# ***** EXAMPLE OF CONFIGURATION *****#\n",
    "conf['algo']['props'][\"sessionJaccardShrinkage\"] = 5\n",
    "conf['algo']['props'][\"clusterSimilarityThreshold\"] = 0.1\n",
    "conf['algo']['props'][\"expDecayFactor\"] = 0.7\n",
    "# ****** END EXAMPLE ****************#\n",
    "clusterSim = 0.1\n",
    "sessionJaccardShrinkage = 5\n",
    "expDecay = 0.7\n",
    "\n",
    "conf['split']['excludeAlreadyListenedTest'] = str(True)\n",
    "conf['algo']['name'] = CLUSTER_ALGO + '_ImplicitPlaylist_shk_%d_clustSim_%.3f_decay_%.3f' % \\\n",
    "                    (sessionJaccardShrinkage, clusterSim, expDecay )"
   ]
  },
  {
   "cell_type": "markdown",
   "metadata": {},
   "source": [
    "# Load a recommendation"
   ]
  },
  {
   "cell_type": "code",
   "execution_count": null,
   "metadata": {
    "collapsed": false
   },
   "outputs": [],
   "source": [
    "recRDD = loadRecommendations(conf).map(json.loads)\n",
    "recRDD.take(3)"
   ]
  },
  {
   "cell_type": "markdown",
   "metadata": {},
   "source": [
    "# Load clusters mapping"
   ]
  },
  {
   "cell_type": "code",
   "execution_count": null,
   "metadata": {
    "collapsed": false
   },
   "outputs": [],
   "source": [
    "cluster_path = BASE_PATH + \"/clusters/\" + CLUSTER_ALGO\n",
    "clustersRDD = sc.pickleFile(cluster_path)\n",
    "clustersRDD.take(10)"
   ]
  },
  {
   "cell_type": "code",
   "execution_count": 33,
   "metadata": {
    "collapsed": false
   },
   "outputs": [
    {
     "data": {
      "text/plain": [
       "['{\"linkedinfo\": {\"respone\": [{\"type\": \"track\", \"id\": 1417185, \"rank\": 0}, {\"type\": \"track\", \"id\": 4596998, \"rank\": 1}, {\"type\": \"track\", \"id\": 521039, \"rank\": 2}, {\"type\": \"track\", \"id\": 4597063, \"rank\": 4}, {\"type\": \"track\", \"id\": 3754307, \"rank\": 5}, {\"type\": \"track\", \"id\": 1217762, \"rank\": 6}, {\"type\": \"track\", \"id\": 2156746, \"rank\": 7}, {\"type\": \"track\", \"id\": 4597062, \"rank\": 9}, {\"type\": \"track\", \"id\": 1786190, \"rank\": 10}, {\"type\": \"track\", \"id\": 485543, \"rank\": 11}, {\"type\": \"track\", \"id\": 1492631, \"rank\": 12}, {\"type\": \"track\", \"id\": 866087, \"rank\": 15}, {\"type\": \"track\", \"id\": 866185, \"rank\": 16}, {\"type\": \"track\", \"id\": 3800553, \"rank\": 17}, {\"type\": \"track\", \"id\": 4597073, \"rank\": 18}, {\"type\": \"track\", \"id\": 866176, \"rank\": 19}, {\"type\": \"track\", \"id\": 4597074, \"rank\": 20}, {\"type\": \"track\", \"id\": 866101, \"rank\": 21}, {\"type\": \"track\", \"id\": 4597075, \"rank\": 22}, {\"type\": \"track\", \"id\": 866135, \"rank\": 23}, {\"type\": \"track\", \"id\": 4597028, \"rank\": 25}, {\"type\": \"track\", \"id\": 3800555, \"rank\": 26}, {\"type\": \"track\", \"id\": 866022, \"rank\": 27}, {\"type\": \"track\", \"id\": 866101, \"rank\": 28}, {\"type\": \"track\", \"id\": 866144, \"rank\": 29}, {\"type\": \"track\", \"id\": 4597076, \"rank\": 30}, {\"type\": \"track\", \"id\": 3800534, \"rank\": 31}, {\"type\": \"track\", \"id\": 4597067, \"rank\": 32}, {\"type\": \"track\", \"id\": 866181, \"rank\": 33}, {\"type\": \"track\", \"id\": 4597075, \"rank\": 36}, {\"type\": \"track\", \"id\": 866185, \"rank\": 37}, {\"type\": \"track\", \"id\": 4597074, \"rank\": 38}, {\"type\": \"track\", \"id\": 866135, \"rank\": 39}, {\"type\": \"track\", \"id\": 866101, \"rank\": 40}, {\"type\": \"track\", \"id\": 3800553, \"rank\": 42}, {\"type\": \"track\", \"id\": 4597067, \"rank\": 44}, {\"type\": \"track\", \"id\": 4597073, \"rank\": 46}, {\"type\": \"track\", \"id\": 866022, \"rank\": 47}], \"objects\": [{\"playratio\": 0.99, \"playstart\": 0, \"action\": \"play\", \"playtime\": 150, \"type\": \"track\", \"id\": 166582}, {\"playratio\": 0.99, \"playstart\": 3729, \"action\": \"play\", \"playtime\": 140, \"type\": \"track\", \"id\": 166424}, {\"playratio\": 1.0, \"playstart\": 3869, \"action\": \"play\", \"playtime\": 165, \"type\": \"track\", \"id\": 166231}, {\"playratio\": 1.21, \"playstart\": 4034, \"action\": \"play\", \"playtime\": 200, \"type\": \"track\", \"id\": 166104}, {\"playratio\": 1.0, \"playstart\": 4234, \"action\": \"play\", \"playtime\": 252, \"type\": \"track\", \"id\": 964472}], \"subjects\": [{\"type\": \"user\", \"id\": 12285}], \"response\": [{\"type\": \"track\", \"id\": 1318771, \"rank\": 0}, {\"type\": \"track\", \"id\": 630029, \"rank\": 1}, {\"type\": \"track\", \"id\": 2574460, \"rank\": 2}, {\"type\": \"track\", \"id\": 4229669, \"rank\": 3}, {\"type\": \"track\", \"id\": 955719, \"rank\": 4}, {\"type\": \"track\", \"id\": 1295415, \"rank\": 5}, {\"type\": \"track\", \"id\": 1831915, \"rank\": 6}, {\"type\": \"track\", \"id\": 1276234, \"rank\": 7}, {\"type\": \"track\", \"id\": 3097198, \"rank\": 8}, {\"type\": \"track\", \"id\": 949082, \"rank\": 9}, {\"type\": \"track\", \"id\": 2345856, \"rank\": 10}, {\"type\": \"track\", \"id\": 199686, \"rank\": 11}, {\"type\": \"track\", \"id\": 2521496, \"rank\": 12}, {\"type\": \"track\", \"id\": 1245138, \"rank\": 13}, {\"type\": \"track\", \"id\": 1366757, \"rank\": 14}, {\"type\": \"track\", \"id\": 316362, \"rank\": 15}, {\"type\": \"track\", \"id\": 73720, \"rank\": 16}, {\"type\": \"track\", \"id\": 448753, \"rank\": 17}, {\"type\": \"track\", \"id\": 1006759, \"rank\": 18}, {\"type\": \"track\", \"id\": 1077919, \"rank\": 19}, {\"type\": \"track\", \"id\": 954579, \"rank\": 20}, {\"type\": \"track\", \"id\": 683790, \"rank\": 21}, {\"type\": \"track\", \"id\": 944091, \"rank\": 22}, {\"type\": \"track\", \"id\": 1291299, \"rank\": 23}, {\"type\": \"track\", \"id\": 1377715, \"rank\": 24}, {\"type\": \"track\", \"id\": 1005955, \"rank\": 25}, {\"type\": \"track\", \"id\": 517837, \"rank\": 26}, {\"type\": \"track\", \"id\": 1364288, \"rank\": 27}, {\"type\": \"track\", \"id\": 683790, \"rank\": 28}, {\"type\": \"track\", \"id\": 1241065, \"rank\": 29}, {\"type\": \"track\", \"id\": 975497, \"rank\": 30}, {\"type\": \"track\", \"id\": 616302, \"rank\": 31}, {\"type\": \"track\", \"id\": 1003134, \"rank\": 32}, {\"type\": \"track\", \"id\": 23640, \"rank\": 33}, {\"type\": \"track\", \"id\": 1264696, \"rank\": 34}, {\"type\": \"track\", \"id\": 964963, \"rank\": 35}, {\"type\": \"track\", \"id\": 944091, \"rank\": 36}, {\"type\": \"track\", \"id\": 73720, \"rank\": 37}, {\"type\": \"track\", \"id\": 954579, \"rank\": 38}, {\"type\": \"track\", \"id\": 1291299, \"rank\": 39}, {\"type\": \"track\", \"id\": 683790, \"rank\": 40}, {\"type\": \"track\", \"id\": 964963, \"rank\": 41}, {\"type\": \"track\", \"id\": 448753, \"rank\": 42}, {\"type\": \"track\", \"id\": 1377715, \"rank\": 43}, {\"type\": \"track\", \"id\": 1003134, \"rank\": 44}, {\"type\": \"track\", \"id\": 1366757, \"rank\": 45}, {\"type\": \"track\", \"id\": 1006759, \"rank\": 46}, {\"type\": \"track\", \"id\": 1364288, \"rank\": 47}]}, \"type\": \"request\", \"properties\": {\"reclistSize\": 100}, \"ts\": \"1418976766\", \"id\": 1228501418976766}']"
      ]
     },
     "execution_count": 33,
     "metadata": {},
     "output_type": "execute_result"
    }
   ],
   "source": [
    "rec = mapClusterRecToListOfSongs(recRDD, clustersRDD)\n",
    "rec.take(1)"
   ]
  },
  {
   "cell_type": "code",
   "execution_count": 34,
   "metadata": {
    "collapsed": false
   },
   "outputs": [
    {
     "name": "stdout",
     "output_type": "stream",
     "text": [
      "recall@N successfully written to hdfs://hathi-surfsara/user/robertop/mattia/clusterBase.split/Rec/jaccardBase_ImplicitPlaylist_shk_5_clustSim_0100_decay_0700_5#07#01/recall@N/metrics\n"
     ]
    }
   ],
   "source": [
    "computeMetrics(conf, rec)"
   ]
  }
 ],
 "metadata": {
  "kernelspec": {
   "display_name": "Python 2",
   "language": "python",
   "name": "python2"
  },
  "language_info": {
   "codemirror_mode": {
    "name": "ipython",
    "version": 2
   },
   "file_extension": ".py",
   "mimetype": "text/x-python",
   "name": "python",
   "nbconvert_exporter": "python",
   "pygments_lexer": "ipython2",
   "version": "2.7.11"
  }
 },
 "nbformat": 4,
 "nbformat_minor": 0
}
