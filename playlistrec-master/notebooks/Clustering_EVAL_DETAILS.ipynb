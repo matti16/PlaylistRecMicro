{
 "cells": [
  {
   "cell_type": "markdown",
   "metadata": {},
   "source": [
    "# <hr style=\"clear: both\" />\n",
    "\n",
    "# Running Spark in YARN-client mode\n",
    "\n",
    "This notebook demonstrates how to set up a SparkContext that uses SURFsara's Hadoop cluster: [YARN resourcemanager](http://head05.hathi.surfsara.nl:8088/cluster) (note you will need to be authenticated via kerberos on your machine to visit the resourcemanager link) for executors.\n",
    "\n",
    "First initialize kerberos via a Jupyter terminal. \n",
    "In the terminal execute: <BR>\n",
    "<i>kinit -k -t data/robertop.keytab robertop@CUA.SURFSARA.NL</i><BR>\n",
    "Print your credentials:\n"
   ]
  },
  {
   "cell_type": "code",
   "execution_count": 1,
   "metadata": {
    "collapsed": false
   },
   "outputs": [
    {
     "name": "stdout",
     "output_type": "stream",
     "text": [
      "Ticket cache: FILE:/tmp/krb5cc_1000\r\n",
      "Default principal: robertop@CUA.SURFSARA.NL\r\n",
      "\r\n",
      "Valid starting       Expires              Service principal\r\n",
      "06/22/2016 06:58:05  06/23/2016 06:58:05  krbtgt/CUA.SURFSARA.NL@CUA.SURFSARA.NL\r\n",
      "\trenew until 06/22/2016 06:58:05\r\n"
     ]
    }
   ],
   "source": [
    "! klist"
   ]
  },
  {
   "cell_type": "code",
   "execution_count": 2,
   "metadata": {
    "collapsed": false
   },
   "outputs": [
    {
     "name": "stdout",
     "output_type": "stream",
     "text": [
      "Found 5 items\r\n",
      "drwx------   - robertop hdfs          0 2016-06-20 06:00 .Trash\r\n",
      "drwxr-xr-x   - robertop hdfs          0 2016-06-22 06:58 .sparkStaging\r\n",
      "drwx------   - robertop hdfs          0 2016-04-06 15:54 .staging\r\n",
      "drwxr-xr-x   - robertop hdfs          0 2016-05-25 06:28 mattia\r\n",
      "drwxr-xr-x   - robertop hdfs          0 2016-04-13 10:00 recsys2016Competition\r\n"
     ]
    }
   ],
   "source": [
    "! hdfs dfs -ls \n",
    "execfile('../spark-scripts/bullet.py')"
   ]
  },
  {
   "cell_type": "markdown",
   "metadata": {},
   "source": [
    "Verify that we can browse HDFS:"
   ]
  },
  {
   "cell_type": "markdown",
   "metadata": {},
   "source": [
    "Next initialize Spark. Note that the code below starts a job on the Hadoop cluster that will remain running while the notebook is active. Please close and halt the notebook when you are done. Starting the SparkContext can take a little longer. You can check the YARN resourcemanager to see the current status/usage of the cluster."
   ]
  },
  {
   "cell_type": "code",
   "execution_count": 2,
   "metadata": {
    "collapsed": false
   },
   "outputs": [
    {
     "ename": "Py4JNetworkError",
     "evalue": "An error occurred while trying to connect to the Java server",
     "output_type": "error",
     "traceback": [
      "\u001b[1;31m---------------------------------------------------------------------------\u001b[0m",
      "\u001b[1;31mPy4JNetworkError\u001b[0m                          Traceback (most recent call last)",
      "\u001b[1;32m<ipython-input-2-413eaf7a082b>\u001b[0m in \u001b[0;36m<module>\u001b[1;34m()\u001b[0m\n\u001b[0;32m      6\u001b[0m \u001b[1;32mfrom\u001b[0m \u001b[0mpyspark\u001b[0m \u001b[1;32mimport\u001b[0m \u001b[0mSparkConf\u001b[0m\u001b[1;33m,\u001b[0m \u001b[0mSparkContext\u001b[0m\u001b[1;33m\u001b[0m\u001b[0m\n\u001b[0;32m      7\u001b[0m \u001b[1;32mfrom\u001b[0m \u001b[0mpyspark\u001b[0m\u001b[1;33m.\u001b[0m\u001b[0msql\u001b[0m \u001b[1;32mimport\u001b[0m \u001b[0mSQLContext\u001b[0m\u001b[1;33m\u001b[0m\u001b[0m\n\u001b[1;32m----> 8\u001b[1;33m \u001b[0msconf\u001b[0m \u001b[1;33m=\u001b[0m \u001b[0mSparkConf\u001b[0m\u001b[1;33m(\u001b[0m\u001b[0mFalse\u001b[0m\u001b[1;33m)\u001b[0m\u001b[1;33m\u001b[0m\u001b[0m\n\u001b[0m\u001b[0;32m      9\u001b[0m \u001b[1;33m\u001b[0m\u001b[0m\n\u001b[0;32m     10\u001b[0m \u001b[0msconf\u001b[0m\u001b[1;33m.\u001b[0m\u001b[0msetAppName\u001b[0m\u001b[1;33m(\u001b[0m\u001b[1;34m\"eval\"\u001b[0m\u001b[1;33m)\u001b[0m\u001b[1;33m\u001b[0m\u001b[0m\n",
      "\u001b[1;32m/usr/local/spark/python/pyspark/conf.py\u001b[0m in \u001b[0;36m__init__\u001b[1;34m(self, loadDefaults, _jvm, _jconf)\u001b[0m\n\u001b[0;32m    104\u001b[0m             \u001b[0mSparkContext\u001b[0m\u001b[1;33m.\u001b[0m\u001b[0m_ensure_initialized\u001b[0m\u001b[1;33m(\u001b[0m\u001b[1;33m)\u001b[0m\u001b[1;33m\u001b[0m\u001b[0m\n\u001b[0;32m    105\u001b[0m             \u001b[0m_jvm\u001b[0m \u001b[1;33m=\u001b[0m \u001b[0m_jvm\u001b[0m \u001b[1;32mor\u001b[0m \u001b[0mSparkContext\u001b[0m\u001b[1;33m.\u001b[0m\u001b[0m_jvm\u001b[0m\u001b[1;33m\u001b[0m\u001b[0m\n\u001b[1;32m--> 106\u001b[1;33m             \u001b[0mself\u001b[0m\u001b[1;33m.\u001b[0m\u001b[0m_jconf\u001b[0m \u001b[1;33m=\u001b[0m \u001b[0m_jvm\u001b[0m\u001b[1;33m.\u001b[0m\u001b[0mSparkConf\u001b[0m\u001b[1;33m(\u001b[0m\u001b[0mloadDefaults\u001b[0m\u001b[1;33m)\u001b[0m\u001b[1;33m\u001b[0m\u001b[0m\n\u001b[0m\u001b[0;32m    107\u001b[0m \u001b[1;33m\u001b[0m\u001b[0m\n\u001b[0;32m    108\u001b[0m     \u001b[1;32mdef\u001b[0m \u001b[0mset\u001b[0m\u001b[1;33m(\u001b[0m\u001b[0mself\u001b[0m\u001b[1;33m,\u001b[0m \u001b[0mkey\u001b[0m\u001b[1;33m,\u001b[0m \u001b[0mvalue\u001b[0m\u001b[1;33m)\u001b[0m\u001b[1;33m:\u001b[0m\u001b[1;33m\u001b[0m\u001b[0m\n",
      "\u001b[1;32m/usr/local/spark/python/lib/py4j-0.9-src.zip/py4j/java_gateway.py\u001b[0m in \u001b[0;36m__getattr__\u001b[1;34m(self, name)\u001b[0m\n\u001b[0;32m   1186\u001b[0m             \u001b[0mproto\u001b[0m\u001b[1;33m.\u001b[0m\u001b[0mREFLECTION_COMMAND_NAME\u001b[0m \u001b[1;33m+\u001b[0m\u001b[1;33m\u001b[0m\u001b[0m\n\u001b[0;32m   1187\u001b[0m             \u001b[0mproto\u001b[0m\u001b[1;33m.\u001b[0m\u001b[0mREFL_GET_UNKNOWN_SUB_COMMAND_NAME\u001b[0m \u001b[1;33m+\u001b[0m \u001b[0mname\u001b[0m \u001b[1;33m+\u001b[0m \u001b[1;34m\"\\n\"\u001b[0m \u001b[1;33m+\u001b[0m \u001b[0mself\u001b[0m\u001b[1;33m.\u001b[0m\u001b[0m_id\u001b[0m \u001b[1;33m+\u001b[0m\u001b[1;33m\u001b[0m\u001b[0m\n\u001b[1;32m-> 1188\u001b[1;33m             \"\\n\" + proto.END_COMMAND_PART)\n\u001b[0m\u001b[0;32m   1189\u001b[0m         \u001b[1;32mif\u001b[0m \u001b[0manswer\u001b[0m \u001b[1;33m==\u001b[0m \u001b[0mproto\u001b[0m\u001b[1;33m.\u001b[0m\u001b[0mSUCCESS_PACKAGE\u001b[0m\u001b[1;33m:\u001b[0m\u001b[1;33m\u001b[0m\u001b[0m\n\u001b[0;32m   1190\u001b[0m             \u001b[1;32mreturn\u001b[0m \u001b[0mJavaPackage\u001b[0m\u001b[1;33m(\u001b[0m\u001b[0mname\u001b[0m\u001b[1;33m,\u001b[0m \u001b[0mself\u001b[0m\u001b[1;33m.\u001b[0m\u001b[0m_gateway_client\u001b[0m\u001b[1;33m,\u001b[0m \u001b[0mjvm_id\u001b[0m\u001b[1;33m=\u001b[0m\u001b[0mself\u001b[0m\u001b[1;33m.\u001b[0m\u001b[0m_id\u001b[0m\u001b[1;33m)\u001b[0m\u001b[1;33m\u001b[0m\u001b[0m\n",
      "\u001b[1;32m/usr/local/spark/python/lib/py4j-0.9-src.zip/py4j/java_gateway.py\u001b[0m in \u001b[0;36msend_command\u001b[1;34m(self, command, retry)\u001b[0m\n\u001b[0;32m    622\u001b[0m          \u001b[0mthe\u001b[0m \u001b[0mPy4J\u001b[0m \u001b[0mprotocol\u001b[0m\u001b[1;33m.\u001b[0m\u001b[1;33m\u001b[0m\u001b[0m\n\u001b[0;32m    623\u001b[0m         \"\"\"\n\u001b[1;32m--> 624\u001b[1;33m         \u001b[0mconnection\u001b[0m \u001b[1;33m=\u001b[0m \u001b[0mself\u001b[0m\u001b[1;33m.\u001b[0m\u001b[0m_get_connection\u001b[0m\u001b[1;33m(\u001b[0m\u001b[1;33m)\u001b[0m\u001b[1;33m\u001b[0m\u001b[0m\n\u001b[0m\u001b[0;32m    625\u001b[0m         \u001b[1;32mtry\u001b[0m\u001b[1;33m:\u001b[0m\u001b[1;33m\u001b[0m\u001b[0m\n\u001b[0;32m    626\u001b[0m             \u001b[0mresponse\u001b[0m \u001b[1;33m=\u001b[0m \u001b[0mconnection\u001b[0m\u001b[1;33m.\u001b[0m\u001b[0msend_command\u001b[0m\u001b[1;33m(\u001b[0m\u001b[0mcommand\u001b[0m\u001b[1;33m)\u001b[0m\u001b[1;33m\u001b[0m\u001b[0m\n",
      "\u001b[1;32m/usr/local/spark/python/lib/py4j-0.9-src.zip/py4j/java_gateway.py\u001b[0m in \u001b[0;36m_get_connection\u001b[1;34m(self)\u001b[0m\n\u001b[0;32m    577\u001b[0m             \u001b[0mconnection\u001b[0m \u001b[1;33m=\u001b[0m \u001b[0mself\u001b[0m\u001b[1;33m.\u001b[0m\u001b[0mdeque\u001b[0m\u001b[1;33m.\u001b[0m\u001b[0mpop\u001b[0m\u001b[1;33m(\u001b[0m\u001b[1;33m)\u001b[0m\u001b[1;33m\u001b[0m\u001b[0m\n\u001b[0;32m    578\u001b[0m         \u001b[1;32mexcept\u001b[0m \u001b[0mIndexError\u001b[0m\u001b[1;33m:\u001b[0m\u001b[1;33m\u001b[0m\u001b[0m\n\u001b[1;32m--> 579\u001b[1;33m             \u001b[0mconnection\u001b[0m \u001b[1;33m=\u001b[0m \u001b[0mself\u001b[0m\u001b[1;33m.\u001b[0m\u001b[0m_create_connection\u001b[0m\u001b[1;33m(\u001b[0m\u001b[1;33m)\u001b[0m\u001b[1;33m\u001b[0m\u001b[0m\n\u001b[0m\u001b[0;32m    580\u001b[0m         \u001b[1;32mreturn\u001b[0m \u001b[0mconnection\u001b[0m\u001b[1;33m\u001b[0m\u001b[0m\n\u001b[0;32m    581\u001b[0m \u001b[1;33m\u001b[0m\u001b[0m\n",
      "\u001b[1;32m/usr/local/spark/python/lib/py4j-0.9-src.zip/py4j/java_gateway.py\u001b[0m in \u001b[0;36m_create_connection\u001b[1;34m(self)\u001b[0m\n\u001b[0;32m    583\u001b[0m         connection = GatewayConnection(\n\u001b[0;32m    584\u001b[0m             self.address, self.port, self.auto_close, self.gateway_property)\n\u001b[1;32m--> 585\u001b[1;33m         \u001b[0mconnection\u001b[0m\u001b[1;33m.\u001b[0m\u001b[0mstart\u001b[0m\u001b[1;33m(\u001b[0m\u001b[1;33m)\u001b[0m\u001b[1;33m\u001b[0m\u001b[0m\n\u001b[0m\u001b[0;32m    586\u001b[0m         \u001b[1;32mreturn\u001b[0m \u001b[0mconnection\u001b[0m\u001b[1;33m\u001b[0m\u001b[0m\n\u001b[0;32m    587\u001b[0m \u001b[1;33m\u001b[0m\u001b[0m\n",
      "\u001b[1;32m/usr/local/spark/python/lib/py4j-0.9-src.zip/py4j/java_gateway.py\u001b[0m in \u001b[0;36mstart\u001b[1;34m(self)\u001b[0m\n\u001b[0;32m    695\u001b[0m                 \u001b[1;34m\"server\"\u001b[0m\u001b[1;33m\u001b[0m\u001b[0m\n\u001b[0;32m    696\u001b[0m             \u001b[0mlogger\u001b[0m\u001b[1;33m.\u001b[0m\u001b[0mexception\u001b[0m\u001b[1;33m(\u001b[0m\u001b[0mmsg\u001b[0m\u001b[1;33m)\u001b[0m\u001b[1;33m\u001b[0m\u001b[0m\n\u001b[1;32m--> 697\u001b[1;33m             \u001b[1;32mraise\u001b[0m \u001b[0mPy4JNetworkError\u001b[0m\u001b[1;33m(\u001b[0m\u001b[0mmsg\u001b[0m\u001b[1;33m,\u001b[0m \u001b[0me\u001b[0m\u001b[1;33m)\u001b[0m\u001b[1;33m\u001b[0m\u001b[0m\n\u001b[0m\u001b[0;32m    698\u001b[0m \u001b[1;33m\u001b[0m\u001b[0m\n\u001b[0;32m    699\u001b[0m     \u001b[1;32mdef\u001b[0m \u001b[0mclose\u001b[0m\u001b[1;33m(\u001b[0m\u001b[0mself\u001b[0m\u001b[1;33m)\u001b[0m\u001b[1;33m:\u001b[0m\u001b[1;33m\u001b[0m\u001b[0m\n",
      "\u001b[1;31mPy4JNetworkError\u001b[0m: An error occurred while trying to connect to the Java server"
     ]
    }
   ],
   "source": [
    "import os\n",
    "os.environ['PYSPARK_PYTHON'] = '/usr/local/bin/python2.7'\n",
    "\n",
    "HDFS_PATH = \"hdfs://hathi-surfsara\"\n",
    "\n",
    "from pyspark import SparkConf, SparkContext\n",
    "from pyspark.sql import SQLContext\n",
    "sconf = SparkConf(False)\n",
    "\n",
    "sconf.setAppName(\"eval\")\n",
    "\n",
    "# Master is now yarn-client. The YARN and hadoop config is read from the environment\n",
    "sconf.setMaster(\"yarn-client\")\n",
    "\n",
    "# You can control many Spark settings via the SparkConf. This determines the amount of executors on the cluster:\n",
    "sconf.set(\"spark.executor.instances\", \"100\")\n",
    "#sconf.set(\"spark.executor.memory\", \"20\")\n",
    "\n",
    "# UFW (firewall) is active on the VM. We explicitly opened these ports and Spark should not bind to random ports:\n",
    "sconf.set(\"spark.driver.port\", 51800)\n",
    "sconf.set(\"spark.fileserver.port\", 51801)\n",
    "sconf.set(\"spark.broadcast.port\", 51802)\n",
    "sconf.set(\"spark.replClassServer.port\", 51803)\n",
    "sconf.set(\"spark.blockManager.port\", 51804)\n",
    "sconf.set(\"spark.authenticate\", True)\n",
    "sconf.set('spark.yarn.isPython', True)\n",
    "sconf.set(\"spark.yarn.keytab\", \"/home/jovyan/work/data/robertop.keytab\")\n",
    "#sconf.set(\"spark.yarn.access.namenodes\", \"hdfs://head02.hathi.surfsara.nl:8020\")\n",
    "sconf.set(\"spark.yarn.access.namenodes\", HDFS_PATH + \":8020\")\n",
    "#sconf.set(\"spark.driver.host\", \"145.100.59.88\")\n",
    "\n",
    "sconf.set('spark.rdd.compress', False)\n",
    "\n",
    "try:\n",
    "    sc = SparkContext(conf=sconf)\n",
    "    sqlCtx = SQLContext(sc) \n",
    "    #sendNotificationToMattia(\"Spark Context\", str(sc))\n",
    "except Exception, err:\n",
    "    #sendNotificationToMattia(\"Fuck you!\", str(err)) \n",
    "    print str(err)"
   ]
  },
  {
   "cell_type": "code",
   "execution_count": 4,
   "metadata": {
    "collapsed": false
   },
   "outputs": [
    {
     "ename": "NameError",
     "evalue": "name 'sc' is not defined",
     "output_type": "error",
     "traceback": [
      "\u001b[1;31m---------------------------------------------------------------------------\u001b[0m",
      "\u001b[1;31mNameError\u001b[0m                                 Traceback (most recent call last)",
      "\u001b[1;32m<ipython-input-4-675d716aa5fb>\u001b[0m in \u001b[0;36m<module>\u001b[1;34m()\u001b[0m\n\u001b[1;32m----> 1\u001b[1;33m \u001b[0msc\u001b[0m\u001b[1;33m.\u001b[0m\u001b[0mparallelize\u001b[0m\u001b[1;33m(\u001b[0m\u001b[0mrange\u001b[0m\u001b[1;33m(\u001b[0m\u001b[1;36m1000\u001b[0m\u001b[1;33m)\u001b[0m\u001b[1;33m)\u001b[0m\u001b[1;33m.\u001b[0m\u001b[0mtake\u001b[0m\u001b[1;33m(\u001b[0m\u001b[1;36m3\u001b[0m\u001b[1;33m)\u001b[0m\u001b[1;33m\u001b[0m\u001b[0m\n\u001b[0m",
      "\u001b[1;31mNameError\u001b[0m: name 'sc' is not defined"
     ]
    }
   ],
   "source": [
    "sc.parallelize(range(1000)).take(3)"
   ]
  },
  {
   "cell_type": "markdown",
   "metadata": {},
   "source": [
    "# <hr style=\"clear: both\" />\n",
    "\n",
    "# Now you can run your code\n",
    "\n",
    "Pick a clustering algorithm (name of the file that provides a classify(x,y [,threshold]) function)"
   ]
  },
  {
   "cell_type": "code",
   "execution_count": 6,
   "metadata": {
    "collapsed": false
   },
   "outputs": [],
   "source": [
    "execfile('../spark-scripts/evalCluster.py')\n",
    "execfile('../spark-scripts/utilsCluster.py')\n",
    "\n",
    "\n",
    "import json\n",
    "import copy\n",
    "import pandas as pd\n",
    "import numpy as np\n",
    "\n",
    "BASE_PATH = HDFS_PATH + '/user/robertop/mattia'\n",
    "\n",
    "conf = {}\n",
    "\n",
    "conf['split'] = {}\n",
    "conf['split']['reclistSize'] = 100\n",
    "conf['split']['callParams'] = {}\n",
    "conf['split']['excludeAlreadyListenedTest'] = True\n",
    "conf['split']['name'] = 'SenzaRipetizioni_1'\n",
    "conf['split']['split'] = conf['split']['name']\n",
    "conf['split']['minEventsPerUser'] = 5\n",
    "conf['split']['inputData'] = HDFS_PATH + '/user/robertop/mattia/clusterBase.split/SenzaRipetizioni_1'\n",
    "#conf['split']['inputData'] = 's3n://contentwise-research-poli/30musicdataset/newFormat/relations/sessions.idomaar'\n",
    "conf['split']['bucketName'] = BASE_PATH\n",
    "conf['split']['percUsTr'] = 0.05\n",
    "conf['split']['ts'] = int(0.75 * (1421745857 - 1390209860) + 1390209860) - 10000\n",
    "conf['split']['minEventPerSession'] = 5\n",
    "conf['split']['onlineTrainingLength'] = 5\n",
    "conf['split']['GTlength'] = 1\n",
    "conf['split']['minEventPerSessionTraining'] = 10\n",
    "conf['split']['minEventPerSessionTest'] = 11\n",
    "conf['split']['mode'] = 'session'\n",
    "conf['split']['forceSplitCreation'] = False\n",
    "conf['split'][\"prop\"] = {'reclistSize': conf['split']['reclistSize']}\n",
    "conf['split']['type'] = None\n",
    "conf['split']['out'] = HDFS_PATH + '/user/robertop/mattia/clusterBase.split/'\n",
    "conf['split']['location'] = '30Mdataset/relations/sessions'\n",
    "\n",
    "conf['evaluation'] = {}\n",
    "conf['evaluation']['metric'] = {}\n",
    "conf['evaluation']['metric']['type'] = 'recall'\n",
    "conf['evaluation']['metric']['prop'] = {}\n",
    "conf['evaluation']['metric']['prop']['N'] = [1,2,5,10,15,20,25,50,100]\n",
    "conf['evaluation']['name'] = 'recall@N'\n",
    "\n",
    "conf['general'] = {}\n",
    "conf['general']['clientname'] = \"clusterBase.split\"\n",
    "conf['general']['bucketName'] = BASE_PATH\n",
    "conf['general']['tracksPath'] = '30Mdataset/entities/tracks.idomaar.gz'\n",
    "\n",
    "conf['algo'] = {}\n",
    "conf['algo']['props'] = {}\n",
    "# ***** EXAMPLE OF CONFIGURATION *****#\n",
    "conf['algo']['props'][\"sessionJaccardShrinkage\"] = 7.5\n",
    "conf['algo']['props'][\"clusterSimilarityThreshold\"] = 0.2\n",
    "conf['algo']['props'][\"expDecayFactor\"] = 0.7\n",
    "# ****** END EXAMPLE ****************#\n",
    "clusterSim = conf['algo']['props'][\"clusterSimilarityThreshold\"]\n",
    "sessionJaccardShrinkage = conf['algo']['props'][\"sessionJaccardShrinkage\"]\n",
    "expDecay = conf['algo']['props'][\"expDecayFactor\"]\n",
    "\n",
    "conf['split']['excludeAlreadyListenedTest'] = str(True)\n",
    "\n"
   ]
  },
  {
   "cell_type": "markdown",
   "metadata": {},
   "source": [
    "# Load Original Algo"
   ]
  },
  {
   "cell_type": "code",
   "execution_count": 4,
   "metadata": {
    "collapsed": false,
    "scrolled": true
   },
   "outputs": [
    {
     "ename": "NameError",
     "evalue": "name 'conf' is not defined",
     "output_type": "error",
     "traceback": [
      "\u001b[1;31m---------------------------------------------------------------------------\u001b[0m",
      "\u001b[1;31mNameError\u001b[0m                                 Traceback (most recent call last)",
      "\u001b[1;32m<ipython-input-4-e870ddc188a0>\u001b[0m in \u001b[0;36m<module>\u001b[1;34m()\u001b[0m\n\u001b[0;32m      2\u001b[0m \u001b[0mexecfile\u001b[0m\u001b[1;33m(\u001b[0m\u001b[1;34m'../spark-scripts/utilsCluster.py'\u001b[0m\u001b[1;33m)\u001b[0m\u001b[1;33m\u001b[0m\u001b[0m\n\u001b[0;32m      3\u001b[0m \u001b[1;33m\u001b[0m\u001b[0m\n\u001b[1;32m----> 4\u001b[1;33m \u001b[0mconf\u001b[0m\u001b[1;33m[\u001b[0m\u001b[1;34m'algo'\u001b[0m\u001b[1;33m]\u001b[0m\u001b[1;33m[\u001b[0m\u001b[1;34m'props'\u001b[0m\u001b[1;33m]\u001b[0m\u001b[1;33m[\u001b[0m\u001b[1;34m\"sessionJaccardShrinkage\"\u001b[0m\u001b[1;33m]\u001b[0m \u001b[1;33m=\u001b[0m \u001b[1;36m5\u001b[0m\u001b[1;33m\u001b[0m\u001b[0m\n\u001b[0m\u001b[0;32m      5\u001b[0m \u001b[0mconf\u001b[0m\u001b[1;33m[\u001b[0m\u001b[1;34m'algo'\u001b[0m\u001b[1;33m]\u001b[0m\u001b[1;33m[\u001b[0m\u001b[1;34m'props'\u001b[0m\u001b[1;33m]\u001b[0m\u001b[1;33m[\u001b[0m\u001b[1;34m\"clusterSimilarityThreshold\"\u001b[0m\u001b[1;33m]\u001b[0m \u001b[1;33m=\u001b[0m \u001b[1;36m0.1\u001b[0m\u001b[1;33m\u001b[0m\u001b[0m\n\u001b[0;32m      6\u001b[0m \u001b[0mconf\u001b[0m\u001b[1;33m[\u001b[0m\u001b[1;34m'algo'\u001b[0m\u001b[1;33m]\u001b[0m\u001b[1;33m[\u001b[0m\u001b[1;34m'props'\u001b[0m\u001b[1;33m]\u001b[0m\u001b[1;33m[\u001b[0m\u001b[1;34m\"expDecayFactor\"\u001b[0m\u001b[1;33m]\u001b[0m \u001b[1;33m=\u001b[0m \u001b[1;36m0.7\u001b[0m\u001b[1;33m\u001b[0m\u001b[0m\n",
      "\u001b[1;31mNameError\u001b[0m: name 'conf' is not defined"
     ]
    }
   ],
   "source": [
    "execfile('../spark-scripts/evalClusterNew.py')\n",
    "execfile('../spark-scripts/utilsCluster.py')\n",
    "\n",
    "conf['algo']['props'][\"sessionJaccardShrinkage\"] = 5\n",
    "conf['algo']['props'][\"clusterSimilarityThreshold\"] = 0.1\n",
    "conf['algo']['props'][\"expDecayFactor\"] = 0.7\n",
    "clusterSim = conf['algo']['props'][\"clusterSimilarityThreshold\"]\n",
    "sessionJaccardShrinkage = conf['algo']['props'][\"sessionJaccardShrinkage\"]\n",
    "expDecay = conf['algo']['props'][\"expDecayFactor\"]\n",
    "\n",
    "CLUSTER_ALGO = 'plain'\n",
    "THRESHOLD = '0.0'\n",
    "THRESHOLD_STR = str(THRESHOLD)[2:]\n",
    "conf['algo']['name'] = CLUSTER_ALGO + THRESHOLD_STR + '_ImplicitPlaylist_shk_%d_clustSim_%.3f_decay_%.3f' % \\\n",
    "                    (sessionJaccardShrinkage, clusterSim, expDecay )\n",
    "\n",
    "recOriginalRDD = loadRecommendations(conf)\n",
    "recOriginalRDD.count()\n",
    "recOriginalRDD.unpersist()"
   ]
  },
  {
   "cell_type": "markdown",
   "metadata": {},
   "source": [
    "# Load cluster Algo"
   ]
  },
  {
   "cell_type": "code",
   "execution_count": 4,
   "metadata": {
    "collapsed": false
   },
   "outputs": [
    {
     "data": {
      "text/plain": [
       "242956"
      ]
     },
     "execution_count": 4,
     "metadata": {},
     "output_type": "execute_result"
    }
   ],
   "source": [
    "execfile('../spark-scripts/evalClusterNew.py')\n",
    "execfile('../spark-scripts/utilsCluster.py')\n",
    "\n",
    "conf['algo']['props'][\"sessionJaccardShrinkage\"] = 7.5\n",
    "conf['algo']['props'][\"clusterSimilarityThreshold\"] = 0.2\n",
    "conf['algo']['props'][\"expDecayFactor\"] = 0.7\n",
    "clusterSim = conf['algo']['props'][\"clusterSimilarityThreshold\"]\n",
    "sessionJaccardShrinkage = conf['algo']['props'][\"sessionJaccardShrinkage\"]\n",
    "expDecay = conf['algo']['props'][\"expDecayFactor\"]\n",
    "\n",
    "CLUSTER_ALGO = 'collaborative/'\n",
    "THRESHOLD = '0.min_j_25_avgShrink2_higherMean'\n",
    "THRESHOLD_STR = str(THRESHOLD)[2:]\n",
    "\n",
    "conf['algo']['name'] = CLUSTER_ALGO + THRESHOLD_STR + '_ImplicitPlaylist_shk_%d_clustSim_%.3f_decay_%.3f' % \\\n",
    "                    (sessionJaccardShrinkage, clusterSim, expDecay )\n",
    "    \n",
    "recCluster = loadRecommendations(conf).map(json.loads)\n",
    "    \n",
    "cluster_path = BASE_PATH + \"/clusters/\" + CLUSTER_ALGO + THRESHOLD_STR\n",
    "clustersRDD = sc.pickleFile(cluster_path)\n",
    "\n",
    "recClusterRDD = mapClusterRecToListOfSongs(recCluster, clustersRDD, 'plug_songs')\n",
    "recClusterRDD.count()"
   ]
  },
  {
   "cell_type": "markdown",
   "metadata": {
    "collapsed": true
   },
   "source": [
    "# Sessions Scores"
   ]
  },
  {
   "cell_type": "code",
   "execution_count": null,
   "metadata": {
    "collapsed": false
   },
   "outputs": [],
   "source": [
    "execfile('../spark-scripts/evalClusterNew.py')\n",
    "conf['evaluation']['metric']['prop']['N'] = [1,2,5,10,15,20,25,50,100]\n",
    "originalSessHits = computeHitSessions(conf, recOriginalRDD)\n",
    "clusterSessHits = computeHitSessions(conf, recClusterRDD)\n",
    "\n",
    "originalSessHits.saveAsPickleFile(BASE_PATH + '/tmp/originalSessHits')\n",
    "clusterSessHits.saveAsPickleFile(BASE_PATH + '/tmp/clusterSessHits')\n"
   ]
  },
  {
   "cell_type": "code",
   "execution_count": 151,
   "metadata": {
    "collapsed": true
   },
   "outputs": [],
   "source": [
    "originalSessHits = sc.pickleFile(BASE_PATH + '/tmp/originalSessHits')\n",
    "clusterSessHits = sc.pickleFile(BASE_PATH + '/tmp/clusterSessHits')"
   ]
  },
  {
   "cell_type": "code",
   "execution_count": 152,
   "metadata": {
    "collapsed": false
   },
   "outputs": [
    {
     "data": {
      "text/plain": [
       "[(1, (4020301417197576, 0, 100)), (1, (2828401421723660, 0, 100))]"
      ]
     },
     "execution_count": 152,
     "metadata": {},
     "output_type": "execute_result"
    }
   ],
   "source": [
    "originalSessHits.subtractByKey(cl)"
   ]
  },
  {
   "cell_type": "code",
   "execution_count": null,
   "metadata": {
    "collapsed": true
   },
   "outputs": [],
   "source": [
    "for n in conf['evaluation']['metric']['prop']['N']:\n",
    "    original = originalSessHits.filter(lambda x: x[0] == n).map(lambda x: (x[1][0], (x[1][1], x[1][2])))\n",
    "    cluster = clusterSessHits.filter(lambda x: x[0] == n).map(lambda x: (x[1][0], (x[1][1], x[1][2])))\n",
    "    \n",
    "    compare = original.join(cluster)\n",
    "    compare.saveAsPickleFile(BASE_PATH + '/tmp/joinSessionHits@' + str(n))\n",
    "    \n"
   ]
  },
  {
   "cell_type": "code",
   "execution_count": 8,
   "metadata": {
    "collapsed": false
   },
   "outputs": [],
   "source": [
    "originalCount = originalSessHits.count()\n",
    "clusterCount = clusterSessHits.count()"
   ]
  },
  {
   "cell_type": "code",
   "execution_count": 11,
   "metadata": {
    "collapsed": false
   },
   "outputs": [
    {
     "data": {
      "text/plain": [
       "-100512"
      ]
     },
     "execution_count": 11,
     "metadata": {},
     "output_type": "execute_result"
    }
   ],
   "source": [
    "clusterCount - originalCount"
   ]
  },
  {
   "cell_type": "code",
   "execution_count": 6,
   "metadata": {
    "collapsed": true
   },
   "outputs": [],
   "source": [
    "plus_cluster = {}\n",
    "plus_original = {}"
   ]
  },
  {
   "cell_type": "code",
   "execution_count": 7,
   "metadata": {
    "collapsed": false
   },
   "outputs": [
    {
     "name": "stdout",
     "output_type": "stream",
     "text": [
      "1\n",
      "[(2740501421004320, -1, 0)]\n",
      "2\n",
      "[(287601414470400, 0, 0)]\n",
      "5\n",
      "[(1902901415311264, 0, 0)]\n",
      "10\n",
      "[(1902901415311264, 0, 0)]\n",
      "15\n",
      "[(1902901415311264, 0, 0)]\n",
      "20\n",
      "[(2740501421004320, -1, 0)]\n",
      "25\n",
      "[(2740501421004320, -1, 0)]\n",
      "50\n",
      "[(2740501421004320, -1, 0)]\n",
      "100\n",
      "[(2740501421004320, 0, 0)]\n"
     ]
    }
   ],
   "source": [
    "for n in [1,2,5,10,15,20,25,50,100]:\n",
    "    compare = sc.pickleFile(BASE_PATH + '/tmp/joinSessionHits@' + str(n))\n",
    "    diff = compare.map(lambda x: (x[0], x[1][1][0] - x[1][0][0], x[1][1][1] - x[1][0][1] ) )\n",
    "    \n",
    "    print n\n",
    "    print diff.take(1)\n",
    "    \n",
    "    plus_cluster[n] = diff.filter(lambda x: x[1] > 0).collect()\n",
    "    plus_original[n] = diff.filter(lambda x: x[1] < 0).collect()\n",
    "    "
   ]
  },
  {
   "cell_type": "code",
   "execution_count": 69,
   "metadata": {
    "collapsed": false
   },
   "outputs": [],
   "source": [
    "font_title = {'family': 'serif',\n",
    "                   'weight': 'normal',\n",
    "                   'verticalalignment': 'bottom',\n",
    "                   'size': 20}  \n",
    "\n",
    "\n",
    "font_labels = {'family': 'serif',\n",
    "                   'weight': 'normal',\n",
    "                   'size': 14}   "
   ]
  },
  {
   "cell_type": "code",
   "execution_count": 91,
   "metadata": {
    "collapsed": false
   },
   "outputs": [
    {
     "data": {
      "text/plain": [
       "<matplotlib.text.Text at 0x7f1f0053e250>"
      ]
     },
     "execution_count": 91,
     "metadata": {},
     "output_type": "execute_result"
    },
    {
     "data": {
      "image/png": "[encoded data removed]",
      "text/plain": [
       "<matplotlib.figure.Figure at 0x7f1f00722d50>"
      ]
     },
     "metadata": {},
     "output_type": "display_data"
    }
   ],
   "source": [
    "from matplotlib import pyplot as plt\n",
    "%matplotlib inline\n",
    "\n",
    "N = [1,2,5,10,15,20,25,50,100]\n",
    "x = range(len(N))\n",
    "\n",
    "positives = []\n",
    "negatives = []\n",
    "\n",
    "for i in N:\n",
    "    p = sum([j[1] for j in plus_cluster[i]])\n",
    "    n = sum([j[1] for j in plus_original[i]])\n",
    "    positives.append(p)\n",
    "    negatives.append(n)\n",
    "    \n",
    "clust_length = []\n",
    "original_length = []\n",
    "\n",
    "for k,i in enumerate(N):\n",
    "    clust_length.append( np.mean([j[2] for j in plus_cluster[i]]) )\n",
    "    original_length.append( np.mean([j[2] for j in plus_original[i]]) )\n",
    "    \n",
    "\n",
    "\n",
    "fig = plt.figure(figsize = (8,6))\n",
    "ax = plt.subplot(111)\n",
    "plt.title('Differences in Sessions', fontdict= font_title)\n",
    "ax.bar(x, positives, width=1, color='royalblue')\n",
    "ax.bar(x, negatives, width=1, color='darkorange')\n",
    "ax.set_xticklabels(N)\n",
    "ax.set_xticks([i + 0.5 for i in x])\n",
    "ax.set_xlabel('N', fontdict=font_labels)\n",
    "ax.set_ylabel('Sum of Hits Difference', fontdict=font_labels)\n",
    "plt.legend(['Collaborative', 'Original'], loc=2)\n",
    "\n",
    "ax2 = ax.twinx()\n",
    "ax2.plot(x, clust_length, 'b--', linewidth = 2)\n",
    "ax2.plot(x, original_length, 'r--', linewidth = 2)\n",
    "ax2.set_ylabel('Average Length Difference', fontdict=font_labels)"
   ]
  },
  {
   "cell_type": "code",
   "execution_count": 81,
   "metadata": {
    "collapsed": false
   },
   "outputs": [],
   "source": [
    "plus_cluster_list = []\n",
    "plus_original_list = []\n",
    "\n",
    "for n in [1,2,5,10,15,20,25,50,100]:\n",
    "    plus_cluster_list += [(n, i) for i in plus_cluster[n]]\n",
    "    plus_original_list += [(n, i) for i in plus_original[n]]\n",
    "\n"
   ]
  },
  {
   "cell_type": "code",
   "execution_count": 85,
   "metadata": {
    "collapsed": false
   },
   "outputs": [],
   "source": [
    "plus_clusterRDD = sc.parallelize(plus_cluster_list)\n",
    "plus_originalRDD = sc.parallelize(plus_original_list)\n",
    "\n",
    "plus_clusterRDD.saveAsPickleFile(BASE_PATH + '/tmp/plusCluster')\n",
    "plus_originalRDD.saveAsPickleFile(BASE_PATH + '/tmp/plusOriginal')"
   ]
  },
  {
   "cell_type": "code",
   "execution_count": 111,
   "metadata": {
    "collapsed": false
   },
   "outputs": [
    {
     "data": {
      "text/plain": [
       "<matplotlib.legend.Legend at 0x7f1eff3eb7d0>"
      ]
     },
     "execution_count": 111,
     "metadata": {},
     "output_type": "execute_result"
    },
    {
     "data": {
      "image/png": "[encoded data removed]",
      "text/plain": [
       "<matplotlib.figure.Figure at 0x7f1f035e3d50>"
      ]
     },
     "metadata": {},
     "output_type": "display_data"
    }
   ],
   "source": [
    "from matplotlib import pyplot as plt\n",
    "%matplotlib inline\n",
    "\n",
    "N = [1,2,5,10,15,20,25,50,100]\n",
    "x = range(len(N))\n",
    "\n",
    "positives = []\n",
    "negatives = []\n",
    "\n",
    "for i in N:\n",
    "    positives.append(len(plus_cluster[i]))\n",
    "    negatives.append(len(plus_original[i]))\n",
    "    \n",
    "\n",
    "fig = plt.figure(figsize = (8,6))\n",
    "ax = plt.subplot(111)\n",
    "plt.title('Sessions with Higher Scores', fontdict= font_title)\n",
    "ax.bar(x, positives, width=0.4, color='royalblue')\n",
    "ax.bar([i + 0.4 for i in x], negatives, width=0.4, color='darkorange')\n",
    "ax.set_xticklabels(N)\n",
    "ax.set_xticks([i + 0.4 for i in x])\n",
    "ax.set_xlabel('N', fontdict=font_labels)\n",
    "ax.set_ylabel('Number of Sessions', fontdict=font_labels)\n",
    "plt.legend(['Collaborative', 'Original'], loc=2)\n"
   ]
  },
  {
   "cell_type": "markdown",
   "metadata": {},
   "source": [
    "# Sessions that are better for Collaborative at 25"
   ]
  },
  {
   "cell_type": "code",
   "execution_count": 122,
   "metadata": {
    "collapsed": true
   },
   "outputs": [],
   "source": [
    "sessions_at_25 = [i[0] for i in plus_cluster[25]]\n",
    "\n",
    "splitPath = os.path.join(conf['general']['bucketName'], conf['general']['clientname'])\n",
    "    # basePath = \"s3n://\" + conf['general']['bucketName'] + \"/\"+conf['general']['clientname']+\"/\"\n",
    "GTpath = os.path.join(splitPath, \"GT\")\n",
    "\n",
    "gtRDD = sc.textFile(GTpath).map(lambda x: json.loads(x))\n",
    "gtCluster25 = gtRDD.filter(lambda x: x['linkedinfo']['gt'][0]['id'] in sessions_at_25)"
   ]
  },
  {
   "cell_type": "code",
   "execution_count": 148,
   "metadata": {
    "collapsed": false
   },
   "outputs": [
    {
     "data": {
      "text/plain": [
       "14102"
      ]
     },
     "execution_count": 148,
     "metadata": {},
     "output_type": "execute_result"
    }
   ],
   "source": [
    "gtCluster25.count()"
   ]
  },
  {
   "cell_type": "code",
   "execution_count": 123,
   "metadata": {
    "collapsed": false
   },
   "outputs": [],
   "source": [
    "inFile = path.join(conf['general']['bucketName'], conf['general']['clientname'])\n",
    "\n",
    "test = sc.textFile(path.join(inFile, 'test/onlineTraining')).map(lambda x: json.loads(x))\n",
    "testCluster25 = test.filter(lambda x: x['id'] in sessions_at_25)"
   ]
  },
  {
   "cell_type": "markdown",
   "metadata": {},
   "source": [
    "# Load Clusters"
   ]
  },
  {
   "cell_type": "code",
   "execution_count": 128,
   "metadata": {
    "collapsed": false
   },
   "outputs": [],
   "source": [
    "clusterSongsFileRDD = sc.pickleFile(BASE_PATH + '/clusters/collaborative/min_j_25_avgShrink2_higherMean')\n",
    "\n",
    "songsInClusters = clusterSongsFileRDD.filter(lambda x: len(x[1]) > 1).flatMap(lambda x: [int(i) for i in x[1]] ).collect()\n"
   ]
  },
  {
   "cell_type": "code",
   "execution_count": 134,
   "metadata": {
    "collapsed": true
   },
   "outputs": [
    {
     "name": "stdout",
     "output_type": "stream",
     "text": [
      "[(4292401421274706, [159324, 132923, 3592097, 1326692, 1418608]), (4253201421354356, [558897, 558892, 558861, 558860, 558839]), (3077201421142098, [1228679, 1228660, 1228874, 1228863, 1228753]), (3077201421659416, [1228874, 1228671, 1228673, 1228823, 1228859]), (999601421465510, [1219220, 2914168, 2442858, 1607778, 315418]), (3900401415988958, [2534401, 2534392, 2534336, 2534463, 2534329]), (3900401420741135, [233271, 3511821, 145680, 3618863, 92886]), (2058001415660100, [575163, 3218588, 3218595, 2909809, 2123756]), (2058001415626358, [711177, 719415, 719357, 719494, 719185]), (4272801421242950, [950488, 951148, 950745, 950910, 951127]), (4312001416624724, [2752889, 2752372, 2752764, 2752650, 2752328]), (1803201416138489, [1750339, 2854319, 2174546, 142056, 2493000]), (3038001421280605, [42070, 797982, 3840786, 3520617, 3460929]), (274401420801708, [2752889, 2752372, 2752764, 2752650, 2752328]), (431201420543748, [2423080, 2423491, 2423368, 2422747, 2422767]), (431201420798704, [1197446, 1197679, 1197402, 1198107, 1197721]), (1097601418644903, [868181, 1818460, 1818925, 1818569, 1819162]), (4018001421187468, [2872848, 2610558, 2610418, 2042916, 2042921]), (4018001420688468, [2791986, 2792007, 2791988, 2791999, 2791997]), (2606801415614501, [356035, 356079, 356065, 356114, 356071]), (3508401421508170, [2640050, 2639966, 2640047, 2639981, 2639850]), (4194401416598073, [3362134, 3362247, 3362034, 3362209, 3361964]), (4194401421594040, [341152, 341422, 341699, 341380, 3550793]), (4194401420324773, [2246887, 554618, 2463294, 93789, 697101]), (4194401416669151, [3362251, 3362134, 3362185, 3362126, 3362164]), (3998401421025933, [1396704, 1396672, 1396678, 1396687, 1396673]), (3998401417222356, [2277269, 2278157, 2280211, 2277609, 2278351]), (901601418159757, [524904, 524956, 524870, 524951, 524964]), (901601414442015, [202540, 202508, 202443, 202341, 202469]), (4410001418165979, [3590726, 3590854, 3591183, 3591608, 3591796])]\n",
      "[(u'415487', [558847, 558840, 558891, 558869, 558944]), (u'137829', [1396685, 1396671, 1396692, 1396698, 1396705]), (u'137641', [2278561, 2277911, 2280140, 2277365, 2278482]), (u'473607', [3590966, 3591542, 3591098, 3591718, 3591166]), (u'1505295', [315420, 797091, 228852, 228970, 229070]), (u'2614178', [2752703, 2752555, 2752355, 2752906, 2752502]), (u'1668434', [2534394, 2534444, 2534482, 1752821, 1935624]), (u'1668476', [1478540, 1041009, 228181, 1533767, 3178452]), (u'1724716', [2123629, 2123852, 2123737, 2123623, 3472265]), (u'1724711', [719411, 719424, 719348, 719450, 719489]), (u'62022', [2752703, 2752555, 2752355, 2752906, 2752502]), (u'2671710', [1781671, 1498272, 142006, 714154, 2174526]), (u'554425', [2079390, 861096, 2127105, 2027471, 3520558]), (u'332747', [2042907, 2610877, 2610544, 423633, 423624]), (u'332746', [2792004, 2792009, 2792013, 2792003, 2792008]), (u'2186858', [356106, 356045, 356055, 356099, 356013]), (u'1297392', [2639990, 2640035, 2640132, 2639961, 2639995]), (u'1025092', [2423294, 2422763, 2423217, 2422736, 2422916]), (u'1025094', [1197994, 1197922, 1197812, 1197556, 1198161]), (u'608222', [563184, 563276, 563248, 563128, 563249]), (u'767430', [524935, 524812, 524876, 524972, 524966]), (u'767405', [202463, 202402, 202465, 202339, 202380]), (u'1179870', [1819197, 412001, 612602, 1779742, 2848975]), (u'2484449', [677373, 677488, 677402, 3226830, 194443]), (u'2484304', [2154696, 2154340, 2154493, 473742, 682088]), (u'48021', [951136, 950410, 950386, 950489, 950347]), (u'1568804', [3596046, 3596035, 3595907, 3596088, 3595854]), (u'1123216', [3822446, 714177, 3885335, 3533576, 3533579]), (u'1783621', [3076055, 3076170, 3076244, 3076554, 3076235]), (u'809343', [1202175, 1202197, 1202151, 1202185, 1202193])]\n"
     ]
    }
   ],
   "source": [
    "testCluster25Songs = testCluster25.map(lambda x: (x['id'], [i['id'] for i in x['linkedinfo']['objects']]))\n",
    "gtCluster25Songs = gtCluster25.map(lambda x: (x['id'], [i['id'] for i in x['linkedinfo']['objects']]))\n",
    "\n",
    "print testCluster25Songs.take(30)\n",
    "print gtCluster25Songs.take(30)"
   ]
  },
  {
   "cell_type": "code",
   "execution_count": 139,
   "metadata": {
    "collapsed": false
   },
   "outputs": [
    {
     "name": "stdout",
     "output_type": "stream",
     "text": [
      "51\n",
      "68\n"
     ]
    }
   ],
   "source": [
    "testCluster25SongsCluster = testCluster25Songs.filter(lambda x: len(set(x[1]) & set(songsInClusters)))\n",
    "gtCluster25SongsCluster = gtCluster25Songs.filter(lambda x: len(set(x[1]) & set(songsInClusters)))\n",
    "\n",
    "print testCluster25SongsCluster.count()\n",
    "print gtCluster25SongsCluster.count()"
   ]
  },
  {
   "cell_type": "code",
   "execution_count": 141,
   "metadata": {
    "collapsed": false
   },
   "outputs": [
    {
     "name": "stdout",
     "output_type": "stream",
     "text": [
      "0.36165082967\n",
      "0.482201106226\n"
     ]
    }
   ],
   "source": [
    "print testCluster25SongsCluster.count()/float(testCluster25.count())*100\n",
    "print gtCluster25SongsCluster.count()/float(testCluster25.count())*100"
   ]
  },
  {
   "cell_type": "markdown",
   "metadata": {},
   "source": [
    "# Sessions better for Original at 100"
   ]
  },
  {
   "cell_type": "code",
   "execution_count": 149,
   "metadata": {
    "collapsed": false
   },
   "outputs": [
    {
     "name": "stdout",
     "output_type": "stream",
     "text": [
      "18191\n",
      "18191\n"
     ]
    }
   ],
   "source": [
    "sessions_at_100 = [i[0] for i in plus_original[100]]\n",
    "\n",
    "gtCluster100 = gtRDD.filter(lambda x: x['linkedinfo']['gt'][0]['id'] in sessions_at_100)\n",
    "testCluster100 = test.filter(lambda x: x['id'] in sessions_at_100)\n",
    "\n",
    "print gtCluster100.count()\n",
    "print testCluster100.count()"
   ]
  },
  {
   "cell_type": "code",
   "execution_count": 150,
   "metadata": {
    "collapsed": false
   },
   "outputs": [
    {
     "name": "stdout",
     "output_type": "stream",
     "text": [
      "67\n",
      "67\n"
     ]
    }
   ],
   "source": [
    "testCluster100Songs = testCluster100.map(lambda x: (x['id'], [i['id'] for i in x['linkedinfo']['objects']]))\n",
    "gtCluster100Songs = gtCluster100.map(lambda x: (x['id'], [i['id'] for i in x['linkedinfo']['objects']]))\n",
    "\n",
    "testCluster100SongsCluster = testCluster100Songs.filter(lambda x: len(set(x[1]) & set(songsInClusters)))\n",
    "gtCluster100SongsCluster = gtCluster100Songs.filter(lambda x: len(set(x[1]) & set(songsInClusters)))\n",
    "\n",
    "print testCluster100SongsCluster.count()\n",
    "print gtCluster100SongsCluster.count()"
   ]
  },
  {
   "cell_type": "markdown",
   "metadata": {},
   "source": [
    "# Random Switch Clusters"
   ]
  },
  {
   "cell_type": "code",
   "execution_count": 7,
   "metadata": {
    "collapsed": false
   },
   "outputs": [],
   "source": [
    "clusterSongsFileRDD = sc.pickleFile(BASE_PATH + '/clusters/collaborative/min_j_25_avgShrink2_higherMean')\n",
    "\n",
    "singlesRDD = clusterSongsFileRDD.filter(lambda x: len(x[1]) == 1 )\n",
    "clustersRDD = clusterSongsFileRDD.filter(lambda x: len(x[1]) > 1 )"
   ]
  },
  {
   "cell_type": "code",
   "execution_count": 8,
   "metadata": {
    "collapsed": false
   },
   "outputs": [
    {
     "data": {
      "text/plain": [
       "(9846, [892234, 892243])"
      ]
     },
     "execution_count": 8,
     "metadata": {},
     "output_type": "execute_result"
    }
   ],
   "source": [
    "clusters = clustersRDD.collect()\n",
    "clusters[0]"
   ]
  },
  {
   "cell_type": "code",
   "execution_count": 9,
   "metadata": {
    "collapsed": true
   },
   "outputs": [
    {
     "ename": "IllegalArgumentException",
     "evalue": "u'Pathname /user/robertop/mattia/clusters/collaborative/min_j_25_avgShrink2_SwitchUnionRDD[8] at union at NativeMethodAccessorImpl.java:-2 from hdfs://hathi-surfsara/user/robertop/mattia/clusters/collaborative/min_j_25_avgShrink2_SwitchUnionRDD[8] at union at NativeMethodAccessorImpl.java:-2 is not a valid DFS filename.'",
     "output_type": "error",
     "traceback": [
      "\u001b[1;31m---------------------------------------------------------------------------\u001b[0m",
      "\u001b[1;31mIllegalArgumentException\u001b[0m                  Traceback (most recent call last)",
      "\u001b[1;32m<ipython-input-9-45e415eb4de0>\u001b[0m in \u001b[0;36m<module>\u001b[1;34m()\u001b[0m\n\u001b[0;32m      9\u001b[0m \u001b[0mswitchedRDD\u001b[0m \u001b[1;33m=\u001b[0m \u001b[0mclusterSwitchRDD\u001b[0m\u001b[1;33m.\u001b[0m\u001b[0munion\u001b[0m\u001b[1;33m(\u001b[0m\u001b[0msinglesRDD\u001b[0m\u001b[1;33m)\u001b[0m\u001b[1;33m\u001b[0m\u001b[0m\n\u001b[0;32m     10\u001b[0m \u001b[1;33m\u001b[0m\u001b[0m\n\u001b[1;32m---> 11\u001b[1;33m \u001b[0mswitchedRDD\u001b[0m\u001b[1;33m.\u001b[0m\u001b[0msaveAsPickleFile\u001b[0m\u001b[1;33m(\u001b[0m\u001b[0mBASE_PATH\u001b[0m \u001b[1;33m+\u001b[0m \u001b[1;34m'/clusters/collaborative/min_j_25_avgShrink2_Switch'\u001b[0m \u001b[1;33m+\u001b[0m \u001b[0mstr\u001b[0m\u001b[1;33m(\u001b[0m\u001b[0mswitchedRDD\u001b[0m\u001b[1;33m)\u001b[0m\u001b[1;33m)\u001b[0m\u001b[1;33m\u001b[0m\u001b[0m\n\u001b[0m",
      "\u001b[1;32m/usr/local/spark/python/pyspark/rdd.py\u001b[0m in \u001b[0;36msaveAsPickleFile\u001b[1;34m(self, path, batchSize)\u001b[0m\n\u001b[0;32m   1453\u001b[0m         \u001b[1;32melse\u001b[0m\u001b[1;33m:\u001b[0m\u001b[1;33m\u001b[0m\u001b[0m\n\u001b[0;32m   1454\u001b[0m             \u001b[0mser\u001b[0m \u001b[1;33m=\u001b[0m \u001b[0mBatchedSerializer\u001b[0m\u001b[1;33m(\u001b[0m\u001b[0mPickleSerializer\u001b[0m\u001b[1;33m(\u001b[0m\u001b[1;33m)\u001b[0m\u001b[1;33m,\u001b[0m \u001b[0mbatchSize\u001b[0m\u001b[1;33m)\u001b[0m\u001b[1;33m\u001b[0m\u001b[0m\n\u001b[1;32m-> 1455\u001b[1;33m         \u001b[0mself\u001b[0m\u001b[1;33m.\u001b[0m\u001b[0m_reserialize\u001b[0m\u001b[1;33m(\u001b[0m\u001b[0mser\u001b[0m\u001b[1;33m)\u001b[0m\u001b[1;33m.\u001b[0m\u001b[0m_jrdd\u001b[0m\u001b[1;33m.\u001b[0m\u001b[0msaveAsObjectFile\u001b[0m\u001b[1;33m(\u001b[0m\u001b[0mpath\u001b[0m\u001b[1;33m)\u001b[0m\u001b[1;33m\u001b[0m\u001b[0m\n\u001b[0m\u001b[0;32m   1456\u001b[0m \u001b[1;33m\u001b[0m\u001b[0m\n\u001b[0;32m   1457\u001b[0m     \u001b[1;33m@\u001b[0m\u001b[0mignore_unicode_prefix\u001b[0m\u001b[1;33m\u001b[0m\u001b[0m\n",
      "\u001b[1;32m/usr/local/spark/python/lib/py4j-0.9-src.zip/py4j/java_gateway.py\u001b[0m in \u001b[0;36m__call__\u001b[1;34m(self, *args)\u001b[0m\n\u001b[0;32m    811\u001b[0m         \u001b[0manswer\u001b[0m \u001b[1;33m=\u001b[0m \u001b[0mself\u001b[0m\u001b[1;33m.\u001b[0m\u001b[0mgateway_client\u001b[0m\u001b[1;33m.\u001b[0m\u001b[0msend_command\u001b[0m\u001b[1;33m(\u001b[0m\u001b[0mcommand\u001b[0m\u001b[1;33m)\u001b[0m\u001b[1;33m\u001b[0m\u001b[0m\n\u001b[0;32m    812\u001b[0m         return_value = get_return_value(\n\u001b[1;32m--> 813\u001b[1;33m             answer, self.gateway_client, self.target_id, self.name)\n\u001b[0m\u001b[0;32m    814\u001b[0m \u001b[1;33m\u001b[0m\u001b[0m\n\u001b[0;32m    815\u001b[0m         \u001b[1;32mfor\u001b[0m \u001b[0mtemp_arg\u001b[0m \u001b[1;32min\u001b[0m \u001b[0mtemp_args\u001b[0m\u001b[1;33m:\u001b[0m\u001b[1;33m\u001b[0m\u001b[0m\n",
      "\u001b[1;32m/usr/local/spark/python/pyspark/sql/utils.py\u001b[0m in \u001b[0;36mdeco\u001b[1;34m(*a, **kw)\u001b[0m\n\u001b[0;32m     51\u001b[0m                 \u001b[1;32mraise\u001b[0m \u001b[0mAnalysisException\u001b[0m\u001b[1;33m(\u001b[0m\u001b[0ms\u001b[0m\u001b[1;33m.\u001b[0m\u001b[0msplit\u001b[0m\u001b[1;33m(\u001b[0m\u001b[1;34m': '\u001b[0m\u001b[1;33m,\u001b[0m \u001b[1;36m1\u001b[0m\u001b[1;33m)\u001b[0m\u001b[1;33m[\u001b[0m\u001b[1;36m1\u001b[0m\u001b[1;33m]\u001b[0m\u001b[1;33m,\u001b[0m \u001b[0mstackTrace\u001b[0m\u001b[1;33m)\u001b[0m\u001b[1;33m\u001b[0m\u001b[0m\n\u001b[0;32m     52\u001b[0m             \u001b[1;32mif\u001b[0m \u001b[0ms\u001b[0m\u001b[1;33m.\u001b[0m\u001b[0mstartswith\u001b[0m\u001b[1;33m(\u001b[0m\u001b[1;34m'java.lang.IllegalArgumentException: '\u001b[0m\u001b[1;33m)\u001b[0m\u001b[1;33m:\u001b[0m\u001b[1;33m\u001b[0m\u001b[0m\n\u001b[1;32m---> 53\u001b[1;33m                 \u001b[1;32mraise\u001b[0m \u001b[0mIllegalArgumentException\u001b[0m\u001b[1;33m(\u001b[0m\u001b[0ms\u001b[0m\u001b[1;33m.\u001b[0m\u001b[0msplit\u001b[0m\u001b[1;33m(\u001b[0m\u001b[1;34m': '\u001b[0m\u001b[1;33m,\u001b[0m \u001b[1;36m1\u001b[0m\u001b[1;33m)\u001b[0m\u001b[1;33m[\u001b[0m\u001b[1;36m1\u001b[0m\u001b[1;33m]\u001b[0m\u001b[1;33m,\u001b[0m \u001b[0mstackTrace\u001b[0m\u001b[1;33m)\u001b[0m\u001b[1;33m\u001b[0m\u001b[0m\n\u001b[0m\u001b[0;32m     54\u001b[0m             \u001b[1;32mraise\u001b[0m\u001b[1;33m\u001b[0m\u001b[0m\n\u001b[0;32m     55\u001b[0m     \u001b[1;32mreturn\u001b[0m \u001b[0mdeco\u001b[0m\u001b[1;33m\u001b[0m\u001b[0m\n",
      "\u001b[1;31mIllegalArgumentException\u001b[0m: u'Pathname /user/robertop/mattia/clusters/collaborative/min_j_25_avgShrink2_SwitchUnionRDD[8] at union at NativeMethodAccessorImpl.java:-2 from hdfs://hathi-surfsara/user/robertop/mattia/clusters/collaborative/min_j_25_avgShrink2_SwitchUnionRDD[8] at union at NativeMethodAccessorImpl.java:-2 is not a valid DFS filename.'"
     ]
    }
   ],
   "source": [
    "switch = 42\n",
    "\n",
    "for i, elem in enumerate(clusters):\n",
    "    current = elem[1].pop()\n",
    "    clusters[(i+switch)%len(clusters)][1].insert(0, current)\n",
    "\n",
    "clusterSwitchRDD = sc.parallelize(clusters)\n",
    "\n",
    "switchedRDD = clusterSwitchRDD.union(singlesRDD)\n",
    "\n",
    "switchedRDD.saveAsPickleFile(BASE_PATH + '/clusters/collaborative/min_j_25_avgShrink2_Switch' + str(switch))"
   ]
  },
  {
   "cell_type": "code",
   "execution_count": null,
   "metadata": {
    "collapsed": true
   },
   "outputs": [],
   "source": []
  }
 ],
 "metadata": {
  "kernelspec": {
   "display_name": "Python 2",
   "language": "python",
   "name": "python2"
  },
  "language_info": {
   "codemirror_mode": {
    "name": "ipython",
    "version": 2
   },
   "file_extension": ".py",
   "mimetype": "text/x-python",
   "name": "python",
   "nbconvert_exporter": "python",
   "pygments_lexer": "ipython2",
   "version": "2.7.11"
  }
 },
 "nbformat": 4,
 "nbformat_minor": 0
}
