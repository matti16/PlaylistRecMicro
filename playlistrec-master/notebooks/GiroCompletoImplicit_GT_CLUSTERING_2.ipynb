{
 "cells": [
  {
   "cell_type": "markdown",
   "metadata": {},
   "source": [
    "# <hr style=\"clear: both\" />\n",
    "\n",
    "# Running Spark in YARN-client mode\n",
    "\n",
    "This notebook demonstrates how to set up a SparkContext that uses SURFsara's Hadoop cluster: [YARN resourcemanager](http://head05.hathi.surfsara.nl:8088/cluster) (note you will need to be authenticated via kerberos on your machine to visit the resourcemanager link) for executors.\n",
    "\n",
    "First initialize kerberos via a Jupyter terminal. \n",
    "In the terminal execute: <BR>\n",
    "<i>kinit -k -t data/robertop.keytab robertop@CUA.SURFSARA.NL</i><BR>\n",
    "Print your credentials:\n"
   ]
  },
  {
   "cell_type": "code",
   "execution_count": 1,
   "metadata": {
    "collapsed": false
   },
   "outputs": [
    {
     "name": "stdout",
     "output_type": "stream",
     "text": [
      "Ticket cache: FILE:/tmp/krb5cc_1001\r\n",
      "Default principal: robertop@CUA.SURFSARA.NL\r\n",
      "\r\n",
      "Valid starting       Expires              Service principal\r\n",
      "04/12/2016 13:42:29  04/13/2016 13:42:29  krbtgt/CUA.SURFSARA.NL@CUA.SURFSARA.NL\r\n",
      "\trenew until 04/12/2016 13:42:29\r\n"
     ]
    }
   ],
   "source": [
    "! klist"
   ]
  },
  {
   "cell_type": "code",
   "execution_count": 1,
   "metadata": {
    "collapsed": false
   },
   "outputs": [
    {
     "name": "stdout",
     "output_type": "stream",
     "text": [
      "<pyspark.context.SparkContext object at 0x7fbf28040550>\n"
     ]
    }
   ],
   "source": [
    "print sc"
   ]
  },
  {
   "cell_type": "markdown",
   "metadata": {},
   "source": [
    "# <hr style=\"clear: both\" />\n",
    "\n",
    "# Now you can run your code\n",
    "\n",
    "Pick a clustering algorithm (name of the file that provides a classify(x,y [,threshold]) function)"
   ]
  },
  {
   "cell_type": "code",
   "execution_count": 2,
   "metadata": {
    "collapsed": false
   },
   "outputs": [],
   "source": [
    "execfile('../spark-scripts/conventions.py')\n",
    "execfile('../spark-scripts/splitCluster2.py')\n",
    "#execfile('../spark-scripts/utils.py')\n",
    "execfile('../spark-scripts/eval.py')\n",
    "execfile('../spark-scripts/implicitPlaylistAlgoFunctions.py')\n",
    "execfile('../spark-scripts/implicitPlaylistAlgoMain.py')\n",
    "\n",
    "CLUSTER_ALGO = 'jaccardBase'\n",
    "\n",
    "execfile('../spark-scripts/' + CLUSTER_ALGO + '.py')\n"
   ]
  },
  {
   "cell_type": "markdown",
   "metadata": {},
   "source": [
    "# Reading the conf file"
   ]
  },
  {
   "cell_type": "code",
   "execution_count": 3,
   "metadata": {
    "collapsed": false
   },
   "outputs": [],
   "source": [
    "import json\n",
    "import copy\n",
    "\n",
    "BASE_PATH = \"/mnt/space/mattia\"\n",
    "\n",
    "conf = {}\n",
    "\n",
    "conf['split'] = {}\n",
    "conf['split']['reclistSize'] = 100\n",
    "conf['split']['callParams'] = {}\n",
    "conf['split']['excludeAlreadyListenedTest'] = True\n",
    "conf['split']['name'] = 'SenzaRipetizioni_1'\n",
    "conf['split']['split'] = conf['split']['name']\n",
    "conf['split']['minEventsPerUser'] = 5\n",
    "conf['split']['inputData'] = BASE_PATH + '/' + CLUSTER_ALGO + '.split/SenzaRipetizioni_1'\n",
    "#conf['split']['inputData'] = 's3n://contentwise-research-poli/30musicdataset/newFormat/relations/sessions.idomaar'\n",
    "conf['split']['bucketName'] = BASE_PATH\n",
    "conf['split']['percUsTr'] = 0.05\n",
    "conf['split']['ts'] = int(0.75 * (1421745857 - 1390209860) + 1390209860) - 10000\n",
    "conf['split']['minEventPerSession'] = 5\n",
    "conf['split']['onlineTrainingLength'] = 5\n",
    "conf['split']['GTlength'] = 1\n",
    "conf['split']['minEventPerSessionTraining'] = 10\n",
    "conf['split']['minEventPerSessionTest'] = 11\n",
    "conf['split']['mode'] = 'session'\n",
    "conf['split']['forceSplitCreation'] = False\n",
    "conf['split'][\"prop\"] = {'reclistSize': conf['split']['reclistSize']}\n",
    "conf['split']['type'] = list\n",
    "conf['split']['out'] = BASE_PATH + '/' + CLUSTER_ALGO + '.split'\n",
    "conf['split']['location'] = '30Mdataset/relations/sessions'\n",
    "\n",
    "conf['evaluation'] = {}\n",
    "conf['evaluation']['metric'] = {}\n",
    "conf['evaluation']['metric']['type'] = 'recall'\n",
    "conf['evaluation']['metric']['prop'] = {}\n",
    "conf['evaluation']['metric']['prop']['N'] = [1,2,5,10,15,20,25,50,100]\n",
    "conf['evaluation']['name'] = 'recall@N'\n",
    "\n",
    "conf['general'] = {}\n",
    "conf['general']['clientname'] = CLUSTER_ALGO + '.split'\n",
    "conf['general']['bucketName'] = BASE_PATH\n",
    "conf['general']['tracksPath'] = '30Mdataset/entities/tracks.idomaar.gz'\n",
    "\n",
    "conf['algo'] = {}\n",
    "conf['algo']['name'] = CLUSTER_ALGO\n",
    "conf['algo']['props'] = {}\n",
    "# ***** EXAMPLE OF CONFIGURATION *****#\n",
    "conf['algo']['props'][\"sessionJaccardShrinkage\"] = 5\n",
    "conf['algo']['props'][\"clusterSimilarityThreshold\"] = 0.1\n",
    "conf['algo']['props'][\"expDecayFactor\"] = 0.7\n",
    "# ****** END EXAMPLE ****************#"
   ]
  },
  {
   "cell_type": "markdown",
   "metadata": {},
   "source": [
    "\n",
    "Pick the list of songs ad create clusters\n"
   ]
  },
  {
   "cell_type": "code",
   "execution_count": 44,
   "metadata": {
    "collapsed": false
   },
   "outputs": [
    {
     "data": {
      "text/plain": [
       "[(u'0',\n",
       "  [u'000003',\n",
       "   u'music',\n",
       "   u'instructor',\n",
       "   u'dj27s',\n",
       "   u'rock',\n",
       "   u'da',\n",
       "   u'house',\n",
       "   u'c382e28988c386e28988c38a01',\n",
       "   u'dj',\n",
       "   u'maxpulemet',\n",
       "   u'vs',\n",
       "   u'bomfunk',\n",
       "   u'mc27s',\n",
       "   u'electro',\n",
       "   u'breakdance',\n",
       "   u'party',\n",
       "   u'1',\n",
       "   u'5b20005d',\n",
       "   u'cd',\n",
       "   u'onec382e28988c386e28988c38a'],\n",
       "  u'000003 Music Instructor Dj%27s Rock Da House %C3%82%E2%89%88%C3%86%E2%89%88%C3%8A01 - Dj Max-Pulemet Vs. Bomfunk Mc%27s - Electro Breakdance party 1 %5B2000%5D = CD ONE%C3%82%E2%89%88%C3%86%E2%89%88%C3%8A'),\n",
       " (u'1',\n",
       "  [u'0001', u'd0a2d0b5d0bad181d182'],\n",
       "  u'00-01 %D0%A2%D0%B5%D0%BA%D1%81%D1%82'),\n",
       " (u'2', [u'0005', u'overkill', u'overkill'], u'0005. Overkill Overkill')]"
      ]
     },
     "execution_count": 44,
     "metadata": {},
     "output_type": "execute_result"
    }
   ],
   "source": [
    "import json\n",
    "import string\n",
    "\n",
    "def my_replace_punct(x):\n",
    "    ret = \"\"\n",
    "    for i in x:\n",
    "        if i == '+':\n",
    "            ret += ' '\n",
    "        else:\n",
    "            ret += i\n",
    "    return ret\n",
    "\n",
    "tracksRDD = sc.textFile(BASE_PATH + '/30Mdataset/entities/tracks.idomaar.gz')\n",
    "tracksRDD = tracksRDD.map(lambda x: x.split('\\t')).map(lambda x: (x[1], json.loads(x[3])['name'].split('/') ) )\n",
    "tracksRDD = tracksRDD.map(lambda x: (x[0], \" \".join( (x[1][0], x[1][2]) ) ))\n",
    "tracksRDD = tracksRDD.map(lambda x : (x[0], my_replace_punct(x[1])))\n",
    "tracksRDD = tracksRDD.map(lambda x: (x[0], tokenize_song(x[1]), x[1]))\n",
    "\n",
    "sampleRDD = tracksRDD.take(5000)\n",
    "sampleRDD = sc.parallelize(sampleRDD)\n",
    "sampleRDD.take(3)"
   ]
  },
  {
   "cell_type": "markdown",
   "metadata": {},
   "source": [
    "\n",
    "Reduce the quantity of data by building RDD {word -> songs}.\n",
    "For each for keep only couples of songs that matches.\n"
   ]
  },
  {
   "cell_type": "code",
   "execution_count": 45,
   "metadata": {
    "collapsed": false,
    "scrolled": false
   },
   "outputs": [
    {
     "data": {
      "text/plain": [
       "[(u'daydreamer',\n",
       "  (((u'2852', u'10 Years 11.00 AM (Daydreamer)'),\n",
       "    (u'2851', u'10 Years 11:00 AM (Daydreamer)')),\n",
       "   ((u'2851', u'10 Years 11:00 AM (Daydreamer)'),\n",
       "    (u'2850', u'10 Years 11-00 AM (Daydreamer)')),\n",
       "   ((u'2852', u'10 Years 11.00 AM (Daydreamer)'),\n",
       "    (u'2850', u'10 Years 11-00 AM (Daydreamer)')))),\n",
       " (u'and',\n",
       "  (((u'3081', u'112 Peaches And Cream'),\n",
       "    (u'2997', u'112 112 - Peaches and Cream')),\n",
       "   ((u'2859', u'10 Years ... And All The Other Colors'),\n",
       "    (u'2858', u'10 Years ...And All the Other Colors')))),\n",
       " (u'stones',\n",
       "  (((u'4154', u'12 Stones Lie to Me (Acoustic)'),\n",
       "    (u'4153', u'12 Stones Lie to me - acoustic')),\n",
       "   ((u'4126', u'12 Stones Bulletproof_'),\n",
       "    (u'4125', u'12 Stones Bulletproof')))),\n",
       " (u'plant',\n",
       "  (((u'2648', u'10 Ft. Ganja Plant Hard Times (feat. Sylford Walker)'),\n",
       "    (u'2639', u'10 Ft. Ganja Plant Feat. Sylford Walker Hard Times')),\n",
       "   ((u'2680', u'10 Ft. Ganja Plant Recession (feat. Prince Jazzbo)'),\n",
       "    (u'2638', u'10 Ft. Ganja Plant Feat. Prince Jazzbo Recession')),\n",
       "   ((u'2670', u'10 Ft. Ganja Plant My Roots (feat. Sylford Walker)'),\n",
       "    (u'2640', u'10 Ft. Ganja Plant Feat. Sylford Walker My Roots')))),\n",
       " (u'ft',\n",
       "  (((u'2648', u'10 Ft. Ganja Plant Hard Times (feat. Sylford Walker)'),\n",
       "    (u'2639', u'10 Ft. Ganja Plant Feat. Sylford Walker Hard Times')),\n",
       "   ((u'2680', u'10 Ft. Ganja Plant Recession (feat. Prince Jazzbo)'),\n",
       "    (u'2638', u'10 Ft. Ganja Plant Feat. Prince Jazzbo Recession')),\n",
       "   ((u'2670', u'10 Ft. Ganja Plant My Roots (feat. Sylford Walker)'),\n",
       "    (u'2640', u'10 Ft. Ganja Plant Feat. Sylford Walker My Roots')),\n",
       "   ((u'4238', u'12th Planet Reasons ft. Juakali (Doctor P remix)'),\n",
       "    (u'4218', u'12th Planet (ft. Juakali) Reasons (Doctor P Remix)')))),\n",
       " (u'love',\n",
       "  (((u'4602', u'13th Floor Elevators Everybody Needs Somebody To Love (Live)'),\n",
       "    (u'4601',\n",
       "     u'13th Floor Elevators Everybody Needs Somebody to Love - Live')),\n",
       "   ((u'2385', u'10cc I%27m Not In Love (Edit)'),\n",
       "    (u'2384', u'10cc I%27m Not In Love - Edit')))),\n",
       " (u'10000',\n",
       "  (((u'1461', u'10,000 Maniacs Trouble Me (Digital 45)'),\n",
       "    (u'1460', u'10,000 Maniacs Trouble Me - Digital 45')),\n",
       "   ((u'1448', u'10,000 Maniacs The Lion%27s Share (Digital 45)'),\n",
       "    (u'1447', u'10,000 Maniacs The Lion%27s Share - Digital 45')))),\n",
       " (u'micrograms',\n",
       "  (((u'3410', u'1200 Micrograms Ecstacy - Deedrah Remix'),\n",
       "    (u'3409', u'1200 Micrograms Ecstacy (Deedrah remix)')),\n",
       "   ((u'3437', u'1200 Micrograms High Paradise (1200 Micrograms Remix)'),\n",
       "    (u'3436', u'1200 Micrograms High Paradise - 1200 Micrograms Remix')),\n",
       "   ((u'3417', u'1200 Micrograms Egypt - Eat Static Remix'),\n",
       "    (u'3416', u'1200 Micrograms Egypt (Eat Static remix)')),\n",
       "   ((u'3431', u'1200 Micrograms Greece - Save The Robot Remix'),\n",
       "    (u'3430', u'1200 Micrograms Greece (Save The Robot remix)')),\n",
       "   ((u'3458', u'1200 Micrograms Mescaline (Astrix Remix)'),\n",
       "    (u'3457', u'1200 Micrograms Mescaline - Astrix Remix')))),\n",
       " (u'elevators',\n",
       "  (((u'4618', u'13th Floor Elevators I%27ve Got Levitation'),\n",
       "    (u'4617', u'13th Floor Elevators (I%27ve Got) Levitation')),\n",
       "   ((u'4602', u'13th Floor Elevators Everybody Needs Somebody To Love (Live)'),\n",
       "    (u'4601',\n",
       "     u'13th Floor Elevators Everybody Needs Somebody to Love - Live')),\n",
       "   ((u'4705', u'13th Floor Elevators She Lives in a Time of Her Own'),\n",
       "    (u'4704', u'13th Floor Elevators She Lives (in a Time of Her Own)')))),\n",
       " (u'big',\n",
       "  (((u'3077', u'112 Only You - feat. The Notorious B.I.G.'),\n",
       "    (u'3076', u'112 Only You (feat. The Notorious B.I.G.)')),\n",
       "   ((u'3078', u'112 Only You (feat. the Notorious B.I.G.'),\n",
       "    (u'3077', u'112 Only You - feat. The Notorious B.I.G.')),\n",
       "   ((u'3078', u'112 Only You (feat. the Notorious B.I.G.'),\n",
       "    (u'3076', u'112 Only You (feat. The Notorious B.I.G.)'))))]"
      ]
     },
     "execution_count": 45,
     "metadata": {},
     "output_type": "execute_result"
    }
   ],
   "source": [
    "#Build an RDD with ('word' -> (id, name))\n",
    "wordsRDD = sampleRDD.flatMap(lambda x: [(i, (x[0], x[2])) for i in x[1]] )\n",
    "wordsRDD.take(3)\n",
    "\n",
    "#Group by 'word' and keep only the ones with more then 1 song\n",
    "wordsRDD = wordsRDD.groupByKey().mapValues(list).filter(lambda x: len(x[1]) > 1)\n",
    "\n",
    "#Compute a cartesian product for each list of songs with a common word\n",
    "def filtered_cartesian(x):\n",
    "    equal_couples = set()\n",
    "    for i in range(len(x[1])):\n",
    "        a = x[1][i]\n",
    "        id_a = x[1][i][0]\n",
    "        name_a = x[1][i][1]\n",
    "        \n",
    "        for j in range(i):\n",
    "            b = x[1][j]\n",
    "            id_b = x[1][j][0]\n",
    "            name_b = x[1][j][1]\n",
    "            if id_a != id_b:\n",
    "                if classify(name_a, name_b):\n",
    "                    equal_couples.add((a,b))\n",
    "                    \n",
    "    return (x[0], tuple(equal_couples))\n",
    "\n",
    "coupleRDD = wordsRDD.map(filtered_cartesian).filter(lambda x: len(x[1]) > 1)\n",
    "coupleRDD.take(10)\n"
   ]
  },
  {
   "cell_type": "code",
   "execution_count": 47,
   "metadata": {
    "collapsed": false
   },
   "outputs": [],
   "source": [
    "#Merge every fucking couple with common songs\n",
    "def couple_merge(x):\n",
    "    result = set()\n",
    "    for couple in x[1]:\n",
    "        merged = False\n",
    "        for cluster in result:\n",
    "            if len(set(couple) & set(cluster)):\n",
    "                result.remove(cluster)\n",
    "                result.add(tuple(set(couple) | set(cluster)))\n",
    "                merged = True\n",
    "                break;\n",
    "        if not merged:\n",
    "            result.add(couple)\n",
    "    return (x[0], tuple(result))\n",
    "\n",
    "\n",
    "mergedRDD = coupleRDD.map(couple_merge)\n",
    "mergedRDD = mergedRDD.flatMap(lambda x: [i for i in x[1]]).distinct()"
   ]
  },
  {
   "cell_type": "code",
   "execution_count": 77,
   "metadata": {
    "collapsed": false
   },
   "outputs": [
    {
     "data": {
      "text/plain": [
       "[('2640 2670',\n",
       "  {(u'2640', u'10 Ft. Ganja Plant Feat. Sylford Walker My Roots'),\n",
       "   (u'2670', u'10 Ft. Ganja Plant My Roots (feat. Sylford Walker)')}),\n",
       " ('3457 3458',\n",
       "  {(u'3457', u'1200 Micrograms Mescaline - Astrix Remix'),\n",
       "   (u'3458', u'1200 Micrograms Mescaline (Astrix Remix)')}),\n",
       " ('2959 2961',\n",
       "  {(u'2959', u'10 Years Wasteland (Acoustic Live)'),\n",
       "   (u'2961', u'10 Years Wasteland (live acoustic)')}),\n",
       " ('3076 3077 3078',\n",
       "  {(u'3076', u'112 Only You (feat. The Notorious B.I.G.)'),\n",
       "   (u'3077', u'112 Only You - feat. The Notorious B.I.G.'),\n",
       "   (u'3078', u'112 Only You (feat. the Notorious B.I.G.')}),\n",
       " ('680 681',\n",
       "  {(u'680', u'04LM, James Ruskin M Place James Ruskin Remix'),\n",
       "   (u'681', u'04LM M Place (James Ruskin Remix)')}),\n",
       " ('3602 3603',\n",
       "  {(u'3602', u'120 Days Come Out, Come Down, Fade Out, Be Gone'),\n",
       "   (u'3603', u'120 Days Come Out (Come Down, Fade Out, Be Gone)')}),\n",
       " ('2323 2353',\n",
       "  {(u'2323', u'10cc 10CC - Dreadlock Holiday'),\n",
       "   (u'2353', u'10cc Dreadlock Holiday')}),\n",
       " ('114 115',\n",
       "  {(u'114', u'009 Sound System Dreamscape (Long Edit)'),\n",
       "   (u'115', u'009 Sound System Dreamscape  (Long Edit)')}),\n",
       " ('2360 2361',\n",
       "  {(u'2360', u'10cc Feel The Benefit (Parts 1, 2, 3)'),\n",
       "   (u'2361', u'10cc Feel The Benefit (Parts 1, 2  3 )')}),\n",
       " ('4617 4618',\n",
       "  {(u'4617', u'13th Floor Elevators (I%27ve Got) Levitation'),\n",
       "   (u'4618', u'13th Floor Elevators I%27ve Got Levitation')}),\n",
       " ('4601 4602',\n",
       "  {(u'4601', u'13th Floor Elevators Everybody Needs Somebody to Love - Live'),\n",
       "   (u'4602',\n",
       "    u'13th Floor Elevators Everybody Needs Somebody To Love (Live)')}),\n",
       " ('2997 3081',\n",
       "  {(u'2997', u'112 112 - Peaches and Cream'),\n",
       "   (u'3081', u'112 Peaches And Cream')}),\n",
       " ('3774 3775',\n",
       "  {(u'3774', u'123Mrk Unrest - Seapoint Remix'),\n",
       "   (u'3775', u'123Mrk Unrest (Seapoint Remix)')}),\n",
       " ('3612 3613',\n",
       "  {(u'3612', u'120 Days Lucid Dreams - Part II'),\n",
       "   (u'3613', u'120 Days Lucid Dreams Part II')}),\n",
       " ('2880 2881',\n",
       "  {(u'2880', u'10 Years Dancing with the Dead'),\n",
       "   (u'2881', u'10 Years Dancing With The Dead_')}),\n",
       " ('1460 1461',\n",
       "  {(u'1460', u'10,000 Maniacs Trouble Me - Digital 45'),\n",
       "   (u'1461', u'10,000 Maniacs Trouble Me (Digital 45)')}),\n",
       " ('1543 1558',\n",
       "  {(u'1543', u'1000mods Alice in Navy'),\n",
       "   (u'1558', u'1000mods Navy In Alice')}),\n",
       " ('3320 3321',\n",
       "  {(u'3320', u'11 PARANOIAS Paranoiditude - Beyond the Grave'),\n",
       "   (u'3321', u'11 PARANOIAS Paranoiditude (Beyond The Grave)')}),\n",
       " ('2448 2449',\n",
       "  {(u'2448', u'10cc The Wall  Street Shuffle'),\n",
       "   (u'2449', u'10cc The Wall Street Shuffle')}),\n",
       " ('2380 2381',\n",
       "  {(u'2380', u'10cc I%27m Mandy, Fly Me'),\n",
       "   (u'2381', u'10cc I%27m Mandy Fly Me')}),\n",
       " ('2858 2859',\n",
       "  {(u'2858', u'10 Years ...And All the Other Colors'),\n",
       "   (u'2859', u'10 Years ... And All The Other Colors')}),\n",
       " ('3310 3311',\n",
       "  {(u'3310', u'11 PARANOIAS By the Light of a Dying Star - Neutron Start'),\n",
       "   (u'3311', u'11 PARANOIAS By The Light Of A Dying Star (Neutron Start)')}),\n",
       " ('2542 2543',\n",
       "  {(u'2542', u'10dens I Saw - Van Did Remix'),\n",
       "   (u'2543', u'10dens I Saw (Van Did Remix)')}),\n",
       " ('2638 2680',\n",
       "  {(u'2638', u'10 Ft. Ganja Plant Feat. Prince Jazzbo Recession'),\n",
       "   (u'2680', u'10 Ft. Ganja Plant Recession (feat. Prince Jazzbo)')}),\n",
       " ('3610 3611',\n",
       "  {(u'3610', u'120 Days Lucid Dreams - Part I'),\n",
       "   (u'3611', u'120 Days Lucid Dreams Part I')}),\n",
       " ('2868 2869',\n",
       "  {(u'2868', u'10 Years Baptized in Fire - Bonus Track'),\n",
       "   (u'2869', u'10 Years Baptized In Fire (Bonus Track)')}),\n",
       " ('3430 3431',\n",
       "  {(u'3430', u'1200 Micrograms Greece (Save The Robot remix)'),\n",
       "   (u'3431', u'1200 Micrograms Greece - Save The Robot Remix')}),\n",
       " ('2326 2327',\n",
       "  {(u'2326', u'10cc 24 Hours - Full Version'),\n",
       "   (u'2327', u'10cc 24 Hours (Full Version)')}),\n",
       " ('4226 4229',\n",
       "  {(u'4226', u'12th Planet Paper - 12th Planet'),\n",
       "   (u'4229', u'12th Planet Paper')}),\n",
       " ('3436 3437',\n",
       "  {(u'3436', u'1200 Micrograms High Paradise - 1200 Micrograms Remix'),\n",
       "   (u'3437', u'1200 Micrograms High Paradise (1200 Micrograms Remix)')})]"
      ]
     },
     "execution_count": 77,
     "metadata": {},
     "output_type": "execute_result"
    }
   ],
   "source": [
    "flippedRDD = mergedRDD.flatMap(lambda x: [(i,x) for i in x])\n",
    "groupRDD = flippedRDD.groupByKey().mapValues(list)\n",
    "\n",
    "def my_string_map(x):\n",
    "    result = []\n",
    "    for i in range(len(x[1][0])):\n",
    "        el = int(x[1][0][i][0])\n",
    "        inserted = False\n",
    "        for j in range(len(result)):\n",
    "            if el < result[j]:\n",
    "                result.insert(j, el)\n",
    "                inserted = True\n",
    "                break;\n",
    "        if not inserted:\n",
    "            result.append(el)\n",
    "            \n",
    "    return (x[0], ' '.join([str(i) for i in result]))\n",
    "        \n",
    "groupRDD.take(2)\n",
    "#\n",
    "groupRDD.map(my_string_map).map(lambda x: (x[1], x[0])).groupByKey().mapValues(set).take(30)"
   ]
  },
  {
   "cell_type": "code",
   "execution_count": null,
   "metadata": {
    "collapsed": true
   },
   "outputs": [],
   "source": [
    "splitter(conf)"
   ]
  },
  {
   "cell_type": "code",
   "execution_count": null,
   "metadata": {
    "collapsed": false
   },
   "outputs": [],
   "source": [
    "from os import path\n",
    "basePath = path.join(conf['general']['bucketName'], conf['general']['clientname'])\n",
    "splitPath = path.join(basePath, conf['split']['name'])\n",
    "\n",
    "clusterSimList = [0.1]\n",
    "sessionJaccardShrinkageList = [5]\n",
    "expDecayList = [0.7]\n",
    "\n",
    "for exclude in [True]:\n",
    "    conf['split']['excludeAlreadyListenedTest'] = str(exclude)\n",
    "    #conf['split']['name'] = 'giroCompletoTestMultipleConfs_exclude%s' % exclude\n",
    "    #splitter(conf)\n",
    "    train, test = loadDataset(conf)\n",
    "    train.cache()\n",
    "    test.cache()\n",
    "    \n",
    "    for sessionJaccardShrinkage in sessionJaccardShrinkageList:\n",
    "        conf['algo']['props'][\"sessionJaccardShrinkage\"] = sessionJaccardShrinkage\n",
    "        \n",
    "        for clusterSim in clusterSimList:\n",
    "            conf['algo']['props'][\"clusterSimilarityThreshold\"] = clusterSim\n",
    "            \n",
    "            playlists = extractImplicitPlaylists(train, conf).cache()\n",
    "            \n",
    "            for expDecay in expDecayList:\n",
    "                conf['algo']['props'][\"expDecayFactor\"] = expDecay\n",
    "                conf['algo']['name'] = CLUSTER_ALGO + '_ImplicitPlaylist_shk_%d_clustSim_%.3f_decay_%.3f' % \\\n",
    "                    (sessionJaccardShrinkage, clusterSim, expDecay )\n",
    "\n",
    "                recJsonRDD = executeImplicitPlaylistAlgo(playlists, test, conf)\n",
    "                try:\n",
    "                    saveRecommendations(conf, recJsonRDD, overwrite=True)\n",
    "                    try:\n",
    "                        computeMetrics(conf)\n",
    "                    except:\n",
    "                        print 'Error in computing metrics'\n",
    "                except:\n",
    "                    print 'Error in saving recommndations'\n",
    "                    try:\n",
    "                        computeMetrics(conf)\n",
    "                    except:\n",
    "                        print 'Error in computing metrics'"
   ]
  }
 ],
 "metadata": {
  "kernelspec": {
   "display_name": "Python 2",
   "language": "python",
   "name": "python2"
  },
  "language_info": {
   "codemirror_mode": {
    "name": "ipython",
    "version": 2
   },
   "file_extension": ".py",
   "mimetype": "text/x-python",
   "name": "python",
   "nbconvert_exporter": "python",
   "pygments_lexer": "ipython2",
   "version": "2.7.11"
  }
 },
 "nbformat": 4,
 "nbformat_minor": 0
}
